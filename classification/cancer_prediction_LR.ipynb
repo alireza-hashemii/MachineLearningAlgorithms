{
 "cells": [
  {
   "cell_type": "markdown",
   "id": "10d75006",
   "metadata": {},
   "source": [
    "Essential Libraries"
   ]
  },
  {
   "cell_type": "code",
   "execution_count": 1,
   "id": "15cbd697",
   "metadata": {},
   "outputs": [],
   "source": [
    "import numpy as np\n",
    "import pandas as pd\n",
    "import matplotlib.pyplot as plt\n",
    "from sklearn.impute import SimpleImputer\n",
    "import seaborn as sns\n",
    "from sklearn.metrics import confusion_matrix, accuracy_score\n",
    "from sklearn.linear_model import LogisticRegression\n",
    "from sklearn.preprocessing import MinMaxScaler, OneHotEncoder\n",
    "from sklearn.model_selection import train_test_split"
   ]
  },
  {
   "cell_type": "markdown",
   "id": "6e761681",
   "metadata": {},
   "source": [
    "Load dataset and some EDA"
   ]
  },
  {
   "cell_type": "code",
   "execution_count": null,
   "id": "b5d4db9e",
   "metadata": {},
   "outputs": [],
   "source": [
    "df = pd.read_csv('cancer.csv')\n",
    "\n",
    "df['tumor-size'].value_counts()"
   ]
  },
  {
   "cell_type": "markdown",
   "id": "6eeeff8d",
   "metadata": {},
   "source": [
    "split the data"
   ]
  },
  {
   "cell_type": "code",
   "execution_count": null,
   "id": "f7648409",
   "metadata": {},
   "outputs": [],
   "source": [
    "X = df.drop(['age', 'irradiat', 'breast-quad'], axis=1)\n",
    "y = df['Class']\n",
    "\n",
    "X_train , X_test , y_train , y_test = train_test_split(X, y, test_size=0.2, random_state=42)"
   ]
  },
  {
   "cell_type": "code",
   "execution_count": 16,
   "id": "cbf68c38",
   "metadata": {},
   "outputs": [],
   "source": [
    "model = LogisticRegression()\n",
    "model.fit(X_train, y_train)\n",
    "\n",
    "y_pred = model.predict(X_test)"
   ]
  },
  {
   "cell_type": "code",
   "execution_count": 27,
   "id": "4ed8a340",
   "metadata": {},
   "outputs": [],
   "source": [
    "df.loc[y_test.index, 'predicted_cls'] = y_pred\n",
    "df['predicted_cls'].value_counts()\n",
    "df.to_csv('new_cancer.csv')"
   ]
  },
  {
   "cell_type": "code",
   "execution_count": null,
   "id": "9b2dd51a",
   "metadata": {},
   "outputs": [],
   "source": [
    "print(f\"Acc score is {accuracy_score(y_test, y_pred)}\")\n",
    "print(confusion_matrix(y_test, y_pred))"
   ]
  }
 ],
 "metadata": {
  "kernelspec": {
   "display_name": "base",
   "language": "python",
   "name": "python3"
  },
  "language_info": {
   "codemirror_mode": {
    "name": "ipython",
    "version": 3
   },
   "file_extension": ".py",
   "mimetype": "text/x-python",
   "name": "python",
   "nbconvert_exporter": "python",
   "pygments_lexer": "ipython3",
   "version": "3.12.7"
  }
 },
 "nbformat": 4,
 "nbformat_minor": 5
}
