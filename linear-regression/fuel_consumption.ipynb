{
 "cells": [
  {
   "cell_type": "markdown",
   "id": "cf5a6267",
   "metadata": {},
   "source": [
    "Predict Coemission Based on Fuel Consumtion `Using Linear Regression`"
   ]
  },
  {
   "cell_type": "markdown",
   "id": "f61e255e",
   "metadata": {},
   "source": [
    "1- Importing Necessary Libs"
   ]
  },
  {
   "cell_type": "code",
   "execution_count": 63,
   "id": "aca0f2b0",
   "metadata": {},
   "outputs": [],
   "source": [
    "import pandas as pd\n",
    "import numpy as np\n",
    "import matplotlib.pyplot as plt\n",
    "from sklearn.linear_model import LinearRegression\n",
    "import seaborn as sns\n",
    "from sklearn.model_selection import train_test_split\n",
    "from sklearn.metrics import mean_squared_error"
   ]
  },
  {
   "cell_type": "markdown",
   "id": "19a2cfec",
   "metadata": {},
   "source": [
    "2- Load Dataset and Interview Data"
   ]
  },
  {
   "cell_type": "code",
   "execution_count": 27,
   "id": "5789d3cf",
   "metadata": {},
   "outputs": [],
   "source": [
    "df = pd.read_csv('fuel_consumption.csv')"
   ]
  },
  {
   "cell_type": "code",
   "execution_count": 44,
   "id": "a2a5f3e3",
   "metadata": {},
   "outputs": [
    {
     "data": {
      "text/html": [
       "<div>\n",
       "<style scoped>\n",
       "    .dataframe tbody tr th:only-of-type {\n",
       "        vertical-align: middle;\n",
       "    }\n",
       "\n",
       "    .dataframe tbody tr th {\n",
       "        vertical-align: top;\n",
       "    }\n",
       "\n",
       "    .dataframe thead th {\n",
       "        text-align: right;\n",
       "    }\n",
       "</style>\n",
       "<table border=\"1\" class=\"dataframe\">\n",
       "  <thead>\n",
       "    <tr style=\"text-align: right;\">\n",
       "      <th></th>\n",
       "      <th>Year</th>\n",
       "      <th>ENGINE SIZE</th>\n",
       "      <th>CYLINDERS</th>\n",
       "      <th>FUEL CONSUMPTION</th>\n",
       "      <th>COEMISSIONS</th>\n",
       "    </tr>\n",
       "  </thead>\n",
       "  <tbody>\n",
       "    <tr>\n",
       "      <th>count</th>\n",
       "      <td>639.0</td>\n",
       "      <td>639.000000</td>\n",
       "      <td>639.000000</td>\n",
       "      <td>639.000000</td>\n",
       "      <td>639.000000</td>\n",
       "    </tr>\n",
       "    <tr>\n",
       "      <th>mean</th>\n",
       "      <td>2000.0</td>\n",
       "      <td>3.265728</td>\n",
       "      <td>5.805947</td>\n",
       "      <td>14.713615</td>\n",
       "      <td>296.809077</td>\n",
       "    </tr>\n",
       "    <tr>\n",
       "      <th>std</th>\n",
       "      <td>0.0</td>\n",
       "      <td>1.231012</td>\n",
       "      <td>1.625588</td>\n",
       "      <td>3.307044</td>\n",
       "      <td>65.504178</td>\n",
       "    </tr>\n",
       "    <tr>\n",
       "      <th>min</th>\n",
       "      <td>2000.0</td>\n",
       "      <td>1.000000</td>\n",
       "      <td>3.000000</td>\n",
       "      <td>4.900000</td>\n",
       "      <td>104.000000</td>\n",
       "    </tr>\n",
       "    <tr>\n",
       "      <th>25%</th>\n",
       "      <td>2000.0</td>\n",
       "      <td>2.200000</td>\n",
       "      <td>4.000000</td>\n",
       "      <td>12.500000</td>\n",
       "      <td>253.000000</td>\n",
       "    </tr>\n",
       "    <tr>\n",
       "      <th>50%</th>\n",
       "      <td>2000.0</td>\n",
       "      <td>3.000000</td>\n",
       "      <td>6.000000</td>\n",
       "      <td>14.400000</td>\n",
       "      <td>288.000000</td>\n",
       "    </tr>\n",
       "    <tr>\n",
       "      <th>75%</th>\n",
       "      <td>2000.0</td>\n",
       "      <td>4.300000</td>\n",
       "      <td>6.000000</td>\n",
       "      <td>16.600000</td>\n",
       "      <td>343.000000</td>\n",
       "    </tr>\n",
       "    <tr>\n",
       "      <th>max</th>\n",
       "      <td>2000.0</td>\n",
       "      <td>8.000000</td>\n",
       "      <td>12.000000</td>\n",
       "      <td>30.200000</td>\n",
       "      <td>582.000000</td>\n",
       "    </tr>\n",
       "  </tbody>\n",
       "</table>\n",
       "</div>"
      ],
      "text/plain": [
       "         Year  ENGINE SIZE   CYLINDERS  FUEL CONSUMPTION  COEMISSIONS \n",
       "count   639.0   639.000000  639.000000        639.000000    639.000000\n",
       "mean   2000.0     3.265728    5.805947         14.713615    296.809077\n",
       "std       0.0     1.231012    1.625588          3.307044     65.504178\n",
       "min    2000.0     1.000000    3.000000          4.900000    104.000000\n",
       "25%    2000.0     2.200000    4.000000         12.500000    253.000000\n",
       "50%    2000.0     3.000000    6.000000         14.400000    288.000000\n",
       "75%    2000.0     4.300000    6.000000         16.600000    343.000000\n",
       "max    2000.0     8.000000   12.000000         30.200000    582.000000"
      ]
     },
     "execution_count": 44,
     "metadata": {},
     "output_type": "execute_result"
    }
   ],
   "source": [
    "df.describe()"
   ]
  },
  {
   "cell_type": "code",
   "execution_count": null,
   "id": "b65f331f",
   "metadata": {},
   "outputs": [],
   "source": [
    "sns.lmplot(data=df, x='FUEL CONSUMPTION', y='COEMISSIONS ' , scatter_kws={'alpha':0.5})"
   ]
  },
  {
   "cell_type": "markdown",
   "id": "8e19bc7a",
   "metadata": {},
   "source": [
    "3 - Feature Selection and Split the Data "
   ]
  },
  {
   "cell_type": "code",
   "execution_count": null,
   "id": "7a04effb",
   "metadata": {},
   "outputs": [],
   "source": [
    "x = df['FUEL CONSUMPTION']\n",
    "y = df['COEMISSIONS ']"
   ]
  },
  {
   "cell_type": "code",
   "execution_count": 50,
   "id": "48e7b14f",
   "metadata": {},
   "outputs": [],
   "source": [
    "X_train, X_test, y_train, y_test = train_test_split(x, y, test_size=.2,random_state=42)"
   ]
  },
  {
   "cell_type": "markdown",
   "id": "0a1ab431",
   "metadata": {},
   "source": [
    "converting input features into a 2D format"
   ]
  },
  {
   "cell_type": "code",
   "execution_count": null,
   "id": "2ca1a71a",
   "metadata": {},
   "outputs": [],
   "source": [
    "# X_train = X_train.to_numpy().reshape(-1, 1)\n",
    "# X_test = X_test.to_numpy().reshape(-1, 1)\n",
    "X_train.shape"
   ]
  },
  {
   "cell_type": "markdown",
   "id": "7e693689",
   "metadata": {},
   "source": [
    "4 - Building the Model and Train It"
   ]
  },
  {
   "cell_type": "code",
   "execution_count": null,
   "id": "786c252a",
   "metadata": {},
   "outputs": [],
   "source": [
    "model = LinearRegression()\n",
    "model.fit(X_train, y_train)"
   ]
  },
  {
   "cell_type": "code",
   "execution_count": 61,
   "id": "a86d9432",
   "metadata": {},
   "outputs": [],
   "source": [
    "y_pred = model.predict(X_test)"
   ]
  },
  {
   "cell_type": "markdown",
   "id": "9410dc9a",
   "metadata": {},
   "source": [
    "5- Plotting the Result / Observe Model's Performance"
   ]
  },
  {
   "cell_type": "code",
   "execution_count": null,
   "id": "56f59821",
   "metadata": {},
   "outputs": [],
   "source": [
    "plt.scatter(X_train, y_train, label='Train Data', color='black')\n",
    "plt.scatter(X_test, y_test, label='Testing Data',color='blue')\n",
    "plt.plot(X_test, y_pred)\n",
    "\n",
    "plt.legend()\n",
    "plt.show()"
   ]
  },
  {
   "cell_type": "markdown",
   "id": "f79e7ecd",
   "metadata": {},
   "source": [
    "6- Evaluate Models' Performance Using Different Metrics"
   ]
  },
  {
   "cell_type": "code",
   "execution_count": null,
   "id": "eefb9b58",
   "metadata": {},
   "outputs": [],
   "source": [
    "Mean_Squared_Error = mean_squared_error(y_test, y_pred)\n",
    "Root_Mean_Squared_Error = np.sqrt(Mean_Squared_Error)\n",
    "print(f\"Mean Squared Error of the Model is -> {Mean_Squared_Error}\")\n",
    "print(f\"Root Mean Squared Error of the Model is -> {Root_Mean_Squared_Error}\")"
   ]
  }
 ],
 "metadata": {
  "kernelspec": {
   "display_name": "base",
   "language": "python",
   "name": "python3"
  },
  "language_info": {
   "codemirror_mode": {
    "name": "ipython",
    "version": 3
   },
   "file_extension": ".py",
   "mimetype": "text/x-python",
   "name": "python",
   "nbconvert_exporter": "python",
   "pygments_lexer": "ipython3",
   "version": "3.12.7"
  }
 },
 "nbformat": 4,
 "nbformat_minor": 5
}
