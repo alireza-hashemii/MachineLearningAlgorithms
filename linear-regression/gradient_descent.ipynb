{
 "cells": [
  {
   "cell_type": "markdown",
   "id": "a7b70167",
   "metadata": {},
   "source": [
    "# Gradient Descent"
   ]
  },
  {
   "cell_type": "code",
   "execution_count": 1,
   "id": "6764d676",
   "metadata": {},
   "outputs": [],
   "source": [
    "import pandas as pd\n",
    "import numpy as np\n",
    "import matplotlib.pyplot as plt\n",
    "import seaborn as sns\n",
    "from sklearn.model_selection import train_test_split\n",
    "from sklearn.metrics import mean_squared_error\n",
    "from sklearn.preprocessing import StandardScaler"
   ]
  },
  {
   "cell_type": "code",
   "execution_count": 3,
   "id": "54ddf352",
   "metadata": {},
   "outputs": [],
   "source": [
    "mpg_dataset = sns.load_dataset(\"mpg\")\n",
    "\n",
    "features = mpg_dataset[['horsepower']]\n",
    "target = mpg_dataset['mpg']"
   ]
  },
  {
   "cell_type": "code",
   "execution_count": null,
   "id": "8b2d835b",
   "metadata": {},
   "outputs": [],
   "source": [
    "train_features, test_features , train_target , test_target = train_test_split(features, target, test_size=0.2, random_state=42)\n"
   ]
  },
  {
   "cell_type": "code",
   "execution_count": 6,
   "id": "a39f637f",
   "metadata": {},
   "outputs": [],
   "source": [
    "scaler = StandardScaler()\n",
    "scaled_train_features =  scaler.fit_transform(train_features)\n",
    "scaled_test_features = scaler.transform(test_features)"
   ]
  },
  {
   "cell_type": "code",
   "execution_count": 9,
   "id": "55f8513f",
   "metadata": {},
   "outputs": [],
   "source": [
    "class LinearRegression:\n",
    "    def __init__(self, learning_rate=0.01, n_iters= 1000):\n",
    "        self.lr = learning_rate\n",
    "        self.n_iters = n_iters\n",
    "        self.bias = None\n",
    "        self.weight = None\n",
    "        self.cost_history = []\n",
    "        self.bias_history = []\n",
    "        self.weight_history = []\n",
    "    \n",
    "    def fit(self, X , y):\n",
    "        n_samples , n_features = X.shape\n",
    "\n",
    "        # initialize parameteres\n",
    "        self.bias = 0\n",
    "        self.weight = np.zeros(n_features)\n",
    "\n",
    "        # gradient_descent\n",
    "        for _ in range(self.n_iters):\n",
    "            y_predicted = np.dot(X , self.weight) + self.bias\n",
    "        \n",
    "        # compute gradients\n",
    "\n",
    "        dw = (1 / n_samples) * np.dot(X.T , (y_predicted - y))\n",
    "        db = (1 / n_samples) * np.sum(y_predicted - y)\n",
    "\n",
    "        self.weight -= self.lr * dw\n",
    "        self.bias -= self.lr * db\n",
    "\n",
    "        # calculate cost\n",
    "        cost = (1 / n_samples) * np.sum((y_predicted - y) ** 2)\n",
    "        self.cost_history.append(cost)\n",
    "        self.bias_history.append(self.bias)\n",
    "        self.weight_history.append(self.weight[0])\n",
    "\n",
    "    def predict(self, X):\n",
    "        return np.dot(X , self.weight) + self.bias"
   ]
  },
  {
   "cell_type": "code",
   "execution_count": 15,
   "id": "52d50b16",
   "metadata": {},
   "outputs": [],
   "source": [
    "linear_resgression = LinearRegression()\n",
    "linear_resgression.fit(scaled_train_features, train_target)\n",
    "\n",
    "y_pred = linear_resgression.predict(scaled_test_features)"
   ]
  },
  {
   "cell_type": "code",
   "execution_count": null,
   "id": "3646e1b0",
   "metadata": {},
   "outputs": [],
   "source": [
    "plt.figure(figsize=(8, 6))\n",
    "plt.scatter(features['horsepower'], target, label='Data Points')\n",
    "plt.xlabel('Horsepower')\n",
    "plt.ylabel(\"MPG\")\n",
    "\n",
    "# line of best fit\n",
    "x_line = np.linspace(min(features['horsepower']), max(features['horsepower']), len(features)).reshape(-1, 1)\n",
    "y_line = linear_resgression.predict(scaler.transform(x_line))\n",
    "plt.plot(x_line, y_line, color='red', label='Line of Best Fit')\n",
    "\n",
    "plt.legend()\n",
    "plt.show()"
   ]
  }
 ],
 "metadata": {
  "kernelspec": {
   "display_name": "base",
   "language": "python",
   "name": "python3"
  },
  "language_info": {
   "codemirror_mode": {
    "name": "ipython",
    "version": 3
   },
   "file_extension": ".py",
   "mimetype": "text/x-python",
   "name": "python",
   "nbconvert_exporter": "python",
   "pygments_lexer": "ipython3",
   "version": "3.12.7"
  }
 },
 "nbformat": 4,
 "nbformat_minor": 5
}
