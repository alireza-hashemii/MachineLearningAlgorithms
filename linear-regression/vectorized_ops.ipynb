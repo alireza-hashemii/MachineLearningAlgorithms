{
 "cells": [
  {
   "cell_type": "markdown",
   "id": "debb61bb",
   "metadata": {},
   "source": [
    "# Vectorized Operations"
   ]
  },
  {
   "cell_type": "code",
   "execution_count": 5,
   "id": "c33cd405",
   "metadata": {},
   "outputs": [],
   "source": [
    "import random \n",
    "import numpy as np"
   ]
  },
  {
   "cell_type": "code",
   "execution_count": 8,
   "id": "00e10c0a",
   "metadata": {},
   "outputs": [
    {
     "data": {
      "text/plain": [
       "2498967.864989829"
      ]
     },
     "execution_count": 8,
     "metadata": {},
     "output_type": "execute_result"
    }
   ],
   "source": [
    "x = [random.random() for _ in range(10000000)]\n",
    "w = [random.random() for _ in range(10000000)]\n",
    "result = 0\n",
    "\n",
    "for i in range(len(x)):\n",
    "    result += w[i] * x[i]\n",
    "\n",
    "result"
   ]
  },
  {
   "cell_type": "code",
   "execution_count": 9,
   "id": "204d52f7",
   "metadata": {},
   "outputs": [
    {
     "data": {
      "text/plain": [
       "2500430.40399177"
      ]
     },
     "execution_count": 9,
     "metadata": {},
     "output_type": "execute_result"
    }
   ],
   "source": [
    "x_arr = [random.random() for _ in range(10000000)]\n",
    "w_arr = [random.random() for _ in range(10000000)]\n",
    "\n",
    "# vectorized operation \n",
    "result = np.dot(x_arr , w_arr)\n",
    "result"
   ]
  }
 ],
 "metadata": {
  "kernelspec": {
   "display_name": "base",
   "language": "python",
   "name": "python3"
  },
  "language_info": {
   "codemirror_mode": {
    "name": "ipython",
    "version": 3
   },
   "file_extension": ".py",
   "mimetype": "text/x-python",
   "name": "python",
   "nbconvert_exporter": "python",
   "pygments_lexer": "ipython3",
   "version": "3.12.7"
  }
 },
 "nbformat": 4,
 "nbformat_minor": 5
}
