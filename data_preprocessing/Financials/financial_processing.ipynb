{
 "cells": [
  {
   "cell_type": "code",
   "execution_count": 3,
   "id": "2468a408",
   "metadata": {},
   "outputs": [],
   "source": [
    "import pandas as pd"
   ]
  },
  {
   "cell_type": "code",
   "execution_count": 4,
   "id": "0105deed",
   "metadata": {},
   "outputs": [],
   "source": [
    "df = pd.read_csv('financials.csv', index_col='Symbol')"
   ]
  },
  {
   "cell_type": "code",
   "execution_count": null,
   "id": "c7bdfeb0",
   "metadata": {},
   "outputs": [],
   "source": [
    "# make a group by obejct based on column 'sector'\n",
    "\n",
    "sectors = df.groupby('Sector')\n",
    "sectors['Price'].sum()\n",
    "df.info()"
   ]
  },
  {
   "cell_type": "code",
   "execution_count": null,
   "id": "3eec529c",
   "metadata": {},
   "outputs": [],
   "source": [
    "# retrieve sector size\n",
    "sectors.size()"
   ]
  },
  {
   "cell_type": "code",
   "execution_count": null,
   "id": "280d2fec",
   "metadata": {},
   "outputs": [],
   "source": [
    "# retrive first row of each sector\n",
    "sectors.first()"
   ]
  },
  {
   "cell_type": "code",
   "execution_count": null,
   "id": "a3d76af8",
   "metadata": {},
   "outputs": [],
   "source": [
    "# different groups in each sector\n",
    "sectors.groups"
   ]
  },
  {
   "cell_type": "code",
   "execution_count": null,
   "id": "96b4ddae",
   "metadata": {},
   "outputs": [],
   "source": [
    "# get a group as a separate dataframe\n",
    "\n",
    "sectors.get_group('Energy')"
   ]
  },
  {
   "cell_type": "code",
   "execution_count": null,
   "id": "580044dc",
   "metadata": {},
   "outputs": [],
   "source": [
    "sectors.get_group('Energy')['Price'].mean()"
   ]
  },
  {
   "cell_type": "code",
   "execution_count": null,
   "id": "1e2afe68",
   "metadata": {},
   "outputs": [],
   "source": [
    "df.info()"
   ]
  }
 ],
 "metadata": {
  "kernelspec": {
   "display_name": "pyml",
   "language": "python",
   "name": "python3"
  },
  "language_info": {
   "codemirror_mode": {
    "name": "ipython",
    "version": 3
   },
   "file_extension": ".py",
   "mimetype": "text/x-python",
   "name": "python",
   "nbconvert_exporter": "python",
   "pygments_lexer": "ipython3",
   "version": "3.10.16"
  }
 },
 "nbformat": 4,
 "nbformat_minor": 5
}
