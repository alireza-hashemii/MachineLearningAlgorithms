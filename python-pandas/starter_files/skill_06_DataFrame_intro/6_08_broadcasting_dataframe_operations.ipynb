{
 "cells": [
  {
   "cell_type": "markdown",
   "metadata": {
    "id": "TXFTRE5uC0DP"
   },
   "source": [
    "# Broadcasting Methods\n"
   ]
  },
  {
   "cell_type": "markdown",
   "metadata": {
    "id": "mOVx5G-kC0DT"
   },
   "source": [
    "### Import Pandas"
   ]
  },
  {
   "cell_type": "code",
   "execution_count": null,
   "metadata": {
    "id": "SIg8lYuAC0DT"
   },
   "outputs": [],
   "source": [
    "# Import pandas"
   ]
  },
  {
   "cell_type": "markdown",
   "metadata": {
    "id": "gt_l5gWjC0DU"
   },
   "source": [
    "### Read CSV"
   ]
  },
  {
   "cell_type": "code",
   "execution_count": null,
   "metadata": {
    "id": "tH3PuOsYC0DV"
   },
   "outputs": [],
   "source": []
  },
  {
   "cell_type": "code",
   "execution_count": null,
   "metadata": {
    "id": "0VLdvUpHC0DV",
    "outputId": "2aa76d17-e3d1-4b75-89ce-16f7931b1913",
    "scrolled": true
   },
   "outputs": [],
   "source": [
    "# called the head method to see what were working with\n"
   ]
  },
  {
   "cell_type": "markdown",
   "metadata": {
    "id": "x5NxaOmjC0DW"
   },
   "source": [
    "### Broadcasting with the .add() method"
   ]
  },
  {
   "cell_type": "code",
   "execution_count": null,
   "metadata": {
    "id": "yl5AptX1C0DW",
    "outputId": "93742b1f-473c-49df-eaf3-236c8fd30180"
   },
   "outputs": [],
   "source": [
    "# broadcast 5 to all values using the add() math broadcasting method\n",
    "# doesn't chage the original dataset\n"
   ]
  },
  {
   "cell_type": "markdown",
   "metadata": {
    "id": "SFx8lEmcC0DW"
   },
   "source": [
    "### Original DataFrame"
   ]
  },
  {
   "cell_type": "code",
   "execution_count": null,
   "metadata": {
    "id": "-ACYu-GAC0DX",
    "outputId": "afb05275-d1a3-41f4-c0cd-37ae303b9667"
   },
   "outputs": [],
   "source": []
  },
  {
   "cell_type": "markdown",
   "metadata": {
    "id": "UxRcyFanC0DX"
   },
   "source": [
    "### Broadcasting with the .sub() method"
   ]
  },
  {
   "cell_type": "code",
   "execution_count": null,
   "metadata": {
    "id": "rWh0e2AVC0DX"
   },
   "outputs": [],
   "source": [
    "# broadcast -5 to all values using the sub() math broadcasting method\n",
    "# doesn't chage the original dataset\n"
   ]
  },
  {
   "cell_type": "markdown",
   "metadata": {
    "id": "aYwoqQ5BC0DX"
   },
   "source": [
    "### Original DataFrame"
   ]
  },
  {
   "cell_type": "code",
   "execution_count": null,
   "metadata": {
    "id": "RVduTSiLC0DY",
    "outputId": "a15550bf-849a-4875-bc67-7b189d8b0e46"
   },
   "outputs": [],
   "source": []
  },
  {
   "cell_type": "markdown",
   "metadata": {
    "id": "epP-zx8rC0DY"
   },
   "source": [
    "### Broadcasting with the .sub() method"
   ]
  },
  {
   "cell_type": "code",
   "execution_count": null,
   "metadata": {
    "id": "6U1KInrWC0DY",
    "outputId": "cb26afd9-82c8-4dee-8887-71c6e6bd1262"
   },
   "outputs": [],
   "source": [
    "# broadcast Salary in millions (/ 1000000) to all values using the div() math broadcasting method\n",
    "# doesn't chage the original dataset\n"
   ]
  },
  {
   "cell_type": "code",
   "execution_count": null,
   "metadata": {
    "id": "bTe8eHhVC0DY",
    "outputId": "327e1b7a-3d5f-4189-e1ec-6a745efbb14a"
   },
   "outputs": [],
   "source": [
    "# again, the original is in tact\n"
   ]
  },
  {
   "cell_type": "markdown",
   "metadata": {
    "id": "69TW62ikC0DY"
   },
   "source": [
    "### Convert `base_salary` to Euros"
   ]
  },
  {
   "cell_type": "code",
   "execution_count": null,
   "metadata": {
    "id": "zDQduolwC0DY",
    "outputId": "35a0b6db-ef6c-450a-ba14-e1b8be9b580a"
   },
   "outputs": [],
   "source": [
    "# broadcast salary in EUR to all values using the mul() math broadcasting method\n"
   ]
  },
  {
   "cell_type": "markdown",
   "metadata": {
    "id": "Rzy64vmOC0DZ"
   },
   "source": [
    "### Adding a new column to a DataFrame"
   ]
  },
  {
   "cell_type": "code",
   "execution_count": null,
   "metadata": {
    "id": "SlKKb6ykC0DZ",
    "outputId": "1a31c9c9-75ec-43a4-aec8-0048233eea5b"
   },
   "outputs": [],
   "source": [
    "# create a new column name and assign it to = the operation \n"
   ]
  }
 ],
 "metadata": {
  "colab": {
   "collapsed_sections": [],
   "name": "5_07_broadcasting_dataframe_operations.ipynb",
   "provenance": []
  },
  "kernelspec": {
   "display_name": "Python 3 (ipykernel)",
   "language": "python",
   "name": "python3"
  },
  "language_info": {
   "codemirror_mode": {
    "name": "ipython",
    "version": 3
   },
   "file_extension": ".py",
   "mimetype": "text/x-python",
   "name": "python",
   "nbconvert_exporter": "python",
   "pygments_lexer": "ipython3",
   "version": "3.9.7"
  }
 },
 "nbformat": 4,
 "nbformat_minor": 1
}
