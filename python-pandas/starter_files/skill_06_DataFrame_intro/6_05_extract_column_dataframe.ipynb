{
 "cells": [
  {
   "cell_type": "markdown",
   "metadata": {
    "id": "Dq5fUDDNDcVl"
   },
   "source": [
    "# Exrtact a single column from a DataFrame\n",
    "Similar to filtering tool in spreadsheets"
   ]
  },
  {
   "cell_type": "markdown",
   "metadata": {
    "id": "m-JdbiVhDcVm"
   },
   "source": [
    "### Import Pandas"
   ]
  },
  {
   "cell_type": "code",
   "execution_count": null,
   "metadata": {
    "id": "einxp77cDcVm"
   },
   "outputs": [],
   "source": [
    "# Import pandas"
   ]
  },
  {
   "cell_type": "markdown",
   "metadata": {
    "id": "Dpk2lSrtDcVn"
   },
   "source": [
    "### Read CSV"
   ]
  },
  {
   "cell_type": "code",
   "execution_count": null,
   "metadata": {
    "id": "T0_TacwfDcVn"
   },
   "outputs": [],
   "source": []
  },
  {
   "cell_type": "code",
   "execution_count": null,
   "metadata": {
    "id": "KsOKqcaJDcVn",
    "outputId": "84cf932a-2dd8-4b2d-b464-44c29753610b",
    "scrolled": true
   },
   "outputs": [],
   "source": []
  },
  {
   "cell_type": "markdown",
   "metadata": {
    "id": "-3wjcvRTDcVn"
   },
   "source": [
    "### `position`"
   ]
  },
  {
   "cell_type": "code",
   "execution_count": null,
   "metadata": {
    "id": "oXcVeTPSDcVn",
    "outputId": "3fd724d9-6436-4276-ab16-287cf7b80e05"
   },
   "outputs": [],
   "source": [
    "#  returns single column: case sensitive\n",
    "# DOES NOT work on column names with spaces\n"
   ]
  },
  {
   "cell_type": "markdown",
   "metadata": {
    "id": "in6-4WMjDcVn"
   },
   "source": [
    "### `club`"
   ]
  },
  {
   "cell_type": "code",
   "execution_count": null,
   "metadata": {
    "id": "stlR4lHcDcVo",
    "outputId": "3f558087-f6e2-4dca-e137-899339318744"
   },
   "outputs": [],
   "source": [
    "# returns single column: case sensitive\n",
    "# DOES NOT work on column names with spaces\n"
   ]
  },
  {
   "cell_type": "markdown",
   "metadata": {
    "id": "08AumkIaDcVo"
   },
   "source": [
    "### `[\"club\"]`"
   ]
  },
  {
   "cell_type": "code",
   "execution_count": null,
   "metadata": {
    "id": "mFm1Wpa3DcVo",
    "outputId": "31c31e41-f183-4d1f-bbff-d0ef9dd8dc0f"
   },
   "outputs": [],
   "source": [
    "# this method is the best practice\n",
    "# works with names with spaces\n"
   ]
  },
  {
   "cell_type": "markdown",
   "metadata": {
    "id": "IfxW4CnFDcVo"
   },
   "source": [
    "### Method Chain"
   ]
  },
  {
   "cell_type": "code",
   "execution_count": null,
   "metadata": {
    "id": "IrygrxifDcVo",
    "outputId": "2657df81-beaf-46cd-85e3-65438521eccf"
   },
   "outputs": [],
   "source": [
    "### Head# so you can use method chaining you learned for Series\n",
    "# keep that in mind\n"
   ]
  },
  {
   "cell_type": "markdown",
   "metadata": {
    "id": "uEMazk97DcVo"
   },
   "source": [
    "### `type()`"
   ]
  },
  {
   "cell_type": "code",
   "execution_count": null,
   "metadata": {
    "id": "b842aSoKDcVo",
    "outputId": "53eb34ad-6493-403c-b88b-449da92c65ef"
   },
   "outputs": [],
   "source": [
    "# to verify the column data type, ues the type object.\n"
   ]
  }
 ],
 "metadata": {
  "colab": {
   "name": "5_04_extract_column_dataframe.ipynb",
   "provenance": []
  },
  "kernelspec": {
   "display_name": "Python 3 (ipykernel)",
   "language": "python",
   "name": "python3"
  },
  "language_info": {
   "codemirror_mode": {
    "name": "ipython",
    "version": 3
   },
   "file_extension": ".py",
   "mimetype": "text/x-python",
   "name": "python",
   "nbconvert_exporter": "python",
   "pygments_lexer": "ipython3",
   "version": "3.9.7"
  }
 },
 "nbformat": 4,
 "nbformat_minor": 1
}
