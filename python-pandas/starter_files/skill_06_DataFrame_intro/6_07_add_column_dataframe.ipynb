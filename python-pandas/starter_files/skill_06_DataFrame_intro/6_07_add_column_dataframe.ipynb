{
 "cells": [
  {
   "cell_type": "markdown",
   "metadata": {
    "id": "uDH4HFGZFP82"
   },
   "source": [
    "# Add New Columns to a DataFrame"
   ]
  },
  {
   "cell_type": "markdown",
   "metadata": {
    "id": "XFOSDAD-FP83"
   },
   "source": [
    "### Import Pandas"
   ]
  },
  {
   "cell_type": "code",
   "execution_count": null,
   "metadata": {
    "id": "i-oVWyNcFP84"
   },
   "outputs": [],
   "source": [
    "# Import pandas"
   ]
  },
  {
   "cell_type": "markdown",
   "metadata": {
    "id": "QYjbv-GiFP84"
   },
   "source": [
    "### Read CSV"
   ]
  },
  {
   "cell_type": "code",
   "execution_count": null,
   "metadata": {
    "id": "g4Sh_02VFP84"
   },
   "outputs": [],
   "source": []
  },
  {
   "cell_type": "code",
   "execution_count": null,
   "metadata": {
    "id": "-6jdUrF1FP85",
    "outputId": "24147ee9-97af-445a-aa0b-8598a898de02",
    "scrolled": true
   },
   "outputs": [],
   "source": [
    "# called the head method \n"
   ]
  },
  {
   "cell_type": "markdown",
   "metadata": {
    "id": "PZioSYJBFP85"
   },
   "source": [
    "### Create a New Column"
   ]
  },
  {
   "cell_type": "code",
   "execution_count": null,
   "metadata": {
    "id": "ZhKVFQajFP86"
   },
   "outputs": [],
   "source": [
    "# creates a new column and adds \"TBD\" as the default value for the entire column \n"
   ]
  },
  {
   "cell_type": "code",
   "execution_count": null,
   "metadata": {
    "id": "hhLN7Ov_FP86",
    "outputId": "f42b484d-df99-4769-cde4-3aff62bd9270"
   },
   "outputs": [],
   "source": [
    "# return the DataFrame and you will see a new column with \"TBD\" as all values\n"
   ]
  },
  {
   "cell_type": "markdown",
   "metadata": {
    "id": "EXtnklvhFP86"
   },
   "source": [
    "### Re-read CSV"
   ]
  },
  {
   "cell_type": "code",
   "execution_count": null,
   "metadata": {
    "id": "GyKBdBkjFP87"
   },
   "outputs": [],
   "source": []
  },
  {
   "cell_type": "markdown",
   "metadata": {
    "id": "2aZzIgjGFP87"
   },
   "source": [
    "### Add New Column by Index"
   ]
  },
  {
   "cell_type": "code",
   "execution_count": null,
   "metadata": {
    "id": "C7EihWW2FP87",
    "outputId": "b40d60b5-bbfd-444e-f7af-96fd5cd1b783",
    "scrolled": true
   },
   "outputs": [],
   "source": [
    "# the .insert() method is great for adding columns by column index position\n",
    "# no need for inplce=True. inplace() modified the original dataset\n"
   ]
  },
  {
   "cell_type": "code",
   "execution_count": null,
   "metadata": {
    "id": "HhQ32R1ZFP87",
    "outputId": "ed862aa3-4200-4947-8c24-dc4d0ada38f1"
   },
   "outputs": [],
   "source": [
    "# easily add columns by index position\n"
   ]
  }
 ],
 "metadata": {
  "colab": {
   "name": "5_06_add_column_dataframe.ipynb",
   "provenance": []
  },
  "kernelspec": {
   "display_name": "Python 3 (ipykernel)",
   "language": "python",
   "name": "python3"
  },
  "language_info": {
   "codemirror_mode": {
    "name": "ipython",
    "version": 3
   },
   "file_extension": ".py",
   "mimetype": "text/x-python",
   "name": "python",
   "nbconvert_exporter": "python",
   "pygments_lexer": "ipython3",
   "version": "3.9.7"
  }
 },
 "nbformat": 4,
 "nbformat_minor": 1
}
