{
 "cells": [
  {
   "cell_type": "markdown",
   "id": "78922058",
   "metadata": {},
   "source": [
    "# Return rows by index positions with `.iloc[ ]`"
   ]
  },
  {
   "cell_type": "markdown",
   "id": "e5f6a156",
   "metadata": {},
   "source": [
    "### Import pandas"
   ]
  },
  {
   "cell_type": "code",
   "execution_count": null,
   "id": "97eeab09",
   "metadata": {},
   "outputs": [],
   "source": [
    "# Import pandas\n"
   ]
  },
  {
   "cell_type": "markdown",
   "id": "a0bbf80a",
   "metadata": {},
   "source": [
    "### Read CSV\n",
    "We'll continue with the 80 Cereals dataset and this time we'll keep the numeric index and not use the name lable, like we did with `.loc[ ] `."
   ]
  },
  {
   "cell_type": "code",
   "execution_count": null,
   "id": "c30260a8",
   "metadata": {
    "scrolled": true
   },
   "outputs": [],
   "source": []
  },
  {
   "cell_type": "markdown",
   "id": "de15d5e2",
   "metadata": {},
   "source": [
    "### Indexing with `iloc[ ]`"
   ]
  },
  {
   "cell_type": "code",
   "execution_count": null,
   "id": "8ed5ca04",
   "metadata": {},
   "outputs": [],
   "source": [
    "# sytax is much like .loc[ ], here we have the first row\n"
   ]
  },
  {
   "cell_type": "code",
   "execution_count": null,
   "id": "40113ad3",
   "metadata": {},
   "outputs": [],
   "source": [
    "# here we ahve the last row using the negative index position of -1\n"
   ]
  },
  {
   "cell_type": "markdown",
   "id": "1ff9c86d",
   "metadata": {},
   "source": [
    "### Slicing with `.iloc[ ]`"
   ]
  },
  {
   "cell_type": "code",
   "execution_count": null,
   "id": "8773404e",
   "metadata": {},
   "outputs": [],
   "source": [
    "# iloc[] is not inclusive, so keep that in mind!\n"
   ]
  },
  {
   "cell_type": "code",
   "execution_count": null,
   "id": "035be73b",
   "metadata": {},
   "outputs": [],
   "source": [
    "# you can also slice like this\n"
   ]
  },
  {
   "cell_type": "code",
   "execution_count": null,
   "id": "8193abbf",
   "metadata": {},
   "outputs": [],
   "source": []
  },
  {
   "cell_type": "markdown",
   "id": "cc15c840",
   "metadata": {},
   "source": [
    "### Return multiple rows by index"
   ]
  },
  {
   "cell_type": "code",
   "execution_count": null,
   "id": "60fd3cb8",
   "metadata": {},
   "outputs": [],
   "source": []
  },
  {
   "cell_type": "code",
   "execution_count": null,
   "id": "0350ee33",
   "metadata": {},
   "outputs": [],
   "source": [
    "# this dataset only contains 77 cereals, not 80, so beware\n"
   ]
  },
  {
   "cell_type": "markdown",
   "id": "594a61dc",
   "metadata": {},
   "source": [
    "### Returning multiple indexes"
   ]
  },
  {
   "cell_type": "code",
   "execution_count": null,
   "id": "d47d2b7f",
   "metadata": {},
   "outputs": [],
   "source": []
  },
  {
   "cell_type": "code",
   "execution_count": null,
   "id": "1b00fa06",
   "metadata": {},
   "outputs": [],
   "source": [
    "# order matters\n"
   ]
  },
  {
   "cell_type": "markdown",
   "id": "30b6b707",
   "metadata": {},
   "source": [
    "### Return specific columns for an index label"
   ]
  },
  {
   "cell_type": "code",
   "execution_count": null,
   "id": "2c330365",
   "metadata": {},
   "outputs": [],
   "source": []
  },
  {
   "cell_type": "code",
   "execution_count": null,
   "id": "12224fef",
   "metadata": {},
   "outputs": [],
   "source": [
    "# you can also return mulpitle rows with specific columns\n"
   ]
  },
  {
   "cell_type": "markdown",
   "id": "35981d1c",
   "metadata": {},
   "source": [
    "### You can also leverage slicing!"
   ]
  },
  {
   "cell_type": "code",
   "execution_count": null,
   "id": "b7bc41b8",
   "metadata": {},
   "outputs": [],
   "source": []
  },
  {
   "cell_type": "code",
   "execution_count": null,
   "id": "17fc3f94",
   "metadata": {},
   "outputs": [],
   "source": []
  },
  {
   "cell_type": "code",
   "execution_count": null,
   "id": "a6469679",
   "metadata": {
    "scrolled": true
   },
   "outputs": [],
   "source": [
    "# what is this?\n"
   ]
  }
 ],
 "metadata": {
  "kernelspec": {
   "display_name": "Python 3 (ipykernel)",
   "language": "python",
   "name": "python3"
  },
  "language_info": {
   "codemirror_mode": {
    "name": "ipython",
    "version": 3
   },
   "file_extension": ".py",
   "mimetype": "text/x-python",
   "name": "python",
   "nbconvert_exporter": "python",
   "pygments_lexer": "ipython3",
   "version": "3.9.7"
  }
 },
 "nbformat": 4,
 "nbformat_minor": 5
}
