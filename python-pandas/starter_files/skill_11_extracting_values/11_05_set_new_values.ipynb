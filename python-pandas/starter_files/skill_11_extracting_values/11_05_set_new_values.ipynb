{
 "cells": [
  {
   "cell_type": "markdown",
   "id": "845c1835",
   "metadata": {},
   "source": [
    "# Set new cell values in a particular row"
   ]
  },
  {
   "cell_type": "markdown",
   "id": "dc87652b",
   "metadata": {},
   "source": [
    "### Import pandas"
   ]
  },
  {
   "cell_type": "code",
   "execution_count": null,
   "id": "c9fdfa2b",
   "metadata": {},
   "outputs": [],
   "source": [
    "# Import pandas\n"
   ]
  },
  {
   "cell_type": "markdown",
   "id": "d2f10dfd",
   "metadata": {},
   "source": [
    "### Read CSV and set rating index sorted by labels"
   ]
  },
  {
   "cell_type": "code",
   "execution_count": null,
   "id": "a37680e2",
   "metadata": {
    "scrolled": false
   },
   "outputs": [],
   "source": []
  },
  {
   "cell_type": "code",
   "execution_count": null,
   "id": "738d9964",
   "metadata": {},
   "outputs": [],
   "source": []
  },
  {
   "cell_type": "markdown",
   "id": "e22b6449",
   "metadata": {},
   "source": [
    "### Build on loc and iloc by setting a new value with `=`"
   ]
  },
  {
   "cell_type": "code",
   "execution_count": null,
   "id": "fff0d73c",
   "metadata": {
    "scrolled": true
   },
   "outputs": [],
   "source": [
    "# return the value in question\n"
   ]
  },
  {
   "cell_type": "code",
   "execution_count": null,
   "id": "20d5e4e6",
   "metadata": {},
   "outputs": [],
   "source": [
    "# override the value with =\n"
   ]
  },
  {
   "cell_type": "code",
   "execution_count": null,
   "id": "75a31bb9",
   "metadata": {},
   "outputs": [],
   "source": [
    "# return the new value\n"
   ]
  },
  {
   "cell_type": "code",
   "execution_count": null,
   "id": "f1046259",
   "metadata": {},
   "outputs": [],
   "source": [
    "# to override multiple columns\n"
   ]
  },
  {
   "cell_type": "code",
   "execution_count": null,
   "id": "d7bfae2c",
   "metadata": {},
   "outputs": [],
   "source": []
  }
 ],
 "metadata": {
  "kernelspec": {
   "display_name": "Python 3 (ipykernel)",
   "language": "python",
   "name": "python3"
  },
  "language_info": {
   "codemirror_mode": {
    "name": "ipython",
    "version": 3
   },
   "file_extension": ".py",
   "mimetype": "text/x-python",
   "name": "python",
   "nbconvert_exporter": "python",
   "pygments_lexer": "ipython3",
   "version": "3.9.7"
  }
 },
 "nbformat": 4,
 "nbformat_minor": 5
}
