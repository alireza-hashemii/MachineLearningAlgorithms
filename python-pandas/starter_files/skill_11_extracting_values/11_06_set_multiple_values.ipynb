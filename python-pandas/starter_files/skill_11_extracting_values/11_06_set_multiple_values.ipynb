{
 "cells": [
  {
   "cell_type": "markdown",
   "id": "359fb237",
   "metadata": {},
   "source": [
    "# Set multiple values in a particular row"
   ]
  },
  {
   "cell_type": "markdown",
   "id": "37a7ad4d",
   "metadata": {},
   "source": [
    "### Import pandas"
   ]
  },
  {
   "cell_type": "code",
   "execution_count": null,
   "id": "672af111",
   "metadata": {},
   "outputs": [],
   "source": [
    "# Import pandas\n"
   ]
  },
  {
   "cell_type": "markdown",
   "id": "fb0bd2fb",
   "metadata": {},
   "source": [
    "### Read CSV and set rating index sorted by labels"
   ]
  },
  {
   "cell_type": "code",
   "execution_count": null,
   "id": "546e0b24",
   "metadata": {
    "scrolled": false
   },
   "outputs": [],
   "source": []
  },
  {
   "cell_type": "markdown",
   "id": "8222c2c9",
   "metadata": {},
   "source": [
    "### Set multiple values from \"C\" to \"cereal\""
   ]
  },
  {
   "cell_type": "code",
   "execution_count": null,
   "id": "20f1379e",
   "metadata": {},
   "outputs": [],
   "source": []
  },
  {
   "cell_type": "code",
   "execution_count": null,
   "id": "33ead425",
   "metadata": {},
   "outputs": [],
   "source": []
  },
  {
   "cell_type": "code",
   "execution_count": null,
   "id": "d2a39f00",
   "metadata": {},
   "outputs": [],
   "source": [
    "# don't do it this way ⚠️ Try using .loc[row_indexer,col_indexer] = value instead\n"
   ]
  },
  {
   "cell_type": "code",
   "execution_count": null,
   "id": "4c560909",
   "metadata": {
    "scrolled": true
   },
   "outputs": [],
   "source": []
  },
  {
   "cell_type": "markdown",
   "id": "4bebdf10",
   "metadata": {},
   "source": [
    "### With `.iloc[ ]`"
   ]
  },
  {
   "cell_type": "code",
   "execution_count": null,
   "id": "d7167ae8",
   "metadata": {},
   "outputs": [],
   "source": []
  },
  {
   "cell_type": "code",
   "execution_count": null,
   "id": "aae25354",
   "metadata": {},
   "outputs": [],
   "source": []
  },
  {
   "cell_type": "code",
   "execution_count": null,
   "id": "09977078",
   "metadata": {},
   "outputs": [],
   "source": [
    "# verify\n"
   ]
  }
 ],
 "metadata": {
  "kernelspec": {
   "display_name": "Python 3 (ipykernel)",
   "language": "python",
   "name": "python3"
  },
  "language_info": {
   "codemirror_mode": {
    "name": "ipython",
    "version": 3
   },
   "file_extension": ".py",
   "mimetype": "text/x-python",
   "name": "python",
   "nbconvert_exporter": "python",
   "pygments_lexer": "ipython3",
   "version": "3.9.7"
  }
 },
 "nbformat": 4,
 "nbformat_minor": 5
}
