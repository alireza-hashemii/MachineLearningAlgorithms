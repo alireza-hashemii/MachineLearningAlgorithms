{
 "cells": [
  {
   "cell_type": "markdown",
   "id": "11a37be4",
   "metadata": {},
   "source": [
    "# Return rows by index lables with `.loc[ ]`"
   ]
  },
  {
   "cell_type": "markdown",
   "id": "8ee6e8ef",
   "metadata": {},
   "source": [
    "### Import pandas"
   ]
  },
  {
   "cell_type": "code",
   "execution_count": null,
   "id": "c71b17ce",
   "metadata": {},
   "outputs": [],
   "source": [
    "# Import pandas\n"
   ]
  },
  {
   "cell_type": "markdown",
   "id": "a8edaa7d",
   "metadata": {},
   "source": [
    "### Read CSV\n",
    "In this set of videos we'll use the [80 cereals dataset](https://www.kaggle.com/crawford/80-cereals) from Kaggle which is also avaiable in the course GitHub repo here: [80 cereals dataset](https://github.com/cbtn-data-science-ml/python-pandas-for-data-manipulation/tree/main/datasets). I've icluded the Kaggle link so you can learn more about the dataset, but they're the same, so feel free to use either resourse.\n",
    "\n",
    "We'll also use the name as the index by using the `index_col` parameter inside of the `.read_csv()` method."
   ]
  },
  {
   "cell_type": "code",
   "execution_count": null,
   "id": "143a09c0",
   "metadata": {
    "scrolled": true
   },
   "outputs": [],
   "source": []
  },
  {
   "cell_type": "markdown",
   "id": "476f04b7",
   "metadata": {},
   "source": [
    "### Optimize dataset with sorting\n",
    "It's  a best practice to sort the index to help pandas be more efficient when looking for values."
   ]
  },
  {
   "cell_type": "code",
   "execution_count": null,
   "id": "3f740f4b",
   "metadata": {},
   "outputs": [],
   "source": []
  },
  {
   "cell_type": "markdown",
   "id": "1e08c720",
   "metadata": {},
   "source": [
    "### Access rows by index lables with `.loc[ ]`"
   ]
  },
  {
   "cell_type": "code",
   "execution_count": null,
   "id": "849ca60b",
   "metadata": {},
   "outputs": [],
   "source": []
  },
  {
   "cell_type": "code",
   "execution_count": null,
   "id": "363136d3",
   "metadata": {},
   "outputs": [],
   "source": []
  },
  {
   "cell_type": "code",
   "execution_count": null,
   "id": "5e64d4a0",
   "metadata": {},
   "outputs": [],
   "source": [
    "# if you misspell a lable, you'll get a KeyError since it doesn't exist\n"
   ]
  },
  {
   "cell_type": "markdown",
   "id": "cfa5c95a",
   "metadata": {},
   "source": [
    "### Slicing with `.loc[ ]`"
   ]
  },
  {
   "cell_type": "code",
   "execution_count": null,
   "id": "836d5c14",
   "metadata": {},
   "outputs": [],
   "source": [
    "# label slicing is inclusive \n"
   ]
  },
  {
   "cell_type": "code",
   "execution_count": null,
   "id": "f07be045",
   "metadata": {},
   "outputs": [],
   "source": []
  },
  {
   "cell_type": "code",
   "execution_count": null,
   "id": "7dbadc1f",
   "metadata": {},
   "outputs": [],
   "source": [
    "# you can return every other ceral using steps of 2\n"
   ]
  },
  {
   "cell_type": "code",
   "execution_count": null,
   "id": "e2f5c264",
   "metadata": {},
   "outputs": [],
   "source": [
    "# you can get the same results by omiting the start:end labels\n"
   ]
  },
  {
   "cell_type": "markdown",
   "id": "4622a7d6",
   "metadata": {},
   "source": [
    "### Returning multiple indexes"
   ]
  },
  {
   "cell_type": "code",
   "execution_count": null,
   "id": "b35cb404",
   "metadata": {},
   "outputs": [],
   "source": []
  },
  {
   "cell_type": "code",
   "execution_count": null,
   "id": "a979570f",
   "metadata": {},
   "outputs": [],
   "source": [
    "# order matters\n"
   ]
  },
  {
   "cell_type": "markdown",
   "id": "080f1918",
   "metadata": {},
   "source": [
    "### Return specific columns for an index label"
   ]
  },
  {
   "cell_type": "code",
   "execution_count": null,
   "id": "c797279f",
   "metadata": {},
   "outputs": [],
   "source": []
  },
  {
   "cell_type": "code",
   "execution_count": null,
   "id": "3068c1db",
   "metadata": {},
   "outputs": [],
   "source": [
    "# you can also return mulpitle rows with specific columns\n"
   ]
  },
  {
   "cell_type": "markdown",
   "id": "69a925ac",
   "metadata": {},
   "source": [
    "### You can also leverage slicing!"
   ]
  },
  {
   "cell_type": "code",
   "execution_count": null,
   "id": "527cae39",
   "metadata": {
    "scrolled": false
   },
   "outputs": [],
   "source": []
  },
  {
   "cell_type": "code",
   "execution_count": null,
   "id": "7067c6c0",
   "metadata": {},
   "outputs": [],
   "source": []
  },
  {
   "cell_type": "code",
   "execution_count": null,
   "id": "963a3747",
   "metadata": {
    "scrolled": true
   },
   "outputs": [],
   "source": [
    "# what is this?\n"
   ]
  }
 ],
 "metadata": {
  "kernelspec": {
   "display_name": "Python 3 (ipykernel)",
   "language": "python",
   "name": "python3"
  },
  "language_info": {
   "codemirror_mode": {
    "name": "ipython",
    "version": 3
   },
   "file_extension": ".py",
   "mimetype": "text/x-python",
   "name": "python",
   "nbconvert_exporter": "python",
   "pygments_lexer": "ipython3",
   "version": "3.9.7"
  }
 },
 "nbformat": 4,
 "nbformat_minor": 5
}
