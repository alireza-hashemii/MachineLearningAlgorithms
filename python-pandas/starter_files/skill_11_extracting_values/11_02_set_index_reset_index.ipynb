{
 "cells": [
  {
   "cell_type": "markdown",
   "id": "ab4932a3",
   "metadata": {},
   "source": [
    "# Setting and resetting index"
   ]
  },
  {
   "cell_type": "markdown",
   "id": "d4a056c5",
   "metadata": {},
   "source": [
    "### Import pandas"
   ]
  },
  {
   "cell_type": "code",
   "execution_count": null,
   "id": "84e993a0",
   "metadata": {},
   "outputs": [],
   "source": [
    "# Import pandas\n"
   ]
  },
  {
   "cell_type": "markdown",
   "id": "947ef1d2",
   "metadata": {},
   "source": [
    "### Read CSV\n",
    "In this set of videos we'll use the [80 cereals dataset](https://www.kaggle.com/crawford/80-cereals) from Kaggle which is also avaiable in the course GitHub repo here: [80 cereals dataset](https://github.com/cbtn-data-science-ml/python-pandas-for-data-manipulation/tree/main/datasets). I've icluded the Kaggle link so you can learn more about the dataset, but they're the same, so feel free to use either resourse."
   ]
  },
  {
   "cell_type": "code",
   "execution_count": null,
   "id": "6e69ef0a",
   "metadata": {
    "scrolled": false
   },
   "outputs": [],
   "source": []
  },
  {
   "cell_type": "markdown",
   "id": "5fd9d2b0",
   "metadata": {},
   "source": [
    "### Read CSV `.index_col()` parameter"
   ]
  },
  {
   "cell_type": "code",
   "execution_count": null,
   "id": "693db19c",
   "metadata": {
    "scrolled": true
   },
   "outputs": [],
   "source": []
  },
  {
   "cell_type": "markdown",
   "id": "2c8ab0f4",
   "metadata": {},
   "source": [
    "### `.set_index()` method"
   ]
  },
  {
   "cell_type": "code",
   "execution_count": null,
   "id": "6ab575ed",
   "metadata": {},
   "outputs": [],
   "source": []
  },
  {
   "cell_type": "code",
   "execution_count": null,
   "id": "30b39c1a",
   "metadata": {},
   "outputs": [],
   "source": []
  },
  {
   "cell_type": "code",
   "execution_count": null,
   "id": "21630df5",
   "metadata": {},
   "outputs": [],
   "source": []
  },
  {
   "cell_type": "code",
   "execution_count": null,
   "id": "a7a05285",
   "metadata": {
    "scrolled": true
   },
   "outputs": [],
   "source": []
  },
  {
   "cell_type": "code",
   "execution_count": null,
   "id": "47a154e2",
   "metadata": {
    "scrolled": false
   },
   "outputs": [],
   "source": [
    "# reset original index\n"
   ]
  },
  {
   "cell_type": "markdown",
   "id": "8fd5c0a9",
   "metadata": {},
   "source": [
    "### Reset original index"
   ]
  },
  {
   "cell_type": "code",
   "execution_count": null,
   "id": "33cdd5e6",
   "metadata": {},
   "outputs": [],
   "source": [
    "# reset original index\n"
   ]
  },
  {
   "cell_type": "code",
   "execution_count": null,
   "id": "95c449d1",
   "metadata": {},
   "outputs": [],
   "source": [
    "# name as index again, make it permanent\n"
   ]
  },
  {
   "cell_type": "code",
   "execution_count": null,
   "id": "51d55fdd",
   "metadata": {},
   "outputs": [],
   "source": [
    "# default is not to drop the \n"
   ]
  },
  {
   "cell_type": "code",
   "execution_count": null,
   "id": "77f9c609",
   "metadata": {},
   "outputs": [],
   "source": []
  },
  {
   "cell_type": "markdown",
   "id": "6a9fe05c",
   "metadata": {},
   "source": [
    "### Set rating as index and sort by rating"
   ]
  },
  {
   "cell_type": "code",
   "execution_count": null,
   "id": "9874a123",
   "metadata": {},
   "outputs": [],
   "source": []
  },
  {
   "cell_type": "code",
   "execution_count": null,
   "id": "07d0c022",
   "metadata": {},
   "outputs": [],
   "source": []
  },
  {
   "cell_type": "code",
   "execution_count": null,
   "id": "077b6afa",
   "metadata": {},
   "outputs": [],
   "source": []
  },
  {
   "cell_type": "code",
   "execution_count": null,
   "id": "cf3a0cce",
   "metadata": {},
   "outputs": [],
   "source": []
  }
 ],
 "metadata": {
  "kernelspec": {
   "display_name": "Python 3 (ipykernel)",
   "language": "python",
   "name": "python3"
  },
  "language_info": {
   "codemirror_mode": {
    "name": "ipython",
    "version": 3
   },
   "file_extension": ".py",
   "mimetype": "text/x-python",
   "name": "python",
   "nbconvert_exporter": "python",
   "pygments_lexer": "ipython3",
   "version": "3.9.7"
  }
 },
 "nbformat": 4,
 "nbformat_minor": 5
}
