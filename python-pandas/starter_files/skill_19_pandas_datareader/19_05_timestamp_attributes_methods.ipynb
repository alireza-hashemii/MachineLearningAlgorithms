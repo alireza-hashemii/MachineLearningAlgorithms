{
 "cells": [
  {
   "cell_type": "markdown",
   "id": "76e697bd",
   "metadata": {},
   "source": [
    "# Timstamp attributes and methods"
   ]
  },
  {
   "cell_type": "markdown",
   "id": "7e3fa97a",
   "metadata": {},
   "source": [
    "### Import libraries"
   ]
  },
  {
   "cell_type": "code",
   "execution_count": null,
   "id": "ef3f7826",
   "metadata": {},
   "outputs": [],
   "source": []
  },
  {
   "cell_type": "markdown",
   "id": "6d8c5a97",
   "metadata": {},
   "source": [
    "### Get Bitcoin cryptocurrency data"
   ]
  },
  {
   "cell_type": "code",
   "execution_count": null,
   "id": "48b1d348",
   "metadata": {},
   "outputs": [],
   "source": [
    "# you can define crypto currency data without start end\n",
    "# to return all data from the start of BTC to today\n"
   ]
  },
  {
   "cell_type": "markdown",
   "id": "d647b520",
   "metadata": {},
   "source": [
    "### Timestamp attributes"
   ]
  },
  {
   "cell_type": "code",
   "execution_count": null,
   "id": "bbca0231",
   "metadata": {},
   "outputs": [],
   "source": []
  },
  {
   "cell_type": "code",
   "execution_count": null,
   "id": "0ff0fd06",
   "metadata": {},
   "outputs": [],
   "source": []
  },
  {
   "cell_type": "code",
   "execution_count": null,
   "id": "bcb34cee",
   "metadata": {},
   "outputs": [],
   "source": []
  },
  {
   "cell_type": "code",
   "execution_count": null,
   "id": "5d5526c5",
   "metadata": {},
   "outputs": [],
   "source": []
  },
  {
   "cell_type": "code",
   "execution_count": null,
   "id": "62a0b1ed",
   "metadata": {},
   "outputs": [],
   "source": []
  },
  {
   "cell_type": "code",
   "execution_count": null,
   "id": "ec8c2dcc",
   "metadata": {},
   "outputs": [],
   "source": []
  },
  {
   "cell_type": "markdown",
   "id": "78357915",
   "metadata": {},
   "source": [
    "### Calendar quarters\n",
    "The standard calendar quarters that make up the year are as follows:\n",
    "\n",
    "- January, February, and March (Q1)\n",
    "- April, May, and June (Q2)\n",
    "- July, August, and September (Q3)\n",
    "- October, November, and December (Q4)"
   ]
  },
  {
   "cell_type": "code",
   "execution_count": null,
   "id": "c4b96a64",
   "metadata": {},
   "outputs": [],
   "source": []
  },
  {
   "cell_type": "code",
   "execution_count": null,
   "id": "aa305751",
   "metadata": {},
   "outputs": [],
   "source": []
  },
  {
   "cell_type": "markdown",
   "id": "4939a59f",
   "metadata": {},
   "source": [
    "### Timestamp methods"
   ]
  },
  {
   "cell_type": "code",
   "execution_count": null,
   "id": "fffa627a",
   "metadata": {},
   "outputs": [],
   "source": []
  },
  {
   "cell_type": "code",
   "execution_count": null,
   "id": "e2cceac7",
   "metadata": {},
   "outputs": [],
   "source": []
  },
  {
   "cell_type": "code",
   "execution_count": null,
   "id": "40324173",
   "metadata": {},
   "outputs": [],
   "source": []
  },
  {
   "cell_type": "code",
   "execution_count": null,
   "id": "c5071fce",
   "metadata": {},
   "outputs": [],
   "source": []
  },
  {
   "cell_type": "code",
   "execution_count": null,
   "id": "2a240e2c",
   "metadata": {},
   "outputs": [],
   "source": []
  },
  {
   "cell_type": "code",
   "execution_count": null,
   "id": "ff65d2b6",
   "metadata": {},
   "outputs": [],
   "source": []
  },
  {
   "cell_type": "markdown",
   "id": "3c5027dd",
   "metadata": {},
   "source": [
    "### Now you can filter by weekday!"
   ]
  },
  {
   "cell_type": "code",
   "execution_count": null,
   "id": "1213ff4c",
   "metadata": {},
   "outputs": [],
   "source": []
  },
  {
   "cell_type": "code",
   "execution_count": null,
   "id": "8f08bbe7",
   "metadata": {},
   "outputs": [],
   "source": []
  },
  {
   "cell_type": "code",
   "execution_count": null,
   "id": "c23b0d89",
   "metadata": {},
   "outputs": [],
   "source": []
  },
  {
   "cell_type": "code",
   "execution_count": null,
   "id": "eead61c3",
   "metadata": {},
   "outputs": [],
   "source": []
  }
 ],
 "metadata": {
  "kernelspec": {
   "display_name": "Python 3 (ipykernel)",
   "language": "python",
   "name": "python3"
  },
  "language_info": {
   "codemirror_mode": {
    "name": "ipython",
    "version": 3
   },
   "file_extension": ".py",
   "mimetype": "text/x-python",
   "name": "python",
   "nbconvert_exporter": "python",
   "pygments_lexer": "ipython3",
   "version": "3.9.7"
  }
 },
 "nbformat": 4,
 "nbformat_minor": 5
}
