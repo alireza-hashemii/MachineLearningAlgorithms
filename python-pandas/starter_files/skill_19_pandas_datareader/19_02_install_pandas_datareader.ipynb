{
 "cells": [
  {
   "cell_type": "markdown",
   "id": "f7b0de1e",
   "metadata": {},
   "source": [
    "# Pandas `.DataReader()`\n",
    "Be sure that your Jupyter notebook session is running inside of the conda environment you created for these .ipynb files. You don't want to be in the base environment, so be sure to check in the terminal and activate your conda environment if needed.\n",
    "\n",
    "The datareader library is one way to get data from the internet. You could web scrape this data and convert into a DataFrame, but if you don't know how to webscape, datareader is a great way to get started!\n",
    "\n",
    "In the next series of lessons, we'll examin crypto currencies and use their date/time data to get an opportunity to work with live data without web scraping."
   ]
  },
  {
   "cell_type": "code",
   "execution_count": 1,
   "id": "2afe606f",
   "metadata": {
    "scrolled": true
   },
   "outputs": [],
   "source": [
    "# Be sure you are using the right conda environment, not base\n"
   ]
  },
  {
   "cell_type": "code",
   "execution_count": 2,
   "id": "eeab1b93",
   "metadata": {},
   "outputs": [],
   "source": [
    "# activate conda environment"
   ]
  },
  {
   "cell_type": "code",
   "execution_count": 3,
   "id": "5aac4950",
   "metadata": {},
   "outputs": [],
   "source": [
    "# install data reader library, the -y flag silently agrees to install\n",
    "# normally conda would ask you if you want to install a package\n"
   ]
  }
 ],
 "metadata": {
  "kernelspec": {
   "display_name": "Python 3 (ipykernel)",
   "language": "python",
   "name": "python3"
  },
  "language_info": {
   "codemirror_mode": {
    "name": "ipython",
    "version": 3
   },
   "file_extension": ".py",
   "mimetype": "text/x-python",
   "name": "python",
   "nbconvert_exporter": "python",
   "pygments_lexer": "ipython3",
   "version": "3.9.7"
  }
 },
 "nbformat": 4,
 "nbformat_minor": 5
}
