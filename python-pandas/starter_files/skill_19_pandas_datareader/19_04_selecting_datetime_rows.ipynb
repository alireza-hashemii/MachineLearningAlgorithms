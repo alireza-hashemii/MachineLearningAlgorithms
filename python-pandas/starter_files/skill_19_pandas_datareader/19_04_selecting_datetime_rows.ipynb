{
 "cells": [
  {
   "cell_type": "markdown",
   "id": "76e697bd",
   "metadata": {},
   "source": [
    "# Select `.DatetimeIndex` rows with `.loc[ ] ` & `.iloc[ ]`"
   ]
  },
  {
   "cell_type": "markdown",
   "id": "7e3fa97a",
   "metadata": {},
   "source": [
    "### Import libraries"
   ]
  },
  {
   "cell_type": "code",
   "execution_count": null,
   "id": "ef3f7826",
   "metadata": {},
   "outputs": [],
   "source": []
  },
  {
   "cell_type": "markdown",
   "id": "6d8c5a97",
   "metadata": {},
   "source": [
    "### Get Bitcoin cryptocurrency data"
   ]
  },
  {
   "cell_type": "code",
   "execution_count": null,
   "id": "48b1d348",
   "metadata": {},
   "outputs": [],
   "source": [
    "# you can define crypto currency data without start end\n",
    "# to return all data from the start of BTC to today\n"
   ]
  },
  {
   "cell_type": "markdown",
   "id": "d647b520",
   "metadata": {},
   "source": [
    "### Returning rows with `.loc[ ]`"
   ]
  },
  {
   "cell_type": "code",
   "execution_count": null,
   "id": "407cbb0d",
   "metadata": {
    "scrolled": true
   },
   "outputs": [],
   "source": [
    "# return the first row with an index label\n"
   ]
  },
  {
   "cell_type": "code",
   "execution_count": null,
   "id": "0fd08667",
   "metadata": {},
   "outputs": [],
   "source": [
    "# what is 6.941870e-01? Aprox 1.3\n"
   ]
  },
  {
   "cell_type": "code",
   "execution_count": null,
   "id": "3e7f1a26",
   "metadata": {},
   "outputs": [],
   "source": [
    "# what is 4.362284e+10? Aprox forty-three billion \n",
    "# or forty-three billion six hundred twenty-two million eight hundred forty thousand\n"
   ]
  },
  {
   "cell_type": "markdown",
   "id": "ecae8f6a",
   "metadata": {},
   "source": [
    "### Returning rows with `.iloc[ ]`"
   ]
  },
  {
   "cell_type": "code",
   "execution_count": null,
   "id": "90b28d3d",
   "metadata": {},
   "outputs": [],
   "source": [
    "# return the first row by index label\n"
   ]
  },
  {
   "cell_type": "code",
   "execution_count": null,
   "id": "63c6b1c7",
   "metadata": {},
   "outputs": [],
   "source": [
    "# return the last row by index label\n"
   ]
  },
  {
   "cell_type": "markdown",
   "id": "4699b1ce",
   "metadata": {},
   "source": [
    "### Returning row by multiple date and date ranges"
   ]
  },
  {
   "cell_type": "code",
   "execution_count": null,
   "id": "dda91270",
   "metadata": {},
   "outputs": [],
   "source": [
    "# return multiple rows by index label\n"
   ]
  },
  {
   "cell_type": "code",
   "execution_count": null,
   "id": "cbd562c7",
   "metadata": {},
   "outputs": [],
   "source": [
    "# return multiple rows by index label range (inclusive)\n"
   ]
  },
  {
   "cell_type": "code",
   "execution_count": null,
   "id": "9d9bdc04",
   "metadata": {},
   "outputs": [],
   "source": [
    "# return multiple rows by index (exclusive)\n"
   ]
  }
 ],
 "metadata": {
  "kernelspec": {
   "display_name": "Python 3 (ipykernel)",
   "language": "python",
   "name": "python3"
  },
  "language_info": {
   "codemirror_mode": {
    "name": "ipython",
    "version": 3
   },
   "file_extension": ".py",
   "mimetype": "text/x-python",
   "name": "python",
   "nbconvert_exporter": "python",
   "pygments_lexer": "ipython3",
   "version": "3.9.7"
  }
 },
 "nbformat": 4,
 "nbformat_minor": 5
}
