{
 "cells": [
  {
   "cell_type": "markdown",
   "metadata": {
    "id": "0hXukNu_DWOQ"
   },
   "source": [
    "# Sort by Index with `.sort_index()` "
   ]
  },
  {
   "cell_type": "markdown",
   "metadata": {
    "id": "y3d7yHwzDWOR"
   },
   "source": [
    "### Import Pandas"
   ]
  },
  {
   "cell_type": "code",
   "execution_count": null,
   "metadata": {
    "id": "6_b0rMOXDWOR"
   },
   "outputs": [],
   "source": [
    "# import pandas"
   ]
  },
  {
   "cell_type": "markdown",
   "metadata": {
    "id": "LftTeu1IDWOR"
   },
   "source": [
    "### Read CSV"
   ]
  },
  {
   "cell_type": "code",
   "execution_count": null,
   "metadata": {
    "id": "Di01LPiTDWOS"
   },
   "outputs": [],
   "source": []
  },
  {
   "cell_type": "markdown",
   "metadata": {
    "id": "tpauRmh_DWOS"
   },
   "source": [
    "### Head"
   ]
  },
  {
   "cell_type": "code",
   "execution_count": null,
   "metadata": {
    "id": "8rd6iQTKDWOS",
    "outputId": "cb700eb4-5bf9-4cd0-b3e0-1a3aed349625",
    "scrolled": true
   },
   "outputs": [],
   "source": []
  },
  {
   "cell_type": "markdown",
   "metadata": {
    "id": "8hBd_ED4DWOT"
   },
   "source": [
    "### Sort by Column"
   ]
  },
  {
   "cell_type": "code",
   "execution_count": null,
   "metadata": {
    "id": "laRovpaaDWOT",
    "scrolled": false
   },
   "outputs": [],
   "source": [
    "# sory by column and make it permanent\n"
   ]
  },
  {
   "cell_type": "code",
   "execution_count": null,
   "metadata": {},
   "outputs": [],
   "source": [
    "# sory by column and make it permanent\n"
   ]
  },
  {
   "cell_type": "markdown",
   "metadata": {
    "id": "C9EHy0yNDWOT"
   },
   "source": [
    "### Sort by Index"
   ]
  },
  {
   "cell_type": "code",
   "execution_count": null,
   "metadata": {
    "id": "ci-khMIkDWOT",
    "outputId": "7f09996c-2543-4eff-ffd7-82e9e5ca94a2",
    "scrolled": false
   },
   "outputs": [],
   "source": [
    "# fix the index using sort_index()\n"
   ]
  },
  {
   "cell_type": "markdown",
   "metadata": {
    "id": "qoRdsuc3DWOT"
   },
   "source": [
    "### We can also change the direction of the sort and use the `inplace=True` parameter"
   ]
  },
  {
   "cell_type": "code",
   "execution_count": null,
   "metadata": {
    "id": "IH9nPxHODWOT"
   },
   "outputs": [],
   "source": []
  },
  {
   "cell_type": "code",
   "execution_count": null,
   "metadata": {
    "id": "VsiM-nDtDWOT",
    "outputId": "a33f3330-85b3-4743-b03f-9b9900a7a52c",
    "scrolled": true
   },
   "outputs": [],
   "source": []
  },
  {
   "cell_type": "markdown",
   "metadata": {
    "id": "34EpOIldDWOT"
   },
   "source": [
    "This will also work on a Series in pretty much the same way."
   ]
  }
 ],
 "metadata": {
  "colab": {
   "name": "7_04_dataframe_sort_index.ipynb",
   "provenance": []
  },
  "kernelspec": {
   "display_name": "Python 3 (ipykernel)",
   "language": "python",
   "name": "python3"
  },
  "language_info": {
   "codemirror_mode": {
    "name": "ipython",
    "version": 3
   },
   "file_extension": ".py",
   "mimetype": "text/x-python",
   "name": "python",
   "nbconvert_exporter": "python",
   "pygments_lexer": "ipython3",
   "version": "3.9.7"
  }
 },
 "nbformat": 4,
 "nbformat_minor": 1
}
