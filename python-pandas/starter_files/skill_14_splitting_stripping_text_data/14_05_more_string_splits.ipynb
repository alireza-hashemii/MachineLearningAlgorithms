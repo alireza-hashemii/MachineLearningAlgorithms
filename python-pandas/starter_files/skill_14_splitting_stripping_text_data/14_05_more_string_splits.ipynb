{
 "cells": [
  {
   "cell_type": "markdown",
   "id": "ab4932a3",
   "metadata": {},
   "source": [
    "# More Split methods"
   ]
  },
  {
   "cell_type": "markdown",
   "id": "d4a056c5",
   "metadata": {},
   "source": [
    "### Import pandas"
   ]
  },
  {
   "cell_type": "code",
   "execution_count": null,
   "id": "84e993a0",
   "metadata": {},
   "outputs": [],
   "source": []
  },
  {
   "cell_type": "markdown",
   "id": "947ef1d2",
   "metadata": {},
   "source": [
    "### Read CSV\n",
    "Let's revisit the `animal_names.csv` and dive deeper into the `split()` string method.\n",
    "\n",
    "About scientific animal names:\n",
    "1. The genus name is always written first.\n",
    "2. The first letter of the genus name is always capitalized.\n",
    "3. The species name is never capitalized."
   ]
  },
  {
   "cell_type": "code",
   "execution_count": null,
   "id": "6e69ef0a",
   "metadata": {
    "scrolled": true
   },
   "outputs": [],
   "source": []
  },
  {
   "cell_type": "markdown",
   "id": "5bb76223",
   "metadata": {},
   "source": [
    "### Split the genus and species and create new columns"
   ]
  },
  {
   "cell_type": "code",
   "execution_count": null,
   "id": "45cf3c71",
   "metadata": {},
   "outputs": [],
   "source": [
    "# you don't always need to specify n= number of splits (here we do)\n"
   ]
  },
  {
   "cell_type": "code",
   "execution_count": null,
   "id": "b3c6aff3",
   "metadata": {},
   "outputs": [],
   "source": []
  },
  {
   "cell_type": "code",
   "execution_count": null,
   "id": "1d2c4c1f",
   "metadata": {},
   "outputs": [],
   "source": []
  }
 ],
 "metadata": {
  "kernelspec": {
   "display_name": "Python 3 (ipykernel)",
   "language": "python",
   "name": "python3"
  },
  "language_info": {
   "codemirror_mode": {
    "name": "ipython",
    "version": 3
   },
   "file_extension": ".py",
   "mimetype": "text/x-python",
   "name": "python",
   "nbconvert_exporter": "python",
   "pygments_lexer": "ipython3",
   "version": "3.9.7"
  }
 },
 "nbformat": 4,
 "nbformat_minor": 5
}
