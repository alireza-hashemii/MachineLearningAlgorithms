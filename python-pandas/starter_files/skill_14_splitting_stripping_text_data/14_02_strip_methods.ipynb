{
 "cells": [
  {
   "cell_type": "markdown",
   "id": "ab4932a3",
   "metadata": {},
   "source": [
    "# Strip methods"
   ]
  },
  {
   "cell_type": "markdown",
   "id": "d4a056c5",
   "metadata": {},
   "source": [
    "### Import pandas"
   ]
  },
  {
   "cell_type": "code",
   "execution_count": null,
   "id": "84e993a0",
   "metadata": {},
   "outputs": [],
   "source": []
  },
  {
   "cell_type": "markdown",
   "id": "947ef1d2",
   "metadata": {},
   "source": [
    "### Read CSV\n",
    "Let's revisit the optimized dataset for lower the memory usage and try to remove the whitespace using a strip method. I've added some extra whitespace and created a new csv: `StudentsPerfomrance_whitespace.csv`"
   ]
  },
  {
   "cell_type": "code",
   "execution_count": null,
   "id": "6e69ef0a",
   "metadata": {
    "scrolled": true
   },
   "outputs": [],
   "source": []
  },
  {
   "cell_type": "markdown",
   "id": "88b8f574",
   "metadata": {},
   "source": [
    "### Review the `.replace( )` method"
   ]
  },
  {
   "cell_type": "code",
   "execution_count": null,
   "id": "e9923095",
   "metadata": {},
   "outputs": [],
   "source": []
  },
  {
   "cell_type": "code",
   "execution_count": null,
   "id": "c4bd876f",
   "metadata": {
    "scrolled": true
   },
   "outputs": [],
   "source": [
    "# why does it say standard has 13 characters? Probably whitespace ⚠️\n"
   ]
  },
  {
   "cell_type": "code",
   "execution_count": null,
   "id": "1025816e",
   "metadata": {},
   "outputs": [],
   "source": []
  },
  {
   "cell_type": "code",
   "execution_count": null,
   "id": "16dff3ff",
   "metadata": {},
   "outputs": [],
   "source": [
    "# why does \"female\" contain 10 characters? Probably whitespace ⚠️\n"
   ]
  },
  {
   "cell_type": "code",
   "execution_count": null,
   "id": "14fed8c5",
   "metadata": {},
   "outputs": [],
   "source": [
    "# way to go, you found and removed whitespace hidden in the lunch column\n"
   ]
  },
  {
   "cell_type": "code",
   "execution_count": null,
   "id": "de77f9fe",
   "metadata": {},
   "outputs": [],
   "source": []
  },
  {
   "cell_type": "code",
   "execution_count": null,
   "id": "dd7e3bab",
   "metadata": {},
   "outputs": [],
   "source": [
    "# we could use the replace method but there is a better way\n"
   ]
  },
  {
   "cell_type": "markdown",
   "id": "43adabfe",
   "metadata": {},
   "source": [
    "### The `strip( )`, `lstrip( )`, and  `rstrip()` methods "
   ]
  },
  {
   "cell_type": "code",
   "execution_count": null,
   "id": "e21861a3",
   "metadata": {},
   "outputs": [],
   "source": [
    "# lstrip() remove whitespace on the left\n"
   ]
  },
  {
   "cell_type": "code",
   "execution_count": null,
   "id": "f0451521",
   "metadata": {},
   "outputs": [],
   "source": [
    "# rstrip() remove whitespace on the right\n"
   ]
  },
  {
   "cell_type": "code",
   "execution_count": null,
   "id": "a4f70ac6",
   "metadata": {},
   "outputs": [],
   "source": [
    "# finally, strip() removes all white space (lstrip + rstrip)\n"
   ]
  },
  {
   "cell_type": "code",
   "execution_count": null,
   "id": "e77bb440",
   "metadata": {
    "scrolled": true
   },
   "outputs": [],
   "source": [
    "# note that it doesn't remove the whitespace in between\n"
   ]
  },
  {
   "cell_type": "markdown",
   "id": "26ce0e72",
   "metadata": {},
   "source": [
    "### Remove whitespace for the gender column"
   ]
  },
  {
   "cell_type": "code",
   "execution_count": null,
   "id": "882d13ca",
   "metadata": {},
   "outputs": [],
   "source": []
  },
  {
   "cell_type": "code",
   "execution_count": null,
   "id": "ba82a4e2",
   "metadata": {},
   "outputs": [],
   "source": []
  },
  {
   "cell_type": "code",
   "execution_count": null,
   "id": "b3f42b15",
   "metadata": {},
   "outputs": [],
   "source": [
    "# remove whitespace on the left and right for\n"
   ]
  },
  {
   "cell_type": "code",
   "execution_count": null,
   "id": "7b2de456",
   "metadata": {},
   "outputs": [],
   "source": []
  },
  {
   "cell_type": "markdown",
   "id": "054edc5e",
   "metadata": {},
   "source": [
    "### Remove whitespace for the lunch column"
   ]
  },
  {
   "cell_type": "code",
   "execution_count": null,
   "id": "85f65608",
   "metadata": {},
   "outputs": [],
   "source": []
  },
  {
   "cell_type": "code",
   "execution_count": null,
   "id": "6bffce3e",
   "metadata": {},
   "outputs": [],
   "source": []
  },
  {
   "cell_type": "code",
   "execution_count": null,
   "id": "77870d48",
   "metadata": {},
   "outputs": [],
   "source": []
  },
  {
   "cell_type": "code",
   "execution_count": null,
   "id": "542b9910",
   "metadata": {},
   "outputs": [],
   "source": []
  }
 ],
 "metadata": {
  "kernelspec": {
   "display_name": "Python 3 (ipykernel)",
   "language": "python",
   "name": "python3"
  },
  "language_info": {
   "codemirror_mode": {
    "name": "ipython",
    "version": 3
   },
   "file_extension": ".py",
   "mimetype": "text/x-python",
   "name": "python",
   "nbconvert_exporter": "python",
   "pygments_lexer": "ipython3",
   "version": "3.9.7"
  }
 },
 "nbformat": 4,
 "nbformat_minor": 5
}
