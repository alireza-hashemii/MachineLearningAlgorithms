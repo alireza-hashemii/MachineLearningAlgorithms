{
 "cells": [
  {
   "cell_type": "markdown",
   "id": "30baaac1",
   "metadata": {},
   "source": [
    "# `.date_range( )` part 3"
   ]
  },
  {
   "cell_type": "code",
   "execution_count": null,
   "id": "c6add856",
   "metadata": {},
   "outputs": [],
   "source": []
  },
  {
   "cell_type": "markdown",
   "id": "be21e180",
   "metadata": {},
   "source": [
    "### `.date_range( )` without `start=`\n",
    "You can set a start, stop, and interval frequency to create a range of times or dates. You can also omit `start=` and only set the `end=` date/time.\n",
    "\n",
    "```python\n",
    "pandas.date_range(end=your_end_range,\n",
    "                  periods=how_many_results,\n",
    "                 freq=your_time_intervals)\n",
    "```                 "
   ]
  },
  {
   "cell_type": "markdown",
   "id": "198a4a89",
   "metadata": {},
   "source": [
    "### Create a 7 day week"
   ]
  },
  {
   "cell_type": "code",
   "execution_count": null,
   "id": "e07b7b0f",
   "metadata": {},
   "outputs": [],
   "source": []
  },
  {
   "cell_type": "code",
   "execution_count": null,
   "id": "900d718b",
   "metadata": {},
   "outputs": [],
   "source": [
    "# start on January 1st, 2020 and create 7(periods) days(freq)\n"
   ]
  },
  {
   "cell_type": "code",
   "execution_count": null,
   "id": "8a856784",
   "metadata": {},
   "outputs": [],
   "source": []
  },
  {
   "cell_type": "code",
   "execution_count": null,
   "id": "a0e02656",
   "metadata": {},
   "outputs": [],
   "source": []
  },
  {
   "cell_type": "markdown",
   "id": "a87d7170",
   "metadata": {},
   "source": [
    "### All other frequencies apply"
   ]
  },
  {
   "cell_type": "code",
   "execution_count": null,
   "id": "781bd24b",
   "metadata": {},
   "outputs": [],
   "source": []
  },
  {
   "cell_type": "code",
   "execution_count": null,
   "id": "e26b68f3",
   "metadata": {},
   "outputs": [],
   "source": []
  },
  {
   "cell_type": "code",
   "execution_count": null,
   "id": "31299b88",
   "metadata": {},
   "outputs": [],
   "source": []
  }
 ],
 "metadata": {
  "kernelspec": {
   "display_name": "Python 3 (ipykernel)",
   "language": "python",
   "name": "python3"
  },
  "language_info": {
   "codemirror_mode": {
    "name": "ipython",
    "version": 3
   },
   "file_extension": ".py",
   "mimetype": "text/x-python",
   "name": "python",
   "nbconvert_exporter": "python",
   "pygments_lexer": "ipython3",
   "version": "3.9.7"
  }
 },
 "nbformat": 4,
 "nbformat_minor": 5
}
