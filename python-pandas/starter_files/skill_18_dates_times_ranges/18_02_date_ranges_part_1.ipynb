{
 "cells": [
  {
   "cell_type": "markdown",
   "id": "ac8a7476",
   "metadata": {},
   "source": [
    "# `.date_range( )` part 1"
   ]
  },
  {
   "cell_type": "code",
   "execution_count": null,
   "id": "11a96f9c",
   "metadata": {},
   "outputs": [],
   "source": []
  },
  {
   "cell_type": "markdown",
   "id": "f34bee52",
   "metadata": {},
   "source": [
    "### `.date_range( )` is like a date ruler\n",
    "You can set a start, stop, and interval frequency to create a range of times or dates. It's most often used when reindexing your DatetimeIndex. Imagine you have a year worth of data collected every weekday in 2020. You could replace the numbered index with a date index which allows you to perform all kinds of date operations like visualization over time to finding the peak activity range of the year.\n",
    "\n",
    "```python\n",
    "pandas.date_range(start=your_start_range,\n",
    "                  end=your_end_range,\n",
    "                 freq=your_time_intervals)\n",
    "```                 "
   ]
  },
  {
   "cell_type": "code",
   "execution_count": null,
   "id": "63d3e13e",
   "metadata": {},
   "outputs": [],
   "source": [
    "# .datet_range() creates a DatetimeIndex/Timestamp for us\n"
   ]
  },
  {
   "cell_type": "code",
   "execution_count": null,
   "id": "add5c87b",
   "metadata": {},
   "outputs": [],
   "source": []
  },
  {
   "cell_type": "code",
   "execution_count": null,
   "id": "b300571b",
   "metadata": {},
   "outputs": [],
   "source": []
  },
  {
   "cell_type": "markdown",
   "id": "a0819645",
   "metadata": {},
   "source": [
    "### Frequency options: dates"
   ]
  },
  {
   "cell_type": "code",
   "execution_count": null,
   "id": "e4b921c3",
   "metadata": {},
   "outputs": [],
   "source": []
  },
  {
   "cell_type": "code",
   "execution_count": null,
   "id": "3dbbb592",
   "metadata": {},
   "outputs": [],
   "source": []
  },
  {
   "cell_type": "code",
   "execution_count": null,
   "id": "e547a43d",
   "metadata": {},
   "outputs": [],
   "source": []
  },
  {
   "cell_type": "code",
   "execution_count": null,
   "id": "7adfa2dd",
   "metadata": {},
   "outputs": [],
   "source": []
  },
  {
   "cell_type": "code",
   "execution_count": null,
   "id": "1f6492cc",
   "metadata": {},
   "outputs": [],
   "source": []
  },
  {
   "cell_type": "markdown",
   "id": "2224cf06",
   "metadata": {},
   "source": [
    "### Frequency options: dates with times"
   ]
  },
  {
   "cell_type": "code",
   "execution_count": null,
   "id": "75c8362d",
   "metadata": {},
   "outputs": [],
   "source": []
  },
  {
   "cell_type": "code",
   "execution_count": null,
   "id": "0344b995",
   "metadata": {},
   "outputs": [],
   "source": []
  },
  {
   "cell_type": "code",
   "execution_count": null,
   "id": "87480fd5",
   "metadata": {},
   "outputs": [],
   "source": []
  },
  {
   "cell_type": "code",
   "execution_count": null,
   "id": "416c4d6c",
   "metadata": {},
   "outputs": [],
   "source": []
  }
 ],
 "metadata": {
  "kernelspec": {
   "display_name": "Python 3 (ipykernel)",
   "language": "python",
   "name": "python3"
  },
  "language_info": {
   "codemirror_mode": {
    "name": "ipython",
    "version": 3
   },
   "file_extension": ".py",
   "mimetype": "text/x-python",
   "name": "python",
   "nbconvert_exporter": "python",
   "pygments_lexer": "ipython3",
   "version": "3.9.7"
  }
 },
 "nbformat": 4,
 "nbformat_minor": 5
}
