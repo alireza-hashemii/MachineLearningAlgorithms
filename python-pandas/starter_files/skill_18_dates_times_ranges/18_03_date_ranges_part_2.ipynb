{
 "cells": [
  {
   "cell_type": "markdown",
   "id": "adba5214",
   "metadata": {},
   "source": [
    "# `.date_range( )` part 2"
   ]
  },
  {
   "cell_type": "code",
   "execution_count": null,
   "id": "8b126e47",
   "metadata": {},
   "outputs": [],
   "source": []
  },
  {
   "cell_type": "markdown",
   "id": "f09cf28e",
   "metadata": {},
   "source": [
    "### `.date_range( )` is like a date ruler\n",
    "You can set a start, stop, and interval frequency to create a range of times or dates. You can also omit the `end=` parameter and instead use `periods=` to set the number of results you want to return.\n",
    "\n",
    "```python\n",
    "pandas.date_range(start=your_start_time,\n",
    "                  periods=how_many_results,\n",
    "                 freq=your_time_intervals)\n",
    "```                 "
   ]
  },
  {
   "cell_type": "markdown",
   "id": "693b3ecf",
   "metadata": {},
   "source": [
    "### Create a 7 day week"
   ]
  },
  {
   "cell_type": "code",
   "execution_count": null,
   "id": "a87ffe84",
   "metadata": {},
   "outputs": [],
   "source": []
  },
  {
   "cell_type": "code",
   "execution_count": null,
   "id": "900d718b",
   "metadata": {},
   "outputs": [],
   "source": [
    "# start on January 1st, 2020 and create 7(periods) days(freq)\n"
   ]
  },
  {
   "cell_type": "markdown",
   "id": "62a85ffb",
   "metadata": {},
   "source": [
    "### Create a 5 day business week"
   ]
  },
  {
   "cell_type": "code",
   "execution_count": null,
   "id": "fe8e22e3",
   "metadata": {},
   "outputs": [],
   "source": []
  },
  {
   "cell_type": "code",
   "execution_count": null,
   "id": "eedd0b31",
   "metadata": {},
   "outputs": [],
   "source": [
    "# pd.date_range(start = \"2020-01-01\", periods = 5, freq = \"D\")\n",
    "# mind the business day start day (can't start on a weekend)⚠️\n"
   ]
  },
  {
   "cell_type": "code",
   "execution_count": null,
   "id": "f6849b22",
   "metadata": {},
   "outputs": [],
   "source": [
    "# Can't start on Saturday the 4th so starts on Monday the 6th\n"
   ]
  },
  {
   "cell_type": "markdown",
   "id": "b17359b7",
   "metadata": {},
   "source": [
    "### You can also use M, MS, A, H, 8H"
   ]
  },
  {
   "cell_type": "code",
   "execution_count": null,
   "id": "4d981192",
   "metadata": {},
   "outputs": [],
   "source": []
  },
  {
   "cell_type": "code",
   "execution_count": null,
   "id": "fc7fc1ac",
   "metadata": {},
   "outputs": [],
   "source": [
    "# Months\n"
   ]
  },
  {
   "cell_type": "code",
   "execution_count": null,
   "id": "1f2def62",
   "metadata": {},
   "outputs": [],
   "source": [
    "# Month start\n"
   ]
  },
  {
   "cell_type": "code",
   "execution_count": null,
   "id": "b453d403",
   "metadata": {},
   "outputs": [],
   "source": [
    "# Years\n"
   ]
  },
  {
   "cell_type": "code",
   "execution_count": null,
   "id": "0e40dc8e",
   "metadata": {},
   "outputs": [],
   "source": [
    "# Hours\n"
   ]
  },
  {
   "cell_type": "code",
   "execution_count": null,
   "id": "ad6df44d",
   "metadata": {},
   "outputs": [],
   "source": [
    "# 8 hours\n"
   ]
  }
 ],
 "metadata": {
  "kernelspec": {
   "display_name": "Python 3 (ipykernel)",
   "language": "python",
   "name": "python3"
  },
  "language_info": {
   "codemirror_mode": {
    "name": "ipython",
    "version": 3
   },
   "file_extension": ".py",
   "mimetype": "text/x-python",
   "name": "python",
   "nbconvert_exporter": "python",
   "pygments_lexer": "ipython3",
   "version": "3.9.7"
  }
 },
 "nbformat": 4,
 "nbformat_minor": 5
}
