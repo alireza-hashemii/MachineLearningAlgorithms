{
 "cells": [
  {
   "cell_type": "markdown",
   "id": "42613ee2",
   "metadata": {},
   "source": [
    "# The `.dt` accessor\n",
    "Much like the `.str` prefix, `.dt` works in similarly to return attribute from Datetime."
   ]
  },
  {
   "cell_type": "code",
   "execution_count": null,
   "id": "73d64a15",
   "metadata": {},
   "outputs": [],
   "source": []
  },
  {
   "cell_type": "markdown",
   "id": "34a544ff",
   "metadata": {},
   "source": [
    "### Create a date range to access some attributes: `dates`"
   ]
  },
  {
   "cell_type": "code",
   "execution_count": null,
   "id": "31e01470",
   "metadata": {},
   "outputs": [],
   "source": []
  },
  {
   "cell_type": "markdown",
   "id": "bda6a708",
   "metadata": {},
   "source": [
    "### Create a Series "
   ]
  },
  {
   "cell_type": "code",
   "execution_count": null,
   "id": "553ce023",
   "metadata": {},
   "outputs": [],
   "source": []
  },
  {
   "cell_type": "code",
   "execution_count": null,
   "id": "1eb7c3c5",
   "metadata": {},
   "outputs": [],
   "source": [
    "# check out the attribute available with TAB\n"
   ]
  },
  {
   "cell_type": "code",
   "execution_count": null,
   "id": "5beacf68",
   "metadata": {},
   "outputs": [],
   "source": [
    "# date_series.day\n"
   ]
  },
  {
   "cell_type": "code",
   "execution_count": null,
   "id": "31e11a4a",
   "metadata": {},
   "outputs": [],
   "source": []
  },
  {
   "cell_type": "code",
   "execution_count": null,
   "id": "1b7fe8a8",
   "metadata": {},
   "outputs": [],
   "source": []
  },
  {
   "cell_type": "code",
   "execution_count": null,
   "id": "513639ad",
   "metadata": {},
   "outputs": [],
   "source": []
  },
  {
   "cell_type": "code",
   "execution_count": null,
   "id": "51480a34",
   "metadata": {},
   "outputs": [],
   "source": []
  }
 ],
 "metadata": {
  "kernelspec": {
   "display_name": "Python 3 (ipykernel)",
   "language": "python",
   "name": "python3"
  },
  "language_info": {
   "codemirror_mode": {
    "name": "ipython",
    "version": 3
   },
   "file_extension": ".py",
   "mimetype": "text/x-python",
   "name": "python",
   "nbconvert_exporter": "python",
   "pygments_lexer": "ipython3",
   "version": "3.9.7"
  }
 },
 "nbformat": 4,
 "nbformat_minor": 5
}
