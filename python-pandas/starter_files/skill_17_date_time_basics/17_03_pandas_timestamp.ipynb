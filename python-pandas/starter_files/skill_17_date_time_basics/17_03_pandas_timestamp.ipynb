{
 "cells": [
  {
   "cell_type": "markdown",
   "id": "bf91be67",
   "metadata": {},
   "source": [
    "# Pandas `Timestamp`\n",
    "This is the pandas verion of Python's datetime."
   ]
  },
  {
   "cell_type": "code",
   "execution_count": 1,
   "id": "731787d1",
   "metadata": {},
   "outputs": [],
   "source": [
    "import pandas as pd\n",
    "import datetime as dt"
   ]
  },
  {
   "cell_type": "code",
   "execution_count": 3,
   "id": "7631ef8f",
   "metadata": {},
   "outputs": [
    {
     "data": {
      "text/plain": [
       "Timestamp('2020-01-01 00:00:00')"
      ]
     },
     "execution_count": 3,
     "metadata": {},
     "output_type": "execute_result"
    }
   ],
   "source": [
    "pd.Timestamp(\"2020\")"
   ]
  },
  {
   "cell_type": "code",
   "execution_count": 4,
   "id": "0b8194dc",
   "metadata": {},
   "outputs": [
    {
     "data": {
      "text/plain": [
       "Timestamp('2020-01-31 00:00:00')"
      ]
     },
     "execution_count": 4,
     "metadata": {},
     "output_type": "execute_result"
    }
   ],
   "source": [
    "pd.Timestamp(\"2020-01-31\")"
   ]
  },
  {
   "cell_type": "code",
   "execution_count": 5,
   "id": "bffcd97e",
   "metadata": {},
   "outputs": [
    {
     "data": {
      "text/plain": [
       "Timestamp('2020-01-31 00:00:00')"
      ]
     },
     "execution_count": 5,
     "metadata": {},
     "output_type": "execute_result"
    }
   ],
   "source": [
    "pd.Timestamp(\"2020/01/31\")"
   ]
  },
  {
   "cell_type": "code",
   "execution_count": 24,
   "id": "6a63fb66",
   "metadata": {},
   "outputs": [
    {
     "data": {
      "text/plain": [
       "Timestamp('2020-12-15 00:00:00')"
      ]
     },
     "execution_count": 24,
     "metadata": {},
     "output_type": "execute_result"
    }
   ],
   "source": [
    "pd.Timestamp(\"12/15/2020\")"
   ]
  },
  {
   "cell_type": "code",
   "execution_count": 25,
   "id": "d41e0637",
   "metadata": {},
   "outputs": [
    {
     "data": {
      "text/plain": [
       "Timestamp('2020-03-03 00:00:00')"
      ]
     },
     "execution_count": 25,
     "metadata": {},
     "output_type": "execute_result"
    }
   ],
   "source": [
    "# this is where it gets tricky\n",
    "pd.Timestamp(\"3/3/2020\")"
   ]
  },
  {
   "cell_type": "code",
   "execution_count": 26,
   "id": "fa38d00a",
   "metadata": {},
   "outputs": [
    {
     "data": {
      "text/plain": [
       "Timestamp('2020-03-03 15:00:01')"
      ]
     },
     "execution_count": 26,
     "metadata": {},
     "output_type": "execute_result"
    }
   ],
   "source": [
    "pd.Timestamp(\"3/3/2020 15:00:01\")"
   ]
  },
  {
   "cell_type": "code",
   "execution_count": 27,
   "id": "2b4cb7e6",
   "metadata": {},
   "outputs": [
    {
     "data": {
      "text/plain": [
       "Timestamp('2020-03-03 15:00:01')"
      ]
     },
     "execution_count": 27,
     "metadata": {},
     "output_type": "execute_result"
    }
   ],
   "source": [
    "pd.Timestamp(\"3/3/2020 3:00:01 PM\")"
   ]
  },
  {
   "cell_type": "code",
   "execution_count": null,
   "id": "aacfd7aa",
   "metadata": {},
   "outputs": [],
   "source": []
  }
 ],
 "metadata": {
  "kernelspec": {
   "display_name": "Python 3 (ipykernel)",
   "language": "python",
   "name": "python3"
  },
  "language_info": {
   "codemirror_mode": {
    "name": "ipython",
    "version": 3
   },
   "file_extension": ".py",
   "mimetype": "text/x-python",
   "name": "python",
   "nbconvert_exporter": "python",
   "pygments_lexer": "ipython3",
   "version": "3.9.7"
  }
 },
 "nbformat": 4,
 "nbformat_minor": 5
}
