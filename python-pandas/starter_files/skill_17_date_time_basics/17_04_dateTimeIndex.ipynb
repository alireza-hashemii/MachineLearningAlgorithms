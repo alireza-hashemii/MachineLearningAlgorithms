{
 "cells": [
  {
   "cell_type": "markdown",
   "id": "a4a4fb92",
   "metadata": {},
   "source": [
    "# Pandas `DatetimeIndex`"
   ]
  },
  {
   "cell_type": "code",
   "execution_count": 5,
   "id": "c214833e",
   "metadata": {},
   "outputs": [],
   "source": [
    "import pandas as pd"
   ]
  },
  {
   "cell_type": "markdown",
   "id": "1802ed48",
   "metadata": {},
   "source": [
    "### Create a DateTimeIndex"
   ]
  },
  {
   "cell_type": "code",
   "execution_count": 6,
   "id": "4ded28b2",
   "metadata": {},
   "outputs": [],
   "source": [
    "date_range = [\"2020/01/11\", \"2020/02/11\", \"2020/03/11\"]"
   ]
  },
  {
   "cell_type": "code",
   "execution_count": 9,
   "id": "72f8daa3",
   "metadata": {},
   "outputs": [
    {
     "data": {
      "text/plain": [
       "DatetimeIndex(['2020-01-11', '2020-02-11', '2020-03-11'], dtype='datetime64[ns]', freq=None)"
      ]
     },
     "execution_count": 9,
     "metadata": {},
     "output_type": "execute_result"
    }
   ],
   "source": [
    "pd.DatetimeIndex(date_range)"
   ]
  },
  {
   "cell_type": "markdown",
   "id": "4bb4d2a8",
   "metadata": {},
   "source": [
    "### Create a Series with a DatetimeIndex"
   ]
  },
  {
   "cell_type": "code",
   "execution_count": 11,
   "id": "9ccbde83",
   "metadata": {},
   "outputs": [],
   "source": [
    "dates = pd.DatetimeIndex(date_range)"
   ]
  },
  {
   "cell_type": "code",
   "execution_count": 33,
   "id": "d8511036",
   "metadata": {},
   "outputs": [],
   "source": [
    "completed = [True, False, False]\n",
    "date_series = pd.Series(data = completed, index = dates)"
   ]
  },
  {
   "cell_type": "code",
   "execution_count": 25,
   "id": "0ef64642",
   "metadata": {},
   "outputs": [
    {
     "data": {
      "text/plain": [
       "2020-01-11     True\n",
       "2020-02-11    False\n",
       "2020-03-11    False\n",
       "dtype: bool"
      ]
     },
     "execution_count": 25,
     "metadata": {},
     "output_type": "execute_result"
    }
   ],
   "source": [
    "date_series"
   ]
  }
 ],
 "metadata": {
  "kernelspec": {
   "display_name": "Python 3 (ipykernel)",
   "language": "python",
   "name": "python3"
  },
  "language_info": {
   "codemirror_mode": {
    "name": "ipython",
    "version": 3
   },
   "file_extension": ".py",
   "mimetype": "text/x-python",
   "name": "python",
   "nbconvert_exporter": "python",
   "pygments_lexer": "ipython3",
   "version": "3.9.7"
  }
 },
 "nbformat": 4,
 "nbformat_minor": 5
}
