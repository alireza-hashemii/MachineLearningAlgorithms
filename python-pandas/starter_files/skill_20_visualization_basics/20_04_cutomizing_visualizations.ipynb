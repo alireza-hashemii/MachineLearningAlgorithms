{
 "cells": [
  {
   "cell_type": "markdown",
   "id": "cb14344d",
   "metadata": {},
   "source": [
    "# Customizing visualizations"
   ]
  },
  {
   "cell_type": "markdown",
   "id": "75f91101",
   "metadata": {},
   "source": [
    "### Import libraries"
   ]
  },
  {
   "cell_type": "code",
   "execution_count": null,
   "id": "a07bc27d",
   "metadata": {},
   "outputs": [],
   "source": []
  },
  {
   "cell_type": "markdown",
   "id": "56685764",
   "metadata": {},
   "source": [
    "### Get Bitcoin cryptocurrency data"
   ]
  },
  {
   "cell_type": "code",
   "execution_count": null,
   "id": "68b5f167",
   "metadata": {},
   "outputs": [],
   "source": [
    "# zoom in for a closer look starting on 2022-01-01 to today\n"
   ]
  },
  {
   "cell_type": "code",
   "execution_count": null,
   "id": "7e974c9c",
   "metadata": {},
   "outputs": [],
   "source": [
    "# https://fivethirtyeight.com/\n"
   ]
  },
  {
   "cell_type": "code",
   "execution_count": null,
   "id": "eacbd7bf",
   "metadata": {},
   "outputs": [],
   "source": []
  },
  {
   "cell_type": "code",
   "execution_count": null,
   "id": "c461a492",
   "metadata": {},
   "outputs": [],
   "source": []
  },
  {
   "cell_type": "code",
   "execution_count": null,
   "id": "265eb3f4",
   "metadata": {},
   "outputs": [],
   "source": []
  },
  {
   "cell_type": "code",
   "execution_count": null,
   "id": "1971152e",
   "metadata": {},
   "outputs": [],
   "source": []
  },
  {
   "cell_type": "code",
   "execution_count": null,
   "id": "d4be9e37",
   "metadata": {},
   "outputs": [],
   "source": []
  },
  {
   "cell_type": "code",
   "execution_count": null,
   "id": "9e3cf28b",
   "metadata": {
    "scrolled": true
   },
   "outputs": [],
   "source": []
  },
  {
   "cell_type": "code",
   "execution_count": null,
   "id": "e433dc4a",
   "metadata": {},
   "outputs": [],
   "source": []
  },
  {
   "cell_type": "code",
   "execution_count": null,
   "id": "ba869f52",
   "metadata": {},
   "outputs": [],
   "source": [
    "# For accesibility\n",
    "# Achromatopsia is also known as “complete color blindness” \n",
    "# and is the only type that fully lives up to the term \n",
    "# “color blind”. It is extremely rare, however, those who have achromatopsia only see the world in shades of grey, black and white.\n"
   ]
  },
  {
   "cell_type": "code",
   "execution_count": null,
   "id": "3efc0453",
   "metadata": {},
   "outputs": [],
   "source": []
  },
  {
   "cell_type": "code",
   "execution_count": null,
   "id": "662b419a",
   "metadata": {
    "scrolled": true
   },
   "outputs": [],
   "source": []
  }
 ],
 "metadata": {
  "kernelspec": {
   "display_name": "Python 3 (ipykernel)",
   "language": "python",
   "name": "python3"
  },
  "language_info": {
   "codemirror_mode": {
    "name": "ipython",
    "version": 3
   },
   "file_extension": ".py",
   "mimetype": "text/x-python",
   "name": "python",
   "nbconvert_exporter": "python",
   "pygments_lexer": "ipython3",
   "version": "3.9.7"
  }
 },
 "nbformat": 4,
 "nbformat_minor": 5
}
