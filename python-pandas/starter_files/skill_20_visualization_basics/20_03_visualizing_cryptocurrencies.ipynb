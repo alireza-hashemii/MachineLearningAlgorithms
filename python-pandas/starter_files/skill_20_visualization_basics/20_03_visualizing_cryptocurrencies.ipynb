{
 "cells": [
  {
   "cell_type": "markdown",
   "id": "edb18e14",
   "metadata": {},
   "source": [
    "# Pandas visualization"
   ]
  },
  {
   "cell_type": "markdown",
   "id": "18c639e0",
   "metadata": {},
   "source": [
    "### Import libraries"
   ]
  },
  {
   "cell_type": "code",
   "execution_count": null,
   "id": "8140ba7e",
   "metadata": {},
   "outputs": [],
   "source": []
  },
  {
   "cell_type": "markdown",
   "id": "72154dbe",
   "metadata": {},
   "source": [
    "### Get all of the data for the Bitcoin cryptocurrency"
   ]
  },
  {
   "cell_type": "code",
   "execution_count": null,
   "id": "0196bc41",
   "metadata": {},
   "outputs": [],
   "source": [
    "# don't pass in the star/end dates to get all data\n"
   ]
  },
  {
   "cell_type": "markdown",
   "id": "ef642296",
   "metadata": {},
   "source": [
    "The problem with the plot below is the size of the Volume data in proportion to the other values. You can only see the Volume data visualized in purple. So keep that in mind when plotting multiple columns."
   ]
  },
  {
   "cell_type": "code",
   "execution_count": null,
   "id": "262da9a9",
   "metadata": {},
   "outputs": [],
   "source": [
    "# visialize date from 2017-03-17 until today\n"
   ]
  },
  {
   "cell_type": "code",
   "execution_count": null,
   "id": "908943c7",
   "metadata": {},
   "outputs": [],
   "source": []
  },
  {
   "cell_type": "code",
   "execution_count": null,
   "id": "0e053990",
   "metadata": {},
   "outputs": [],
   "source": []
  },
  {
   "cell_type": "code",
   "execution_count": null,
   "id": "0e78c42f",
   "metadata": {},
   "outputs": [],
   "source": [
    "# zoom in for a closer look starting on 2022-01-01 to today\n"
   ]
  },
  {
   "cell_type": "code",
   "execution_count": null,
   "id": "d13f58d0",
   "metadata": {
    "scrolled": true
   },
   "outputs": [],
   "source": []
  },
  {
   "cell_type": "markdown",
   "id": "7a86a658",
   "metadata": {},
   "source": [
    "### Plot one or more columns"
   ]
  },
  {
   "cell_type": "code",
   "execution_count": null,
   "id": "c72fdee3",
   "metadata": {},
   "outputs": [],
   "source": [
    "# this works, but there's another way\n"
   ]
  },
  {
   "cell_type": "code",
   "execution_count": null,
   "id": "592a5087",
   "metadata": {},
   "outputs": [],
   "source": []
  },
  {
   "cell_type": "code",
   "execution_count": null,
   "id": "282c40e2",
   "metadata": {},
   "outputs": [],
   "source": []
  },
  {
   "cell_type": "markdown",
   "id": "a5a05992",
   "metadata": {},
   "source": [
    "### Create moving averages for 10, 20 and 50 day periods of time\n",
    "A moving average (MA) is a widely used technical indicator that smooths out price trends by filtering out the noise from random short-term price fluctuations. To learn more about the various types of moving averages, check out [this article on how to use a moving average to buy stock](https://www.investopedia.com/articles/active-trading/052014/how-use-moving-average-buy-stocks.asp). Again, I am not a financial adviser, and I am not offering financial advise. I am educational resources to explore data analysis from an educational context."
   ]
  },
  {
   "cell_type": "code",
   "execution_count": null,
   "id": "fbfdfdbe",
   "metadata": {},
   "outputs": [],
   "source": [
    "# A moving average is a calculation to analyze data points by creating a \n",
    "# series of averages of different subsets of the full data set. \n",
    "# It is also called a moving mean or rolling mean.\n",
    "# Use .rolling() to perfor rolling window calculations.\n",
    "\n",
    "# reset the data from all date ranges\n",
    "\n",
    "\n",
    "# set day periods\n",
    "\n",
    "\n",
    "# apply the rolling() function and create three columns with a rolling mean\n"
   ]
  },
  {
   "cell_type": "code",
   "execution_count": null,
   "id": "a27cbc53",
   "metadata": {},
   "outputs": [],
   "source": []
  },
  {
   "cell_type": "code",
   "execution_count": null,
   "id": "858fe277",
   "metadata": {
    "scrolled": true
   },
   "outputs": [],
   "source": [
    "# plt.style.use(\"fivethirtyeight\")\n",
    "# Moving averages visualized\n"
   ]
  }
 ],
 "metadata": {
  "kernelspec": {
   "display_name": "Python 3 (ipykernel)",
   "language": "python",
   "name": "python3"
  },
  "language_info": {
   "codemirror_mode": {
    "name": "ipython",
    "version": 3
   },
   "file_extension": ".py",
   "mimetype": "text/x-python",
   "name": "python",
   "nbconvert_exporter": "python",
   "pygments_lexer": "ipython3",
   "version": "3.9.7"
  }
 },
 "nbformat": 4,
 "nbformat_minor": 5
}
