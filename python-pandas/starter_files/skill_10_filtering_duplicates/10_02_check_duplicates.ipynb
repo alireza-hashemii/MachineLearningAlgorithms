{
 "cells": [
  {
   "cell_type": "markdown",
   "id": "962bbf85",
   "metadata": {},
   "source": [
    "# Find duplicates with `.duplicated()`"
   ]
  },
  {
   "cell_type": "markdown",
   "id": "3838f587",
   "metadata": {},
   "source": [
    "### Import Pandas"
   ]
  },
  {
   "cell_type": "code",
   "execution_count": null,
   "id": "5a21c7e0",
   "metadata": {},
   "outputs": [],
   "source": [
    "# import pandas"
   ]
  },
  {
   "cell_type": "markdown",
   "id": "06f0bd60",
   "metadata": {},
   "source": [
    "### Read CSV"
   ]
  },
  {
   "cell_type": "code",
   "execution_count": null,
   "id": "419a872c",
   "metadata": {},
   "outputs": [],
   "source": [
    "# read csv and parse the date column\n"
   ]
  },
  {
   "cell_type": "code",
   "execution_count": null,
   "id": "a60d85fc",
   "metadata": {},
   "outputs": [],
   "source": [
    "# sort values by first_name\n"
   ]
  },
  {
   "cell_type": "code",
   "execution_count": null,
   "id": "152da833",
   "metadata": {},
   "outputs": [],
   "source": []
  },
  {
   "cell_type": "code",
   "execution_count": null,
   "id": "69ee77f4",
   "metadata": {},
   "outputs": [],
   "source": []
  },
  {
   "cell_type": "code",
   "execution_count": null,
   "id": "f901657b",
   "metadata": {},
   "outputs": [],
   "source": [
    "# by default does not return first duplicate instance\n"
   ]
  },
  {
   "cell_type": "code",
   "execution_count": null,
   "id": "961bf29d",
   "metadata": {},
   "outputs": [],
   "source": [
    "# keep= \"first\" | \"last\" | False\n"
   ]
  },
  {
   "cell_type": "code",
   "execution_count": null,
   "id": "2f60aacb",
   "metadata": {},
   "outputs": [],
   "source": []
  },
  {
   "cell_type": "code",
   "execution_count": null,
   "id": "c8c2a10c",
   "metadata": {},
   "outputs": [],
   "source": []
  },
  {
   "cell_type": "code",
   "execution_count": null,
   "id": "05a8a7bf",
   "metadata": {},
   "outputs": [],
   "source": [
    "# reverse values with ~  tilde\n"
   ]
  },
  {
   "cell_type": "code",
   "execution_count": null,
   "id": "51815ac8",
   "metadata": {},
   "outputs": [],
   "source": []
  },
  {
   "cell_type": "code",
   "execution_count": null,
   "id": "cfc8c23c",
   "metadata": {},
   "outputs": [],
   "source": [
    "# returns unique values 🎉\n"
   ]
  }
 ],
 "metadata": {
  "kernelspec": {
   "display_name": "Python 3 (ipykernel)",
   "language": "python",
   "name": "python3"
  },
  "language_info": {
   "codemirror_mode": {
    "name": "ipython",
    "version": 3
   },
   "file_extension": ".py",
   "mimetype": "text/x-python",
   "name": "python",
   "nbconvert_exporter": "python",
   "pygments_lexer": "ipython3",
   "version": "3.9.7"
  }
 },
 "nbformat": 4,
 "nbformat_minor": 5
}
