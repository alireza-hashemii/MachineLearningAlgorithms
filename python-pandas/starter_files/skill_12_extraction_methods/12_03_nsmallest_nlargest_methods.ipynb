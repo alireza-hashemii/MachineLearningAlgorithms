{
 "cells": [
  {
   "cell_type": "markdown",
   "id": "be49ba4c",
   "metadata": {},
   "source": [
    "# `.nsmallest( )` & `nlargest( )` methods"
   ]
  },
  {
   "cell_type": "markdown",
   "id": "8e438f18",
   "metadata": {},
   "source": [
    "### Import pandas"
   ]
  },
  {
   "cell_type": "code",
   "execution_count": null,
   "id": "fd1fc19a",
   "metadata": {},
   "outputs": [],
   "source": [
    "# Import pandas\n"
   ]
  },
  {
   "cell_type": "markdown",
   "id": "b6692b42",
   "metadata": {},
   "source": [
    "### Read CSV and set rating index sorted by labels"
   ]
  },
  {
   "cell_type": "code",
   "execution_count": null,
   "id": "40b3a5c0",
   "metadata": {
    "scrolled": true
   },
   "outputs": [],
   "source": []
  },
  {
   "cell_type": "markdown",
   "id": "7dd4211f",
   "metadata": {},
   "source": [
    "### Return rows with largest values in a columns"
   ]
  },
  {
   "cell_type": "code",
   "execution_count": null,
   "id": "b4729e62",
   "metadata": {
    "scrolled": true
   },
   "outputs": [],
   "source": [
    "# this is one way\n"
   ]
  },
  {
   "cell_type": "code",
   "execution_count": null,
   "id": "b60e49c2",
   "metadata": {},
   "outputs": [],
   "source": [
    "# or you could use nlargest() method: see docs\n"
   ]
  },
  {
   "cell_type": "markdown",
   "id": "deaae5af",
   "metadata": {},
   "source": [
    "### Return rows with smallest values in a columns"
   ]
  },
  {
   "cell_type": "code",
   "execution_count": null,
   "id": "91b9be3a",
   "metadata": {},
   "outputs": [],
   "source": [
    "# the long way\n"
   ]
  },
  {
   "cell_type": "code",
   "execution_count": null,
   "id": "468e5942",
   "metadata": {},
   "outputs": [],
   "source": [
    "# you can also use nsmallest() method\n"
   ]
  },
  {
   "cell_type": "code",
   "execution_count": null,
   "id": "02ce26f8",
   "metadata": {},
   "outputs": [],
   "source": []
  },
  {
   "cell_type": "markdown",
   "id": "bd66f5e1",
   "metadata": {},
   "source": [
    "### Wait! How does Cap'n'Crunch have the lowest ratings? 🤯"
   ]
  },
  {
   "cell_type": "code",
   "execution_count": null,
   "id": "0bb9a60d",
   "metadata": {},
   "outputs": [],
   "source": [
    "# you can also be explict\n"
   ]
  },
  {
   "cell_type": "code",
   "execution_count": null,
   "id": "83eee83d",
   "metadata": {},
   "outputs": [],
   "source": []
  },
  {
   "cell_type": "markdown",
   "id": "13b8c596",
   "metadata": {},
   "source": [
    "### Again! How does Cap'n'Crunch have the lowest ratings? 🤯 🤣"
   ]
  }
 ],
 "metadata": {
  "kernelspec": {
   "display_name": "Python 3 (ipykernel)",
   "language": "python",
   "name": "python3"
  },
  "language_info": {
   "codemirror_mode": {
    "name": "ipython",
    "version": 3
   },
   "file_extension": ".py",
   "mimetype": "text/x-python",
   "name": "python",
   "nbconvert_exporter": "python",
   "pygments_lexer": "ipython3",
   "version": "3.9.7"
  }
 },
 "nbformat": 4,
 "nbformat_minor": 5
}
