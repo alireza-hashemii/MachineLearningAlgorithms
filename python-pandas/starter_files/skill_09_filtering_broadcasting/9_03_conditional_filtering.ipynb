{
 "cells": [
  {
   "cell_type": "markdown",
   "id": "873f5791",
   "metadata": {},
   "source": [
    "# Conditional Filtering"
   ]
  },
  {
   "cell_type": "markdown",
   "id": "33d0432d",
   "metadata": {},
   "source": [
    "### Import Pandas"
   ]
  },
  {
   "cell_type": "code",
   "execution_count": null,
   "id": "d1a06fab",
   "metadata": {},
   "outputs": [],
   "source": [
    "# import pandas"
   ]
  },
  {
   "cell_type": "markdown",
   "id": "9047cdde",
   "metadata": {},
   "source": [
    "### Employee data\n"
   ]
  },
  {
   "cell_type": "code",
   "execution_count": null,
   "id": "af041a61",
   "metadata": {},
   "outputs": [],
   "source": []
  },
  {
   "cell_type": "markdown",
   "id": "b81f0ffe",
   "metadata": {},
   "source": [
    "### Head"
   ]
  },
  {
   "cell_type": "code",
   "execution_count": null,
   "id": "18c8339f",
   "metadata": {
    "scrolled": false
   },
   "outputs": [],
   "source": [
    "# called the head method to see what were working with\n"
   ]
  },
  {
   "cell_type": "markdown",
   "id": "2a6a5431",
   "metadata": {},
   "source": [
    "### Broadcasting Boolean Operations"
   ]
  },
  {
   "cell_type": "code",
   "execution_count": null,
   "id": "d0ee6a0e",
   "metadata": {},
   "outputs": [],
   "source": []
  },
  {
   "cell_type": "code",
   "execution_count": null,
   "id": "d6d4e488",
   "metadata": {
    "scrolled": true
   },
   "outputs": [],
   "source": [
    "# # broadcasting boolean operation: use == and not = ⚠️\n"
   ]
  },
  {
   "cell_type": "code",
   "execution_count": null,
   "id": "574e3526",
   "metadata": {},
   "outputs": [],
   "source": [
    "# wrap df[] around the conditional operation to extract the values of the condition\n"
   ]
  },
  {
   "cell_type": "code",
   "execution_count": null,
   "id": "ff1f4bad",
   "metadata": {},
   "outputs": [],
   "source": [
    "# instead of wrapping df[] around the conditional operation, use a variable name\n"
   ]
  },
  {
   "cell_type": "markdown",
   "id": "b7a9a92a",
   "metadata": {},
   "source": [
    "### Filetring with One Condition"
   ]
  },
  {
   "cell_type": "code",
   "execution_count": null,
   "id": "0582f8ed",
   "metadata": {},
   "outputs": [],
   "source": []
  },
  {
   "cell_type": "code",
   "execution_count": null,
   "id": "375ed5e7",
   "metadata": {},
   "outputs": [],
   "source": []
  },
  {
   "cell_type": "code",
   "execution_count": null,
   "id": "41faa88e",
   "metadata": {},
   "outputs": [],
   "source": []
  },
  {
   "cell_type": "code",
   "execution_count": null,
   "id": "0f2d3b50",
   "metadata": {
    "scrolled": true
   },
   "outputs": [],
   "source": []
  },
  {
   "cell_type": "code",
   "execution_count": null,
   "id": "7afb4a9c",
   "metadata": {},
   "outputs": [],
   "source": []
  },
  {
   "cell_type": "code",
   "execution_count": null,
   "id": "1527e749",
   "metadata": {},
   "outputs": [],
   "source": []
  },
  {
   "cell_type": "code",
   "execution_count": null,
   "id": "d34d4b06",
   "metadata": {},
   "outputs": [],
   "source": []
  },
  {
   "cell_type": "code",
   "execution_count": null,
   "id": "3d3a0fa7",
   "metadata": {},
   "outputs": [],
   "source": []
  },
  {
   "cell_type": "code",
   "execution_count": null,
   "id": "48a95803",
   "metadata": {},
   "outputs": [],
   "source": []
  },
  {
   "cell_type": "code",
   "execution_count": null,
   "id": "d458c37c",
   "metadata": {},
   "outputs": [],
   "source": []
  },
  {
   "cell_type": "code",
   "execution_count": null,
   "id": "0b34c40b",
   "metadata": {
    "scrolled": true
   },
   "outputs": [],
   "source": []
  }
 ],
 "metadata": {
  "kernelspec": {
   "display_name": "Python 3 (ipykernel)",
   "language": "python",
   "name": "python3"
  },
  "language_info": {
   "codemirror_mode": {
    "name": "ipython",
    "version": 3
   },
   "file_extension": ".py",
   "mimetype": "text/x-python",
   "name": "python",
   "nbconvert_exporter": "python",
   "pygments_lexer": "ipython3",
   "version": "3.9.7"
  }
 },
 "nbformat": 4,
 "nbformat_minor": 5
}
