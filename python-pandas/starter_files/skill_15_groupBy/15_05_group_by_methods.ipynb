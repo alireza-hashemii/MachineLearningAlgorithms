{
 "cells": [
  {
   "cell_type": "markdown",
   "id": "ae681d57",
   "metadata": {},
   "source": [
    "# `GroupBy` methods"
   ]
  },
  {
   "cell_type": "markdown",
   "id": "a873288d",
   "metadata": {},
   "source": [
    "### Import pandas"
   ]
  },
  {
   "cell_type": "code",
   "execution_count": null,
   "id": "f7b9f69b",
   "metadata": {},
   "outputs": [],
   "source": [
    "import pandas as pd"
   ]
  },
  {
   "cell_type": "markdown",
   "id": "1ecdcd96",
   "metadata": {},
   "source": [
    "### Read CSV\n",
    "In this set of videos, we'll use the a dataset that contains S&P 500 Companies with Financial Information."
   ]
  },
  {
   "cell_type": "code",
   "execution_count": null,
   "id": "f8825201",
   "metadata": {},
   "outputs": [],
   "source": []
  },
  {
   "cell_type": "code",
   "execution_count": null,
   "id": "3b01698d",
   "metadata": {},
   "outputs": [],
   "source": [
    "# group all rows by sector\n"
   ]
  },
  {
   "cell_type": "code",
   "execution_count": null,
   "id": "d094c635",
   "metadata": {},
   "outputs": [],
   "source": [
    "# alphabetical sorting\n"
   ]
  },
  {
   "cell_type": "code",
   "execution_count": null,
   "id": "7aaa1f5c",
   "metadata": {},
   "outputs": [],
   "source": [
    "# reverse alphabetical sorting\n"
   ]
  },
  {
   "cell_type": "code",
   "execution_count": null,
   "id": "271b7636",
   "metadata": {},
   "outputs": [],
   "source": [
    "# alphabetical sorting\n"
   ]
  },
  {
   "cell_type": "code",
   "execution_count": null,
   "id": "ac125f76",
   "metadata": {},
   "outputs": [],
   "source": [
    "# sums by sector (for numerical data only)\n"
   ]
  },
  {
   "cell_type": "code",
   "execution_count": null,
   "id": "ed50e663",
   "metadata": {},
   "outputs": [],
   "source": [
    "# the manual way of doing this for each group and column\n"
   ]
  },
  {
   "cell_type": "code",
   "execution_count": null,
   "id": "24f4b0bd",
   "metadata": {},
   "outputs": [],
   "source": [
    "# average by sector (for numerical data only)\n"
   ]
  },
  {
   "cell_type": "code",
   "execution_count": null,
   "id": "5b188458",
   "metadata": {},
   "outputs": [],
   "source": [
    "# max by sector (for numerical data only)\n"
   ]
  },
  {
   "cell_type": "code",
   "execution_count": null,
   "id": "85621396",
   "metadata": {},
   "outputs": [],
   "source": [
    "# use methods on individual columns\n"
   ]
  },
  {
   "cell_type": "code",
   "execution_count": null,
   "id": "b495792f",
   "metadata": {},
   "outputs": [],
   "source": []
  },
  {
   "cell_type": "code",
   "execution_count": null,
   "id": "a815eee3",
   "metadata": {},
   "outputs": [],
   "source": [
    "# best performing companies\n"
   ]
  },
  {
   "cell_type": "code",
   "execution_count": null,
   "id": "624e2e23",
   "metadata": {},
   "outputs": [],
   "source": [
    "# worst performing companies\n"
   ]
  }
 ],
 "metadata": {
  "kernelspec": {
   "display_name": "Python 3 (ipykernel)",
   "language": "python",
   "name": "python3"
  },
  "language_info": {
   "codemirror_mode": {
    "name": "ipython",
    "version": 3
   },
   "file_extension": ".py",
   "mimetype": "text/x-python",
   "name": "python",
   "nbconvert_exporter": "python",
   "pygments_lexer": "ipython3",
   "version": "3.9.7"
  }
 },
 "nbformat": 4,
 "nbformat_minor": 5
}
