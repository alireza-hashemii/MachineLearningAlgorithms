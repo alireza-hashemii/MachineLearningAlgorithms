{
 "cells": [
  {
   "cell_type": "markdown",
   "id": "ae681d57",
   "metadata": {},
   "source": [
    "# `get_group`\n",
    "Return a DataFrame by group name"
   ]
  },
  {
   "cell_type": "markdown",
   "id": "a873288d",
   "metadata": {},
   "source": [
    "### Import pandas"
   ]
  },
  {
   "cell_type": "code",
   "execution_count": null,
   "id": "f7b9f69b",
   "metadata": {},
   "outputs": [],
   "source": []
  },
  {
   "cell_type": "markdown",
   "id": "1ecdcd96",
   "metadata": {},
   "source": [
    "### Read CSV\n",
    "In this set of videos, we'll use the a dataset that contains S&P 500 Companies with Financial Information."
   ]
  },
  {
   "cell_type": "code",
   "execution_count": null,
   "id": "f8825201",
   "metadata": {
    "scrolled": true
   },
   "outputs": [],
   "source": []
  },
  {
   "cell_type": "code",
   "execution_count": null,
   "id": "9820ae42",
   "metadata": {},
   "outputs": [],
   "source": [
    "# group all rows by sector\n"
   ]
  },
  {
   "cell_type": "code",
   "execution_count": null,
   "id": "3109e6e9",
   "metadata": {},
   "outputs": [],
   "source": []
  },
  {
   "cell_type": "code",
   "execution_count": null,
   "id": "58075b6b",
   "metadata": {},
   "outputs": [],
   "source": []
  },
  {
   "cell_type": "markdown",
   "id": "e2ee3800",
   "metadata": {},
   "source": [
    "Imagine creating these group manually! That's the power of grouping with the GroupBy object. You would have to write 11 lines of code, one line for each grouping. Again, you want to keep your code DRY (Don't Repeat Yourself) so use `.groupby()` instead."
   ]
  },
  {
   "cell_type": "code",
   "execution_count": null,
   "id": "cde175b2",
   "metadata": {},
   "outputs": [],
   "source": [
    "# for example\n"
   ]
  }
 ],
 "metadata": {
  "kernelspec": {
   "display_name": "Python 3 (ipykernel)",
   "language": "python",
   "name": "python3"
  },
  "language_info": {
   "codemirror_mode": {
    "name": "ipython",
    "version": 3
   },
   "file_extension": ".py",
   "mimetype": "text/x-python",
   "name": "python",
   "nbconvert_exporter": "python",
   "pygments_lexer": "ipython3",
   "version": "3.9.7"
  }
 },
 "nbformat": 4,
 "nbformat_minor": 5
}
