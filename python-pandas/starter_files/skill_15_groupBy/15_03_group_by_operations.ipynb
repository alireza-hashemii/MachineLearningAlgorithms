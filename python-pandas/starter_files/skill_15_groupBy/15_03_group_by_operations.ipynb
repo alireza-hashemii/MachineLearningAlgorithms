{
 "cells": [
  {
   "cell_type": "markdown",
   "id": "ae681d57",
   "metadata": {},
   "source": [
    "# `GroupBy` operations\n",
    "`GroupBy` is not a DataFrame, rather it's group of DataFrames, in this case by sector."
   ]
  },
  {
   "cell_type": "markdown",
   "id": "a873288d",
   "metadata": {},
   "source": [
    "### Import pandas"
   ]
  },
  {
   "cell_type": "code",
   "execution_count": null,
   "id": "f7b9f69b",
   "metadata": {},
   "outputs": [],
   "source": []
  },
  {
   "cell_type": "markdown",
   "id": "1ecdcd96",
   "metadata": {},
   "source": [
    "### Read CSV\n",
    "In this set of videos, we'll use the a dataset that contains S&P 500 Companies with Financial Information."
   ]
  },
  {
   "cell_type": "code",
   "execution_count": null,
   "id": "f8825201",
   "metadata": {},
   "outputs": [],
   "source": []
  },
  {
   "cell_type": "code",
   "execution_count": null,
   "id": "3b01698d",
   "metadata": {},
   "outputs": [],
   "source": [
    "# group all rows by sector\n"
   ]
  },
  {
   "cell_type": "code",
   "execution_count": null,
   "id": "39898d4f",
   "metadata": {},
   "outputs": [],
   "source": [
    "# return number of groups\n"
   ]
  },
  {
   "cell_type": "code",
   "execution_count": null,
   "id": "b7a25b89",
   "metadata": {},
   "outputs": [],
   "source": []
  },
  {
   "cell_type": "markdown",
   "id": "b3a8b29c",
   "metadata": {},
   "source": [
    "### The `size()` and `value_counts()` will return the same values with different sorting"
   ]
  },
  {
   "cell_type": "code",
   "execution_count": null,
   "id": "6db478ba",
   "metadata": {},
   "outputs": [],
   "source": [
    "# return sectors grouping by row counts (sorted alphabetically)\n",
    "sectors.size()"
   ]
  },
  {
   "cell_type": "code",
   "execution_count": null,
   "id": "5c2edeb3",
   "metadata": {},
   "outputs": [],
   "source": [
    "# pretty much like value_counts() 👆🏼(sorted by value counts)\n",
    "sp500[\"Sector\"].value_counts()"
   ]
  },
  {
   "cell_type": "code",
   "execution_count": null,
   "id": "30b48997",
   "metadata": {},
   "outputs": [],
   "source": [
    "# return the first row for each sector (11 total)\n",
    "sectors.first()"
   ]
  },
  {
   "cell_type": "code",
   "execution_count": null,
   "id": "c5add633",
   "metadata": {},
   "outputs": [],
   "source": [
    "# return the last row for each sector (11 total)\n",
    "sectors.last()"
   ]
  },
  {
   "cell_type": "code",
   "execution_count": null,
   "id": "dec71f31",
   "metadata": {},
   "outputs": [],
   "source": [
    "sectors.indices"
   ]
  },
  {
   "cell_type": "code",
   "execution_count": null,
   "id": "adc12faf",
   "metadata": {},
   "outputs": [],
   "source": [
    "sp500.loc[8]"
   ]
  },
  {
   "cell_type": "code",
   "execution_count": null,
   "id": "adf9887a",
   "metadata": {},
   "outputs": [],
   "source": [
    "sectors.groups"
   ]
  }
 ],
 "metadata": {
  "kernelspec": {
   "display_name": "Python 3 (ipykernel)",
   "language": "python",
   "name": "python3"
  },
  "language_info": {
   "codemirror_mode": {
    "name": "ipython",
    "version": 3
   },
   "file_extension": ".py",
   "mimetype": "text/x-python",
   "name": "python",
   "nbconvert_exporter": "python",
   "pygments_lexer": "ipython3",
   "version": "3.9.7"
  }
 },
 "nbformat": 4,
 "nbformat_minor": 5
}
