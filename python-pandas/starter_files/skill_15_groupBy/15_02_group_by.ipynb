{
 "cells": [
  {
   "cell_type": "markdown",
   "id": "23f1577b",
   "metadata": {},
   "source": [
    "# Pandas `GroupBy` object \n",
    "Useful when you want to explore data by categories similar to a SQL `GROUP BY`.\n",
    "\n",
    "Documentation: https://pandas.pydata.org/docs/reference/groupby.html?highlight=groupby"
   ]
  },
  {
   "cell_type": "markdown",
   "id": "3c69db17",
   "metadata": {},
   "source": [
    "### Import pandas"
   ]
  },
  {
   "cell_type": "code",
   "execution_count": null,
   "id": "f6f6e1a1",
   "metadata": {},
   "outputs": [],
   "source": []
  },
  {
   "cell_type": "markdown",
   "id": "ab8cc958",
   "metadata": {},
   "source": [
    "### Read CSV\n",
    "In this set of videos, we'll use the a dataset that contains S&P 500 Companies with Financial Information. [Source: Kaggle](https://www.kaggle.com/paytonfisher/sp-500-companies-with-financial-information)"
   ]
  },
  {
   "cell_type": "code",
   "execution_count": null,
   "id": "3486fc94",
   "metadata": {},
   "outputs": [],
   "source": [
    " "
   ]
  },
  {
   "cell_type": "code",
   "execution_count": null,
   "id": "c62749d9",
   "metadata": {},
   "outputs": [],
   "source": [
    "# group all rows by sector\n"
   ]
  },
  {
   "cell_type": "code",
   "execution_count": null,
   "id": "5bdab166",
   "metadata": {},
   "outputs": [],
   "source": [
    "# a DataFrame\n"
   ]
  },
  {
   "cell_type": "code",
   "execution_count": null,
   "id": "3e7e1c0b",
   "metadata": {},
   "outputs": [],
   "source": [
    "# a grouped DataFrame\n"
   ]
  },
  {
   "cell_type": "markdown",
   "id": "73483168",
   "metadata": {},
   "source": [
    "### Return individual columns"
   ]
  },
  {
   "cell_type": "code",
   "execution_count": null,
   "id": "11672485",
   "metadata": {},
   "outputs": [],
   "source": [
    "# return the sum of the price column by sectors \n"
   ]
  },
  {
   "cell_type": "code",
   "execution_count": null,
   "id": "9ad597fa",
   "metadata": {},
   "outputs": [],
   "source": [
    "# retun the total Dividend Yield by sector\n"
   ]
  },
  {
   "cell_type": "code",
   "execution_count": null,
   "id": "9ba5b468",
   "metadata": {},
   "outputs": [],
   "source": [
    "# return the best performing company max Earnings/Share by sector\n"
   ]
  }
 ],
 "metadata": {
  "kernelspec": {
   "display_name": "Python 3 (ipykernel)",
   "language": "python",
   "name": "python3"
  },
  "language_info": {
   "codemirror_mode": {
    "name": "ipython",
    "version": 3
   },
   "file_extension": ".py",
   "mimetype": "text/x-python",
   "name": "python",
   "nbconvert_exporter": "python",
   "pygments_lexer": "ipython3",
   "version": "3.9.7"
  }
 },
 "nbformat": 4,
 "nbformat_minor": 5
}
