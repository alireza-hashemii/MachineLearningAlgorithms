{
 "cells": [
  {
   "cell_type": "markdown",
   "id": "9df95a0e",
   "metadata": {},
   "source": [
    "# The `.concat()` method"
   ]
  },
  {
   "cell_type": "markdown",
   "id": "57419bd8",
   "metadata": {},
   "source": [
    "### Import pandas"
   ]
  },
  {
   "cell_type": "code",
   "execution_count": null,
   "id": "07fb92ac",
   "metadata": {},
   "outputs": [],
   "source": []
  },
  {
   "cell_type": "markdown",
   "id": "3a2cac84",
   "metadata": {},
   "source": [
    "### Read CSV"
   ]
  },
  {
   "cell_type": "code",
   "execution_count": null,
   "id": "c76c9223",
   "metadata": {},
   "outputs": [],
   "source": []
  },
  {
   "cell_type": "markdown",
   "id": "1fc74b15",
   "metadata": {},
   "source": [
    "### Concatenate or combine two tables or DataFrames"
   ]
  },
  {
   "cell_type": "code",
   "execution_count": null,
   "id": "1b75ca26",
   "metadata": {},
   "outputs": [],
   "source": [
    "# note how the indices are stacked (we have 500)\n"
   ]
  },
  {
   "cell_type": "code",
   "execution_count": null,
   "id": "0d1fa4db",
   "metadata": {},
   "outputs": [],
   "source": [
    "# use the ingore_index=True parameter to fix this\n"
   ]
  },
  {
   "cell_type": "markdown",
   "id": "5db3946b",
   "metadata": {},
   "source": [
    "### But wait, how can you keep track of each week?\n",
    "Well, the `keys = [\"week_1\", \"week_2\"]` parameter of course! "
   ]
  },
  {
   "cell_type": "code",
   "execution_count": null,
   "id": "460b5c9e",
   "metadata": {},
   "outputs": [],
   "source": []
  },
  {
   "cell_type": "markdown",
   "id": "a8705f84",
   "metadata": {},
   "source": [
    "### To access of week, use `.loc[ ]`"
   ]
  },
  {
   "cell_type": "code",
   "execution_count": null,
   "id": "f374f829",
   "metadata": {},
   "outputs": [],
   "source": []
  },
  {
   "cell_type": "code",
   "execution_count": null,
   "id": "62281622",
   "metadata": {},
   "outputs": [],
   "source": []
  },
  {
   "cell_type": "code",
   "execution_count": null,
   "id": "018a832a",
   "metadata": {},
   "outputs": [],
   "source": []
  },
  {
   "cell_type": "code",
   "execution_count": null,
   "id": "0ea96ab4",
   "metadata": {},
   "outputs": [],
   "source": []
  }
 ],
 "metadata": {
  "kernelspec": {
   "display_name": "Python 3 (ipykernel)",
   "language": "python",
   "name": "python3"
  },
  "language_info": {
   "codemirror_mode": {
    "name": "ipython",
    "version": 3
   },
   "file_extension": ".py",
   "mimetype": "text/x-python",
   "name": "python",
   "nbconvert_exporter": "python",
   "pygments_lexer": "ipython3",
   "version": "3.9.7"
  }
 },
 "nbformat": 4,
 "nbformat_minor": 5
}
