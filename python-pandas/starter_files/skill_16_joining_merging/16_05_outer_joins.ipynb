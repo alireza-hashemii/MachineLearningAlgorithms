{
 "cells": [
  {
   "cell_type": "markdown",
   "id": "50b3f097",
   "metadata": {},
   "source": [
    "# Outer joins"
   ]
  },
  {
   "cell_type": "markdown",
   "id": "65b699ce",
   "metadata": {},
   "source": [
    "### Import pandas"
   ]
  },
  {
   "cell_type": "code",
   "execution_count": null,
   "id": "c32b40aa",
   "metadata": {},
   "outputs": [],
   "source": []
  },
  {
   "cell_type": "markdown",
   "id": "1daf5a6a",
   "metadata": {},
   "source": [
    "### Read CSV"
   ]
  },
  {
   "cell_type": "code",
   "execution_count": null,
   "id": "273827c2",
   "metadata": {},
   "outputs": [],
   "source": []
  },
  {
   "cell_type": "code",
   "execution_count": null,
   "id": "a3ce0109",
   "metadata": {},
   "outputs": [],
   "source": [
    "# perform an outer join on week_1 and week_2\n"
   ]
  },
  {
   "cell_type": "code",
   "execution_count": null,
   "id": "ba2295e7",
   "metadata": {},
   "outputs": [],
   "source": [
    "# cust_id 3 is an inner join result while cust_id 0 only purchased in week_1\n"
   ]
  },
  {
   "cell_type": "code",
   "execution_count": null,
   "id": "6c92acaa",
   "metadata": {},
   "outputs": [],
   "source": []
  },
  {
   "cell_type": "markdown",
   "id": "cb56fa31",
   "metadata": {},
   "source": [
    "### Perform a full outer join"
   ]
  },
  {
   "cell_type": "code",
   "execution_count": null,
   "id": "6c6b738b",
   "metadata": {},
   "outputs": [],
   "source": []
  },
  {
   "cell_type": "code",
   "execution_count": null,
   "id": "266da94e",
   "metadata": {},
   "outputs": [],
   "source": []
  },
  {
   "cell_type": "code",
   "execution_count": null,
   "id": "36230b40",
   "metadata": {},
   "outputs": [],
   "source": []
  }
 ],
 "metadata": {
  "kernelspec": {
   "display_name": "Python 3 (ipykernel)",
   "language": "python",
   "name": "python3"
  },
  "language_info": {
   "codemirror_mode": {
    "name": "ipython",
    "version": 3
   },
   "file_extension": ".py",
   "mimetype": "text/x-python",
   "name": "python",
   "nbconvert_exporter": "python",
   "pygments_lexer": "ipython3",
   "version": "3.9.7"
  }
 },
 "nbformat": 4,
 "nbformat_minor": 5
}
