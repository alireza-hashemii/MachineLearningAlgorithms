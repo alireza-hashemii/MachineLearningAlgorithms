{
 "cells": [
  {
   "cell_type": "markdown",
   "id": "50b3f097",
   "metadata": {},
   "source": [
    "# Inner Joins"
   ]
  },
  {
   "cell_type": "markdown",
   "id": "65b699ce",
   "metadata": {},
   "source": [
    "### Import pandas"
   ]
  },
  {
   "cell_type": "code",
   "execution_count": null,
   "id": "c32b40aa",
   "metadata": {},
   "outputs": [],
   "source": []
  },
  {
   "cell_type": "markdown",
   "id": "1daf5a6a",
   "metadata": {},
   "source": [
    "### Read CSV"
   ]
  },
  {
   "cell_type": "code",
   "execution_count": null,
   "id": "273827c2",
   "metadata": {},
   "outputs": [],
   "source": []
  },
  {
   "cell_type": "markdown",
   "id": "3deb9c6f",
   "metadata": {},
   "source": [
    "### Perform an inner join on week_1 and week_2 sales"
   ]
  },
  {
   "cell_type": "code",
   "execution_count": null,
   "id": "15ce27f0",
   "metadata": {},
   "outputs": [],
   "source": [
    "# only returns customers who purchased in week_1 AND week_2\n"
   ]
  },
  {
   "cell_type": "code",
   "execution_count": null,
   "id": "74f4c71a",
   "metadata": {},
   "outputs": [],
   "source": [
    "# note the duplicate cust_ids\n"
   ]
  }
 ],
 "metadata": {
  "kernelspec": {
   "display_name": "Python 3 (ipykernel)",
   "language": "python",
   "name": "python3"
  },
  "language_info": {
   "codemirror_mode": {
    "name": "ipython",
    "version": 3
   },
   "file_extension": ".py",
   "mimetype": "text/x-python",
   "name": "python",
   "nbconvert_exporter": "python",
   "pygments_lexer": "ipython3",
   "version": "3.9.7"
  }
 },
 "nbformat": 4,
 "nbformat_minor": 5
}
