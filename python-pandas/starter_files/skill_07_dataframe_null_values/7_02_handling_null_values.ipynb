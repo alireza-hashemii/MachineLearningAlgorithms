{
 "cells": [
  {
   "cell_type": "markdown",
   "id": "afe45642",
   "metadata": {},
   "source": [
    "# Handling Missing Values\n",
    "### 3 Main Categories\n",
    "Before we dive into handling missing data, let's explore the three basic categories of missing data. The categories are also part of the CompTIA Data+ certification exam so it's good to know them, even at a high-level.\n",
    "\n",
    "![img](MCAR.svg)"
   ]
  },
  {
   "cell_type": "markdown",
   "id": "8f375fa2",
   "metadata": {},
   "source": [
    "![img](MAR.svg)"
   ]
  },
  {
   "cell_type": "markdown",
   "id": "1ad3ee92",
   "metadata": {},
   "source": [
    "![img](NMAR.svg)\n",
    "\n",
    "### Delete, Recode, or Impute? That's the question!\n",
    "#### Deleting\n",
    "Missing values or columns with missing values can be deleted in certain situations. For example, you have a large sample of data you plan to use for hypothesis testing. If you have three thousand rows, deleting a few is usually fine.\n",
    "#### Recoding \n",
    "When you have missing data such as payments with a `0` value becuase a customer has not yet paid. You could create a new boolean column names `not_paid` to show why there is a zero (MNAR).\n",
    "#### Imputing \n",
    "Sometimes missing values can be imputed as none for categorial data or `0` for numerical data if it makes sense to do so. We'll explore this further in the upcoming videos.\n",
    "\n",
    "### Action Steps\n",
    "Research and talk to stakeholders, then consider one of the following:\n",
    "\n",
    "1. Remove missing data\n",
    "2. Recode missing data\n",
    "3. Impute missing data"
   ]
  }
 ],
 "metadata": {
  "kernelspec": {
   "display_name": "Python 3 (ipykernel)",
   "language": "python",
   "name": "python3"
  },
  "language_info": {
   "codemirror_mode": {
    "name": "ipython",
    "version": 3
   },
   "file_extension": ".py",
   "mimetype": "text/x-python",
   "name": "python",
   "nbconvert_exporter": "python",
   "pygments_lexer": "ipython3",
   "version": "3.9.7"
  }
 },
 "nbformat": 4,
 "nbformat_minor": 5
}
