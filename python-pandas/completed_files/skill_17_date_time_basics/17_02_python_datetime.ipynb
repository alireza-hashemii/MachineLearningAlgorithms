{
 "cells": [
  {
   "cell_type": "markdown",
   "id": "725539a7",
   "metadata": {},
   "source": [
    "# Python `datetime`"
   ]
  },
  {
   "cell_type": "code",
   "execution_count": 1,
   "id": "2cc0b765",
   "metadata": {},
   "outputs": [],
   "source": [
    "import pandas as pd\n",
    "import datetime as dt"
   ]
  },
  {
   "cell_type": "markdown",
   "id": "e5985310",
   "metadata": {},
   "source": [
    "### Create Python date & datetime objects"
   ]
  },
  {
   "cell_type": "code",
   "execution_count": 12,
   "id": "deac898a",
   "metadata": {},
   "outputs": [
    {
     "data": {
      "text/plain": [
       "datetime.date(2022, 1, 31)"
      ]
     },
     "execution_count": 12,
     "metadata": {},
     "output_type": "execute_result"
    }
   ],
   "source": [
    "dt.date(2022,1,1)"
   ]
  },
  {
   "cell_type": "code",
   "execution_count": 14,
   "id": "3edcc69b",
   "metadata": {},
   "outputs": [
    {
     "data": {
      "text/plain": [
       "datetime.date"
      ]
     },
     "execution_count": 14,
     "metadata": {},
     "output_type": "execute_result"
    }
   ],
   "source": [
    "type(dt.date(2022,1,1))"
   ]
  },
  {
   "cell_type": "code",
   "execution_count": 16,
   "id": "46c55067",
   "metadata": {},
   "outputs": [
    {
     "data": {
      "text/plain": [
       "datetime.datetime(2022, 12, 31, 0, 0)"
      ]
     },
     "execution_count": 16,
     "metadata": {},
     "output_type": "execute_result"
    }
   ],
   "source": [
    "# defaults to midnight\n",
    "dt.datetime(2022,1,1)"
   ]
  },
  {
   "cell_type": "code",
   "execution_count": 20,
   "id": "daafac5d",
   "metadata": {},
   "outputs": [
    {
     "data": {
      "text/plain": [
       "datetime.datetime(2022, 1, 31, 0, 0, 1)"
      ]
     },
     "execution_count": 20,
     "metadata": {},
     "output_type": "execute_result"
    }
   ],
   "source": [
    "# happy new year! 🎊\n",
    "dt.datetime(2022,1,31,0,0,1)"
   ]
  },
  {
   "cell_type": "markdown",
   "id": "d64c5783",
   "metadata": {},
   "source": [
    "### Use the datetime object"
   ]
  },
  {
   "cell_type": "code",
   "execution_count": 21,
   "id": "427331f4",
   "metadata": {},
   "outputs": [],
   "source": [
    "new_year = dt.datetime(2022,1,31,0,0,1)"
   ]
  },
  {
   "cell_type": "code",
   "execution_count": 33,
   "id": "88f4fdd3",
   "metadata": {},
   "outputs": [
    {
     "name": "stdout",
     "output_type": "stream",
     "text": [
      "The year is 2022\n"
     ]
    }
   ],
   "source": [
    "print(\"The year is {}\".format(new_year.year))"
   ]
  },
  {
   "cell_type": "code",
   "execution_count": 32,
   "id": "dd387d32",
   "metadata": {},
   "outputs": [
    {
     "name": "stdout",
     "output_type": "stream",
     "text": [
      "The 1st month\n"
     ]
    }
   ],
   "source": [
    "print(\"The {}st month\".format(new_year.month))"
   ]
  },
  {
   "cell_type": "code",
   "execution_count": 34,
   "id": "3d365f51",
   "metadata": {},
   "outputs": [
    {
     "name": "stdout",
     "output_type": "stream",
     "text": [
      "The 31st day\n"
     ]
    }
   ],
   "source": [
    "print(\"The {}st day\".format(new_year.day))"
   ]
  },
  {
   "cell_type": "code",
   "execution_count": 25,
   "id": "7a3a77c3",
   "metadata": {},
   "outputs": [
    {
     "data": {
      "text/plain": [
       "0"
      ]
     },
     "execution_count": 25,
     "metadata": {},
     "output_type": "execute_result"
    }
   ],
   "source": [
    "new_year.hour"
   ]
  },
  {
   "cell_type": "code",
   "execution_count": 26,
   "id": "00c4d544",
   "metadata": {},
   "outputs": [
    {
     "data": {
      "text/plain": [
       "0"
      ]
     },
     "execution_count": 26,
     "metadata": {},
     "output_type": "execute_result"
    }
   ],
   "source": [
    "new_year.minute"
   ]
  },
  {
   "cell_type": "code",
   "execution_count": 27,
   "id": "a47859e9",
   "metadata": {},
   "outputs": [
    {
     "data": {
      "text/plain": [
       "1"
      ]
     },
     "execution_count": 27,
     "metadata": {},
     "output_type": "execute_result"
    }
   ],
   "source": [
    "new_year.second"
   ]
  }
 ],
 "metadata": {
  "kernelspec": {
   "display_name": "Python 3 (ipykernel)",
   "language": "python",
   "name": "python3"
  },
  "language_info": {
   "codemirror_mode": {
    "name": "ipython",
    "version": 3
   },
   "file_extension": ".py",
   "mimetype": "text/x-python",
   "name": "python",
   "nbconvert_exporter": "python",
   "pygments_lexer": "ipython3",
   "version": "3.9.7"
  }
 },
 "nbformat": 4,
 "nbformat_minor": 5
}
