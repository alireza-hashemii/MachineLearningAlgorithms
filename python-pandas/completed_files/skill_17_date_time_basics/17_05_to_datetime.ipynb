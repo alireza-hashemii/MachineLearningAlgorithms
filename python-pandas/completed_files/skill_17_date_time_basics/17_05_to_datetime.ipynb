{
 "cells": [
  {
   "cell_type": "markdown",
   "id": "a4a4fb92",
   "metadata": {},
   "source": [
    "# Pandas `.to_datetime()`"
   ]
  },
  {
   "cell_type": "code",
   "execution_count": 3,
   "id": "f21107c3",
   "metadata": {},
   "outputs": [],
   "source": [
    "import pandas as pd\n",
    "import datetime as dt"
   ]
  },
  {
   "cell_type": "markdown",
   "id": "41e24a41",
   "metadata": {},
   "source": [
    "### Create Timestamps"
   ]
  },
  {
   "cell_type": "code",
   "execution_count": 5,
   "id": "7002294c",
   "metadata": {},
   "outputs": [
    {
     "data": {
      "text/plain": [
       "Timestamp('2020-02-01 00:00:00')"
      ]
     },
     "execution_count": 5,
     "metadata": {},
     "output_type": "execute_result"
    }
   ],
   "source": [
    "pd.to_datetime(\"2020-02-01\")"
   ]
  },
  {
   "cell_type": "code",
   "execution_count": 6,
   "id": "88b3c400",
   "metadata": {},
   "outputs": [
    {
     "data": {
      "text/plain": [
       "Timestamp('2020-02-01 00:00:00')"
      ]
     },
     "execution_count": 6,
     "metadata": {},
     "output_type": "execute_result"
    }
   ],
   "source": [
    "pd.to_datetime(dt.date(2020,2,1))"
   ]
  },
  {
   "cell_type": "code",
   "execution_count": 8,
   "id": "458040cd",
   "metadata": {},
   "outputs": [
    {
     "data": {
      "text/plain": [
       "Timestamp('2020-02-01 00:00:00')"
      ]
     },
     "execution_count": 8,
     "metadata": {},
     "output_type": "execute_result"
    }
   ],
   "source": [
    "pd.to_datetime(dt.datetime(2020,2,1))"
   ]
  },
  {
   "cell_type": "markdown",
   "id": "b12961e7",
   "metadata": {},
   "source": [
    "### Create DatetimeIndex"
   ]
  },
  {
   "cell_type": "code",
   "execution_count": 11,
   "id": "47a3730c",
   "metadata": {},
   "outputs": [
    {
     "data": {
      "text/plain": [
       "DatetimeIndex(['2020-01-01', '2020-02-01', '2020-03-01'], dtype='datetime64[ns]', freq=None)"
      ]
     },
     "execution_count": 11,
     "metadata": {},
     "output_type": "execute_result"
    }
   ],
   "source": [
    "# use .to_datetime() to create a DatetimeIndex\n",
    "pd.to_datetime([\"2020-01-01\", \"2020/02/01\", \"March 1st, 2020\"])"
   ]
  },
  {
   "cell_type": "markdown",
   "id": "903d9c19",
   "metadata": {},
   "source": [
    "### Convert a Series into Datetime"
   ]
  },
  {
   "cell_type": "code",
   "execution_count": 13,
   "id": "b4982e8c",
   "metadata": {
    "scrolled": true
   },
   "outputs": [
    {
     "data": {
      "text/plain": [
       "0         2020-01-01\n",
       "1         2020/02/01\n",
       "2    March 1st, 2020\n",
       "dtype: object"
      ]
     },
     "execution_count": 13,
     "metadata": {},
     "output_type": "execute_result"
    }
   ],
   "source": [
    "# here the datatype is a string (object)\n",
    "dates = pd.Series([\"2020-01-01\", \"2020/02/01\", \"March 1st, 2020\"])\n",
    "dates"
   ]
  },
  {
   "cell_type": "code",
   "execution_count": 18,
   "id": "17a4d2b0",
   "metadata": {},
   "outputs": [
    {
     "data": {
      "text/plain": [
       "0   2020-01-01\n",
       "1   2020-02-01\n",
       "2   2020-03-01\n",
       "dtype: datetime64[ns]"
      ]
     },
     "execution_count": 18,
     "metadata": {},
     "output_type": "execute_result"
    }
   ],
   "source": [
    "# now the data type datetime\n",
    "pd.to_datetime(dates)"
   ]
  }
 ],
 "metadata": {
  "kernelspec": {
   "display_name": "Python 3 (ipykernel)",
   "language": "python",
   "name": "python3"
  },
  "language_info": {
   "codemirror_mode": {
    "name": "ipython",
    "version": 3
   },
   "file_extension": ".py",
   "mimetype": "text/x-python",
   "name": "python",
   "nbconvert_exporter": "python",
   "pygments_lexer": "ipython3",
   "version": "3.9.7"
  }
 },
 "nbformat": 4,
 "nbformat_minor": 5
}
