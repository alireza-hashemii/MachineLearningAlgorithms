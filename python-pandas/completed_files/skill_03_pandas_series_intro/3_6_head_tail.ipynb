{
 "cells": [
  {
   "cell_type": "markdown",
   "metadata": {},
   "source": [
    "# `head()` & `tail()`"
   ]
  },
  {
   "cell_type": "markdown",
   "metadata": {},
   "source": [
    "### Import Pandas"
   ]
  },
  {
   "cell_type": "code",
   "execution_count": 1,
   "metadata": {},
   "outputs": [],
   "source": [
    "import pandas as pd"
   ]
  },
  {
   "cell_type": "markdown",
   "metadata": {},
   "source": [
    "### Import Series as `a_names`"
   ]
  },
  {
   "cell_type": "code",
   "execution_count": 3,
   "metadata": {},
   "outputs": [],
   "source": [
    "a_names = pd.read_csv('animal_names.csv', usecols=['scientific_name']).squeeze(\"columns\")"
   ]
  },
  {
   "cell_type": "code",
   "execution_count": 4,
   "metadata": {},
   "outputs": [
    {
     "data": {
      "text/plain": [
       "0            Cercatetus concinnus\n",
       "1                Lutra canadensis\n",
       "2                  Alopex lagopus\n",
       "3                Macropus eugenii\n",
       "4      Calyptorhynchus magnificus\n",
       "                  ...            \n",
       "995            Anas platyrhynchos\n",
       "996              Isoodon obesulus\n",
       "997                   Upupa epops\n",
       "998                 Ratufa indica\n",
       "999              Columba palumbus\n",
       "Name: scientific_name, Length: 1000, dtype: object"
      ]
     },
     "execution_count": 4,
     "metadata": {},
     "output_type": "execute_result"
    }
   ],
   "source": [
    "a_names"
   ]
  },
  {
   "cell_type": "markdown",
   "metadata": {},
   "source": [
    "### `head()`"
   ]
  },
  {
   "cell_type": "code",
   "execution_count": 5,
   "metadata": {},
   "outputs": [
    {
     "data": {
      "text/plain": [
       "0          Cercatetus concinnus\n",
       "1              Lutra canadensis\n",
       "2                Alopex lagopus\n",
       "3              Macropus eugenii\n",
       "4    Calyptorhynchus magnificus\n",
       "Name: scientific_name, dtype: object"
      ]
     },
     "execution_count": 5,
     "metadata": {},
     "output_type": "execute_result"
    }
   ],
   "source": [
    "# head() method\n",
    "a_names.head() # first five rows\n",
    "# head_names = a_names.head()"
   ]
  },
  {
   "cell_type": "code",
   "execution_count": 6,
   "metadata": {},
   "outputs": [
    {
     "data": {
      "text/plain": [
       "0          Cercatetus concinnus\n",
       "1              Lutra canadensis\n",
       "2                Alopex lagopus\n",
       "3              Macropus eugenii\n",
       "4    Calyptorhynchus magnificus\n",
       "5             Castor canadensis\n",
       "6         Raphicerus campestris\n",
       "7          Spermophilus parryii\n",
       "8            Cordylus giganteus\n",
       "9                     Naja haje\n",
       "Name: scientific_name, dtype: object"
      ]
     },
     "execution_count": 6,
     "metadata": {},
     "output_type": "execute_result"
    }
   ],
   "source": [
    "# head(10) method\n",
    "a_names.head(10) # first ten rows"
   ]
  },
  {
   "cell_type": "markdown",
   "metadata": {},
   "source": [
    "### `tail()`"
   ]
  },
  {
   "cell_type": "code",
   "execution_count": 7,
   "metadata": {},
   "outputs": [
    {
     "data": {
      "text/plain": [
       "995    Anas platyrhynchos\n",
       "996      Isoodon obesulus\n",
       "997           Upupa epops\n",
       "998         Ratufa indica\n",
       "999      Columba palumbus\n",
       "Name: scientific_name, dtype: object"
      ]
     },
     "execution_count": 7,
     "metadata": {},
     "output_type": "execute_result"
    }
   ],
   "source": [
    "# tail() method\n",
    "a_names.tail() # last five rows"
   ]
  },
  {
   "cell_type": "code",
   "execution_count": 8,
   "metadata": {},
   "outputs": [
    {
     "data": {
      "text/plain": [
       "990             Neotis denhami\n",
       "991           Paroaria gularis\n",
       "992    Cochlearius cochlearius\n",
       "993            Snycerus caffer\n",
       "994       Aegypius occipitalis\n",
       "995         Anas platyrhynchos\n",
       "996           Isoodon obesulus\n",
       "997                Upupa epops\n",
       "998              Ratufa indica\n",
       "999           Columba palumbus\n",
       "Name: scientific_name, dtype: object"
      ]
     },
     "execution_count": 8,
     "metadata": {},
     "output_type": "execute_result"
    }
   ],
   "source": [
    "# tail(10) method\n",
    "a_names.tail(10) # last ten rows"
   ]
  }
 ],
 "metadata": {
  "kernelspec": {
   "display_name": "Python 3 (ipykernel)",
   "language": "python",
   "name": "python3"
  },
  "language_info": {
   "codemirror_mode": {
    "name": "ipython",
    "version": 3
   },
   "file_extension": ".py",
   "mimetype": "text/x-python",
   "name": "python",
   "nbconvert_exporter": "python",
   "pygments_lexer": "ipython3",
   "version": "3.9.7"
  }
 },
 "nbformat": 4,
 "nbformat_minor": 4
}
