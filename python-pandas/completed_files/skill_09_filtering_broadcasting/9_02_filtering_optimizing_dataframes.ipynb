{
 "cells": [
  {
   "cell_type": "markdown",
   "metadata": {},
   "source": [
    "# Optimizing DataFrames"
   ]
  },
  {
   "cell_type": "markdown",
   "metadata": {},
   "source": [
    "### Import Pandas"
   ]
  },
  {
   "cell_type": "code",
   "execution_count": 2,
   "metadata": {},
   "outputs": [],
   "source": [
    "import pandas as pd"
   ]
  },
  {
   "cell_type": "markdown",
   "metadata": {},
   "source": [
    "### Employee data\n"
   ]
  },
  {
   "cell_type": "code",
   "execution_count": 3,
   "metadata": {},
   "outputs": [],
   "source": [
    "# df = pd.read_csv(\"employee.csv\", parse_dates = [\"start_date\"])\n",
    "df = pd.read_csv(\"employee.csv\")"
   ]
  },
  {
   "cell_type": "markdown",
   "metadata": {},
   "source": [
    "### Head"
   ]
  },
  {
   "cell_type": "code",
   "execution_count": 4,
   "metadata": {
    "scrolled": false
   },
   "outputs": [
    {
     "data": {
      "text/html": [
       "<div>\n",
       "<style scoped>\n",
       "    .dataframe tbody tr th:only-of-type {\n",
       "        vertical-align: middle;\n",
       "    }\n",
       "\n",
       "    .dataframe tbody tr th {\n",
       "        vertical-align: top;\n",
       "    }\n",
       "\n",
       "    .dataframe thead th {\n",
       "        text-align: right;\n",
       "    }\n",
       "</style>\n",
       "<table border=\"1\" class=\"dataframe\">\n",
       "  <thead>\n",
       "    <tr style=\"text-align: right;\">\n",
       "      <th></th>\n",
       "      <th>first_name</th>\n",
       "      <th>last_name</th>\n",
       "      <th>salary</th>\n",
       "      <th>start_date</th>\n",
       "      <th>gender</th>\n",
       "      <th>remote</th>\n",
       "      <th>team</th>\n",
       "    </tr>\n",
       "  </thead>\n",
       "  <tbody>\n",
       "    <tr>\n",
       "      <th>0</th>\n",
       "      <td>Haleigh</td>\n",
       "      <td>Calderhead</td>\n",
       "      <td>334473</td>\n",
       "      <td>5/9/2020</td>\n",
       "      <td>NaN</td>\n",
       "      <td>True</td>\n",
       "      <td>management</td>\n",
       "    </tr>\n",
       "    <tr>\n",
       "      <th>1</th>\n",
       "      <td>Coretta</td>\n",
       "      <td>McEvon</td>\n",
       "      <td>637457</td>\n",
       "      <td>3/20/2020</td>\n",
       "      <td>Male</td>\n",
       "      <td>False</td>\n",
       "      <td>engineering</td>\n",
       "    </tr>\n",
       "    <tr>\n",
       "      <th>2</th>\n",
       "      <td>Clarette</td>\n",
       "      <td>Tarbett</td>\n",
       "      <td>977749</td>\n",
       "      <td>11/22/2020</td>\n",
       "      <td>Agender</td>\n",
       "      <td>True</td>\n",
       "      <td>engineering</td>\n",
       "    </tr>\n",
       "    <tr>\n",
       "      <th>3</th>\n",
       "      <td>Jaime</td>\n",
       "      <td>Gianneschi</td>\n",
       "      <td>253523</td>\n",
       "      <td>9/2/2020</td>\n",
       "      <td>Bigender</td>\n",
       "      <td>False</td>\n",
       "      <td>marketing</td>\n",
       "    </tr>\n",
       "    <tr>\n",
       "      <th>4</th>\n",
       "      <td>Ediva</td>\n",
       "      <td>Skelton</td>\n",
       "      <td>325185</td>\n",
       "      <td>2/4/2020</td>\n",
       "      <td>Female</td>\n",
       "      <td>True</td>\n",
       "      <td>marketing</td>\n",
       "    </tr>\n",
       "  </tbody>\n",
       "</table>\n",
       "</div>"
      ],
      "text/plain": [
       "  first_name   last_name  salary  start_date    gender  remote         team\n",
       "0    Haleigh  Calderhead  334473    5/9/2020       NaN    True   management\n",
       "1    Coretta      McEvon  637457   3/20/2020      Male   False  engineering\n",
       "2   Clarette     Tarbett  977749  11/22/2020   Agender    True  engineering\n",
       "3      Jaime  Gianneschi  253523    9/2/2020  Bigender   False    marketing\n",
       "4      Ediva     Skelton  325185    2/4/2020    Female    True    marketing"
      ]
     },
     "execution_count": 4,
     "metadata": {},
     "output_type": "execute_result"
    }
   ],
   "source": [
    "# called the head method to see what were working with\n",
    "df.head()"
   ]
  },
  {
   "cell_type": "markdown",
   "metadata": {},
   "source": [
    "### Get Info"
   ]
  },
  {
   "cell_type": "code",
   "execution_count": 5,
   "metadata": {
    "scrolled": true
   },
   "outputs": [
    {
     "name": "stdout",
     "output_type": "stream",
     "text": [
      "<class 'pandas.core.frame.DataFrame'>\n",
      "RangeIndex: 1000 entries, 0 to 999\n",
      "Data columns (total 7 columns):\n",
      " #   Column      Non-Null Count  Dtype \n",
      "---  ------      --------------  ----- \n",
      " 0   first_name  1000 non-null   object\n",
      " 1   last_name   1000 non-null   object\n",
      " 2   salary      1000 non-null   int64 \n",
      " 3   start_date  976 non-null    object\n",
      " 4   gender      966 non-null    object\n",
      " 5   remote      1000 non-null   bool  \n",
      " 6   team        1000 non-null   object\n",
      "dtypes: bool(1), int64(1), object(5)\n",
      "memory usage: 48.0+ KB\n"
     ]
    }
   ],
   "source": [
    "# fisrt, return some basic info about your data, some null data in start_date and gender\n",
    "# Date is a string\n",
    "df.info()"
   ]
  },
  {
   "cell_type": "markdown",
   "metadata": {},
   "source": [
    "### Convert String Dates using the `datetime()` method"
   ]
  },
  {
   "cell_type": "code",
   "execution_count": 6,
   "metadata": {
    "scrolled": true
   },
   "outputs": [
    {
     "data": {
      "text/plain": [
       "0     2020-05-09\n",
       "1     2020-03-20\n",
       "2     2020-11-22\n",
       "3     2020-09-02\n",
       "4     2020-02-04\n",
       "         ...    \n",
       "995   2020-10-18\n",
       "996   2020-12-28\n",
       "997   2020-10-26\n",
       "998   2020-09-08\n",
       "999   2020-03-29\n",
       "Name: start_date, Length: 1000, dtype: datetime64[ns]"
      ]
     },
     "execution_count": 6,
     "metadata": {},
     "output_type": "execute_result"
    }
   ],
   "source": [
    "# pass in the start_date column\n",
    "pd.to_datetime(df['start_date'])"
   ]
  },
  {
   "cell_type": "code",
   "execution_count": 7,
   "metadata": {},
   "outputs": [
    {
     "name": "stdout",
     "output_type": "stream",
     "text": [
      "<class 'pandas.core.frame.DataFrame'>\n",
      "RangeIndex: 1000 entries, 0 to 999\n",
      "Data columns (total 7 columns):\n",
      " #   Column      Non-Null Count  Dtype \n",
      "---  ------      --------------  ----- \n",
      " 0   first_name  1000 non-null   object\n",
      " 1   last_name   1000 non-null   object\n",
      " 2   salary      1000 non-null   int64 \n",
      " 3   start_date  976 non-null    object\n",
      " 4   gender      966 non-null    object\n",
      " 5   remote      1000 non-null   bool  \n",
      " 6   team        1000 non-null   object\n",
      "dtypes: bool(1), int64(1), object(5)\n",
      "memory usage: 48.0+ KB\n"
     ]
    }
   ],
   "source": [
    "# the changes are not permanent so the start_date is still a string\n",
    "df.info()"
   ]
  },
  {
   "cell_type": "markdown",
   "metadata": {},
   "source": [
    "### Overwrite the original DataFrame with read_cvs()"
   ]
  },
  {
   "cell_type": "code",
   "execution_count": 6,
   "metadata": {
    "scrolled": true
   },
   "outputs": [
    {
     "data": {
      "text/plain": [
       "0     2020-05-09\n",
       "1     2020-03-20\n",
       "2     2020-11-22\n",
       "3     2020-09-02\n",
       "4     2020-02-04\n",
       "         ...    \n",
       "995   2020-10-18\n",
       "996   2020-12-28\n",
       "997   2020-10-26\n",
       "998   2020-09-08\n",
       "999   2020-03-29\n",
       "Name: start_date, Length: 1000, dtype: datetime64[ns]"
      ]
     },
     "execution_count": 6,
     "metadata": {},
     "output_type": "execute_result"
    }
   ],
   "source": [
    "df = pd.read_csv(\"employee.csv\", parse_dates = [\"start_date\"])\n",
    "df['start_date']"
   ]
  },
  {
   "cell_type": "code",
   "execution_count": 7,
   "metadata": {},
   "outputs": [
    {
     "data": {
      "text/html": [
       "<div>\n",
       "<style scoped>\n",
       "    .dataframe tbody tr th:only-of-type {\n",
       "        vertical-align: middle;\n",
       "    }\n",
       "\n",
       "    .dataframe tbody tr th {\n",
       "        vertical-align: top;\n",
       "    }\n",
       "\n",
       "    .dataframe thead th {\n",
       "        text-align: right;\n",
       "    }\n",
       "</style>\n",
       "<table border=\"1\" class=\"dataframe\">\n",
       "  <thead>\n",
       "    <tr style=\"text-align: right;\">\n",
       "      <th></th>\n",
       "      <th>first_name</th>\n",
       "      <th>last_name</th>\n",
       "      <th>salary</th>\n",
       "      <th>start_date</th>\n",
       "      <th>gender</th>\n",
       "      <th>remote</th>\n",
       "      <th>team</th>\n",
       "    </tr>\n",
       "  </thead>\n",
       "  <tbody>\n",
       "    <tr>\n",
       "      <th>0</th>\n",
       "      <td>Haleigh</td>\n",
       "      <td>Calderhead</td>\n",
       "      <td>334473</td>\n",
       "      <td>2020-05-09</td>\n",
       "      <td>NaN</td>\n",
       "      <td>True</td>\n",
       "      <td>management</td>\n",
       "    </tr>\n",
       "    <tr>\n",
       "      <th>1</th>\n",
       "      <td>Coretta</td>\n",
       "      <td>McEvon</td>\n",
       "      <td>637457</td>\n",
       "      <td>2020-03-20</td>\n",
       "      <td>Male</td>\n",
       "      <td>False</td>\n",
       "      <td>engineering</td>\n",
       "    </tr>\n",
       "    <tr>\n",
       "      <th>2</th>\n",
       "      <td>Clarette</td>\n",
       "      <td>Tarbett</td>\n",
       "      <td>977749</td>\n",
       "      <td>2020-11-22</td>\n",
       "      <td>Agender</td>\n",
       "      <td>True</td>\n",
       "      <td>engineering</td>\n",
       "    </tr>\n",
       "    <tr>\n",
       "      <th>3</th>\n",
       "      <td>Jaime</td>\n",
       "      <td>Gianneschi</td>\n",
       "      <td>253523</td>\n",
       "      <td>2020-09-02</td>\n",
       "      <td>Bigender</td>\n",
       "      <td>False</td>\n",
       "      <td>marketing</td>\n",
       "    </tr>\n",
       "    <tr>\n",
       "      <th>4</th>\n",
       "      <td>Ediva</td>\n",
       "      <td>Skelton</td>\n",
       "      <td>325185</td>\n",
       "      <td>2020-02-04</td>\n",
       "      <td>Female</td>\n",
       "      <td>True</td>\n",
       "      <td>marketing</td>\n",
       "    </tr>\n",
       "  </tbody>\n",
       "</table>\n",
       "</div>"
      ],
      "text/plain": [
       "  first_name   last_name  salary start_date    gender  remote         team\n",
       "0    Haleigh  Calderhead  334473 2020-05-09       NaN    True   management\n",
       "1    Coretta      McEvon  637457 2020-03-20      Male   False  engineering\n",
       "2   Clarette     Tarbett  977749 2020-11-22   Agender    True  engineering\n",
       "3      Jaime  Gianneschi  253523 2020-09-02  Bigender   False    marketing\n",
       "4      Ediva     Skelton  325185 2020-02-04    Female    True    marketing"
      ]
     },
     "execution_count": 7,
     "metadata": {},
     "output_type": "execute_result"
    }
   ],
   "source": [
    "df.head()"
   ]
  },
  {
   "cell_type": "markdown",
   "metadata": {},
   "source": [
    "### Optimization"
   ]
  },
  {
   "cell_type": "code",
   "execution_count": 24,
   "metadata": {},
   "outputs": [
    {
     "name": "stdout",
     "output_type": "stream",
     "text": [
      "<class 'pandas.core.frame.DataFrame'>\n",
      "RangeIndex: 1000 entries, 0 to 999\n",
      "Data columns (total 7 columns):\n",
      " #   Column      Non-Null Count  Dtype         \n",
      "---  ------      --------------  -----         \n",
      " 0   first_name  1000 non-null   object        \n",
      " 1   last_name   1000 non-null   object        \n",
      " 2   salary      1000 non-null   int64         \n",
      " 3   start_date  976 non-null    datetime64[ns]\n",
      " 4   gender      966 non-null    object        \n",
      " 5   remote      1000 non-null   bool          \n",
      " 6   team        1000 non-null   object        \n",
      "dtypes: bool(1), datetime64[ns](1), int64(1), object(4)\n",
      "memory usage: 48.0+ KB\n"
     ]
    }
   ],
   "source": [
    "# make gender a category and not an object(string)\n",
    "df.info()"
   ]
  },
  {
   "cell_type": "code",
   "execution_count": 25,
   "metadata": {},
   "outputs": [
    {
     "data": {
      "text/plain": [
       "0              NaN\n",
       "1             Male\n",
       "2          Agender\n",
       "3         Bigender\n",
       "4           Female\n",
       "          ...     \n",
       "995     Polygender\n",
       "996    Genderfluid\n",
       "997    Genderqueer\n",
       "998         Female\n",
       "999     Polygender\n",
       "Name: gender, Length: 1000, dtype: category\n",
       "Categories (8, object): [Agender, Bigender, Female, Genderfluid, Genderqueer, Male, Non-binary, Polygender]"
      ]
     },
     "execution_count": 25,
     "metadata": {},
     "output_type": "execute_result"
    }
   ],
   "source": [
    "df[\"gender\"].astype(\"category\")"
   ]
  },
  {
   "cell_type": "code",
   "execution_count": 26,
   "metadata": {},
   "outputs": [],
   "source": [
    "# reassign the column to save the changes\n",
    "df[\"gender\"] = df[\"gender\"].astype(\"category\")"
   ]
  },
  {
   "cell_type": "code",
   "execution_count": 27,
   "metadata": {
    "scrolled": true
   },
   "outputs": [
    {
     "name": "stdout",
     "output_type": "stream",
     "text": [
      "<class 'pandas.core.frame.DataFrame'>\n",
      "RangeIndex: 1000 entries, 0 to 999\n",
      "Data columns (total 7 columns):\n",
      " #   Column      Non-Null Count  Dtype         \n",
      "---  ------      --------------  -----         \n",
      " 0   first_name  1000 non-null   object        \n",
      " 1   last_name   1000 non-null   object        \n",
      " 2   salary      1000 non-null   int64         \n",
      " 3   start_date  976 non-null    datetime64[ns]\n",
      " 4   gender      966 non-null    category      \n",
      " 5   remote      1000 non-null   bool          \n",
      " 6   team        1000 non-null   object        \n",
      "dtypes: bool(1), category(1), datetime64[ns](1), int64(1), object(3)\n",
      "memory usage: 41.5+ KB\n"
     ]
    }
   ],
   "source": [
    "# check out the optimization savings!\n",
    "df.info()"
   ]
  }
 ],
 "metadata": {
  "kernelspec": {
   "display_name": "Python 3 (ipykernel)",
   "language": "python",
   "name": "python3"
  },
  "language_info": {
   "codemirror_mode": {
    "name": "ipython",
    "version": 3
   },
   "file_extension": ".py",
   "mimetype": "text/x-python",
   "name": "python",
   "nbconvert_exporter": "python",
   "pygments_lexer": "ipython3",
   "version": "3.9.7"
  }
 },
 "nbformat": 4,
 "nbformat_minor": 4
}
