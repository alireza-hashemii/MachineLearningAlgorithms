{
 "cells": [
  {
   "cell_type": "markdown",
   "id": "cb14344d",
   "metadata": {},
   "source": [
    "# Creating Charts"
   ]
  },
  {
   "cell_type": "markdown",
   "id": "75f91101",
   "metadata": {},
   "source": [
    "### Import libraries"
   ]
  },
  {
   "cell_type": "code",
   "execution_count": 1,
   "id": "a07bc27d",
   "metadata": {},
   "outputs": [],
   "source": [
    "import pandas\n",
    "from pandas_datareader import data\n",
    "\n",
    "import matplotlib.pyplot as plt\n",
    "%matplotlib inline"
   ]
  },
  {
   "cell_type": "markdown",
   "id": "e1e16a64",
   "metadata": {},
   "source": [
    "### Get Bitcoin cryptocurrency data"
   ]
  },
  {
   "cell_type": "code",
   "execution_count": 3,
   "id": "68b5f167",
   "metadata": {
    "scrolled": true
   },
   "outputs": [
    {
     "data": {
      "text/html": [
       "<div>\n",
       "<style scoped>\n",
       "    .dataframe tbody tr th:only-of-type {\n",
       "        vertical-align: middle;\n",
       "    }\n",
       "\n",
       "    .dataframe tbody tr th {\n",
       "        vertical-align: top;\n",
       "    }\n",
       "\n",
       "    .dataframe thead th {\n",
       "        text-align: right;\n",
       "    }\n",
       "</style>\n",
       "<table border=\"1\" class=\"dataframe\">\n",
       "  <thead>\n",
       "    <tr style=\"text-align: right;\">\n",
       "      <th></th>\n",
       "      <th>High</th>\n",
       "      <th>Low</th>\n",
       "      <th>Open</th>\n",
       "      <th>Close</th>\n",
       "      <th>Volume</th>\n",
       "      <th>Adj Close</th>\n",
       "    </tr>\n",
       "    <tr>\n",
       "      <th>Date</th>\n",
       "      <th></th>\n",
       "      <th></th>\n",
       "      <th></th>\n",
       "      <th></th>\n",
       "      <th></th>\n",
       "      <th></th>\n",
       "    </tr>\n",
       "  </thead>\n",
       "  <tbody>\n",
       "    <tr>\n",
       "      <th>2020-01-01</th>\n",
       "      <td>7254.330566</td>\n",
       "      <td>7174.944336</td>\n",
       "      <td>7194.89209</td>\n",
       "      <td>7200.174316</td>\n",
       "      <td>18565664997</td>\n",
       "      <td>7200.174316</td>\n",
       "    </tr>\n",
       "    <tr>\n",
       "      <th>2020-01-02</th>\n",
       "      <td>7212.155273</td>\n",
       "      <td>6935.270020</td>\n",
       "      <td>7202.55127</td>\n",
       "      <td>6985.470215</td>\n",
       "      <td>20802083465</td>\n",
       "      <td>6985.470215</td>\n",
       "    </tr>\n",
       "  </tbody>\n",
       "</table>\n",
       "</div>"
      ],
      "text/plain": [
       "                   High          Low        Open        Close       Volume  \\\n",
       "Date                                                                         \n",
       "2020-01-01  7254.330566  7174.944336  7194.89209  7200.174316  18565664997   \n",
       "2020-01-02  7212.155273  6935.270020  7202.55127  6985.470215  20802083465   \n",
       "\n",
       "              Adj Close  \n",
       "Date                     \n",
       "2020-01-01  7200.174316  \n",
       "2020-01-02  6985.470215  "
      ]
     },
     "execution_count": 3,
     "metadata": {},
     "output_type": "execute_result"
    }
   ],
   "source": [
    "# zoom in for a closer look starting on 2022-01-01 to today\n",
    "btc = data.DataReader(name = \"BTC-USD\", data_source = \"yahoo\", start = \"2020-01-01\")\n",
    "btc.head(2)"
   ]
  },
  {
   "cell_type": "markdown",
   "id": "d7432f81",
   "metadata": {},
   "source": [
    "### Write a cryptocurrency performance function"
   ]
  },
  {
   "cell_type": "code",
   "execution_count": 12,
   "id": "401e29f3",
   "metadata": {},
   "outputs": [],
   "source": [
    "def performance(num):\n",
    "    if num < 8000:\n",
    "            return \"Awesome!\"\n",
    "    elif num >= 10000 and num < 30000:\n",
    "        return \"Not bad\"\n",
    "    else:\n",
    "        return \"Pass!\""
   ]
  },
  {
   "cell_type": "code",
   "execution_count": 13,
   "id": "e99287f4",
   "metadata": {},
   "outputs": [
    {
     "data": {
      "text/plain": [
       "Pass!       602\n",
       "Not bad     167\n",
       "Awesome!     58\n",
       "Name: Close, dtype: int64"
      ]
     },
     "execution_count": 13,
     "metadata": {},
     "output_type": "execute_result"
    }
   ],
   "source": [
    "btc[\"Close\"].apply(performance).value_counts()"
   ]
  },
  {
   "cell_type": "markdown",
   "id": "9c024006",
   "metadata": {},
   "source": [
    "### Create a Bitcoin performance charts"
   ]
  },
  {
   "cell_type": "code",
   "execution_count": 14,
   "id": "d8e526eb",
   "metadata": {},
   "outputs": [
    {
     "data": {
      "text/plain": [
       "<AxesSubplot:>"
      ]
     },
     "execution_count": 14,
     "metadata": {},
     "output_type": "execute_result"
    },
    {
     "data": {
      "image/png": "[encoded data removed]",
      "text/plain": [
       "<Figure size 432x288 with 1 Axes>"
      ]
     },
     "metadata": {
      "needs_background": "light"
     },
     "output_type": "display_data"
    }
   ],
   "source": [
    "btc[\"Close\"].apply(performance).value_counts().plot()"
   ]
  },
  {
   "cell_type": "code",
   "execution_count": 15,
   "id": "7163ed77",
   "metadata": {},
   "outputs": [
    {
     "data": {
      "text/plain": [
       "<AxesSubplot:>"
      ]
     },
     "execution_count": 15,
     "metadata": {},
     "output_type": "execute_result"
    },
    {
     "data": {
      "image/png": "[encoded data removed]",
      "text/plain": [
       "<Figure size 432x288 with 1 Axes>"
      ]
     },
     "metadata": {
      "needs_background": "light"
     },
     "output_type": "display_data"
    }
   ],
   "source": [
    "btc[\"Close\"].apply(performance).value_counts().plot(kind = \"bar\")"
   ]
  },
  {
   "cell_type": "code",
   "execution_count": 16,
   "id": "4a9b75f0",
   "metadata": {},
   "outputs": [
    {
     "data": {
      "text/plain": [
       "<AxesSubplot:>"
      ]
     },
     "execution_count": 16,
     "metadata": {},
     "output_type": "execute_result"
    },
    {
     "data": {
      "image/png": "[encoded data removed]",
      "text/plain": [
       "<Figure size 432x288 with 1 Axes>"
      ]
     },
     "metadata": {
      "needs_background": "light"
     },
     "output_type": "display_data"
    }
   ],
   "source": [
    "btc[\"Close\"].apply(performance).value_counts().plot(kind = \"barh\")"
   ]
  },
  {
   "cell_type": "code",
   "execution_count": 17,
   "id": "91ee9a5a",
   "metadata": {},
   "outputs": [
    {
     "data": {
      "text/plain": [
       "<AxesSubplot:>"
      ]
     },
     "execution_count": 17,
     "metadata": {},
     "output_type": "execute_result"
    },
    {
     "data": {
      "image/png": "[encoded data removed]",
      "text/plain": [
       "<Figure size 432x288 with 1 Axes>"
      ]
     },
     "metadata": {},
     "output_type": "display_data"
    }
   ],
   "source": [
    "# not a fan of pie charts but here is how to create one\n",
    "btc[\"Close\"].apply(performance).value_counts().plot(kind = \"pie\", ylabel = \"\")"
   ]
  }
 ],
 "metadata": {
  "kernelspec": {
   "display_name": "Python 3 (ipykernel)",
   "language": "python",
   "name": "python3"
  },
  "language_info": {
   "codemirror_mode": {
    "name": "ipython",
    "version": 3
   },
   "file_extension": ".py",
   "mimetype": "text/x-python",
   "name": "python",
   "nbconvert_exporter": "python",
   "pygments_lexer": "ipython3",
   "version": "3.9.7"
  }
 },
 "nbformat": 4,
 "nbformat_minor": 5
}
