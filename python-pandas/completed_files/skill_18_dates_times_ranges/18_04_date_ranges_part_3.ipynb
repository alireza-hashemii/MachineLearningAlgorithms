{
 "cells": [
  {
   "cell_type": "markdown",
   "id": "30baaac1",
   "metadata": {},
   "source": [
    "# `.date_range( )` part 3"
   ]
  },
  {
   "cell_type": "code",
   "execution_count": 1,
   "id": "c6add856",
   "metadata": {},
   "outputs": [],
   "source": [
    "import pandas as pd"
   ]
  },
  {
   "cell_type": "markdown",
   "id": "be21e180",
   "metadata": {},
   "source": [
    "### `.date_range( )` without `start=`\n",
    "You can set a start, stop, and interval frequency to create a range of times or dates. You can also omit `start=` and only set the `end=` date/time.\n",
    "\n",
    "```python\n",
    "pandas.date_range(end=your_end_range,\n",
    "                  periods=how_many_results,\n",
    "                 freq=your_time_intervals)\n",
    "```                 "
   ]
  },
  {
   "cell_type": "markdown",
   "id": "198a4a89",
   "metadata": {},
   "source": [
    "### Create a 7 day week"
   ]
  },
  {
   "cell_type": "code",
   "execution_count": 31,
   "id": "e07b7b0f",
   "metadata": {},
   "outputs": [
    {
     "name": "stdout",
     "output_type": "stream",
     "text": [
      "    January 2020\n",
      "Mo Tu We Th Fr Sa Su\n",
      "       1  2  3  4  5\n",
      " 6  7  8  9 10 11 12\n",
      "13 14 15 16 17 18 19\n",
      "20 21 22 23 24 25 26\n",
      "27 28 29 30 31\n",
      "\n"
     ]
    }
   ],
   "source": [
    "import calendar\n",
    "print(calendar.month(2020,1))"
   ]
  },
  {
   "cell_type": "code",
   "execution_count": 2,
   "id": "900d718b",
   "metadata": {},
   "outputs": [
    {
     "data": {
      "text/plain": [
       "DatetimeIndex(['2019-12-26', '2019-12-27', '2019-12-28', '2019-12-29',\n",
       "               '2019-12-30', '2019-12-31', '2020-01-01'],\n",
       "              dtype='datetime64[ns]', freq='D')"
      ]
     },
     "execution_count": 2,
     "metadata": {},
     "output_type": "execute_result"
    }
   ],
   "source": [
    "# start on January 1st, 2020 and create 7(periods) days(freq)\n",
    "pd.date_range(end = \"2020-01-01\", periods = 7, freq = \"D\")"
   ]
  },
  {
   "cell_type": "code",
   "execution_count": 3,
   "id": "8a856784",
   "metadata": {},
   "outputs": [
    {
     "data": {
      "text/plain": [
       "DatetimeIndex(['2019-11-17', '2019-11-24', '2019-12-01', '2019-12-08',\n",
       "               '2019-12-15', '2019-12-22', '2019-12-29'],\n",
       "              dtype='datetime64[ns]', freq='W-SUN')"
      ]
     },
     "execution_count": 3,
     "metadata": {},
     "output_type": "execute_result"
    }
   ],
   "source": [
    "pd.date_range(end = \"2020-01-01\", periods = 7, freq = \"W\")"
   ]
  },
  {
   "cell_type": "code",
   "execution_count": 4,
   "id": "a0e02656",
   "metadata": {},
   "outputs": [
    {
     "data": {
      "text/plain": [
       "DatetimeIndex(['2019-11-15', '2019-11-22', '2019-11-29', '2019-12-06',\n",
       "               '2019-12-13', '2019-12-20', '2019-12-27'],\n",
       "              dtype='datetime64[ns]', freq='W-FRI')"
      ]
     },
     "execution_count": 4,
     "metadata": {},
     "output_type": "execute_result"
    }
   ],
   "source": [
    "pd.date_range(end = \"2020-01-01\", periods = 7, freq = \"W-FRI\")"
   ]
  },
  {
   "cell_type": "markdown",
   "id": "a87d7170",
   "metadata": {},
   "source": [
    "### All other frequencies apply"
   ]
  },
  {
   "cell_type": "code",
   "execution_count": 5,
   "id": "781bd24b",
   "metadata": {},
   "outputs": [
    {
     "data": {
      "text/plain": [
       "DatetimeIndex(['2019-06-30', '2019-07-31', '2019-08-31', '2019-09-30',\n",
       "               '2019-10-31', '2019-11-30', '2019-12-31'],\n",
       "              dtype='datetime64[ns]', freq='M')"
      ]
     },
     "execution_count": 5,
     "metadata": {},
     "output_type": "execute_result"
    }
   ],
   "source": [
    "pd.date_range(end = \"2020-01-01\", periods = 7, freq = \"M\")"
   ]
  },
  {
   "cell_type": "code",
   "execution_count": 6,
   "id": "e26b68f3",
   "metadata": {},
   "outputs": [
    {
     "data": {
      "text/plain": [
       "DatetimeIndex(['2019-07-01', '2019-08-01', '2019-09-01', '2019-10-01',\n",
       "               '2019-11-01', '2019-12-01', '2020-01-01'],\n",
       "              dtype='datetime64[ns]', freq='MS')"
      ]
     },
     "execution_count": 6,
     "metadata": {},
     "output_type": "execute_result"
    }
   ],
   "source": [
    "pd.date_range(end = \"2020-01-01\", periods = 7, freq = \"MS\")"
   ]
  },
  {
   "cell_type": "code",
   "execution_count": 7,
   "id": "31299b88",
   "metadata": {},
   "outputs": [
    {
     "data": {
      "text/plain": [
       "DatetimeIndex(['2019-12-30 00:00:00', '2019-12-30 08:00:00',\n",
       "               '2019-12-30 16:00:00', '2019-12-31 00:00:00',\n",
       "               '2019-12-31 08:00:00', '2019-12-31 16:00:00',\n",
       "               '2020-01-01 00:00:00'],\n",
       "              dtype='datetime64[ns]', freq='8H')"
      ]
     },
     "execution_count": 7,
     "metadata": {},
     "output_type": "execute_result"
    }
   ],
   "source": [
    "pd.date_range(end = \"2020-01-01\", periods = 7, freq = \"8H\")"
   ]
  }
 ],
 "metadata": {
  "kernelspec": {
   "display_name": "Python 3 (ipykernel)",
   "language": "python",
   "name": "python3"
  },
  "language_info": {
   "codemirror_mode": {
    "name": "ipython",
    "version": 3
   },
   "file_extension": ".py",
   "mimetype": "text/x-python",
   "name": "python",
   "nbconvert_exporter": "python",
   "pygments_lexer": "ipython3",
   "version": "3.9.7"
  }
 },
 "nbformat": 4,
 "nbformat_minor": 5
}
