{
 "cells": [
  {
   "cell_type": "markdown",
   "id": "adba5214",
   "metadata": {},
   "source": [
    "# `.date_range( )` part 2"
   ]
  },
  {
   "cell_type": "code",
   "execution_count": 2,
   "id": "8b126e47",
   "metadata": {},
   "outputs": [],
   "source": [
    "import pandas as pd"
   ]
  },
  {
   "cell_type": "markdown",
   "id": "f09cf28e",
   "metadata": {},
   "source": [
    "### `.date_range( )` is like a date ruler\n",
    "You can set a start, stop, and interval frequency to create a range of times or dates. You can also omit the `end=` parameter and instead use `periods=` to set the number of results you want to return.\n",
    "\n",
    "```python\n",
    "pandas.date_range(start=your_start_time,\n",
    "                  periods=how_many_results,\n",
    "                 freq=your_time_intervals)\n",
    "```                 "
   ]
  },
  {
   "cell_type": "markdown",
   "id": "693b3ecf",
   "metadata": {},
   "source": [
    "### Create a 7 day week"
   ]
  },
  {
   "cell_type": "code",
   "execution_count": 29,
   "id": "a87ffe84",
   "metadata": {},
   "outputs": [
    {
     "name": "stdout",
     "output_type": "stream",
     "text": [
      "    January 2020\n",
      "Mo Tu We Th Fr Sa Su\n",
      "       1  2  3  4  5\n",
      " 6  7  8  9 10 11 12\n",
      "13 14 15 16 17 18 19\n",
      "20 21 22 23 24 25 26\n",
      "27 28 29 30 31\n",
      "\n"
     ]
    }
   ],
   "source": [
    "import calendar\n",
    "print(calendar.month(2020,1))"
   ]
  },
  {
   "cell_type": "code",
   "execution_count": 3,
   "id": "900d718b",
   "metadata": {},
   "outputs": [
    {
     "data": {
      "text/plain": [
       "DatetimeIndex(['2020-01-01', '2020-01-02', '2020-01-03', '2020-01-04',\n",
       "               '2020-01-05', '2020-01-06', '2020-01-07'],\n",
       "              dtype='datetime64[ns]', freq='D')"
      ]
     },
     "execution_count": 3,
     "metadata": {},
     "output_type": "execute_result"
    }
   ],
   "source": [
    "# start on January 1st, 2020 and create 7(periods) days(freq)\n",
    "pd.date_range(start = \"2020-01-01\", periods = 7, freq = \"D\")"
   ]
  },
  {
   "cell_type": "markdown",
   "id": "62a85ffb",
   "metadata": {},
   "source": [
    "### Create a 5 day business week"
   ]
  },
  {
   "cell_type": "code",
   "execution_count": 31,
   "id": "fe8e22e3",
   "metadata": {},
   "outputs": [
    {
     "name": "stdout",
     "output_type": "stream",
     "text": [
      "    January 2020\n",
      "Mo Tu We Th Fr Sa Su\n",
      "       1  2  3  4  5\n",
      " 6  7  8  9 10 11 12\n",
      "13 14 15 16 17 18 19\n",
      "20 21 22 23 24 25 26\n",
      "27 28 29 30 31\n",
      "\n"
     ]
    }
   ],
   "source": [
    "import calendar\n",
    "print(calendar.month(2020,1))"
   ]
  },
  {
   "cell_type": "code",
   "execution_count": 30,
   "id": "eedd0b31",
   "metadata": {},
   "outputs": [
    {
     "data": {
      "text/plain": [
       "DatetimeIndex(['2020-01-06', '2020-01-07', '2020-01-08', '2020-01-09',\n",
       "               '2020-01-10', '2020-01-13', '2020-01-14'],\n",
       "              dtype='datetime64[ns]', freq='B')"
      ]
     },
     "execution_count": 30,
     "metadata": {},
     "output_type": "execute_result"
    }
   ],
   "source": [
    "# pd.date_range(start = \"2020-01-01\", periods = 5, freq = \"D\")\n",
    "# mind the business day start day (can't start on a weekend)\n",
    "pd.date_range(start = \"2020-01-04\", periods = 7, freq = \"B\") ⚠️"
   ]
  },
  {
   "cell_type": "code",
   "execution_count": 22,
   "id": "f6849b22",
   "metadata": {},
   "outputs": [
    {
     "data": {
      "text/plain": [
       "DatetimeIndex(['2020-01-06', '2020-01-07', '2020-01-08', '2020-01-09',\n",
       "               '2020-01-10', '2020-01-13', '2020-01-14'],\n",
       "              dtype='datetime64[ns]', freq='B')"
      ]
     },
     "execution_count": 22,
     "metadata": {},
     "output_type": "execute_result"
    }
   ],
   "source": [
    "# Can't start on Saturday the 4th so starts on Monday the 6th\n",
    "pd.date_range(start = \"2020-01-04\", periods = 7, freq = \"B\")"
   ]
  },
  {
   "cell_type": "markdown",
   "id": "b17359b7",
   "metadata": {},
   "source": [
    "### You can also use M, MS, A, H, 8H"
   ]
  },
  {
   "cell_type": "code",
   "execution_count": 31,
   "id": "4d981192",
   "metadata": {},
   "outputs": [
    {
     "name": "stdout",
     "output_type": "stream",
     "text": [
      "    January 2020\n",
      "Mo Tu We Th Fr Sa Su\n",
      "       1  2  3  4  5\n",
      " 6  7  8  9 10 11 12\n",
      "13 14 15 16 17 18 19\n",
      "20 21 22 23 24 25 26\n",
      "27 28 29 30 31\n",
      "\n"
     ]
    }
   ],
   "source": [
    "import calendar\n",
    "print(calendar.month(2020,1))"
   ]
  },
  {
   "cell_type": "code",
   "execution_count": 23,
   "id": "fc7fc1ac",
   "metadata": {},
   "outputs": [
    {
     "data": {
      "text/plain": [
       "DatetimeIndex(['2020-01-31', '2020-02-29', '2020-03-31', '2020-04-30',\n",
       "               '2020-05-31', '2020-06-30', '2020-07-31'],\n",
       "              dtype='datetime64[ns]', freq='M')"
      ]
     },
     "execution_count": 23,
     "metadata": {},
     "output_type": "execute_result"
    }
   ],
   "source": [
    "# Months\n",
    "pd.date_range(start = \"2020-01-04\", periods = 7, freq = \"M\")"
   ]
  },
  {
   "cell_type": "code",
   "execution_count": 24,
   "id": "1f2def62",
   "metadata": {},
   "outputs": [
    {
     "data": {
      "text/plain": [
       "DatetimeIndex(['2020-02-01', '2020-03-01', '2020-04-01', '2020-05-01',\n",
       "               '2020-06-01', '2020-07-01', '2020-08-01'],\n",
       "              dtype='datetime64[ns]', freq='MS')"
      ]
     },
     "execution_count": 24,
     "metadata": {},
     "output_type": "execute_result"
    }
   ],
   "source": [
    "# Month start\n",
    "pd.date_range(start = \"2020-01-04\", periods = 7, freq = \"MS\")"
   ]
  },
  {
   "cell_type": "code",
   "execution_count": 25,
   "id": "b453d403",
   "metadata": {},
   "outputs": [
    {
     "data": {
      "text/plain": [
       "DatetimeIndex(['2020-12-31', '2021-12-31', '2022-12-31', '2023-12-31',\n",
       "               '2024-12-31', '2025-12-31', '2026-12-31'],\n",
       "              dtype='datetime64[ns]', freq='A-DEC')"
      ]
     },
     "execution_count": 25,
     "metadata": {},
     "output_type": "execute_result"
    }
   ],
   "source": [
    "# Years\n",
    "pd.date_range(start = \"2020-01-04\", periods = 7, freq = \"A\")"
   ]
  },
  {
   "cell_type": "code",
   "execution_count": 26,
   "id": "0e40dc8e",
   "metadata": {},
   "outputs": [
    {
     "data": {
      "text/plain": [
       "DatetimeIndex(['2020-01-04 00:00:00', '2020-01-04 01:00:00',\n",
       "               '2020-01-04 02:00:00', '2020-01-04 03:00:00',\n",
       "               '2020-01-04 04:00:00', '2020-01-04 05:00:00',\n",
       "               '2020-01-04 06:00:00'],\n",
       "              dtype='datetime64[ns]', freq='H')"
      ]
     },
     "execution_count": 26,
     "metadata": {},
     "output_type": "execute_result"
    }
   ],
   "source": [
    "# Hours\n",
    "pd.date_range(start = \"2020-01-04\", periods = 7, freq = \"H\")"
   ]
  },
  {
   "cell_type": "code",
   "execution_count": 27,
   "id": "ad6df44d",
   "metadata": {},
   "outputs": [
    {
     "data": {
      "text/plain": [
       "DatetimeIndex(['2020-01-04 00:00:00', '2020-01-04 08:00:00',\n",
       "               '2020-01-04 16:00:00', '2020-01-05 00:00:00',\n",
       "               '2020-01-05 08:00:00', '2020-01-05 16:00:00',\n",
       "               '2020-01-06 00:00:00'],\n",
       "              dtype='datetime64[ns]', freq='8H')"
      ]
     },
     "execution_count": 27,
     "metadata": {},
     "output_type": "execute_result"
    }
   ],
   "source": [
    "# 8 hours\n",
    "pd.date_range(start = \"2020-01-04\", periods = 7, freq = \"8H\")"
   ]
  }
 ],
 "metadata": {
  "kernelspec": {
   "display_name": "Python 3 (ipykernel)",
   "language": "python",
   "name": "python3"
  },
  "language_info": {
   "codemirror_mode": {
    "name": "ipython",
    "version": 3
   },
   "file_extension": ".py",
   "mimetype": "text/x-python",
   "name": "python",
   "nbconvert_exporter": "python",
   "pygments_lexer": "ipython3",
   "version": "3.9.7"
  }
 },
 "nbformat": 4,
 "nbformat_minor": 5
}
