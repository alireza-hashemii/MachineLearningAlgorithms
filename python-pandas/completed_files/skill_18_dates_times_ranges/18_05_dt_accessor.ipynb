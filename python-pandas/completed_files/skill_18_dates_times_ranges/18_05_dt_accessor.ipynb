{
 "cells": [
  {
   "cell_type": "markdown",
   "id": "42613ee2",
   "metadata": {},
   "source": [
    "# The `.dt` accessor\n",
    "Much like the `.str` prefix, `.dt` works in similarly to return attribute from Datetime."
   ]
  },
  {
   "cell_type": "code",
   "execution_count": 22,
   "id": "73d64a15",
   "metadata": {},
   "outputs": [],
   "source": [
    "import pandas as pd"
   ]
  },
  {
   "cell_type": "markdown",
   "id": "34a544ff",
   "metadata": {},
   "source": [
    "### Create a date range to access some attributes: `dates`"
   ]
  },
  {
   "cell_type": "code",
   "execution_count": 23,
   "id": "31e01470",
   "metadata": {},
   "outputs": [],
   "source": [
    "dates = pd.date_range(start=\"2020-01-01\", end = \"2020-12-31\", freq = \"D\")"
   ]
  },
  {
   "cell_type": "markdown",
   "id": "bda6a708",
   "metadata": {},
   "source": [
    "### Create a Series "
   ]
  },
  {
   "cell_type": "code",
   "execution_count": 24,
   "id": "553ce023",
   "metadata": {},
   "outputs": [],
   "source": [
    "date_series = pd.Series(dates)"
   ]
  },
  {
   "cell_type": "code",
   "execution_count": 18,
   "id": "1eb7c3c5",
   "metadata": {},
   "outputs": [],
   "source": [
    "# check out the attribute available with TAB\n",
    "date_series.dt."
   ]
  },
  {
   "cell_type": "code",
   "execution_count": 25,
   "id": "5beacf68",
   "metadata": {},
   "outputs": [
    {
     "data": {
      "text/plain": [
       "0       1\n",
       "1       2\n",
       "2       3\n",
       "3       4\n",
       "4       5\n",
       "       ..\n",
       "361    27\n",
       "362    28\n",
       "363    29\n",
       "364    30\n",
       "365    31\n",
       "Length: 366, dtype: int64"
      ]
     },
     "execution_count": 25,
     "metadata": {},
     "output_type": "execute_result"
    }
   ],
   "source": [
    "# date_series.day\n",
    "date_series.dt.day"
   ]
  },
  {
   "cell_type": "code",
   "execution_count": 38,
   "id": "31e11a4a",
   "metadata": {},
   "outputs": [
    {
     "data": {
      "text/plain": [
       "0      Wednesday\n",
       "1       Thursday\n",
       "2         Friday\n",
       "3       Saturday\n",
       "4         Sunday\n",
       "         ...    \n",
       "361       Sunday\n",
       "362       Monday\n",
       "363      Tuesday\n",
       "364    Wednesday\n",
       "365     Thursday\n",
       "Length: 366, dtype: object"
      ]
     },
     "execution_count": 38,
     "metadata": {},
     "output_type": "execute_result"
    }
   ],
   "source": [
    "date_series.dt.day_name()"
   ]
  },
  {
   "cell_type": "code",
   "execution_count": 45,
   "id": "1b7fe8a8",
   "metadata": {},
   "outputs": [
    {
     "data": {
      "text/plain": [
       "0     31\n",
       "1     31\n",
       "2     31\n",
       "3     31\n",
       "4     31\n",
       "5     31\n",
       "6     31\n",
       "7     31\n",
       "8     31\n",
       "9     31\n",
       "10    31\n",
       "11    31\n",
       "12    31\n",
       "13    31\n",
       "14    31\n",
       "15    31\n",
       "16    31\n",
       "17    31\n",
       "18    31\n",
       "19    31\n",
       "20    31\n",
       "21    31\n",
       "22    31\n",
       "23    31\n",
       "24    31\n",
       "25    31\n",
       "26    31\n",
       "27    31\n",
       "28    31\n",
       "29    31\n",
       "30    31\n",
       "31    29\n",
       "32    29\n",
       "33    29\n",
       "34    29\n",
       "35    29\n",
       "36    29\n",
       "37    29\n",
       "38    29\n",
       "39    29\n",
       "dtype: int64"
      ]
     },
     "execution_count": 45,
     "metadata": {},
     "output_type": "execute_result"
    }
   ],
   "source": [
    "date_series.dt.daysinmonth.head(40)"
   ]
  },
  {
   "cell_type": "code",
   "execution_count": 46,
   "id": "513639ad",
   "metadata": {},
   "outputs": [
    {
     "data": {
      "text/plain": [
       "0      2020\n",
       "1      2020\n",
       "2      2020\n",
       "3      2020\n",
       "4      2020\n",
       "       ... \n",
       "361    2020\n",
       "362    2020\n",
       "363    2020\n",
       "364    2020\n",
       "365    2020\n",
       "Length: 366, dtype: int64"
      ]
     },
     "execution_count": 46,
     "metadata": {},
     "output_type": "execute_result"
    }
   ],
   "source": [
    "date_series.dt.year"
   ]
  },
  {
   "cell_type": "code",
   "execution_count": 47,
   "id": "51480a34",
   "metadata": {},
   "outputs": [
    {
     "data": {
      "text/plain": [
       "0     2020-01-01\n",
       "91    2020-04-01\n",
       "182   2020-07-01\n",
       "274   2020-10-01\n",
       "dtype: datetime64[ns]"
      ]
     },
     "execution_count": 47,
     "metadata": {},
     "output_type": "execute_result"
    }
   ],
   "source": [
    "mask = date_series.dt.is_quarter_start\n",
    "date_series[mask]"
   ]
  }
 ],
 "metadata": {
  "kernelspec": {
   "display_name": "Python 3 (ipykernel)",
   "language": "python",
   "name": "python3"
  },
  "language_info": {
   "codemirror_mode": {
    "name": "ipython",
    "version": 3
   },
   "file_extension": ".py",
   "mimetype": "text/x-python",
   "name": "python",
   "nbconvert_exporter": "python",
   "pygments_lexer": "ipython3",
   "version": "3.9.7"
  }
 },
 "nbformat": 4,
 "nbformat_minor": 5
}
