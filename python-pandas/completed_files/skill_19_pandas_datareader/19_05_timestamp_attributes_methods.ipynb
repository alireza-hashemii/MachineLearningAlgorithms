{
 "cells": [
  {
   "cell_type": "markdown",
   "id": "76e697bd",
   "metadata": {},
   "source": [
    "# Timstamp attributes and methods"
   ]
  },
  {
   "cell_type": "markdown",
   "id": "7e3fa97a",
   "metadata": {},
   "source": [
    "### Import libraries"
   ]
  },
  {
   "cell_type": "code",
   "execution_count": 2,
   "id": "ef3f7826",
   "metadata": {},
   "outputs": [],
   "source": [
    "import pandas as pd\n",
    "import datetime as dt\n",
    "from pandas_datareader import data"
   ]
  },
  {
   "cell_type": "markdown",
   "id": "6d8c5a97",
   "metadata": {},
   "source": [
    "### Get Solana cryptocurrency data"
   ]
  },
  {
   "cell_type": "code",
   "execution_count": 3,
   "id": "48b1d348",
   "metadata": {},
   "outputs": [
    {
     "data": {
      "text/html": [
       "<div>\n",
       "<style scoped>\n",
       "    .dataframe tbody tr th:only-of-type {\n",
       "        vertical-align: middle;\n",
       "    }\n",
       "\n",
       "    .dataframe tbody tr th {\n",
       "        vertical-align: top;\n",
       "    }\n",
       "\n",
       "    .dataframe thead th {\n",
       "        text-align: right;\n",
       "    }\n",
       "</style>\n",
       "<table border=\"1\" class=\"dataframe\">\n",
       "  <thead>\n",
       "    <tr style=\"text-align: right;\">\n",
       "      <th></th>\n",
       "      <th>High</th>\n",
       "      <th>Low</th>\n",
       "      <th>Open</th>\n",
       "      <th>Close</th>\n",
       "      <th>Volume</th>\n",
       "      <th>Adj Close</th>\n",
       "    </tr>\n",
       "    <tr>\n",
       "      <th>Date</th>\n",
       "      <th></th>\n",
       "      <th></th>\n",
       "      <th></th>\n",
       "      <th></th>\n",
       "      <th></th>\n",
       "      <th></th>\n",
       "    </tr>\n",
       "  </thead>\n",
       "  <tbody>\n",
       "    <tr>\n",
       "      <th>2020-04-10</th>\n",
       "      <td>1.313487</td>\n",
       "      <td>0.694187</td>\n",
       "      <td>0.832005</td>\n",
       "      <td>0.951054</td>\n",
       "      <td>87364276</td>\n",
       "      <td>0.951054</td>\n",
       "    </tr>\n",
       "    <tr>\n",
       "      <th>2020-04-11</th>\n",
       "      <td>1.049073</td>\n",
       "      <td>0.765020</td>\n",
       "      <td>0.951054</td>\n",
       "      <td>0.776819</td>\n",
       "      <td>43862444</td>\n",
       "      <td>0.776819</td>\n",
       "    </tr>\n",
       "    <tr>\n",
       "      <th>2020-04-12</th>\n",
       "      <td>0.956670</td>\n",
       "      <td>0.762426</td>\n",
       "      <td>0.785448</td>\n",
       "      <td>0.882507</td>\n",
       "      <td>38736897</td>\n",
       "      <td>0.882507</td>\n",
       "    </tr>\n",
       "  </tbody>\n",
       "</table>\n",
       "</div>"
      ],
      "text/plain": [
       "                High       Low      Open     Close    Volume  Adj Close\n",
       "Date                                                                   \n",
       "2020-04-10  1.313487  0.694187  0.832005  0.951054  87364276   0.951054\n",
       "2020-04-11  1.049073  0.765020  0.951054  0.776819  43862444   0.776819\n",
       "2020-04-12  0.956670  0.762426  0.785448  0.882507  38736897   0.882507"
      ]
     },
     "execution_count": 3,
     "metadata": {},
     "output_type": "execute_result"
    }
   ],
   "source": [
    "# you can define crypto currency data without start end\n",
    "# to return all data from the start of SOL to today\n",
    "sol = data.DataReader('SOL-USD','yahoo')\n",
    "sol.head(3)"
   ]
  },
  {
   "cell_type": "markdown",
   "id": "d647b520",
   "metadata": {},
   "source": [
    "### Timestamp attributes"
   ]
  },
  {
   "cell_type": "code",
   "execution_count": 21,
   "id": "bbca0231",
   "metadata": {},
   "outputs": [
    {
     "data": {
      "text/plain": [
       "Timestamp('2020-04-10 00:00:00')"
      ]
     },
     "execution_count": 21,
     "metadata": {},
     "output_type": "execute_result"
    }
   ],
   "source": [
    "first_row = sol.index[0]\n",
    "first_row"
   ]
  },
  {
   "cell_type": "code",
   "execution_count": 24,
   "id": "0ff0fd06",
   "metadata": {},
   "outputs": [
    {
     "data": {
      "text/plain": [
       "4"
      ]
     },
     "execution_count": 24,
     "metadata": {},
     "output_type": "execute_result"
    }
   ],
   "source": [
    "first_row.month"
   ]
  },
  {
   "cell_type": "code",
   "execution_count": 25,
   "id": "bcb34cee",
   "metadata": {},
   "outputs": [
    {
     "data": {
      "text/plain": [
       "15"
      ]
     },
     "execution_count": 25,
     "metadata": {},
     "output_type": "execute_result"
    }
   ],
   "source": [
    "first_row.week"
   ]
  },
  {
   "cell_type": "code",
   "execution_count": 26,
   "id": "5d5526c5",
   "metadata": {},
   "outputs": [
    {
     "data": {
      "text/plain": [
       "10"
      ]
     },
     "execution_count": 26,
     "metadata": {},
     "output_type": "execute_result"
    }
   ],
   "source": [
    "first_row.day"
   ]
  },
  {
   "cell_type": "code",
   "execution_count": 27,
   "id": "62a0b1ed",
   "metadata": {},
   "outputs": [
    {
     "data": {
      "text/plain": [
       "False"
      ]
     },
     "execution_count": 27,
     "metadata": {},
     "output_type": "execute_result"
    }
   ],
   "source": [
    "first_row.is_month_start"
   ]
  },
  {
   "cell_type": "code",
   "execution_count": 28,
   "id": "ec8c2dcc",
   "metadata": {},
   "outputs": [
    {
     "data": {
      "text/plain": [
       "False"
      ]
     },
     "execution_count": 28,
     "metadata": {},
     "output_type": "execute_result"
    }
   ],
   "source": [
    "first_row.is_month_end"
   ]
  },
  {
   "cell_type": "markdown",
   "id": "78357915",
   "metadata": {},
   "source": [
    "### Calendar quarters\n",
    "The standard calendar quarters that make up the year are as follows:\n",
    "\n",
    "- January, February, and March (Q1)\n",
    "- April, May, and June (Q2)\n",
    "- July, August, and September (Q3)\n",
    "- October, November, and December (Q4)"
   ]
  },
  {
   "cell_type": "code",
   "execution_count": 29,
   "id": "c4b96a64",
   "metadata": {},
   "outputs": [
    {
     "data": {
      "text/plain": [
       "False"
      ]
     },
     "execution_count": 29,
     "metadata": {},
     "output_type": "execute_result"
    }
   ],
   "source": [
    "first_row.is_quarter_start"
   ]
  },
  {
   "cell_type": "code",
   "execution_count": 30,
   "id": "aa305751",
   "metadata": {},
   "outputs": [
    {
     "data": {
      "text/plain": [
       "False"
      ]
     },
     "execution_count": 30,
     "metadata": {},
     "output_type": "execute_result"
    }
   ],
   "source": [
    "first_row.is_quarter_end"
   ]
  },
  {
   "cell_type": "markdown",
   "id": "4939a59f",
   "metadata": {},
   "source": [
    "### Timestamp methods"
   ]
  },
  {
   "cell_type": "code",
   "execution_count": 31,
   "id": "fffa627a",
   "metadata": {},
   "outputs": [
    {
     "data": {
      "text/plain": [
       "'April'"
      ]
     },
     "execution_count": 31,
     "metadata": {},
     "output_type": "execute_result"
    }
   ],
   "source": [
    "first_row.month_name()"
   ]
  },
  {
   "cell_type": "code",
   "execution_count": 32,
   "id": "e2cceac7",
   "metadata": {},
   "outputs": [
    {
     "data": {
      "text/plain": [
       "'Friday'"
      ]
     },
     "execution_count": 32,
     "metadata": {},
     "output_type": "execute_result"
    }
   ],
   "source": [
    "first_row.day_name()"
   ]
  },
  {
   "cell_type": "code",
   "execution_count": 36,
   "id": "40324173",
   "metadata": {},
   "outputs": [
    {
     "data": {
      "text/plain": [
       "Index(['April', 'April', 'April', 'April', 'April', 'April', 'April', 'April',\n",
       "       'April', 'April',\n",
       "       ...\n",
       "       'March', 'March', 'March', 'March', 'March', 'March', 'March', 'March',\n",
       "       'March', 'March'],\n",
       "      dtype='object', name='Date', length=706)"
      ]
     },
     "execution_count": 36,
     "metadata": {},
     "output_type": "execute_result"
    }
   ],
   "source": [
    "sol.index.month_name()"
   ]
  },
  {
   "cell_type": "code",
   "execution_count": 37,
   "id": "c5071fce",
   "metadata": {},
   "outputs": [
    {
     "data": {
      "text/plain": [
       "Index(['Friday', 'Saturday', 'Sunday', 'Monday', 'Tuesday', 'Wednesday',\n",
       "       'Thursday', 'Friday', 'Saturday', 'Sunday',\n",
       "       ...\n",
       "       'Monday', 'Tuesday', 'Wednesday', 'Thursday', 'Friday', 'Saturday',\n",
       "       'Sunday', 'Monday', 'Tuesday', 'Wednesday'],\n",
       "      dtype='object', name='Date', length=706)"
      ]
     },
     "execution_count": 37,
     "metadata": {},
     "output_type": "execute_result"
    }
   ],
   "source": [
    "sol.index.day_name()"
   ]
  },
  {
   "cell_type": "code",
   "execution_count": 38,
   "id": "2a240e2c",
   "metadata": {},
   "outputs": [],
   "source": [
    "sol.insert(0, \"Weekday\", sol.index.day_name())"
   ]
  },
  {
   "cell_type": "code",
   "execution_count": 39,
   "id": "ff65d2b6",
   "metadata": {},
   "outputs": [
    {
     "data": {
      "text/html": [
       "<div>\n",
       "<style scoped>\n",
       "    .dataframe tbody tr th:only-of-type {\n",
       "        vertical-align: middle;\n",
       "    }\n",
       "\n",
       "    .dataframe tbody tr th {\n",
       "        vertical-align: top;\n",
       "    }\n",
       "\n",
       "    .dataframe thead th {\n",
       "        text-align: right;\n",
       "    }\n",
       "</style>\n",
       "<table border=\"1\" class=\"dataframe\">\n",
       "  <thead>\n",
       "    <tr style=\"text-align: right;\">\n",
       "      <th></th>\n",
       "      <th>Weekday</th>\n",
       "      <th>High</th>\n",
       "      <th>Low</th>\n",
       "      <th>Open</th>\n",
       "      <th>Close</th>\n",
       "      <th>Volume</th>\n",
       "      <th>Adj Close</th>\n",
       "    </tr>\n",
       "    <tr>\n",
       "      <th>Date</th>\n",
       "      <th></th>\n",
       "      <th></th>\n",
       "      <th></th>\n",
       "      <th></th>\n",
       "      <th></th>\n",
       "      <th></th>\n",
       "      <th></th>\n",
       "    </tr>\n",
       "  </thead>\n",
       "  <tbody>\n",
       "    <tr>\n",
       "      <th>2020-04-10</th>\n",
       "      <td>Friday</td>\n",
       "      <td>1.313487</td>\n",
       "      <td>0.694187</td>\n",
       "      <td>0.832005</td>\n",
       "      <td>0.951054</td>\n",
       "      <td>87364276</td>\n",
       "      <td>0.951054</td>\n",
       "    </tr>\n",
       "    <tr>\n",
       "      <th>2020-04-11</th>\n",
       "      <td>Saturday</td>\n",
       "      <td>1.049073</td>\n",
       "      <td>0.765020</td>\n",
       "      <td>0.951054</td>\n",
       "      <td>0.776819</td>\n",
       "      <td>43862444</td>\n",
       "      <td>0.776819</td>\n",
       "    </tr>\n",
       "    <tr>\n",
       "      <th>2020-04-12</th>\n",
       "      <td>Sunday</td>\n",
       "      <td>0.956670</td>\n",
       "      <td>0.762426</td>\n",
       "      <td>0.785448</td>\n",
       "      <td>0.882507</td>\n",
       "      <td>38736897</td>\n",
       "      <td>0.882507</td>\n",
       "    </tr>\n",
       "    <tr>\n",
       "      <th>2020-04-13</th>\n",
       "      <td>Monday</td>\n",
       "      <td>0.891603</td>\n",
       "      <td>0.773976</td>\n",
       "      <td>0.890760</td>\n",
       "      <td>0.777832</td>\n",
       "      <td>18211285</td>\n",
       "      <td>0.777832</td>\n",
       "    </tr>\n",
       "    <tr>\n",
       "      <th>2020-04-14</th>\n",
       "      <td>Tuesday</td>\n",
       "      <td>0.796472</td>\n",
       "      <td>0.628169</td>\n",
       "      <td>0.777832</td>\n",
       "      <td>0.661925</td>\n",
       "      <td>16747614</td>\n",
       "      <td>0.661925</td>\n",
       "    </tr>\n",
       "    <tr>\n",
       "      <th>...</th>\n",
       "      <td>...</td>\n",
       "      <td>...</td>\n",
       "      <td>...</td>\n",
       "      <td>...</td>\n",
       "      <td>...</td>\n",
       "      <td>...</td>\n",
       "      <td>...</td>\n",
       "    </tr>\n",
       "    <tr>\n",
       "      <th>2022-03-12</th>\n",
       "      <td>Saturday</td>\n",
       "      <td>82.663757</td>\n",
       "      <td>80.722099</td>\n",
       "      <td>80.747520</td>\n",
       "      <td>81.553818</td>\n",
       "      <td>1036290480</td>\n",
       "      <td>81.553818</td>\n",
       "    </tr>\n",
       "    <tr>\n",
       "      <th>2022-03-13</th>\n",
       "      <td>Sunday</td>\n",
       "      <td>82.883034</td>\n",
       "      <td>78.004387</td>\n",
       "      <td>81.531219</td>\n",
       "      <td>78.936073</td>\n",
       "      <td>1316842580</td>\n",
       "      <td>78.936073</td>\n",
       "    </tr>\n",
       "    <tr>\n",
       "      <th>2022-03-14</th>\n",
       "      <td>Monday</td>\n",
       "      <td>82.099304</td>\n",
       "      <td>78.274353</td>\n",
       "      <td>78.925575</td>\n",
       "      <td>81.173340</td>\n",
       "      <td>1676601058</td>\n",
       "      <td>81.173340</td>\n",
       "    </tr>\n",
       "    <tr>\n",
       "      <th>2022-03-15</th>\n",
       "      <td>Tuesday</td>\n",
       "      <td>85.519310</td>\n",
       "      <td>79.071777</td>\n",
       "      <td>81.170059</td>\n",
       "      <td>82.955086</td>\n",
       "      <td>1627848455</td>\n",
       "      <td>82.955086</td>\n",
       "    </tr>\n",
       "    <tr>\n",
       "      <th>2022-03-16</th>\n",
       "      <td>Wednesday</td>\n",
       "      <td>86.827736</td>\n",
       "      <td>81.653244</td>\n",
       "      <td>82.870468</td>\n",
       "      <td>85.972458</td>\n",
       "      <td>2335193344</td>\n",
       "      <td>85.972458</td>\n",
       "    </tr>\n",
       "  </tbody>\n",
       "</table>\n",
       "<p>706 rows × 7 columns</p>\n",
       "</div>"
      ],
      "text/plain": [
       "              Weekday       High        Low       Open      Close      Volume  \\\n",
       "Date                                                                            \n",
       "2020-04-10     Friday   1.313487   0.694187   0.832005   0.951054    87364276   \n",
       "2020-04-11   Saturday   1.049073   0.765020   0.951054   0.776819    43862444   \n",
       "2020-04-12     Sunday   0.956670   0.762426   0.785448   0.882507    38736897   \n",
       "2020-04-13     Monday   0.891603   0.773976   0.890760   0.777832    18211285   \n",
       "2020-04-14    Tuesday   0.796472   0.628169   0.777832   0.661925    16747614   \n",
       "...               ...        ...        ...        ...        ...         ...   \n",
       "2022-03-12   Saturday  82.663757  80.722099  80.747520  81.553818  1036290480   \n",
       "2022-03-13     Sunday  82.883034  78.004387  81.531219  78.936073  1316842580   \n",
       "2022-03-14     Monday  82.099304  78.274353  78.925575  81.173340  1676601058   \n",
       "2022-03-15    Tuesday  85.519310  79.071777  81.170059  82.955086  1627848455   \n",
       "2022-03-16  Wednesday  86.827736  81.653244  82.870468  85.972458  2335193344   \n",
       "\n",
       "            Adj Close  \n",
       "Date                   \n",
       "2020-04-10   0.951054  \n",
       "2020-04-11   0.776819  \n",
       "2020-04-12   0.882507  \n",
       "2020-04-13   0.777832  \n",
       "2020-04-14   0.661925  \n",
       "...               ...  \n",
       "2022-03-12  81.553818  \n",
       "2022-03-13  78.936073  \n",
       "2022-03-14  81.173340  \n",
       "2022-03-15  82.955086  \n",
       "2022-03-16  85.972458  \n",
       "\n",
       "[706 rows x 7 columns]"
      ]
     },
     "execution_count": 39,
     "metadata": {},
     "output_type": "execute_result"
    }
   ],
   "source": [
    "sol"
   ]
  },
  {
   "cell_type": "markdown",
   "id": "3c5027dd",
   "metadata": {},
   "source": [
    "### Now you can filter by weekday!"
   ]
  },
  {
   "cell_type": "code",
   "execution_count": 53,
   "id": "1213ff4c",
   "metadata": {},
   "outputs": [],
   "source": [
    "friyay = sol.loc[sol[\"Weekday\"] == \"Friday\"]"
   ]
  },
  {
   "cell_type": "code",
   "execution_count": 64,
   "id": "8f08bbe7",
   "metadata": {},
   "outputs": [
    {
     "data": {
      "text/plain": [
       "53.011350539061105"
      ]
     },
     "execution_count": 64,
     "metadata": {},
     "output_type": "execute_result"
    }
   ],
   "source": [
    "friyay[\"Adj Close\"].mean()"
   ]
  },
  {
   "cell_type": "code",
   "execution_count": 65,
   "id": "c23b0d89",
   "metadata": {},
   "outputs": [],
   "source": [
    "monay = sol.loc[sol[\"Weekday\"] == \"Monday\"]"
   ]
  },
  {
   "cell_type": "code",
   "execution_count": 67,
   "id": "eead61c3",
   "metadata": {},
   "outputs": [
    {
     "data": {
      "text/plain": [
       "53.45443736149533"
      ]
     },
     "execution_count": 67,
     "metadata": {},
     "output_type": "execute_result"
    }
   ],
   "source": [
    "monay[\"Adj Close\"].mean()"
   ]
  }
 ],
 "metadata": {
  "kernelspec": {
   "display_name": "Python 3 (ipykernel)",
   "language": "python",
   "name": "python3"
  },
  "language_info": {
   "codemirror_mode": {
    "name": "ipython",
    "version": 3
   },
   "file_extension": ".py",
   "mimetype": "text/x-python",
   "name": "python",
   "nbconvert_exporter": "python",
   "pygments_lexer": "ipython3",
   "version": "3.9.7"
  }
 },
 "nbformat": 4,
 "nbformat_minor": 5
}
