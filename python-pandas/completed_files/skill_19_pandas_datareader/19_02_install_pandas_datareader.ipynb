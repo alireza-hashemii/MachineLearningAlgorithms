{
 "cells": [
  {
   "cell_type": "markdown",
   "id": "f7b0de1e",
   "metadata": {},
   "source": [
    "# Pandas `.DataReader()`\n",
    "Be sure that your Jupyter notebook session is running inside of the conda environment you created for these .ipynb files. You don't want to be in the base environment, so be sure to check in the terminal and activate your conda environment if needed.\n",
    "\n",
    "The datareader library is one way to get data from the internet. You could web scrape this data and convert into a DataFrame, but if you don't know how to webscape, datareader is a great way to get started!\n",
    "\n",
    "In the next series of lessons, we'll examin crypto currencies and use their date/time data to get an opportunity to work with live data without web scraping."
   ]
  },
  {
   "cell_type": "code",
   "execution_count": 1,
   "id": "2afe606f",
   "metadata": {
    "scrolled": true
   },
   "outputs": [
    {
     "name": "stdout",
     "output_type": "stream",
     "text": [
      "# conda environments:\r\n",
      "#\r\n",
      "base                     /Users/barrios/opt/anaconda3\r\n",
      "cbtn_pandas           *  /Users/barrios/opt/anaconda3/envs/cbtn_pandas\r\n",
      "pgadmin                  /Users/barrios/opt/anaconda3/envs/pgadmin\r\n",
      "sql_jupyter              /Users/barrios/opt/anaconda3/envs/sql_jupyter\r\n",
      "\r\n"
     ]
    }
   ],
   "source": [
    "# Be sure you are using the right conda environment, not base\n",
    "! conda info --envs"
   ]
  },
  {
   "cell_type": "code",
   "execution_count": null,
   "id": "eeab1b93",
   "metadata": {},
   "outputs": [],
   "source": [
    "# !conda activate cbtn_pandas"
   ]
  },
  {
   "cell_type": "code",
   "execution_count": 2,
   "id": "5aac4950",
   "metadata": {},
   "outputs": [
    {
     "name": "stdout",
     "output_type": "stream",
     "text": [
      "Collecting package metadata (current_repodata.json): done\n",
      "Solving environment: done\n",
      "\n",
      "\n",
      "==> WARNING: A newer version of conda exists. <==\n",
      "  current version: 4.11.0\n",
      "  latest version: 4.12.0\n",
      "\n",
      "Please update conda by running\n",
      "\n",
      "    $ conda update -n base -c defaults conda\n",
      "\n",
      "\n",
      "\n",
      "## Package Plan ##\n",
      "\n",
      "  environment location: /Users/barrios/opt/anaconda3/envs/cbtn_pandas\n",
      "\n",
      "  added / updated specs:\n",
      "    - pandas-datareader\n",
      "\n",
      "\n",
      "The following packages will be downloaded:\n",
      "\n",
      "    package                    |            build\n",
      "    ---------------------------|-----------------\n",
      "    cryptography-36.0.0        |   py39hf6deb26_0         1.2 MB\n",
      "    idna-3.3                   |     pyhd3eb1b0_0          49 KB\n",
      "    lxml-4.8.0                 |   py39h65b224f_0         1.2 MB\n",
      "    pandas-datareader-0.10.0   |     pyhd3eb1b0_0          71 KB\n",
      "    pyopenssl-22.0.0           |     pyhd3eb1b0_0          50 KB\n",
      "    requests-2.27.1            |     pyhd3eb1b0_0          54 KB\n",
      "    urllib3-1.26.8             |     pyhd3eb1b0_0         106 KB\n",
      "    ------------------------------------------------------------\n",
      "                                           Total:         2.7 MB\n",
      "\n",
      "The following NEW packages will be INSTALLED:\n",
      "\n",
      "  brotlipy           pkgs/main/osx-64::brotlipy-0.7.0-py39h9ed2024_1003\n",
      "  charset-normalizer pkgs/main/noarch::charset-normalizer-2.0.4-pyhd3eb1b0_0\n",
      "  cryptography       pkgs/main/osx-64::cryptography-36.0.0-py39hf6deb26_0\n",
      "  icu                pkgs/main/osx-64::icu-58.2-h0a44026_3\n",
      "  idna               pkgs/main/noarch::idna-3.3-pyhd3eb1b0_0\n",
      "  libiconv           pkgs/main/osx-64::libiconv-1.16-h1de35cc_0\n",
      "  libxml2            pkgs/main/osx-64::libxml2-2.9.12-hcdb78fc_0\n",
      "  libxslt            pkgs/main/osx-64::libxslt-1.1.34-h83b36ba_0\n",
      "  lxml               pkgs/main/osx-64::lxml-4.8.0-py39h65b224f_0\n",
      "  pandas-datareader  pkgs/main/noarch::pandas-datareader-0.10.0-pyhd3eb1b0_0\n",
      "  pyopenssl          pkgs/main/noarch::pyopenssl-22.0.0-pyhd3eb1b0_0\n",
      "  pysocks            pkgs/main/osx-64::pysocks-1.7.1-py39hecd8cb5_0\n",
      "  requests           pkgs/main/noarch::requests-2.27.1-pyhd3eb1b0_0\n",
      "  urllib3            pkgs/main/noarch::urllib3-1.26.8-pyhd3eb1b0_0\n",
      "\n",
      "\n",
      "\n",
      "Downloading and Extracting Packages\n",
      "urllib3-1.26.8       | 106 KB    | ##################################### | 100% \n",
      "lxml-4.8.0           | 1.2 MB    | ##################################### | 100% \n",
      "cryptography-36.0.0  | 1.2 MB    | ##################################### | 100% \n",
      "pandas-datareader-0. | 71 KB     | ##################################### | 100% \n",
      "pyopenssl-22.0.0     | 50 KB     | ##################################### | 100% \n",
      "requests-2.27.1      | 54 KB     | ##################################### | 100% \n",
      "idna-3.3             | 49 KB     | ##################################### | 100% \n",
      "Preparing transaction: done\n",
      "Verifying transaction: done\n",
      "Executing transaction: done\n"
     ]
    }
   ],
   "source": [
    "# install data reader library, the -y flag silently agrees to install\n",
    "# normally conda would ask you if you want to install a package\n",
    "!conda install pandas-datareader -y"
   ]
  }
 ],
 "metadata": {
  "kernelspec": {
   "display_name": "Python 3 (ipykernel)",
   "language": "python",
   "name": "python3"
  },
  "language_info": {
   "codemirror_mode": {
    "name": "ipython",
    "version": 3
   },
   "file_extension": ".py",
   "mimetype": "text/x-python",
   "name": "python",
   "nbconvert_exporter": "python",
   "pygments_lexer": "ipython3",
   "version": "3.9.7"
  }
 },
 "nbformat": 4,
 "nbformat_minor": 5
}
