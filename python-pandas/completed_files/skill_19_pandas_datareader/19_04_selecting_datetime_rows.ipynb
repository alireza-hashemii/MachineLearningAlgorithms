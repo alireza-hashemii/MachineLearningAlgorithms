{
 "cells": [
  {
   "cell_type": "markdown",
   "id": "76e697bd",
   "metadata": {},
   "source": [
    "# Select `.DatetimeIndex` rows with `.loc[ ] ` & `.iloc[ ]`"
   ]
  },
  {
   "cell_type": "markdown",
   "id": "7e3fa97a",
   "metadata": {},
   "source": [
    "### Import libraries"
   ]
  },
  {
   "cell_type": "code",
   "execution_count": 1,
   "id": "ef3f7826",
   "metadata": {},
   "outputs": [],
   "source": [
    "import pandas as pd\n",
    "import datetime as dt\n",
    "from pandas_datareader import data"
   ]
  },
  {
   "cell_type": "markdown",
   "id": "6d8c5a97",
   "metadata": {},
   "source": [
    "### Get Solana cryptocurrency data"
   ]
  },
  {
   "cell_type": "code",
   "execution_count": 2,
   "id": "48b1d348",
   "metadata": {},
   "outputs": [
    {
     "data": {
      "text/html": [
       "<div>\n",
       "<style scoped>\n",
       "    .dataframe tbody tr th:only-of-type {\n",
       "        vertical-align: middle;\n",
       "    }\n",
       "\n",
       "    .dataframe tbody tr th {\n",
       "        vertical-align: top;\n",
       "    }\n",
       "\n",
       "    .dataframe thead th {\n",
       "        text-align: right;\n",
       "    }\n",
       "</style>\n",
       "<table border=\"1\" class=\"dataframe\">\n",
       "  <thead>\n",
       "    <tr style=\"text-align: right;\">\n",
       "      <th></th>\n",
       "      <th>High</th>\n",
       "      <th>Low</th>\n",
       "      <th>Open</th>\n",
       "      <th>Close</th>\n",
       "      <th>Volume</th>\n",
       "      <th>Adj Close</th>\n",
       "    </tr>\n",
       "    <tr>\n",
       "      <th>Date</th>\n",
       "      <th></th>\n",
       "      <th></th>\n",
       "      <th></th>\n",
       "      <th></th>\n",
       "      <th></th>\n",
       "      <th></th>\n",
       "    </tr>\n",
       "  </thead>\n",
       "  <tbody>\n",
       "    <tr>\n",
       "      <th>2020-04-10</th>\n",
       "      <td>1.313487</td>\n",
       "      <td>0.694187</td>\n",
       "      <td>0.832005</td>\n",
       "      <td>0.951054</td>\n",
       "      <td>87364276</td>\n",
       "      <td>0.951054</td>\n",
       "    </tr>\n",
       "    <tr>\n",
       "      <th>2020-04-11</th>\n",
       "      <td>1.049073</td>\n",
       "      <td>0.765020</td>\n",
       "      <td>0.951054</td>\n",
       "      <td>0.776819</td>\n",
       "      <td>43862444</td>\n",
       "      <td>0.776819</td>\n",
       "    </tr>\n",
       "    <tr>\n",
       "      <th>2020-04-12</th>\n",
       "      <td>0.956670</td>\n",
       "      <td>0.762426</td>\n",
       "      <td>0.785448</td>\n",
       "      <td>0.882507</td>\n",
       "      <td>38736897</td>\n",
       "      <td>0.882507</td>\n",
       "    </tr>\n",
       "  </tbody>\n",
       "</table>\n",
       "</div>"
      ],
      "text/plain": [
       "                High       Low      Open     Close    Volume  Adj Close\n",
       "Date                                                                   \n",
       "2020-04-10  1.313487  0.694187  0.832005  0.951054  87364276   0.951054\n",
       "2020-04-11  1.049073  0.765020  0.951054  0.776819  43862444   0.776819\n",
       "2020-04-12  0.956670  0.762426  0.785448  0.882507  38736897   0.882507"
      ]
     },
     "execution_count": 2,
     "metadata": {},
     "output_type": "execute_result"
    }
   ],
   "source": [
    "# you can define crypto currency data without start end\n",
    "# to return all data from the start of SOL to today\n",
    "sol = data.DataReader('SOL-USD','yahoo')\n",
    "sol.head(3)"
   ]
  },
  {
   "cell_type": "markdown",
   "id": "d647b520",
   "metadata": {},
   "source": [
    "### Returning rows with `.loc[ ]`"
   ]
  },
  {
   "cell_type": "code",
   "execution_count": 3,
   "id": "407cbb0d",
   "metadata": {
    "scrolled": true
   },
   "outputs": [
    {
     "data": {
      "text/plain": [
       "High         1.313487e+00\n",
       "Low          6.941870e-01\n",
       "Open         8.320050e-01\n",
       "Close        9.510540e-01\n",
       "Volume       8.736428e+07\n",
       "Adj Close    9.510540e-01\n",
       "Name: 2020-04-10 00:00:00, dtype: float64"
      ]
     },
     "execution_count": 3,
     "metadata": {},
     "output_type": "execute_result"
    }
   ],
   "source": [
    "# return the first row with an index label\n",
    "sol.loc[\"2020-04-10\"]"
   ]
  },
  {
   "cell_type": "code",
   "execution_count": 4,
   "id": "0fd08667",
   "metadata": {},
   "outputs": [
    {
     "name": "stdout",
     "output_type": "stream",
     "text": [
      "1.313487\n"
     ]
    }
   ],
   "source": [
    "# what is 6.941870e-01? Aprox 1.3\n",
    "print(float(1.313487e+00))"
   ]
  },
  {
   "cell_type": "code",
   "execution_count": 5,
   "id": "3e7f1a26",
   "metadata": {},
   "outputs": [
    {
     "name": "stdout",
     "output_type": "stream",
     "text": [
      "87364280.0\n"
     ]
    }
   ],
   "source": [
    "# what is 8.736428e+07? Aprox 87 million\n",
    "print(float(8.736428e+07))"
   ]
  },
  {
   "cell_type": "markdown",
   "id": "ecae8f6a",
   "metadata": {},
   "source": [
    "### Returning rows with `.iloc[ ]`"
   ]
  },
  {
   "cell_type": "code",
   "execution_count": 6,
   "id": "90b28d3d",
   "metadata": {},
   "outputs": [
    {
     "data": {
      "text/plain": [
       "High         1.313487e+00\n",
       "Low          6.941870e-01\n",
       "Open         8.320050e-01\n",
       "Close        9.510540e-01\n",
       "Volume       8.736428e+07\n",
       "Adj Close    9.510540e-01\n",
       "Name: 2020-04-10 00:00:00, dtype: float64"
      ]
     },
     "execution_count": 6,
     "metadata": {},
     "output_type": "execute_result"
    }
   ],
   "source": [
    "# return the first row by index label\n",
    "sol.iloc[0]"
   ]
  },
  {
   "cell_type": "code",
   "execution_count": 7,
   "id": "63c6b1c7",
   "metadata": {},
   "outputs": [
    {
     "data": {
      "text/plain": [
       "High         8.682774e+01\n",
       "Low          8.165324e+01\n",
       "Open         8.287047e+01\n",
       "Close        8.612289e+01\n",
       "Volume       2.335714e+09\n",
       "Adj Close    8.612289e+01\n",
       "Name: 2022-03-16 00:00:00, dtype: float64"
      ]
     },
     "execution_count": 7,
     "metadata": {},
     "output_type": "execute_result"
    }
   ],
   "source": [
    "# return the last row by index label\n",
    "sol.iloc[-1]"
   ]
  },
  {
   "cell_type": "markdown",
   "id": "4699b1ce",
   "metadata": {},
   "source": [
    "### Returning row by multiple date and date ranges"
   ]
  },
  {
   "cell_type": "code",
   "execution_count": 8,
   "id": "dda91270",
   "metadata": {},
   "outputs": [
    {
     "data": {
      "text/html": [
       "<div>\n",
       "<style scoped>\n",
       "    .dataframe tbody tr th:only-of-type {\n",
       "        vertical-align: middle;\n",
       "    }\n",
       "\n",
       "    .dataframe tbody tr th {\n",
       "        vertical-align: top;\n",
       "    }\n",
       "\n",
       "    .dataframe thead th {\n",
       "        text-align: right;\n",
       "    }\n",
       "</style>\n",
       "<table border=\"1\" class=\"dataframe\">\n",
       "  <thead>\n",
       "    <tr style=\"text-align: right;\">\n",
       "      <th></th>\n",
       "      <th>High</th>\n",
       "      <th>Low</th>\n",
       "      <th>Open</th>\n",
       "      <th>Close</th>\n",
       "      <th>Volume</th>\n",
       "      <th>Adj Close</th>\n",
       "    </tr>\n",
       "    <tr>\n",
       "      <th>Date</th>\n",
       "      <th></th>\n",
       "      <th></th>\n",
       "      <th></th>\n",
       "      <th></th>\n",
       "      <th></th>\n",
       "      <th></th>\n",
       "    </tr>\n",
       "  </thead>\n",
       "  <tbody>\n",
       "    <tr>\n",
       "      <th>2020-04-10</th>\n",
       "      <td>1.313487</td>\n",
       "      <td>0.694187</td>\n",
       "      <td>0.832005</td>\n",
       "      <td>0.951054</td>\n",
       "      <td>87364276</td>\n",
       "      <td>0.951054</td>\n",
       "    </tr>\n",
       "    <tr>\n",
       "      <th>2020-04-14</th>\n",
       "      <td>0.796472</td>\n",
       "      <td>0.628169</td>\n",
       "      <td>0.777832</td>\n",
       "      <td>0.661925</td>\n",
       "      <td>16747614</td>\n",
       "      <td>0.661925</td>\n",
       "    </tr>\n",
       "  </tbody>\n",
       "</table>\n",
       "</div>"
      ],
      "text/plain": [
       "                High       Low      Open     Close    Volume  Adj Close\n",
       "Date                                                                   \n",
       "2020-04-10  1.313487  0.694187  0.832005  0.951054  87364276   0.951054\n",
       "2020-04-14  0.796472  0.628169  0.777832  0.661925  16747614   0.661925"
      ]
     },
     "execution_count": 8,
     "metadata": {},
     "output_type": "execute_result"
    }
   ],
   "source": [
    "# return multiple rows by index label\n",
    "sol.loc[[\"2020-04-10\", \"2020-04-14\"]]"
   ]
  },
  {
   "cell_type": "code",
   "execution_count": 9,
   "id": "cbd562c7",
   "metadata": {},
   "outputs": [
    {
     "data": {
      "text/html": [
       "<div>\n",
       "<style scoped>\n",
       "    .dataframe tbody tr th:only-of-type {\n",
       "        vertical-align: middle;\n",
       "    }\n",
       "\n",
       "    .dataframe tbody tr th {\n",
       "        vertical-align: top;\n",
       "    }\n",
       "\n",
       "    .dataframe thead th {\n",
       "        text-align: right;\n",
       "    }\n",
       "</style>\n",
       "<table border=\"1\" class=\"dataframe\">\n",
       "  <thead>\n",
       "    <tr style=\"text-align: right;\">\n",
       "      <th></th>\n",
       "      <th>High</th>\n",
       "      <th>Low</th>\n",
       "      <th>Open</th>\n",
       "      <th>Close</th>\n",
       "      <th>Volume</th>\n",
       "      <th>Adj Close</th>\n",
       "    </tr>\n",
       "    <tr>\n",
       "      <th>Date</th>\n",
       "      <th></th>\n",
       "      <th></th>\n",
       "      <th></th>\n",
       "      <th></th>\n",
       "      <th></th>\n",
       "      <th></th>\n",
       "    </tr>\n",
       "  </thead>\n",
       "  <tbody>\n",
       "    <tr>\n",
       "      <th>2020-04-10</th>\n",
       "      <td>1.313487</td>\n",
       "      <td>0.694187</td>\n",
       "      <td>0.832005</td>\n",
       "      <td>0.951054</td>\n",
       "      <td>87364276</td>\n",
       "      <td>0.951054</td>\n",
       "    </tr>\n",
       "    <tr>\n",
       "      <th>2020-04-11</th>\n",
       "      <td>1.049073</td>\n",
       "      <td>0.765020</td>\n",
       "      <td>0.951054</td>\n",
       "      <td>0.776819</td>\n",
       "      <td>43862444</td>\n",
       "      <td>0.776819</td>\n",
       "    </tr>\n",
       "    <tr>\n",
       "      <th>2020-04-12</th>\n",
       "      <td>0.956670</td>\n",
       "      <td>0.762426</td>\n",
       "      <td>0.785448</td>\n",
       "      <td>0.882507</td>\n",
       "      <td>38736897</td>\n",
       "      <td>0.882507</td>\n",
       "    </tr>\n",
       "    <tr>\n",
       "      <th>2020-04-13</th>\n",
       "      <td>0.891603</td>\n",
       "      <td>0.773976</td>\n",
       "      <td>0.890760</td>\n",
       "      <td>0.777832</td>\n",
       "      <td>18211285</td>\n",
       "      <td>0.777832</td>\n",
       "    </tr>\n",
       "    <tr>\n",
       "      <th>2020-04-14</th>\n",
       "      <td>0.796472</td>\n",
       "      <td>0.628169</td>\n",
       "      <td>0.777832</td>\n",
       "      <td>0.661925</td>\n",
       "      <td>16747614</td>\n",
       "      <td>0.661925</td>\n",
       "    </tr>\n",
       "    <tr>\n",
       "      <th>2020-04-15</th>\n",
       "      <td>0.704964</td>\n",
       "      <td>0.621531</td>\n",
       "      <td>0.669289</td>\n",
       "      <td>0.646651</td>\n",
       "      <td>13075275</td>\n",
       "      <td>0.646651</td>\n",
       "    </tr>\n",
       "  </tbody>\n",
       "</table>\n",
       "</div>"
      ],
      "text/plain": [
       "                High       Low      Open     Close    Volume  Adj Close\n",
       "Date                                                                   \n",
       "2020-04-10  1.313487  0.694187  0.832005  0.951054  87364276   0.951054\n",
       "2020-04-11  1.049073  0.765020  0.951054  0.776819  43862444   0.776819\n",
       "2020-04-12  0.956670  0.762426  0.785448  0.882507  38736897   0.882507\n",
       "2020-04-13  0.891603  0.773976  0.890760  0.777832  18211285   0.777832\n",
       "2020-04-14  0.796472  0.628169  0.777832  0.661925  16747614   0.661925\n",
       "2020-04-15  0.704964  0.621531  0.669289  0.646651  13075275   0.646651"
      ]
     },
     "execution_count": 9,
     "metadata": {},
     "output_type": "execute_result"
    }
   ],
   "source": [
    "# return multiple rows by index label range (inclusive)\n",
    "sol.loc[\"2020-04-10\":\"2020-04-15\"]"
   ]
  },
  {
   "cell_type": "code",
   "execution_count": 10,
   "id": "9d9bdc04",
   "metadata": {},
   "outputs": [
    {
     "data": {
      "text/html": [
       "<div>\n",
       "<style scoped>\n",
       "    .dataframe tbody tr th:only-of-type {\n",
       "        vertical-align: middle;\n",
       "    }\n",
       "\n",
       "    .dataframe tbody tr th {\n",
       "        vertical-align: top;\n",
       "    }\n",
       "\n",
       "    .dataframe thead th {\n",
       "        text-align: right;\n",
       "    }\n",
       "</style>\n",
       "<table border=\"1\" class=\"dataframe\">\n",
       "  <thead>\n",
       "    <tr style=\"text-align: right;\">\n",
       "      <th></th>\n",
       "      <th>High</th>\n",
       "      <th>Low</th>\n",
       "      <th>Open</th>\n",
       "      <th>Close</th>\n",
       "      <th>Volume</th>\n",
       "      <th>Adj Close</th>\n",
       "    </tr>\n",
       "    <tr>\n",
       "      <th>Date</th>\n",
       "      <th></th>\n",
       "      <th></th>\n",
       "      <th></th>\n",
       "      <th></th>\n",
       "      <th></th>\n",
       "      <th></th>\n",
       "    </tr>\n",
       "  </thead>\n",
       "  <tbody>\n",
       "    <tr>\n",
       "      <th>2020-04-10</th>\n",
       "      <td>1.313487</td>\n",
       "      <td>0.694187</td>\n",
       "      <td>0.832005</td>\n",
       "      <td>0.951054</td>\n",
       "      <td>87364276</td>\n",
       "      <td>0.951054</td>\n",
       "    </tr>\n",
       "    <tr>\n",
       "      <th>2020-04-11</th>\n",
       "      <td>1.049073</td>\n",
       "      <td>0.765020</td>\n",
       "      <td>0.951054</td>\n",
       "      <td>0.776819</td>\n",
       "      <td>43862444</td>\n",
       "      <td>0.776819</td>\n",
       "    </tr>\n",
       "    <tr>\n",
       "      <th>2020-04-12</th>\n",
       "      <td>0.956670</td>\n",
       "      <td>0.762426</td>\n",
       "      <td>0.785448</td>\n",
       "      <td>0.882507</td>\n",
       "      <td>38736897</td>\n",
       "      <td>0.882507</td>\n",
       "    </tr>\n",
       "    <tr>\n",
       "      <th>2020-04-13</th>\n",
       "      <td>0.891603</td>\n",
       "      <td>0.773976</td>\n",
       "      <td>0.890760</td>\n",
       "      <td>0.777832</td>\n",
       "      <td>18211285</td>\n",
       "      <td>0.777832</td>\n",
       "    </tr>\n",
       "    <tr>\n",
       "      <th>2020-04-14</th>\n",
       "      <td>0.796472</td>\n",
       "      <td>0.628169</td>\n",
       "      <td>0.777832</td>\n",
       "      <td>0.661925</td>\n",
       "      <td>16747614</td>\n",
       "      <td>0.661925</td>\n",
       "    </tr>\n",
       "    <tr>\n",
       "      <th>2020-04-15</th>\n",
       "      <td>0.704964</td>\n",
       "      <td>0.621531</td>\n",
       "      <td>0.669289</td>\n",
       "      <td>0.646651</td>\n",
       "      <td>13075275</td>\n",
       "      <td>0.646651</td>\n",
       "    </tr>\n",
       "  </tbody>\n",
       "</table>\n",
       "</div>"
      ],
      "text/plain": [
       "                High       Low      Open     Close    Volume  Adj Close\n",
       "Date                                                                   \n",
       "2020-04-10  1.313487  0.694187  0.832005  0.951054  87364276   0.951054\n",
       "2020-04-11  1.049073  0.765020  0.951054  0.776819  43862444   0.776819\n",
       "2020-04-12  0.956670  0.762426  0.785448  0.882507  38736897   0.882507\n",
       "2020-04-13  0.891603  0.773976  0.890760  0.777832  18211285   0.777832\n",
       "2020-04-14  0.796472  0.628169  0.777832  0.661925  16747614   0.661925\n",
       "2020-04-15  0.704964  0.621531  0.669289  0.646651  13075275   0.646651"
      ]
     },
     "execution_count": 10,
     "metadata": {},
     "output_type": "execute_result"
    }
   ],
   "source": [
    "# return multiple rows by index (exclusive)\n",
    "sol.iloc[0:6]"
   ]
  }
 ],
 "metadata": {
  "kernelspec": {
   "display_name": "Python 3 (ipykernel)",
   "language": "python",
   "name": "python3"
  },
  "language_info": {
   "codemirror_mode": {
    "name": "ipython",
    "version": 3
   },
   "file_extension": ".py",
   "mimetype": "text/x-python",
   "name": "python",
   "nbconvert_exporter": "python",
   "pygments_lexer": "ipython3",
   "version": "3.9.7"
  }
 },
 "nbformat": 4,
 "nbformat_minor": 5
}
