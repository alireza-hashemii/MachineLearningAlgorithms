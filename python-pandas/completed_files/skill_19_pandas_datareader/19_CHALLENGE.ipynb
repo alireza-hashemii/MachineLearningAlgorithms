{
 "cells": [
  {
   "cell_type": "markdown",
   "id": "1734944c",
   "metadata": {},
   "source": [
    "# CODE CHALLENGE"
   ]
  },
  {
   "cell_type": "markdown",
   "id": "22b47ff1",
   "metadata": {},
   "source": [
    "### Import libraries"
   ]
  },
  {
   "cell_type": "code",
   "execution_count": 4,
   "id": "f43f4727",
   "metadata": {},
   "outputs": [],
   "source": [
    "import pandas as pd\n",
    "import datetime as dt\n",
    "from pandas_datareader import data"
   ]
  },
  {
   "cell_type": "markdown",
   "id": "6d8c5a97",
   "metadata": {},
   "source": [
    "### Get Solana cryptocurrency data"
   ]
  },
  {
   "cell_type": "code",
   "execution_count": 5,
   "id": "48b1d348",
   "metadata": {},
   "outputs": [
    {
     "data": {
      "text/html": [
       "<div>\n",
       "<style scoped>\n",
       "    .dataframe tbody tr th:only-of-type {\n",
       "        vertical-align: middle;\n",
       "    }\n",
       "\n",
       "    .dataframe tbody tr th {\n",
       "        vertical-align: top;\n",
       "    }\n",
       "\n",
       "    .dataframe thead th {\n",
       "        text-align: right;\n",
       "    }\n",
       "</style>\n",
       "<table border=\"1\" class=\"dataframe\">\n",
       "  <thead>\n",
       "    <tr style=\"text-align: right;\">\n",
       "      <th></th>\n",
       "      <th>High</th>\n",
       "      <th>Low</th>\n",
       "      <th>Open</th>\n",
       "      <th>Close</th>\n",
       "      <th>Volume</th>\n",
       "      <th>Adj Close</th>\n",
       "    </tr>\n",
       "    <tr>\n",
       "      <th>Date</th>\n",
       "      <th></th>\n",
       "      <th></th>\n",
       "      <th></th>\n",
       "      <th></th>\n",
       "      <th></th>\n",
       "      <th></th>\n",
       "    </tr>\n",
       "  </thead>\n",
       "  <tbody>\n",
       "    <tr>\n",
       "      <th>2020-04-10</th>\n",
       "      <td>1.313487</td>\n",
       "      <td>0.694187</td>\n",
       "      <td>0.832005</td>\n",
       "      <td>0.951054</td>\n",
       "      <td>87364276</td>\n",
       "      <td>0.951054</td>\n",
       "    </tr>\n",
       "    <tr>\n",
       "      <th>2020-04-11</th>\n",
       "      <td>1.049073</td>\n",
       "      <td>0.765020</td>\n",
       "      <td>0.951054</td>\n",
       "      <td>0.776819</td>\n",
       "      <td>43862444</td>\n",
       "      <td>0.776819</td>\n",
       "    </tr>\n",
       "    <tr>\n",
       "      <th>2020-04-12</th>\n",
       "      <td>0.956670</td>\n",
       "      <td>0.762426</td>\n",
       "      <td>0.785448</td>\n",
       "      <td>0.882507</td>\n",
       "      <td>38736897</td>\n",
       "      <td>0.882507</td>\n",
       "    </tr>\n",
       "  </tbody>\n",
       "</table>\n",
       "</div>"
      ],
      "text/plain": [
       "                High       Low      Open     Close    Volume  Adj Close\n",
       "Date                                                                   \n",
       "2020-04-10  1.313487  0.694187  0.832005  0.951054  87364276   0.951054\n",
       "2020-04-11  1.049073  0.765020  0.951054  0.776819  43862444   0.776819\n",
       "2020-04-12  0.956670  0.762426  0.785448  0.882507  38736897   0.882507"
      ]
     },
     "execution_count": 5,
     "metadata": {},
     "output_type": "execute_result"
    }
   ],
   "source": [
    "# you can define crypto currency data without start end\n",
    "# to return all data from the start of SOL to today\n",
    "sol = data.DataReader('SOL-USD','yahoo')\n",
    "sol.head(3)"
   ]
  },
  {
   "cell_type": "markdown",
   "id": "65d58529",
   "metadata": {},
   "source": [
    "### What was the SOL Open price for every month?\n",
    "Between `2020-04-10` and `2022-03-16`?"
   ]
  },
  {
   "cell_type": "code",
   "execution_count": 6,
   "id": "14615d19",
   "metadata": {},
   "outputs": [],
   "source": [
    "nyd = pd.date_range(start = \"2020-04-10\", end = \"2022-03-16\", freq = \"M\")"
   ]
  },
  {
   "cell_type": "code",
   "execution_count": 7,
   "id": "dfbea4a9",
   "metadata": {},
   "outputs": [],
   "source": [
    "mask = sol.index.isin(nyd)"
   ]
  },
  {
   "cell_type": "markdown",
   "id": "2fb1f9ee",
   "metadata": {},
   "source": [
    "### Now you can filter by weekday!"
   ]
  },
  {
   "cell_type": "code",
   "execution_count": 9,
   "id": "e8979e9c",
   "metadata": {},
   "outputs": [],
   "source": [
    "# add new column with weekday names\n",
    "sol.insert(0, \"Weekday\", sol.index.day_name())"
   ]
  },
  {
   "cell_type": "code",
   "execution_count": 10,
   "id": "67ace863",
   "metadata": {},
   "outputs": [],
   "source": [
    "friyay = sol.loc[sol[\"Weekday\"] == \"Friday\"]"
   ]
  },
  {
   "cell_type": "code",
   "execution_count": 11,
   "id": "861db76e",
   "metadata": {},
   "outputs": [
    {
     "data": {
      "text/plain": [
       "53.011350539061105"
      ]
     },
     "execution_count": 11,
     "metadata": {},
     "output_type": "execute_result"
    }
   ],
   "source": [
    "friyay[\"Adj Close\"].mean()"
   ]
  },
  {
   "cell_type": "code",
   "execution_count": 12,
   "id": "9b4d3054",
   "metadata": {},
   "outputs": [],
   "source": [
    "monyay = sol.loc[sol[\"Weekday\"] == \"Monday\"]"
   ]
  },
  {
   "cell_type": "code",
   "execution_count": 13,
   "id": "24a1143a",
   "metadata": {},
   "outputs": [
    {
     "data": {
      "text/plain": [
       "53.45443736149533"
      ]
     },
     "execution_count": 13,
     "metadata": {},
     "output_type": "execute_result"
    }
   ],
   "source": [
    "monyay[\"Adj Close\"].mean()"
   ]
  },
  {
   "cell_type": "markdown",
   "id": "c5339cd5",
   "metadata": {},
   "source": [
    "### Which weekday has the highest mean Adj Close price? Friday or Monday?"
   ]
  }
 ],
 "metadata": {
  "kernelspec": {
   "display_name": "Python 3 (ipykernel)",
   "language": "python",
   "name": "python3"
  },
  "language_info": {
   "codemirror_mode": {
    "name": "ipython",
    "version": 3
   },
   "file_extension": ".py",
   "mimetype": "text/x-python",
   "name": "python",
   "nbconvert_exporter": "python",
   "pygments_lexer": "ipython3",
   "version": "3.9.7"
  }
 },
 "nbformat": 4,
 "nbformat_minor": 5
}
