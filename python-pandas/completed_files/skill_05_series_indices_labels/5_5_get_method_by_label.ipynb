{
 "cells": [
  {
   "cell_type": "markdown",
   "metadata": {},
   "source": [
    "# `get()` Method by Label"
   ]
  },
  {
   "cell_type": "markdown",
   "metadata": {},
   "source": [
    "### Import Pandas"
   ]
  },
  {
   "cell_type": "code",
   "execution_count": 2,
   "metadata": {},
   "outputs": [],
   "source": [
    "import pandas as pd"
   ]
  },
  {
   "cell_type": "markdown",
   "metadata": {},
   "source": [
    "### Read CSV as series"
   ]
  },
  {
   "cell_type": "code",
   "execution_count": 3,
   "metadata": {},
   "outputs": [
    {
     "data": {
      "text/plain": [
       "scientific_name\n",
       "Cercatetus concinnus           Azerbaijan\n",
       "Lutra canadensis               Kazakhstan\n",
       "Alopex lagopus                      China\n",
       "Macropus eugenii              Philippines\n",
       "Calyptorhynchus magnificus       Cambodia\n",
       "                                 ...     \n",
       "Anas platyrhynchos                  China\n",
       "Isoodon obesulus                    China\n",
       "Upupa epops                        Poland\n",
       "Ratufa indica                      Angola\n",
       "Columba palumbus                   Canada\n",
       "Name: country, Length: 1000, dtype: object"
      ]
     },
     "execution_count": 3,
     "metadata": {},
     "output_type": "execute_result"
    }
   ],
   "source": [
    "# replace index with column data as Series\n",
    "a_names = pd.read_csv('animal_names.csv', index_col=['scientific_name']).squeeze()\n",
    "a_names"
   ]
  },
  {
   "cell_type": "markdown",
   "metadata": {},
   "source": [
    "### `sort_index()` No Mutation"
   ]
  },
  {
   "cell_type": "code",
   "execution_count": 4,
   "metadata": {},
   "outputs": [
    {
     "data": {
      "text/plain": [
       "sci_name\n",
       "Acanthaster planci                               China\n",
       "Acinynox jubatus                               Ukraine\n",
       "Acrantophis madagascariensis                     China\n",
       "Acrantophis madagascariensis                     China\n",
       "Acrantophis madagascariensis                     China\n",
       "                                         ...          \n",
       "unavailable                                      China\n",
       "unavailable                                   Portugal\n",
       "unavailable                                      Yemen\n",
       "unavailable                     Bosnia and Herzegovina\n",
       "unavailable                                    Morocco\n",
       "Name: country, Length: 1000, dtype: object"
      ]
     },
     "execution_count": 4,
     "metadata": {},
     "output_type": "execute_result"
    }
   ],
   "source": [
    "# sort by index | not permanent\n",
    "a_names.sort_index()"
   ]
  },
  {
   "cell_type": "markdown",
   "metadata": {},
   "source": [
    "### `sort_index()` Mutation"
   ]
  },
  {
   "cell_type": "code",
   "execution_count": 5,
   "metadata": {},
   "outputs": [],
   "source": [
    "# sort by index | muated using inplace\n",
    "a_names.sort_index(inplace=True)"
   ]
  },
  {
   "cell_type": "code",
   "execution_count": 7,
   "metadata": {},
   "outputs": [
    {
     "data": {
      "text/plain": [
       "sci_name\n",
       "Acanthaster planci                               China\n",
       "Acinynox jubatus                               Ukraine\n",
       "Acrantophis madagascariensis                     China\n",
       "Acrantophis madagascariensis                     China\n",
       "Acrantophis madagascariensis                     China\n",
       "                                         ...          \n",
       "unavailable                                      China\n",
       "unavailable                                   Portugal\n",
       "unavailable                                      Yemen\n",
       "unavailable                     Bosnia and Herzegovina\n",
       "unavailable                                    Morocco\n",
       "Name: country, Length: 1000, dtype: object"
      ]
     },
     "execution_count": 7,
     "metadata": {},
     "output_type": "execute_result"
    }
   ],
   "source": [
    "# it is now permanently sorted\n",
    "a_names"
   ]
  },
  {
   "cell_type": "markdown",
   "metadata": {},
   "source": [
    "### `get()` by Index"
   ]
  },
  {
   "cell_type": "code",
   "execution_count": 9,
   "metadata": {},
   "outputs": [
    {
     "data": {
      "text/plain": [
       "'China'"
      ]
     },
     "execution_count": 9,
     "metadata": {},
     "output_type": "execute_result"
    }
   ],
   "source": [
    "# get by index\n",
    "a_names.get(0)"
   ]
  },
  {
   "cell_type": "markdown",
   "metadata": {},
   "source": [
    "### `get()` by Label"
   ]
  },
  {
   "cell_type": "code",
   "execution_count": 10,
   "metadata": {},
   "outputs": [
    {
     "data": {
      "text/plain": [
       "'Kazakhstan'"
      ]
     },
     "execution_count": 10,
     "metadata": {},
     "output_type": "execute_result"
    }
   ],
   "source": [
    "# get by label\n",
    "a_names.get(\"Lutra canadensis\")"
   ]
  },
  {
   "cell_type": "markdown",
   "metadata": {},
   "source": [
    "### Non-existant Index Labels"
   ]
  },
  {
   "cell_type": "code",
   "execution_count": 2,
   "metadata": {},
   "outputs": [],
   "source": [
    "# if you use get for non-existant index of label, you get nothing back, why is that?\n",
    "a_names.get(\"fox\")"
   ]
  },
  {
   "cell_type": "code",
   "execution_count": 12,
   "metadata": {},
   "outputs": [],
   "source": [
    "# again, nothing is returned\n",
    "a_names.get(100011)"
   ]
  },
  {
   "cell_type": "markdown",
   "metadata": {},
   "source": [
    "### Defaults"
   ]
  },
  {
   "cell_type": "code",
   "execution_count": null,
   "metadata": {},
   "outputs": [],
   "source": [
    "# if a key is not found, the default=None\n",
    "a_names.get() # shift + tab to see parameters"
   ]
  },
  {
   "cell_type": "code",
   "execution_count": 14,
   "metadata": {},
   "outputs": [
    {
     "data": {
      "text/plain": [
       "'This is not in the list'"
      ]
     },
     "execution_count": 14,
     "metadata": {},
     "output_type": "execute_result"
    }
   ],
   "source": [
    "# you can change default to something else, like a message\n",
    "a_names.get(100011, default=\"This is not in the list\")"
   ]
  }
 ],
 "metadata": {
  "kernelspec": {
   "display_name": "Python 3 (ipykernel)",
   "language": "python",
   "name": "python3"
  },
  "language_info": {
   "codemirror_mode": {
    "name": "ipython",
    "version": 3
   },
   "file_extension": ".py",
   "mimetype": "text/x-python",
   "name": "python",
   "nbconvert_exporter": "python",
   "pygments_lexer": "ipython3",
   "version": "3.9.7"
  }
 },
 "nbformat": 4,
 "nbformat_minor": 4
}
