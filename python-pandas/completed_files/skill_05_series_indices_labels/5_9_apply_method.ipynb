{
 "cells": [
  {
   "cell_type": "markdown",
   "metadata": {},
   "source": [
    "# The `apply()` Method"
   ]
  },
  {
   "cell_type": "markdown",
   "metadata": {},
   "source": [
    "### Import Pandas"
   ]
  },
  {
   "cell_type": "code",
   "execution_count": 2,
   "metadata": {},
   "outputs": [],
   "source": [
    "import pandas as pd"
   ]
  },
  {
   "cell_type": "markdown",
   "metadata": {},
   "source": [
    "### Import csv as a Series"
   ]
  },
  {
   "cell_type": "code",
   "execution_count": 3,
   "metadata": {},
   "outputs": [
    {
     "data": {
      "text/plain": [
       "0    23.89\n",
       "1    23.83\n",
       "2    21.96\n",
       "3    19.20\n",
       "4    16.11\n",
       "Name: Price, dtype: float64"
      ]
     },
     "execution_count": 3,
     "metadata": {},
     "output_type": "execute_result"
    }
   ],
   "source": [
    "tesla = pd.read_csv('TSLA.csv').squeeze(\"columns\")\n",
    "tesla.head()"
   ]
  },
  {
   "cell_type": "markdown",
   "metadata": {},
   "source": [
    "### The artisanal method\n",
    "Build your own stock grading function for buyers"
   ]
  },
  {
   "cell_type": "code",
   "execution_count": 4,
   "metadata": {},
   "outputs": [],
   "source": [
    "def grade_stock(num):\n",
    "    if num < 250:\n",
    "            return \"Awesome!\"\n",
    "    elif num >= 250 and num < 500:\n",
    "        return \"Not bad\"\n",
    "    else:\n",
    "        return \"Pass!\""
   ]
  },
  {
   "cell_type": "markdown",
   "metadata": {},
   "source": [
    "### The `apply()` method\n",
    "A function executed on each item in the Series"
   ]
  },
  {
   "cell_type": "code",
   "execution_count": 5,
   "metadata": {},
   "outputs": [
    {
     "data": {
      "text/plain": [
       "2396    Not bad\n",
       "2397    Not bad\n",
       "2398    Not bad\n",
       "2399    Not bad\n",
       "2400    Not bad\n",
       "2401      Pass!\n",
       "2402      Pass!\n",
       "2403      Pass!\n",
       "2404      Pass!\n",
       "2405      Pass!\n",
       "2406      Pass!\n",
       "2407      Pass!\n",
       "2408      Pass!\n",
       "2409      Pass!\n",
       "2410      Pass!\n",
       "2411      Pass!\n",
       "2412      Pass!\n",
       "2413      Pass!\n",
       "2414      Pass!\n",
       "2415      Pass!\n",
       "Name: Price, dtype: object"
      ]
     },
     "execution_count": 5,
     "metadata": {},
     "output_type": "execute_result"
    }
   ],
   "source": [
    "tesla_graded = tesla.apply(grade_stock)\n",
    "tesla_graded.tail(20)"
   ]
  },
  {
   "cell_type": "code",
   "execution_count": 6,
   "metadata": {},
   "outputs": [
    {
     "data": {
      "text/plain": [
       "2396    451.54\n",
       "2397    469.06\n",
       "2398    492.14\n",
       "2399    481.34\n",
       "2400    478.15\n",
       "2401    524.86\n",
       "2402    537.92\n",
       "2403    518.50\n",
       "2404    513.49\n",
       "2405    510.50\n",
       "2406    547.20\n",
       "2407    569.56\n",
       "2408    572.20\n",
       "2409    564.82\n",
       "2410    558.02\n",
       "2411    566.90\n",
       "2412    580.99\n",
       "2413    640.81\n",
       "2414    650.57\n",
       "2415    780.00\n",
       "Name: Price, dtype: float64"
      ]
     },
     "execution_count": 6,
     "metadata": {},
     "output_type": "execute_result"
    }
   ],
   "source": [
    "tesla.tail(20)"
   ]
  },
  {
   "cell_type": "markdown",
   "metadata": {},
   "source": [
    "### The `apply()` method with lambda\n",
    "A custom anonymous function: quick and dirty "
   ]
  },
  {
   "cell_type": "code",
   "execution_count": 7,
   "metadata": {},
   "outputs": [
    {
     "data": {
      "text/plain": [
       "0    23.89\n",
       "1    23.83\n",
       "2    21.96\n",
       "Name: Price, dtype: float64"
      ]
     },
     "execution_count": 7,
     "metadata": {},
     "output_type": "execute_result"
    }
   ],
   "source": [
    "tesla.head(3)"
   ]
  },
  {
   "cell_type": "code",
   "execution_count": 16,
   "metadata": {},
   "outputs": [
    {
     "data": {
      "text/plain": [
       "0        23.90\n",
       "1        23.84\n",
       "2        21.97\n",
       "3        19.21\n",
       "4        16.12\n",
       "         ...  \n",
       "2411    566.91\n",
       "2412    581.00\n",
       "2413    640.82\n",
       "2414    650.58\n",
       "2415    780.01\n",
       "Name: Price, Length: 2416, dtype: float64"
      ]
     },
     "execution_count": 16,
     "metadata": {},
     "output_type": "execute_result"
    }
   ],
   "source": [
    "# lambda arguments : expression on every row\n",
    "tesla.apply(lambda price : price + 1)"
   ]
  }
 ],
 "metadata": {
  "kernelspec": {
   "display_name": "Python 3 (ipykernel)",
   "language": "python",
   "name": "python3"
  },
  "language_info": {
   "codemirror_mode": {
    "name": "ipython",
    "version": 3
   },
   "file_extension": ".py",
   "mimetype": "text/x-python",
   "name": "python",
   "nbconvert_exporter": "python",
   "pygments_lexer": "ipython3",
   "version": "3.9.7"
  }
 },
 "nbformat": 4,
 "nbformat_minor": 4
}
