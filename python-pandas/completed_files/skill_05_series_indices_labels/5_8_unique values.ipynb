{
 "cells": [
  {
   "cell_type": "markdown",
   "metadata": {},
   "source": [
    "# Unique `value_counts()`\n",
    "\n",
    "### Import Pandas"
   ]
  },
  {
   "cell_type": "code",
   "execution_count": 10,
   "metadata": {},
   "outputs": [],
   "source": [
    "import pandas as pd"
   ]
  },
  {
   "cell_type": "markdown",
   "metadata": {},
   "source": [
    "### Import csv as a DataFrame"
   ]
  },
  {
   "cell_type": "code",
   "execution_count": 11,
   "metadata": {},
   "outputs": [
    {
     "data": {
      "text/html": [
       "<div>\n",
       "<style scoped>\n",
       "    .dataframe tbody tr th:only-of-type {\n",
       "        vertical-align: middle;\n",
       "    }\n",
       "\n",
       "    .dataframe tbody tr th {\n",
       "        vertical-align: top;\n",
       "    }\n",
       "\n",
       "    .dataframe thead th {\n",
       "        text-align: right;\n",
       "    }\n",
       "</style>\n",
       "<table border=\"1\" class=\"dataframe\">\n",
       "  <thead>\n",
       "    <tr style=\"text-align: right;\">\n",
       "      <th></th>\n",
       "      <th>scientific_name</th>\n",
       "      <th>country</th>\n",
       "    </tr>\n",
       "  </thead>\n",
       "  <tbody>\n",
       "    <tr>\n",
       "      <th>0</th>\n",
       "      <td>Cercatetus concinnus</td>\n",
       "      <td>Azerbaijan</td>\n",
       "    </tr>\n",
       "    <tr>\n",
       "      <th>1</th>\n",
       "      <td>Lutra canadensis</td>\n",
       "      <td>Kazakhstan</td>\n",
       "    </tr>\n",
       "    <tr>\n",
       "      <th>2</th>\n",
       "      <td>Alopex lagopus</td>\n",
       "      <td>China</td>\n",
       "    </tr>\n",
       "  </tbody>\n",
       "</table>\n",
       "</div>"
      ],
      "text/plain": [
       "        scientific_name     country\n",
       "0  Cercatetus concinnus  Azerbaijan\n",
       "1      Lutra canadensis  Kazakhstan\n",
       "2        Alopex lagopus       China"
      ]
     },
     "execution_count": 11,
     "metadata": {},
     "output_type": "execute_result"
    }
   ],
   "source": [
    "# import csv as DataFrame\n",
    "a_names = pd.read_csv('animal_names.csv')\n",
    "a_names.head(3)"
   ]
  },
  {
   "cell_type": "markdown",
   "metadata": {},
   "source": [
    "### Import csv as a Series\n",
    "Using `squeeze` and `usecols`"
   ]
  },
  {
   "cell_type": "code",
   "execution_count": 14,
   "metadata": {},
   "outputs": [
    {
     "data": {
      "text/plain": [
       "0    Cercatetus concinnus\n",
       "1        Lutra canadensis\n",
       "2          Alopex lagopus\n",
       "Name: scientific_name, dtype: object"
      ]
     },
     "execution_count": 14,
     "metadata": {},
     "output_type": "execute_result"
    }
   ],
   "source": [
    "# import csv as Series\n",
    "a_names = pd.read_csv('animal_names.csv', usecols=['scientific_name']).squeeze(\"columns\")\n",
    "a_names.head(3)"
   ]
  },
  {
   "cell_type": "markdown",
   "metadata": {},
   "source": [
    "# `sci_name` values as index"
   ]
  },
  {
   "cell_type": "code",
   "execution_count": 4,
   "metadata": {
    "scrolled": true
   },
   "outputs": [
    {
     "data": {
      "text/plain": [
       "scientific_name\n",
       "Cercatetus concinnus    Azerbaijan\n",
       "Lutra canadensis        Kazakhstan\n",
       "Alopex lagopus               China\n",
       "Name: country, dtype: object"
      ]
     },
     "execution_count": 4,
     "metadata": {},
     "output_type": "execute_result"
    }
   ],
   "source": [
    "# use sci_name values as index\n",
    "a_names = pd.read_csv('animal_names.csv', index_col=['scientific_name']).squeeze(\"columns\")\n",
    "a_names.head(3)"
   ]
  },
  {
   "cell_type": "markdown",
   "metadata": {},
   "source": [
    "### New Series with the count of unique values | Descending"
   ]
  },
  {
   "cell_type": "code",
   "execution_count": 5,
   "metadata": {},
   "outputs": [
    {
     "data": {
      "text/plain": [
       "China          197\n",
       "Indonesia      110\n",
       "Russia          60\n",
       "Philippines     43\n",
       "Brazil          32\n",
       "              ... \n",
       "Laos             1\n",
       "Kuwait           1\n",
       "Somalia          1\n",
       "Ghana            1\n",
       "Angola           1\n",
       "Name: country, Length: 128, dtype: int64"
      ]
     },
     "execution_count": 5,
     "metadata": {},
     "output_type": "execute_result"
    }
   ],
   "source": [
    "# return a new Series with the count of unique values\n",
    "a_names.value_counts()"
   ]
  },
  {
   "cell_type": "markdown",
   "metadata": {},
   "source": [
    "### New Series with the count of unique values | Ascending"
   ]
  },
  {
   "cell_type": "code",
   "execution_count": 6,
   "metadata": {},
   "outputs": [
    {
     "data": {
      "text/plain": [
       "Angola                1\n",
       "Guinea                1\n",
       "Seychelles            1\n",
       "French Polynesia      1\n",
       "Somalia               1\n",
       "                   ... \n",
       "Brazil               32\n",
       "Philippines          43\n",
       "Russia               60\n",
       "Indonesia           110\n",
       "China               197\n",
       "Name: country, Length: 128, dtype: int64"
      ]
     },
     "execution_count": 6,
     "metadata": {},
     "output_type": "execute_result"
    }
   ],
   "source": [
    "# return a new Series with the count of unique values\n",
    "a_names.value_counts(ascending=True)"
   ]
  },
  {
   "cell_type": "markdown",
   "metadata": {},
   "source": [
    "### New Series counts of the last 60 unique values | Ascending"
   ]
  },
  {
   "cell_type": "code",
   "execution_count": 7,
   "metadata": {
    "scrolled": false
   },
   "outputs": [
    {
     "data": {
      "text/plain": [
       "New Zealand                 3\n",
       "Cuba                        3\n",
       "Cameroon                    3\n",
       "Uganda                      3\n",
       "Kazakhstan                  3\n",
       "Madagascar                  3\n",
       "Israel                      3\n",
       "Finland                     3\n",
       "Malaysia                    3\n",
       "Lithuania                   3\n",
       "Tunisia                     4\n",
       "Moldova                     4\n",
       "Nepal                       4\n",
       "Guatemala                   4\n",
       "Netherlands                 4\n",
       "Dominican Republic          4\n",
       "North Korea                 4\n",
       "Kenya                       4\n",
       "Palestinian Territory       4\n",
       "Bosnia and Herzegovina      4\n",
       "Spain                       4\n",
       "Morocco                     4\n",
       "Croatia                     5\n",
       "Norway                      5\n",
       "Afghanistan                 5\n",
       "Slovenia                    5\n",
       "Azerbaijan                  5\n",
       "Serbia                      5\n",
       "Macedonia                   5\n",
       "Iran                        6\n",
       "Bulgaria                    6\n",
       "South Africa                6\n",
       "Luxembourg                  6\n",
       "Vietnam                     6\n",
       "Costa Rica                  6\n",
       "Tanzania                    7\n",
       "Mexico                      7\n",
       "Nigeria                     8\n",
       "Pakistan                    8\n",
       "Honduras                    8\n",
       "Thailand                    8\n",
       "Colombia                    8\n",
       "Yemen                       9\n",
       "Peru                       12\n",
       "Argentina                  15\n",
       "Greece                     16\n",
       "Canada                     17\n",
       "Japan                      18\n",
       "Ukraine                    19\n",
       "Czech Republic             20\n",
       "United States              22\n",
       "Poland                     28\n",
       "France                     28\n",
       "Portugal                   30\n",
       "Sweden                     31\n",
       "Brazil                     32\n",
       "Philippines                43\n",
       "Russia                     60\n",
       "Indonesia                 110\n",
       "China                     197\n",
       "Name: country, dtype: int64"
      ]
     },
     "execution_count": 7,
     "metadata": {},
     "output_type": "execute_result"
    }
   ],
   "source": [
    "# return a new Series with the count of last 60 unique values in ascending order\n",
    "a_names.value_counts(ascending=True).tail(60)"
   ]
  },
  {
   "cell_type": "markdown",
   "metadata": {},
   "source": [
    "### New Series with sum of unique values"
   ]
  },
  {
   "cell_type": "code",
   "execution_count": 8,
   "metadata": {},
   "outputs": [
    {
     "data": {
      "text/plain": [
       "1000"
      ]
     },
     "execution_count": 8,
     "metadata": {},
     "output_type": "execute_result"
    }
   ],
   "source": [
    "# return a new Series with the count of the last 60 unique values\n",
    "a_names.value_counts().sum()"
   ]
  },
  {
   "cell_type": "markdown",
   "metadata": {},
   "source": [
    "### The sum will match the count, or size of Series"
   ]
  },
  {
   "cell_type": "code",
   "execution_count": 9,
   "metadata": {},
   "outputs": [
    {
     "data": {
      "text/plain": [
       "1000"
      ]
     },
     "execution_count": 9,
     "metadata": {},
     "output_type": "execute_result"
    }
   ],
   "source": [
    "# sum\n",
    "a_names.count()"
   ]
  }
 ],
 "metadata": {
  "kernelspec": {
   "display_name": "Python 3 (ipykernel)",
   "language": "python",
   "name": "python3"
  },
  "language_info": {
   "codemirror_mode": {
    "name": "ipython",
    "version": 3
   },
   "file_extension": ".py",
   "mimetype": "text/x-python",
   "name": "python",
   "nbconvert_exporter": "python",
   "pygments_lexer": "ipython3",
   "version": "3.9.7"
  }
 },
 "nbformat": 4,
 "nbformat_minor": 4
}
