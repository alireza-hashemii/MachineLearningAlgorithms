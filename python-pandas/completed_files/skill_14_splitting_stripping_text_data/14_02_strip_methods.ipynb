{
 "cells": [
  {
   "cell_type": "markdown",
   "id": "ab4932a3",
   "metadata": {},
   "source": [
    "# Strip methods"
   ]
  },
  {
   "cell_type": "markdown",
   "id": "d4a056c5",
   "metadata": {},
   "source": [
    "### Import pandas"
   ]
  },
  {
   "cell_type": "code",
   "execution_count": 36,
   "id": "84e993a0",
   "metadata": {},
   "outputs": [],
   "source": [
    "import pandas as pd"
   ]
  },
  {
   "cell_type": "markdown",
   "id": "947ef1d2",
   "metadata": {},
   "source": [
    "### Read CSV\n",
    "Let's revisit the optimized dataset for lower the memory usage and try to remove the whitespace using a strip method. I've added some extra whitespace and created a new csv: `StudentsPerfomrance_whitespace.csv`"
   ]
  },
  {
   "cell_type": "code",
   "execution_count": 37,
   "id": "6e69ef0a",
   "metadata": {
    "scrolled": true
   },
   "outputs": [
    {
     "data": {
      "text/html": [
       "<div>\n",
       "<style scoped>\n",
       "    .dataframe tbody tr th:only-of-type {\n",
       "        vertical-align: middle;\n",
       "    }\n",
       "\n",
       "    .dataframe tbody tr th {\n",
       "        vertical-align: top;\n",
       "    }\n",
       "\n",
       "    .dataframe thead th {\n",
       "        text-align: right;\n",
       "    }\n",
       "</style>\n",
       "<table border=\"1\" class=\"dataframe\">\n",
       "  <thead>\n",
       "    <tr style=\"text-align: right;\">\n",
       "      <th></th>\n",
       "      <th>gender</th>\n",
       "      <th>race/ethnicity</th>\n",
       "      <th>parental level of education</th>\n",
       "      <th>lunch</th>\n",
       "      <th>test preparation course</th>\n",
       "      <th>math score</th>\n",
       "      <th>reading score</th>\n",
       "      <th>writing score</th>\n",
       "    </tr>\n",
       "  </thead>\n",
       "  <tbody>\n",
       "    <tr>\n",
       "      <th>0</th>\n",
       "      <td>female</td>\n",
       "      <td>group B</td>\n",
       "      <td>bachelor's degree</td>\n",
       "      <td>standard</td>\n",
       "      <td>none</td>\n",
       "      <td>72</td>\n",
       "      <td>72</td>\n",
       "      <td>74</td>\n",
       "    </tr>\n",
       "    <tr>\n",
       "      <th>1</th>\n",
       "      <td>female</td>\n",
       "      <td>group C</td>\n",
       "      <td>some college</td>\n",
       "      <td>standard</td>\n",
       "      <td>completed</td>\n",
       "      <td>69</td>\n",
       "      <td>90</td>\n",
       "      <td>88</td>\n",
       "    </tr>\n",
       "    <tr>\n",
       "      <th>2</th>\n",
       "      <td>female</td>\n",
       "      <td>group B</td>\n",
       "      <td>master's degree</td>\n",
       "      <td>standard</td>\n",
       "      <td>none</td>\n",
       "      <td>90</td>\n",
       "      <td>95</td>\n",
       "      <td>93</td>\n",
       "    </tr>\n",
       "    <tr>\n",
       "      <th>3</th>\n",
       "      <td>male</td>\n",
       "      <td>group A</td>\n",
       "      <td>associate's degree</td>\n",
       "      <td>free/reduced</td>\n",
       "      <td>none</td>\n",
       "      <td>47</td>\n",
       "      <td>57</td>\n",
       "      <td>44</td>\n",
       "    </tr>\n",
       "    <tr>\n",
       "      <th>4</th>\n",
       "      <td>male</td>\n",
       "      <td>group C</td>\n",
       "      <td>some college</td>\n",
       "      <td>standard</td>\n",
       "      <td>none</td>\n",
       "      <td>76</td>\n",
       "      <td>78</td>\n",
       "      <td>75</td>\n",
       "    </tr>\n",
       "  </tbody>\n",
       "</table>\n",
       "</div>"
      ],
      "text/plain": [
       "       gender race/ethnicity parental level of education              lunch  \\\n",
       "0     female         group B           bachelor's degree          standard    \n",
       "1     female         group C                some college          standard    \n",
       "2     female         group B             master's degree          standard    \n",
       "3       male         group A          associate's degree      free/reduced    \n",
       "4       male         group C                some college          standard    \n",
       "\n",
       "  test preparation course  math score  reading score  writing score  \n",
       "0                    none          72             72             74  \n",
       "1               completed          69             90             88  \n",
       "2                    none          90             95             93  \n",
       "3                    none          47             57             44  \n",
       "4                    none          76             78             75  "
      ]
     },
     "execution_count": 37,
     "metadata": {},
     "output_type": "execute_result"
    }
   ],
   "source": [
    "students = pd.read_csv(\"StudentsPerfomrance_whitespace.csv\")\n",
    "students.head()"
   ]
  },
  {
   "cell_type": "markdown",
   "id": "88b8f574",
   "metadata": {},
   "source": [
    "### Review the `.replace( )` method"
   ]
  },
  {
   "cell_type": "code",
   "execution_count": 38,
   "id": "e9923095",
   "metadata": {},
   "outputs": [
    {
     "data": {
      "text/plain": [
       "8"
      ]
     },
     "execution_count": 38,
     "metadata": {},
     "output_type": "execute_result"
    }
   ],
   "source": [
    "len(\"standard\")"
   ]
  },
  {
   "cell_type": "code",
   "execution_count": 39,
   "id": "c4bd876f",
   "metadata": {
    "scrolled": true
   },
   "outputs": [
    {
     "data": {
      "text/plain": [
       "0      13\n",
       "1      13\n",
       "2      13\n",
       "3      17\n",
       "4      13\n",
       "       ..\n",
       "995    13\n",
       "996    17\n",
       "997    17\n",
       "998    13\n",
       "999    17\n",
       "Name: lunch, Length: 1000, dtype: int64"
      ]
     },
     "execution_count": 39,
     "metadata": {},
     "output_type": "execute_result"
    }
   ],
   "source": [
    "# why does it say standard has 13 characters? Probably whitespace ⚠️\n",
    "students[\"lunch\"].str.len()"
   ]
  },
  {
   "cell_type": "code",
   "execution_count": 40,
   "id": "1025816e",
   "metadata": {},
   "outputs": [
    {
     "data": {
      "text/plain": [
       "6"
      ]
     },
     "execution_count": 40,
     "metadata": {},
     "output_type": "execute_result"
    }
   ],
   "source": [
    "len(\"female\")"
   ]
  },
  {
   "cell_type": "code",
   "execution_count": 41,
   "id": "16dff3ff",
   "metadata": {},
   "outputs": [
    {
     "data": {
      "text/plain": [
       "0      10\n",
       "1      10\n",
       "2      10\n",
       "3       8\n",
       "4       8\n",
       "       ..\n",
       "995    10\n",
       "996     8\n",
       "997    10\n",
       "998    10\n",
       "999    10\n",
       "Name: gender, Length: 1000, dtype: int64"
      ]
     },
     "execution_count": 41,
     "metadata": {},
     "output_type": "execute_result"
    }
   ],
   "source": [
    "# why does \"female\" contain 10 characters? Probably whitespace ⚠️\n",
    "students[\"gender\"].str.len()"
   ]
  },
  {
   "cell_type": "code",
   "execution_count": 34,
   "id": "14fed8c5",
   "metadata": {},
   "outputs": [
    {
     "data": {
      "text/plain": [
       "0      13\n",
       "1      13\n",
       "2      13\n",
       "3      17\n",
       "4      13\n",
       "       ..\n",
       "995    13\n",
       "996    17\n",
       "997    17\n",
       "998    13\n",
       "999    17\n",
       "Name: lunch, Length: 1000, dtype: int64"
      ]
     },
     "execution_count": 34,
     "metadata": {},
     "output_type": "execute_result"
    }
   ],
   "source": [
    "# way to go, you found and removed whitespace hidden in the lunch column\n",
    "students[\"lunch\"].str.len()"
   ]
  },
  {
   "cell_type": "code",
   "execution_count": 35,
   "id": "de77f9fe",
   "metadata": {},
   "outputs": [
    {
     "data": {
      "text/plain": [
       "0      10\n",
       "1      10\n",
       "2      10\n",
       "3       8\n",
       "4       8\n",
       "       ..\n",
       "995    10\n",
       "996     8\n",
       "997    10\n",
       "998    10\n",
       "999    10\n",
       "Name: gender, Length: 1000, dtype: int64"
      ]
     },
     "execution_count": 35,
     "metadata": {},
     "output_type": "execute_result"
    }
   ],
   "source": [
    "students[\"gender\"].str.len()"
   ]
  },
  {
   "cell_type": "code",
   "execution_count": null,
   "id": "dd7e3bab",
   "metadata": {},
   "outputs": [],
   "source": [
    "# we could use the replace method but there is a better way\n",
    "students[\"lunch\"] = students[\"lunch\"].str.replace(\" \", \"\")"
   ]
  },
  {
   "cell_type": "markdown",
   "id": "43adabfe",
   "metadata": {},
   "source": [
    "### The `strip( )`, `lstrip( )`, and  `rstrip()` methods "
   ]
  },
  {
   "cell_type": "code",
   "execution_count": 42,
   "id": "e21861a3",
   "metadata": {},
   "outputs": [
    {
     "data": {
      "text/plain": [
       "'Example  '"
      ]
     },
     "execution_count": 42,
     "metadata": {},
     "output_type": "execute_result"
    }
   ],
   "source": [
    "# lstrip() remove whitespace on the left\n",
    "\"    Example  \".lstrip()"
   ]
  },
  {
   "cell_type": "code",
   "execution_count": 43,
   "id": "f0451521",
   "metadata": {},
   "outputs": [
    {
     "data": {
      "text/plain": [
       "'Example'"
      ]
     },
     "execution_count": 43,
     "metadata": {},
     "output_type": "execute_result"
    }
   ],
   "source": [
    "# rstrip() remove whitespace on the right\n",
    "\"Example  \".rstrip()"
   ]
  },
  {
   "cell_type": "code",
   "execution_count": 44,
   "id": "a4f70ac6",
   "metadata": {},
   "outputs": [
    {
     "data": {
      "text/plain": [
       "'Example'"
      ]
     },
     "execution_count": 44,
     "metadata": {},
     "output_type": "execute_result"
    }
   ],
   "source": [
    "# finally, strip() removes all white space (lstrip + rstrip)\n",
    "\"    Example  \".strip()"
   ]
  },
  {
   "cell_type": "code",
   "execution_count": 46,
   "id": "e77bb440",
   "metadata": {
    "scrolled": true
   },
   "outputs": [
    {
     "data": {
      "text/plain": [
       "0      group B\n",
       "1      group C\n",
       "2      group B\n",
       "3      group A\n",
       "4      group C\n",
       "        ...   \n",
       "995    group E\n",
       "996    group C\n",
       "997    group C\n",
       "998    group D\n",
       "999    group D\n",
       "Name: race/ethnicity, Length: 1000, dtype: object"
      ]
     },
     "execution_count": 46,
     "metadata": {},
     "output_type": "execute_result"
    }
   ],
   "source": [
    "# note that it doesn't remove the whitespace in between\n",
    "students[\"race/ethnicity\"].str.strip()"
   ]
  },
  {
   "cell_type": "markdown",
   "id": "26ce0e72",
   "metadata": {},
   "source": [
    "### Remove whitespace for the gender column"
   ]
  },
  {
   "cell_type": "code",
   "execution_count": 53,
   "id": "882d13ca",
   "metadata": {},
   "outputs": [
    {
     "data": {
      "text/plain": [
       "6"
      ]
     },
     "execution_count": 53,
     "metadata": {},
     "output_type": "execute_result"
    }
   ],
   "source": [
    "len(\"female\")"
   ]
  },
  {
   "cell_type": "code",
   "execution_count": 48,
   "id": "ba82a4e2",
   "metadata": {},
   "outputs": [
    {
     "data": {
      "text/plain": [
       "0      10\n",
       "1      10\n",
       "2      10\n",
       "3       8\n",
       "4       8\n",
       "       ..\n",
       "995    10\n",
       "996     8\n",
       "997    10\n",
       "998    10\n",
       "999    10\n",
       "Name: gender, Length: 1000, dtype: int64"
      ]
     },
     "execution_count": 48,
     "metadata": {},
     "output_type": "execute_result"
    }
   ],
   "source": [
    "students[\"gender\"].str.len()"
   ]
  },
  {
   "cell_type": "code",
   "execution_count": 51,
   "id": "b3f42b15",
   "metadata": {},
   "outputs": [],
   "source": [
    "# remove whitespace on the left and right for\n",
    "students[\"gender\"] = students[\"gender\"].str.strip()"
   ]
  },
  {
   "cell_type": "code",
   "execution_count": 52,
   "id": "7b2de456",
   "metadata": {},
   "outputs": [
    {
     "data": {
      "text/plain": [
       "0      6\n",
       "1      6\n",
       "2      6\n",
       "3      4\n",
       "4      4\n",
       "      ..\n",
       "995    6\n",
       "996    4\n",
       "997    6\n",
       "998    6\n",
       "999    6\n",
       "Name: gender, Length: 1000, dtype: int64"
      ]
     },
     "execution_count": 52,
     "metadata": {},
     "output_type": "execute_result"
    }
   ],
   "source": [
    "students[\"gender\"].str.len()"
   ]
  },
  {
   "cell_type": "markdown",
   "id": "054edc5e",
   "metadata": {},
   "source": [
    "### Remove whitespace for the lunch column"
   ]
  },
  {
   "cell_type": "code",
   "execution_count": 54,
   "id": "85f65608",
   "metadata": {},
   "outputs": [
    {
     "data": {
      "text/plain": [
       "8"
      ]
     },
     "execution_count": 54,
     "metadata": {},
     "output_type": "execute_result"
    }
   ],
   "source": [
    "len(\"standard\")"
   ]
  },
  {
   "cell_type": "code",
   "execution_count": 55,
   "id": "6bffce3e",
   "metadata": {},
   "outputs": [
    {
     "data": {
      "text/plain": [
       "0      13\n",
       "1      13\n",
       "2      13\n",
       "3      17\n",
       "4      13\n",
       "       ..\n",
       "995    13\n",
       "996    17\n",
       "997    17\n",
       "998    13\n",
       "999    17\n",
       "Name: lunch, Length: 1000, dtype: int64"
      ]
     },
     "execution_count": 55,
     "metadata": {},
     "output_type": "execute_result"
    }
   ],
   "source": [
    "students[\"lunch\"].str.len()"
   ]
  },
  {
   "cell_type": "code",
   "execution_count": 56,
   "id": "77870d48",
   "metadata": {},
   "outputs": [],
   "source": [
    "students[\"lunch\"] = students[\"lunch\"].str.strip()"
   ]
  },
  {
   "cell_type": "code",
   "execution_count": 57,
   "id": "542b9910",
   "metadata": {},
   "outputs": [
    {
     "data": {
      "text/plain": [
       "0       8\n",
       "1       8\n",
       "2       8\n",
       "3      12\n",
       "4       8\n",
       "       ..\n",
       "995     8\n",
       "996    12\n",
       "997    12\n",
       "998     8\n",
       "999    12\n",
       "Name: lunch, Length: 1000, dtype: int64"
      ]
     },
     "execution_count": 57,
     "metadata": {},
     "output_type": "execute_result"
    }
   ],
   "source": [
    "students[\"lunch\"].str.len()"
   ]
  }
 ],
 "metadata": {
  "kernelspec": {
   "display_name": "Python 3 (ipykernel)",
   "language": "python",
   "name": "python3"
  },
  "language_info": {
   "codemirror_mode": {
    "name": "ipython",
    "version": 3
   },
   "file_extension": ".py",
   "mimetype": "text/x-python",
   "name": "python",
   "nbconvert_exporter": "python",
   "pygments_lexer": "ipython3",
   "version": "3.9.7"
  }
 },
 "nbformat": 4,
 "nbformat_minor": 5
}
