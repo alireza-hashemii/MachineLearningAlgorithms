{
 "cells": [
  {
   "cell_type": "markdown",
   "id": "ab4932a3",
   "metadata": {},
   "source": [
    "# Split methods"
   ]
  },
  {
   "cell_type": "markdown",
   "id": "d4a056c5",
   "metadata": {},
   "source": [
    "### Import pandas"
   ]
  },
  {
   "cell_type": "code",
   "execution_count": 31,
   "id": "84e993a0",
   "metadata": {},
   "outputs": [],
   "source": [
    "import pandas as pd"
   ]
  },
  {
   "cell_type": "markdown",
   "id": "947ef1d2",
   "metadata": {},
   "source": [
    "### Read CSV\n",
    "Let's revisit the `animal_names.csv` and dive deeper into the `split()` string method.\n",
    "\n",
    "About scientific animal names:\n",
    "1. The genus name is always written first.\n",
    "2. The first letter of the genus name is always capitalized.\n",
    "3. The species name is never capitalized."
   ]
  },
  {
   "cell_type": "code",
   "execution_count": 32,
   "id": "6e69ef0a",
   "metadata": {
    "scrolled": true
   },
   "outputs": [
    {
     "data": {
      "text/html": [
       "<div>\n",
       "<style scoped>\n",
       "    .dataframe tbody tr th:only-of-type {\n",
       "        vertical-align: middle;\n",
       "    }\n",
       "\n",
       "    .dataframe tbody tr th {\n",
       "        vertical-align: top;\n",
       "    }\n",
       "\n",
       "    .dataframe thead th {\n",
       "        text-align: right;\n",
       "    }\n",
       "</style>\n",
       "<table border=\"1\" class=\"dataframe\">\n",
       "  <thead>\n",
       "    <tr style=\"text-align: right;\">\n",
       "      <th></th>\n",
       "      <th>scientific_name</th>\n",
       "      <th>country</th>\n",
       "    </tr>\n",
       "  </thead>\n",
       "  <tbody>\n",
       "    <tr>\n",
       "      <th>0</th>\n",
       "      <td>Cercatetus concinnus</td>\n",
       "      <td>Azerbaijan</td>\n",
       "    </tr>\n",
       "    <tr>\n",
       "      <th>1</th>\n",
       "      <td>Lutra canadensis</td>\n",
       "      <td>Kazakhstan</td>\n",
       "    </tr>\n",
       "    <tr>\n",
       "      <th>2</th>\n",
       "      <td>Alopex lagopus</td>\n",
       "      <td>China</td>\n",
       "    </tr>\n",
       "    <tr>\n",
       "      <th>3</th>\n",
       "      <td>Macropus eugenii</td>\n",
       "      <td>Philippines</td>\n",
       "    </tr>\n",
       "    <tr>\n",
       "      <th>4</th>\n",
       "      <td>Calyptorhynchus magnificus</td>\n",
       "      <td>Cambodia</td>\n",
       "    </tr>\n",
       "  </tbody>\n",
       "</table>\n",
       "</div>"
      ],
      "text/plain": [
       "              scientific_name      country\n",
       "0        Cercatetus concinnus   Azerbaijan\n",
       "1            Lutra canadensis   Kazakhstan\n",
       "2              Alopex lagopus        China\n",
       "3            Macropus eugenii  Philippines\n",
       "4  Calyptorhynchus magnificus     Cambodia"
      ]
     },
     "execution_count": 32,
     "metadata": {},
     "output_type": "execute_result"
    }
   ],
   "source": [
    "a_names = pd.read_csv(\"animal_names.csv\")\n",
    "a_names.head()"
   ]
  },
  {
   "cell_type": "markdown",
   "id": "5bb76223",
   "metadata": {},
   "source": [
    "### Split the genus and species and create new columns"
   ]
  },
  {
   "cell_type": "code",
   "execution_count": 33,
   "id": "45cf3c71",
   "metadata": {},
   "outputs": [
    {
     "data": {
      "text/html": [
       "<div>\n",
       "<style scoped>\n",
       "    .dataframe tbody tr th:only-of-type {\n",
       "        vertical-align: middle;\n",
       "    }\n",
       "\n",
       "    .dataframe tbody tr th {\n",
       "        vertical-align: top;\n",
       "    }\n",
       "\n",
       "    .dataframe thead th {\n",
       "        text-align: right;\n",
       "    }\n",
       "</style>\n",
       "<table border=\"1\" class=\"dataframe\">\n",
       "  <thead>\n",
       "    <tr style=\"text-align: right;\">\n",
       "      <th></th>\n",
       "      <th>0</th>\n",
       "      <th>1</th>\n",
       "    </tr>\n",
       "  </thead>\n",
       "  <tbody>\n",
       "    <tr>\n",
       "      <th>0</th>\n",
       "      <td>Cercatetus</td>\n",
       "      <td>concinnus</td>\n",
       "    </tr>\n",
       "    <tr>\n",
       "      <th>1</th>\n",
       "      <td>Lutra</td>\n",
       "      <td>canadensis</td>\n",
       "    </tr>\n",
       "    <tr>\n",
       "      <th>2</th>\n",
       "      <td>Alopex</td>\n",
       "      <td>lagopus</td>\n",
       "    </tr>\n",
       "    <tr>\n",
       "      <th>3</th>\n",
       "      <td>Macropus</td>\n",
       "      <td>eugenii</td>\n",
       "    </tr>\n",
       "    <tr>\n",
       "      <th>4</th>\n",
       "      <td>Calyptorhynchus</td>\n",
       "      <td>magnificus</td>\n",
       "    </tr>\n",
       "    <tr>\n",
       "      <th>...</th>\n",
       "      <td>...</td>\n",
       "      <td>...</td>\n",
       "    </tr>\n",
       "    <tr>\n",
       "      <th>995</th>\n",
       "      <td>Anas</td>\n",
       "      <td>platyrhynchos</td>\n",
       "    </tr>\n",
       "    <tr>\n",
       "      <th>996</th>\n",
       "      <td>Isoodon</td>\n",
       "      <td>obesulus</td>\n",
       "    </tr>\n",
       "    <tr>\n",
       "      <th>997</th>\n",
       "      <td>Upupa</td>\n",
       "      <td>epops</td>\n",
       "    </tr>\n",
       "    <tr>\n",
       "      <th>998</th>\n",
       "      <td>Ratufa</td>\n",
       "      <td>indica</td>\n",
       "    </tr>\n",
       "    <tr>\n",
       "      <th>999</th>\n",
       "      <td>Columba</td>\n",
       "      <td>palumbus</td>\n",
       "    </tr>\n",
       "  </tbody>\n",
       "</table>\n",
       "<p>1000 rows × 2 columns</p>\n",
       "</div>"
      ],
      "text/plain": [
       "                   0              1\n",
       "0         Cercatetus      concinnus\n",
       "1              Lutra     canadensis\n",
       "2             Alopex        lagopus\n",
       "3           Macropus        eugenii\n",
       "4    Calyptorhynchus     magnificus\n",
       "..               ...            ...\n",
       "995             Anas  platyrhynchos\n",
       "996          Isoodon       obesulus\n",
       "997            Upupa          epops\n",
       "998           Ratufa         indica\n",
       "999          Columba       palumbus\n",
       "\n",
       "[1000 rows x 2 columns]"
      ]
     },
     "execution_count": 33,
     "metadata": {},
     "output_type": "execute_result"
    }
   ],
   "source": [
    "# you don't always need to specify n= number of splits (here we do)\n",
    "a_names[\"scientific_name\"].str.split(\" \", n=1, expand=True)"
   ]
  },
  {
   "cell_type": "code",
   "execution_count": 34,
   "id": "b3c6aff3",
   "metadata": {},
   "outputs": [],
   "source": [
    "a_names[[\"genus\",\"species\"]] = a_names[\"scientific_name\"].str.split(\" \", n=1, expand=True)"
   ]
  },
  {
   "cell_type": "code",
   "execution_count": 35,
   "id": "1d2c4c1f",
   "metadata": {},
   "outputs": [
    {
     "data": {
      "text/html": [
       "<div>\n",
       "<style scoped>\n",
       "    .dataframe tbody tr th:only-of-type {\n",
       "        vertical-align: middle;\n",
       "    }\n",
       "\n",
       "    .dataframe tbody tr th {\n",
       "        vertical-align: top;\n",
       "    }\n",
       "\n",
       "    .dataframe thead th {\n",
       "        text-align: right;\n",
       "    }\n",
       "</style>\n",
       "<table border=\"1\" class=\"dataframe\">\n",
       "  <thead>\n",
       "    <tr style=\"text-align: right;\">\n",
       "      <th></th>\n",
       "      <th>scientific_name</th>\n",
       "      <th>country</th>\n",
       "      <th>genus</th>\n",
       "      <th>species</th>\n",
       "    </tr>\n",
       "  </thead>\n",
       "  <tbody>\n",
       "    <tr>\n",
       "      <th>0</th>\n",
       "      <td>Cercatetus concinnus</td>\n",
       "      <td>Azerbaijan</td>\n",
       "      <td>Cercatetus</td>\n",
       "      <td>concinnus</td>\n",
       "    </tr>\n",
       "    <tr>\n",
       "      <th>1</th>\n",
       "      <td>Lutra canadensis</td>\n",
       "      <td>Kazakhstan</td>\n",
       "      <td>Lutra</td>\n",
       "      <td>canadensis</td>\n",
       "    </tr>\n",
       "    <tr>\n",
       "      <th>2</th>\n",
       "      <td>Alopex lagopus</td>\n",
       "      <td>China</td>\n",
       "      <td>Alopex</td>\n",
       "      <td>lagopus</td>\n",
       "    </tr>\n",
       "    <tr>\n",
       "      <th>3</th>\n",
       "      <td>Macropus eugenii</td>\n",
       "      <td>Philippines</td>\n",
       "      <td>Macropus</td>\n",
       "      <td>eugenii</td>\n",
       "    </tr>\n",
       "    <tr>\n",
       "      <th>4</th>\n",
       "      <td>Calyptorhynchus magnificus</td>\n",
       "      <td>Cambodia</td>\n",
       "      <td>Calyptorhynchus</td>\n",
       "      <td>magnificus</td>\n",
       "    </tr>\n",
       "  </tbody>\n",
       "</table>\n",
       "</div>"
      ],
      "text/plain": [
       "              scientific_name      country            genus     species\n",
       "0        Cercatetus concinnus   Azerbaijan       Cercatetus   concinnus\n",
       "1            Lutra canadensis   Kazakhstan            Lutra  canadensis\n",
       "2              Alopex lagopus        China           Alopex     lagopus\n",
       "3            Macropus eugenii  Philippines         Macropus     eugenii\n",
       "4  Calyptorhynchus magnificus     Cambodia  Calyptorhynchus  magnificus"
      ]
     },
     "execution_count": 35,
     "metadata": {},
     "output_type": "execute_result"
    }
   ],
   "source": [
    "a_names.head()"
   ]
  }
 ],
 "metadata": {
  "kernelspec": {
   "display_name": "Python 3 (ipykernel)",
   "language": "python",
   "name": "python3"
  },
  "language_info": {
   "codemirror_mode": {
    "name": "ipython",
    "version": 3
   },
   "file_extension": ".py",
   "mimetype": "text/x-python",
   "name": "python",
   "nbconvert_exporter": "python",
   "pygments_lexer": "ipython3",
   "version": "3.9.7"
  }
 },
 "nbformat": 4,
 "nbformat_minor": 5
}
