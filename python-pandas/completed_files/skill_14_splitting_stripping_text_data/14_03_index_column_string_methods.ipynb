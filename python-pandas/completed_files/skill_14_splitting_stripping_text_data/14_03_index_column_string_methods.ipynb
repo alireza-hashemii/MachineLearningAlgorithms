{
 "cells": [
  {
   "cell_type": "markdown",
   "id": "ab4932a3",
   "metadata": {},
   "source": [
    "# Strip methods"
   ]
  },
  {
   "cell_type": "markdown",
   "id": "d4a056c5",
   "metadata": {},
   "source": [
    "### Import pandas"
   ]
  },
  {
   "cell_type": "code",
   "execution_count": 1,
   "id": "84e993a0",
   "metadata": {},
   "outputs": [],
   "source": [
    "import pandas as pd"
   ]
  },
  {
   "cell_type": "markdown",
   "id": "947ef1d2",
   "metadata": {},
   "source": [
    "### Read CSV\n",
    "Let's revisit the `cereal.csv` to apply string methods to our index and column labels."
   ]
  },
  {
   "cell_type": "code",
   "execution_count": 6,
   "id": "6e69ef0a",
   "metadata": {
    "scrolled": true
   },
   "outputs": [
    {
     "data": {
      "text/html": [
       "<div>\n",
       "<style scoped>\n",
       "    .dataframe tbody tr th:only-of-type {\n",
       "        vertical-align: middle;\n",
       "    }\n",
       "\n",
       "    .dataframe tbody tr th {\n",
       "        vertical-align: top;\n",
       "    }\n",
       "\n",
       "    .dataframe thead th {\n",
       "        text-align: right;\n",
       "    }\n",
       "</style>\n",
       "<table border=\"1\" class=\"dataframe\">\n",
       "  <thead>\n",
       "    <tr style=\"text-align: right;\">\n",
       "      <th></th>\n",
       "      <th>mfr</th>\n",
       "      <th>type</th>\n",
       "      <th>calories</th>\n",
       "      <th>protein</th>\n",
       "      <th>fat</th>\n",
       "      <th>sodium</th>\n",
       "      <th>fiber</th>\n",
       "      <th>carbo</th>\n",
       "      <th>sugars</th>\n",
       "      <th>potass</th>\n",
       "      <th>vitamins</th>\n",
       "      <th>shelf</th>\n",
       "      <th>weight</th>\n",
       "      <th>cups</th>\n",
       "      <th>rating</th>\n",
       "    </tr>\n",
       "    <tr>\n",
       "      <th>name</th>\n",
       "      <th></th>\n",
       "      <th></th>\n",
       "      <th></th>\n",
       "      <th></th>\n",
       "      <th></th>\n",
       "      <th></th>\n",
       "      <th></th>\n",
       "      <th></th>\n",
       "      <th></th>\n",
       "      <th></th>\n",
       "      <th></th>\n",
       "      <th></th>\n",
       "      <th></th>\n",
       "      <th></th>\n",
       "      <th></th>\n",
       "    </tr>\n",
       "  </thead>\n",
       "  <tbody>\n",
       "    <tr>\n",
       "      <th>100% Bran</th>\n",
       "      <td>N</td>\n",
       "      <td>C</td>\n",
       "      <td>70</td>\n",
       "      <td>4</td>\n",
       "      <td>1</td>\n",
       "      <td>130</td>\n",
       "      <td>10.0</td>\n",
       "      <td>5.0</td>\n",
       "      <td>6</td>\n",
       "      <td>280</td>\n",
       "      <td>25</td>\n",
       "      <td>3</td>\n",
       "      <td>1.0</td>\n",
       "      <td>0.33</td>\n",
       "      <td>68.402973</td>\n",
       "    </tr>\n",
       "    <tr>\n",
       "      <th>100% Natural Bran</th>\n",
       "      <td>Q</td>\n",
       "      <td>C</td>\n",
       "      <td>120</td>\n",
       "      <td>3</td>\n",
       "      <td>5</td>\n",
       "      <td>15</td>\n",
       "      <td>2.0</td>\n",
       "      <td>8.0</td>\n",
       "      <td>8</td>\n",
       "      <td>135</td>\n",
       "      <td>0</td>\n",
       "      <td>3</td>\n",
       "      <td>1.0</td>\n",
       "      <td>1.00</td>\n",
       "      <td>33.983679</td>\n",
       "    </tr>\n",
       "    <tr>\n",
       "      <th>All-Bran</th>\n",
       "      <td>K</td>\n",
       "      <td>C</td>\n",
       "      <td>70</td>\n",
       "      <td>4</td>\n",
       "      <td>1</td>\n",
       "      <td>260</td>\n",
       "      <td>9.0</td>\n",
       "      <td>7.0</td>\n",
       "      <td>5</td>\n",
       "      <td>320</td>\n",
       "      <td>25</td>\n",
       "      <td>3</td>\n",
       "      <td>1.0</td>\n",
       "      <td>0.33</td>\n",
       "      <td>59.425505</td>\n",
       "    </tr>\n",
       "    <tr>\n",
       "      <th>All-Bran with Extra Fiber</th>\n",
       "      <td>K</td>\n",
       "      <td>C</td>\n",
       "      <td>50</td>\n",
       "      <td>4</td>\n",
       "      <td>0</td>\n",
       "      <td>140</td>\n",
       "      <td>14.0</td>\n",
       "      <td>8.0</td>\n",
       "      <td>0</td>\n",
       "      <td>330</td>\n",
       "      <td>25</td>\n",
       "      <td>3</td>\n",
       "      <td>1.0</td>\n",
       "      <td>0.50</td>\n",
       "      <td>93.704912</td>\n",
       "    </tr>\n",
       "    <tr>\n",
       "      <th>Almond Delight</th>\n",
       "      <td>R</td>\n",
       "      <td>C</td>\n",
       "      <td>110</td>\n",
       "      <td>2</td>\n",
       "      <td>2</td>\n",
       "      <td>200</td>\n",
       "      <td>1.0</td>\n",
       "      <td>14.0</td>\n",
       "      <td>8</td>\n",
       "      <td>-1</td>\n",
       "      <td>25</td>\n",
       "      <td>3</td>\n",
       "      <td>1.0</td>\n",
       "      <td>0.75</td>\n",
       "      <td>34.384843</td>\n",
       "    </tr>\n",
       "  </tbody>\n",
       "</table>\n",
       "</div>"
      ],
      "text/plain": [
       "                          mfr type  calories  protein  fat  sodium  fiber  \\\n",
       "name                                                                        \n",
       "100% Bran                   N    C        70        4    1     130   10.0   \n",
       "100% Natural Bran           Q    C       120        3    5      15    2.0   \n",
       "All-Bran                    K    C        70        4    1     260    9.0   \n",
       "All-Bran with Extra Fiber   K    C        50        4    0     140   14.0   \n",
       "Almond Delight              R    C       110        2    2     200    1.0   \n",
       "\n",
       "                           carbo  sugars  potass  vitamins  shelf  weight  \\\n",
       "name                                                                        \n",
       "100% Bran                    5.0       6     280        25      3     1.0   \n",
       "100% Natural Bran            8.0       8     135         0      3     1.0   \n",
       "All-Bran                     7.0       5     320        25      3     1.0   \n",
       "All-Bran with Extra Fiber    8.0       0     330        25      3     1.0   \n",
       "Almond Delight              14.0       8      -1        25      3     1.0   \n",
       "\n",
       "                           cups     rating  \n",
       "name                                        \n",
       "100% Bran                  0.33  68.402973  \n",
       "100% Natural Bran          1.00  33.983679  \n",
       "All-Bran                   0.33  59.425505  \n",
       "All-Bran with Extra Fiber  0.50  93.704912  \n",
       "Almond Delight             0.75  34.384843  "
      ]
     },
     "execution_count": 6,
     "metadata": {},
     "output_type": "execute_result"
    }
   ],
   "source": [
    "cereal = pd.read_csv(\"cereal.csv\", index_col=\"name\")\n",
    "cereal.head()"
   ]
  },
  {
   "cell_type": "code",
   "execution_count": 7,
   "id": "5c731d51",
   "metadata": {},
   "outputs": [
    {
     "data": {
      "text/plain": [
       "Index(['100% Bran', '100% Natural Bran', 'All-Bran',\n",
       "       'All-Bran with Extra Fiber', 'Almond Delight',\n",
       "       'Apple Cinnamon Cheerios', 'Apple Jacks', 'Basic 4', 'Bran Chex',\n",
       "       'Bran Flakes', 'Cap'n'Crunch', 'Cheerios', 'Cinnamon Toast Crunch',\n",
       "       'Clusters', 'Cocoa Puffs', 'Corn Chex', 'Corn Flakes', 'Corn Pops',\n",
       "       'Count Chocula', 'Cracklin' Oat Bran', 'Cream of Wheat (Quick)',\n",
       "       'Crispix', 'Crispy Wheat & Raisins', 'Double Chex', 'Froot Loops',\n",
       "       'Frosted Flakes', 'Frosted Mini-Wheats',\n",
       "       'Fruit & Fibre Dates; Walnuts; and Oats', 'Fruitful Bran',\n",
       "       'Fruity Pebbles', 'Golden Crisp', 'Golden Grahams', 'Grape Nuts Flakes',\n",
       "       'Grape-Nuts', 'Great Grains Pecan', 'Honey Graham Ohs',\n",
       "       'Honey Nut Cheerios', 'Honey-comb', 'Just Right Crunchy  Nuggets',\n",
       "       'Just Right Fruit & Nut', 'Kix', 'Life', 'Lucky Charms', 'Maypo',\n",
       "       'Muesli Raisins; Dates; & Almonds', 'Muesli Raisins; Peaches; & Pecans',\n",
       "       'Mueslix Crispy Blend', 'Multi-Grain Cheerios', 'Nut&Honey Crunch',\n",
       "       'Nutri-Grain Almond-Raisin', 'Nutri-grain Wheat',\n",
       "       'Oatmeal Raisin Crisp', 'Post Nat. Raisin Bran', 'Product 19',\n",
       "       'Puffed Rice', 'Puffed Wheat', 'Quaker Oat Squares', 'Quaker Oatmeal',\n",
       "       'Raisin Bran', 'Raisin Nut Bran', 'Raisin Squares', 'Rice Chex',\n",
       "       'Rice Krispies', 'Shredded Wheat', 'Shredded Wheat 'n'Bran',\n",
       "       'Shredded Wheat spoon size', 'Smacks', 'Special K',\n",
       "       'Strawberry Fruit Wheats', 'Total Corn Flakes', 'Total Raisin Bran',\n",
       "       'Total Whole Grain', 'Triples', 'Trix', 'Wheat Chex', 'Wheaties',\n",
       "       'Wheaties Honey Gold'],\n",
       "      dtype='object', name='name')"
      ]
     },
     "execution_count": 7,
     "metadata": {},
     "output_type": "execute_result"
    }
   ],
   "source": [
    "cereal.index"
   ]
  },
  {
   "cell_type": "code",
   "execution_count": 8,
   "id": "910b532d",
   "metadata": {},
   "outputs": [
    {
     "data": {
      "text/plain": [
       "Index(['100% BRAN', '100% NATURAL BRAN', 'ALL-BRAN',\n",
       "       'ALL-BRAN WITH EXTRA FIBER', 'ALMOND DELIGHT',\n",
       "       'APPLE CINNAMON CHEERIOS', 'APPLE JACKS', 'BASIC 4', 'BRAN CHEX',\n",
       "       'BRAN FLAKES', 'CAP'N'CRUNCH', 'CHEERIOS', 'CINNAMON TOAST CRUNCH',\n",
       "       'CLUSTERS', 'COCOA PUFFS', 'CORN CHEX', 'CORN FLAKES', 'CORN POPS',\n",
       "       'COUNT CHOCULA', 'CRACKLIN' OAT BRAN', 'CREAM OF WHEAT (QUICK)',\n",
       "       'CRISPIX', 'CRISPY WHEAT & RAISINS', 'DOUBLE CHEX', 'FROOT LOOPS',\n",
       "       'FROSTED FLAKES', 'FROSTED MINI-WHEATS',\n",
       "       'FRUIT & FIBRE DATES; WALNUTS; AND OATS', 'FRUITFUL BRAN',\n",
       "       'FRUITY PEBBLES', 'GOLDEN CRISP', 'GOLDEN GRAHAMS', 'GRAPE NUTS FLAKES',\n",
       "       'GRAPE-NUTS', 'GREAT GRAINS PECAN', 'HONEY GRAHAM OHS',\n",
       "       'HONEY NUT CHEERIOS', 'HONEY-COMB', 'JUST RIGHT CRUNCHY  NUGGETS',\n",
       "       'JUST RIGHT FRUIT & NUT', 'KIX', 'LIFE', 'LUCKY CHARMS', 'MAYPO',\n",
       "       'MUESLI RAISINS; DATES; & ALMONDS', 'MUESLI RAISINS; PEACHES; & PECANS',\n",
       "       'MUESLIX CRISPY BLEND', 'MULTI-GRAIN CHEERIOS', 'NUT&HONEY CRUNCH',\n",
       "       'NUTRI-GRAIN ALMOND-RAISIN', 'NUTRI-GRAIN WHEAT',\n",
       "       'OATMEAL RAISIN CRISP', 'POST NAT. RAISIN BRAN', 'PRODUCT 19',\n",
       "       'PUFFED RICE', 'PUFFED WHEAT', 'QUAKER OAT SQUARES', 'QUAKER OATMEAL',\n",
       "       'RAISIN BRAN', 'RAISIN NUT BRAN', 'RAISIN SQUARES', 'RICE CHEX',\n",
       "       'RICE KRISPIES', 'SHREDDED WHEAT', 'SHREDDED WHEAT 'N'BRAN',\n",
       "       'SHREDDED WHEAT SPOON SIZE', 'SMACKS', 'SPECIAL K',\n",
       "       'STRAWBERRY FRUIT WHEATS', 'TOTAL CORN FLAKES', 'TOTAL RAISIN BRAN',\n",
       "       'TOTAL WHOLE GRAIN', 'TRIPLES', 'TRIX', 'WHEAT CHEX', 'WHEATIES',\n",
       "       'WHEATIES HONEY GOLD'],\n",
       "      dtype='object', name='name')"
      ]
     },
     "execution_count": 8,
     "metadata": {},
     "output_type": "execute_result"
    }
   ],
   "source": [
    "cereal.index.str.upper()"
   ]
  },
  {
   "cell_type": "code",
   "execution_count": 9,
   "id": "26fdf0eb",
   "metadata": {},
   "outputs": [
    {
     "data": {
      "text/plain": [
       "Index(['100% bran', '100% natural bran', 'all-bran',\n",
       "       'all-bran with extra fiber', 'almond delight',\n",
       "       'apple cinnamon cheerios', 'apple jacks', 'basic 4', 'bran chex',\n",
       "       'bran flakes', 'cap'n'crunch', 'cheerios', 'cinnamon toast crunch',\n",
       "       'clusters', 'cocoa puffs', 'corn chex', 'corn flakes', 'corn pops',\n",
       "       'count chocula', 'cracklin' oat bran', 'cream of wheat (quick)',\n",
       "       'crispix', 'crispy wheat & raisins', 'double chex', 'froot loops',\n",
       "       'frosted flakes', 'frosted mini-wheats',\n",
       "       'fruit & fibre dates; walnuts; and oats', 'fruitful bran',\n",
       "       'fruity pebbles', 'golden crisp', 'golden grahams', 'grape nuts flakes',\n",
       "       'grape-nuts', 'great grains pecan', 'honey graham ohs',\n",
       "       'honey nut cheerios', 'honey-comb', 'just right crunchy  nuggets',\n",
       "       'just right fruit & nut', 'kix', 'life', 'lucky charms', 'maypo',\n",
       "       'muesli raisins; dates; & almonds', 'muesli raisins; peaches; & pecans',\n",
       "       'mueslix crispy blend', 'multi-grain cheerios', 'nut&honey crunch',\n",
       "       'nutri-grain almond-raisin', 'nutri-grain wheat',\n",
       "       'oatmeal raisin crisp', 'post nat. raisin bran', 'product 19',\n",
       "       'puffed rice', 'puffed wheat', 'quaker oat squares', 'quaker oatmeal',\n",
       "       'raisin bran', 'raisin nut bran', 'raisin squares', 'rice chex',\n",
       "       'rice krispies', 'shredded wheat', 'shredded wheat 'n'bran',\n",
       "       'shredded wheat spoon size', 'smacks', 'special k',\n",
       "       'strawberry fruit wheats', 'total corn flakes', 'total raisin bran',\n",
       "       'total whole grain', 'triples', 'trix', 'wheat chex', 'wheaties',\n",
       "       'wheaties honey gold'],\n",
       "      dtype='object', name='name')"
      ]
     },
     "execution_count": 9,
     "metadata": {},
     "output_type": "execute_result"
    }
   ],
   "source": [
    "cereal.index.str.lower()"
   ]
  },
  {
   "cell_type": "code",
   "execution_count": 10,
   "id": "5a9c21fb",
   "metadata": {},
   "outputs": [
    {
     "data": {
      "text/plain": [
       "Index(['100% Bran', '100% Natural Bran', 'All-Bran',\n",
       "       'All-Bran With Extra Fiber', 'Almond Delight',\n",
       "       'Apple Cinnamon Cheerios', 'Apple Jacks', 'Basic 4', 'Bran Chex',\n",
       "       'Bran Flakes', 'Cap'N'Crunch', 'Cheerios', 'Cinnamon Toast Crunch',\n",
       "       'Clusters', 'Cocoa Puffs', 'Corn Chex', 'Corn Flakes', 'Corn Pops',\n",
       "       'Count Chocula', 'Cracklin' Oat Bran', 'Cream Of Wheat (Quick)',\n",
       "       'Crispix', 'Crispy Wheat & Raisins', 'Double Chex', 'Froot Loops',\n",
       "       'Frosted Flakes', 'Frosted Mini-Wheats',\n",
       "       'Fruit & Fibre Dates; Walnuts; And Oats', 'Fruitful Bran',\n",
       "       'Fruity Pebbles', 'Golden Crisp', 'Golden Grahams', 'Grape Nuts Flakes',\n",
       "       'Grape-Nuts', 'Great Grains Pecan', 'Honey Graham Ohs',\n",
       "       'Honey Nut Cheerios', 'Honey-Comb', 'Just Right Crunchy  Nuggets',\n",
       "       'Just Right Fruit & Nut', 'Kix', 'Life', 'Lucky Charms', 'Maypo',\n",
       "       'Muesli Raisins; Dates; & Almonds', 'Muesli Raisins; Peaches; & Pecans',\n",
       "       'Mueslix Crispy Blend', 'Multi-Grain Cheerios', 'Nut&Honey Crunch',\n",
       "       'Nutri-Grain Almond-Raisin', 'Nutri-Grain Wheat',\n",
       "       'Oatmeal Raisin Crisp', 'Post Nat. Raisin Bran', 'Product 19',\n",
       "       'Puffed Rice', 'Puffed Wheat', 'Quaker Oat Squares', 'Quaker Oatmeal',\n",
       "       'Raisin Bran', 'Raisin Nut Bran', 'Raisin Squares', 'Rice Chex',\n",
       "       'Rice Krispies', 'Shredded Wheat', 'Shredded Wheat 'N'Bran',\n",
       "       'Shredded Wheat Spoon Size', 'Smacks', 'Special K',\n",
       "       'Strawberry Fruit Wheats', 'Total Corn Flakes', 'Total Raisin Bran',\n",
       "       'Total Whole Grain', 'Triples', 'Trix', 'Wheat Chex', 'Wheaties',\n",
       "       'Wheaties Honey Gold'],\n",
       "      dtype='object', name='name')"
      ]
     },
     "execution_count": 10,
     "metadata": {},
     "output_type": "execute_result"
    }
   ],
   "source": [
    "cereal.index.str.title()"
   ]
  },
  {
   "cell_type": "code",
   "execution_count": 11,
   "id": "89652381",
   "metadata": {},
   "outputs": [
    {
     "data": {
      "text/plain": [
       "Index(['mfr', 'type', 'calories', 'protein', 'fat', 'sodium', 'fiber', 'carbo',\n",
       "       'sugars', 'potass', 'vitamins', 'shelf', 'weight', 'cups', 'rating'],\n",
       "      dtype='object')"
      ]
     },
     "execution_count": 11,
     "metadata": {},
     "output_type": "execute_result"
    }
   ],
   "source": [
    "cereal.columns"
   ]
  },
  {
   "cell_type": "code",
   "execution_count": 12,
   "id": "a07325af",
   "metadata": {},
   "outputs": [
    {
     "data": {
      "text/plain": [
       "Index(['MFR', 'TYPE', 'CALORIES', 'PROTEIN', 'FAT', 'SODIUM', 'FIBER', 'CARBO',\n",
       "       'SUGARS', 'POTASS', 'VITAMINS', 'SHELF', 'WEIGHT', 'CUPS', 'RATING'],\n",
       "      dtype='object')"
      ]
     },
     "execution_count": 12,
     "metadata": {},
     "output_type": "execute_result"
    }
   ],
   "source": [
    "cereal.columns.str.upper()"
   ]
  },
  {
   "cell_type": "code",
   "execution_count": 13,
   "id": "bbedef99",
   "metadata": {},
   "outputs": [
    {
     "data": {
      "text/plain": [
       "Index(['100% bran', '100% natural bran', 'all-bran',\n",
       "       'all-bran with extra fiber', 'almond delight',\n",
       "       'apple cinnamon cheerios', 'apple jacks', 'basic 4', 'bran chex',\n",
       "       'bran flakes', 'cap'n'crunch', 'cheerios', 'cinnamon toast crunch',\n",
       "       'clusters', 'cocoa puffs', 'corn chex', 'corn flakes', 'corn pops',\n",
       "       'count chocula', 'cracklin' oat bran', 'cream of wheat (quick)',\n",
       "       'crispix', 'crispy wheat & raisins', 'double chex', 'froot loops',\n",
       "       'frosted flakes', 'frosted mini-wheats',\n",
       "       'fruit & fibre dates; walnuts; and oats', 'fruitful bran',\n",
       "       'fruity pebbles', 'golden crisp', 'golden grahams', 'grape nuts flakes',\n",
       "       'grape-nuts', 'great grains pecan', 'honey graham ohs',\n",
       "       'honey nut cheerios', 'honey-comb', 'just right crunchy  nuggets',\n",
       "       'just right fruit & nut', 'kix', 'life', 'lucky charms', 'maypo',\n",
       "       'muesli raisins; dates; & almonds', 'muesli raisins; peaches; & pecans',\n",
       "       'mueslix crispy blend', 'multi-grain cheerios', 'nut&honey crunch',\n",
       "       'nutri-grain almond-raisin', 'nutri-grain wheat',\n",
       "       'oatmeal raisin crisp', 'post nat. raisin bran', 'product 19',\n",
       "       'puffed rice', 'puffed wheat', 'quaker oat squares', 'quaker oatmeal',\n",
       "       'raisin bran', 'raisin nut bran', 'raisin squares', 'rice chex',\n",
       "       'rice krispies', 'shredded wheat', 'shredded wheat 'n'bran',\n",
       "       'shredded wheat spoon size', 'smacks', 'special k',\n",
       "       'strawberry fruit wheats', 'total corn flakes', 'total raisin bran',\n",
       "       'total whole grain', 'triples', 'trix', 'wheat chex', 'wheaties',\n",
       "       'wheaties honey gold'],\n",
       "      dtype='object', name='name')"
      ]
     },
     "execution_count": 13,
     "metadata": {},
     "output_type": "execute_result"
    }
   ],
   "source": [
    "cereal.index.str.lower()"
   ]
  }
 ],
 "metadata": {
  "kernelspec": {
   "display_name": "Python 3 (ipykernel)",
   "language": "python",
   "name": "python3"
  },
  "language_info": {
   "codemirror_mode": {
    "name": "ipython",
    "version": 3
   },
   "file_extension": ".py",
   "mimetype": "text/x-python",
   "name": "python",
   "nbconvert_exporter": "python",
   "pygments_lexer": "ipython3",
   "version": "3.9.7"
  }
 },
 "nbformat": 4,
 "nbformat_minor": 5
}
