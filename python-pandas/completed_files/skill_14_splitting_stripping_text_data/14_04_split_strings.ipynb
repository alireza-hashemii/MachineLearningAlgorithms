{
 "cells": [
  {
   "cell_type": "markdown",
   "id": "ab4932a3",
   "metadata": {},
   "source": [
    "# Split methods"
   ]
  },
  {
   "cell_type": "markdown",
   "id": "d4a056c5",
   "metadata": {},
   "source": [
    "### Import pandas"
   ]
  },
  {
   "cell_type": "code",
   "execution_count": 1,
   "id": "84e993a0",
   "metadata": {},
   "outputs": [],
   "source": [
    "import pandas as pd"
   ]
  },
  {
   "cell_type": "markdown",
   "id": "947ef1d2",
   "metadata": {},
   "source": [
    "### Read CSV\n",
    "Let's revisit the `animal_names.csv` to use the `split()` string method."
   ]
  },
  {
   "cell_type": "code",
   "execution_count": 3,
   "id": "6e69ef0a",
   "metadata": {
    "scrolled": false
   },
   "outputs": [
    {
     "data": {
      "text/html": [
       "<div>\n",
       "<style scoped>\n",
       "    .dataframe tbody tr th:only-of-type {\n",
       "        vertical-align: middle;\n",
       "    }\n",
       "\n",
       "    .dataframe tbody tr th {\n",
       "        vertical-align: top;\n",
       "    }\n",
       "\n",
       "    .dataframe thead th {\n",
       "        text-align: right;\n",
       "    }\n",
       "</style>\n",
       "<table border=\"1\" class=\"dataframe\">\n",
       "  <thead>\n",
       "    <tr style=\"text-align: right;\">\n",
       "      <th></th>\n",
       "      <th>scientific_name</th>\n",
       "      <th>country</th>\n",
       "    </tr>\n",
       "  </thead>\n",
       "  <tbody>\n",
       "    <tr>\n",
       "      <th>0</th>\n",
       "      <td>Cercatetus concinnus</td>\n",
       "      <td>Azerbaijan</td>\n",
       "    </tr>\n",
       "    <tr>\n",
       "      <th>1</th>\n",
       "      <td>Lutra canadensis</td>\n",
       "      <td>Kazakhstan</td>\n",
       "    </tr>\n",
       "    <tr>\n",
       "      <th>2</th>\n",
       "      <td>Alopex lagopus</td>\n",
       "      <td>China</td>\n",
       "    </tr>\n",
       "    <tr>\n",
       "      <th>3</th>\n",
       "      <td>Macropus eugenii</td>\n",
       "      <td>Philippines</td>\n",
       "    </tr>\n",
       "    <tr>\n",
       "      <th>4</th>\n",
       "      <td>Calyptorhynchus magnificus</td>\n",
       "      <td>Cambodia</td>\n",
       "    </tr>\n",
       "  </tbody>\n",
       "</table>\n",
       "</div>"
      ],
      "text/plain": [
       "              scientific_name      country\n",
       "0        Cercatetus concinnus   Azerbaijan\n",
       "1            Lutra canadensis   Kazakhstan\n",
       "2              Alopex lagopus        China\n",
       "3            Macropus eugenii  Philippines\n",
       "4  Calyptorhynchus magnificus     Cambodia"
      ]
     },
     "execution_count": 3,
     "metadata": {},
     "output_type": "execute_result"
    }
   ],
   "source": [
    "a_names = pd.read_csv(\"animal_names.csv\")\n",
    "a_names.head()"
   ]
  },
  {
   "cell_type": "code",
   "execution_count": 4,
   "id": "8805ede2",
   "metadata": {},
   "outputs": [
    {
     "data": {
      "text/plain": [
       "['This', 'is', 'a', 'string']"
      ]
     },
     "execution_count": 4,
     "metadata": {},
     "output_type": "execute_result"
    }
   ],
   "source": [
    "\"This is a string\".split(\" \")"
   ]
  },
  {
   "cell_type": "code",
   "execution_count": 6,
   "id": "730577cc",
   "metadata": {},
   "outputs": [
    {
     "data": {
      "text/plain": [
       "0            [Cercatetus, concinnus]\n",
       "1                [Lutra, canadensis]\n",
       "2                  [Alopex, lagopus]\n",
       "3                [Macropus, eugenii]\n",
       "4      [Calyptorhynchus, magnificus]\n",
       "                   ...              \n",
       "995            [Anas, platyrhynchos]\n",
       "996              [Isoodon, obesulus]\n",
       "997                   [Upupa, epops]\n",
       "998                 [Ratufa, indica]\n",
       "999              [Columba, palumbus]\n",
       "Name: scientific_name, Length: 1000, dtype: object"
      ]
     },
     "execution_count": 6,
     "metadata": {},
     "output_type": "execute_result"
    }
   ],
   "source": [
    "a_names[\"scientific_name\"].str.split(\" \")"
   ]
  },
  {
   "cell_type": "code",
   "execution_count": 8,
   "id": "ebce80cc",
   "metadata": {},
   "outputs": [
    {
     "data": {
      "text/plain": [
       "0           Cercatetus\n",
       "1                Lutra\n",
       "2               Alopex\n",
       "3             Macropus\n",
       "4      Calyptorhynchus\n",
       "            ...       \n",
       "995               Anas\n",
       "996            Isoodon\n",
       "997              Upupa\n",
       "998             Ratufa\n",
       "999            Columba\n",
       "Name: scientific_name, Length: 1000, dtype: object"
      ]
     },
     "execution_count": 8,
     "metadata": {},
     "output_type": "execute_result"
    }
   ],
   "source": [
    "a_names[\"scientific_name\"].str.split(\" \").str.get(0)"
   ]
  },
  {
   "cell_type": "code",
   "execution_count": 9,
   "id": "3c7010f9",
   "metadata": {},
   "outputs": [
    {
     "data": {
      "text/plain": [
       "Macropus       23\n",
       "unavailable    19\n",
       "Felis          19\n",
       "Canis          12\n",
       "Varanus        11\n",
       "               ..\n",
       "Delphinus       1\n",
       "Tachybaptus     1\n",
       "Taurotagus      1\n",
       "Rana            1\n",
       "Cochlearius     1\n",
       "Name: scientific_name, Length: 348, dtype: int64"
      ]
     },
     "execution_count": 9,
     "metadata": {},
     "output_type": "execute_result"
    }
   ],
   "source": [
    "a_names[\"scientific_name\"].str.split(\" \").str.get(0).value_counts()"
   ]
  },
  {
   "cell_type": "markdown",
   "id": "fd45c43a",
   "metadata": {},
   "source": [
    "🦘[Macropus](https://en.wikipedia.org/wiki/Macropus) is a marsupial genus in the family Macropodidae. It has two extant species of large terrestrial kangaroos. The term is derived from the Ancient Greek μάκρος, makros \"long\" and πους, pous \"foot\". Thirteen known extinct species are recognised. The type species is the eastern grey kangaroo. [Wikipedia](https://en.wikipedia.org/wiki/Macropus)"
   ]
  }
 ],
 "metadata": {
  "kernelspec": {
   "display_name": "Python 3 (ipykernel)",
   "language": "python",
   "name": "python3"
  },
  "language_info": {
   "codemirror_mode": {
    "name": "ipython",
    "version": 3
   },
   "file_extension": ".py",
   "mimetype": "text/x-python",
   "name": "python",
   "nbconvert_exporter": "python",
   "pygments_lexer": "ipython3",
   "version": "3.9.7"
  }
 },
 "nbformat": 4,
 "nbformat_minor": 5
}
