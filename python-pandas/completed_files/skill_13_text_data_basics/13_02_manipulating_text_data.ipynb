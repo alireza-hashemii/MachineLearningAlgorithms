{
 "cells": [
  {
   "cell_type": "markdown",
   "id": "ab4932a3",
   "metadata": {},
   "source": [
    "# Manipulating Text data"
   ]
  },
  {
   "cell_type": "markdown",
   "id": "d4a056c5",
   "metadata": {},
   "source": [
    "### Import pandas"
   ]
  },
  {
   "cell_type": "code",
   "execution_count": 34,
   "id": "84e993a0",
   "metadata": {},
   "outputs": [],
   "source": [
    "import pandas as pd"
   ]
  },
  {
   "cell_type": "markdown",
   "id": "947ef1d2",
   "metadata": {},
   "source": [
    "### Read CSV\n",
    "In this set of videos we'll use a modified version of the [Student Performance](https://www.kaggle.com/spscientist/students-performance-in-exams) dataset from Kaggle. This dataset contains student perfomance to analyze the influence of parent backgrounds, test preparations, etc on students performance.\n",
    "\n",
    "1. gender and test preparation course are upprcase\n",
    "2. all scores are strings that need % removed\n",
    "3. all lunch values have a space preceding each entry (hard to see)\n",
    "\n",
    "Explore dataset and optimize by converting gender, race, lunch and test prep into categories."
   ]
  },
  {
   "cell_type": "code",
   "execution_count": 35,
   "id": "6e69ef0a",
   "metadata": {
    "scrolled": true
   },
   "outputs": [
    {
     "data": {
      "text/html": [
       "<div>\n",
       "<style scoped>\n",
       "    .dataframe tbody tr th:only-of-type {\n",
       "        vertical-align: middle;\n",
       "    }\n",
       "\n",
       "    .dataframe tbody tr th {\n",
       "        vertical-align: top;\n",
       "    }\n",
       "\n",
       "    .dataframe thead th {\n",
       "        text-align: right;\n",
       "    }\n",
       "</style>\n",
       "<table border=\"1\" class=\"dataframe\">\n",
       "  <thead>\n",
       "    <tr style=\"text-align: right;\">\n",
       "      <th></th>\n",
       "      <th>gender</th>\n",
       "      <th>race/ethnicity</th>\n",
       "      <th>parental level of education</th>\n",
       "      <th>lunch</th>\n",
       "      <th>test preparation course</th>\n",
       "      <th>math score</th>\n",
       "      <th>reading score</th>\n",
       "      <th>writing score</th>\n",
       "    </tr>\n",
       "  </thead>\n",
       "  <tbody>\n",
       "    <tr>\n",
       "      <th>0</th>\n",
       "      <td>FEMALE</td>\n",
       "      <td>group B</td>\n",
       "      <td>bachelor's degree</td>\n",
       "      <td>standard</td>\n",
       "      <td>NONE</td>\n",
       "      <td>72%</td>\n",
       "      <td>72%</td>\n",
       "      <td>74%</td>\n",
       "    </tr>\n",
       "    <tr>\n",
       "      <th>1</th>\n",
       "      <td>FEMALE</td>\n",
       "      <td>group C</td>\n",
       "      <td>some college</td>\n",
       "      <td>standard</td>\n",
       "      <td>COMPLETED</td>\n",
       "      <td>69%</td>\n",
       "      <td>90%</td>\n",
       "      <td>88%</td>\n",
       "    </tr>\n",
       "    <tr>\n",
       "      <th>2</th>\n",
       "      <td>FEMALE</td>\n",
       "      <td>group B</td>\n",
       "      <td>master's degree</td>\n",
       "      <td>standard</td>\n",
       "      <td>NONE</td>\n",
       "      <td>90%</td>\n",
       "      <td>95%</td>\n",
       "      <td>93%</td>\n",
       "    </tr>\n",
       "    <tr>\n",
       "      <th>3</th>\n",
       "      <td>MALE</td>\n",
       "      <td>group A</td>\n",
       "      <td>associate's degree</td>\n",
       "      <td>free/reduced</td>\n",
       "      <td>NONE</td>\n",
       "      <td>47%</td>\n",
       "      <td>57%</td>\n",
       "      <td>44%</td>\n",
       "    </tr>\n",
       "    <tr>\n",
       "      <th>4</th>\n",
       "      <td>MALE</td>\n",
       "      <td>group C</td>\n",
       "      <td>some college</td>\n",
       "      <td>standard</td>\n",
       "      <td>NONE</td>\n",
       "      <td>76%</td>\n",
       "      <td>78%</td>\n",
       "      <td>75%</td>\n",
       "    </tr>\n",
       "  </tbody>\n",
       "</table>\n",
       "</div>"
      ],
      "text/plain": [
       "   gender race/ethnicity parental level of education          lunch  \\\n",
       "0  FEMALE        group B           bachelor's degree       standard   \n",
       "1  FEMALE        group C                some college       standard   \n",
       "2  FEMALE        group B             master's degree       standard   \n",
       "3    MALE        group A          associate's degree   free/reduced   \n",
       "4    MALE        group C                some college       standard   \n",
       "\n",
       "  test preparation course math score reading score writing score  \n",
       "0                    NONE        72%           72%           74%  \n",
       "1               COMPLETED        69%           90%           88%  \n",
       "2                    NONE        90%           95%           93%  \n",
       "3                    NONE        47%           57%           44%  \n",
       "4                    NONE        76%           78%           75%  "
      ]
     },
     "execution_count": 35,
     "metadata": {},
     "output_type": "execute_result"
    }
   ],
   "source": [
    "students = pd.read_csv(\"StudentsPerformance.csv\")\n",
    "students.head()"
   ]
  },
  {
   "cell_type": "code",
   "execution_count": 36,
   "id": "4a8b7232",
   "metadata": {},
   "outputs": [
    {
     "name": "stdout",
     "output_type": "stream",
     "text": [
      "<class 'pandas.core.frame.DataFrame'>\n",
      "RangeIndex: 1000 entries, 0 to 999\n",
      "Data columns (total 8 columns):\n",
      " #   Column                       Non-Null Count  Dtype \n",
      "---  ------                       --------------  ----- \n",
      " 0   gender                       1000 non-null   object\n",
      " 1   race/ethnicity               1000 non-null   object\n",
      " 2   parental level of education  1000 non-null   object\n",
      " 3   lunch                        1000 non-null   object\n",
      " 4   test preparation course      1000 non-null   object\n",
      " 5   math score                   1000 non-null   object\n",
      " 6   reading score                1000 non-null   object\n",
      " 7   writing score                1000 non-null   object\n",
      "dtypes: object(8)\n",
      "memory usage: 62.6+ KB\n"
     ]
    }
   ],
   "source": [
    "students.info()"
   ]
  },
  {
   "cell_type": "code",
   "execution_count": 33,
   "id": "a58e0908",
   "metadata": {},
   "outputs": [
    {
     "data": {
      "text/plain": [
       "gender                          2\n",
       "race/ethnicity                  5\n",
       "parental level of education     6\n",
       "lunch                           2\n",
       "test preparation course         2\n",
       "math score                     81\n",
       "reading score                  72\n",
       "writing score                  77\n",
       "dtype: int64"
      ]
     },
     "execution_count": 33,
     "metadata": {},
     "output_type": "execute_result"
    }
   ],
   "source": [
    "students.nunique()"
   ]
  },
  {
   "cell_type": "code",
   "execution_count": 37,
   "id": "e6f696be",
   "metadata": {},
   "outputs": [],
   "source": [
    "students['parental level of education'] = students['parental level of education'].astype('category')"
   ]
  },
  {
   "cell_type": "code",
   "execution_count": 38,
   "id": "4be34f54",
   "metadata": {},
   "outputs": [
    {
     "name": "stdout",
     "output_type": "stream",
     "text": [
      "<class 'pandas.core.frame.DataFrame'>\n",
      "RangeIndex: 1000 entries, 0 to 999\n",
      "Data columns (total 8 columns):\n",
      " #   Column                       Non-Null Count  Dtype   \n",
      "---  ------                       --------------  -----   \n",
      " 0   gender                       1000 non-null   object  \n",
      " 1   race/ethnicity               1000 non-null   object  \n",
      " 2   parental level of education  1000 non-null   category\n",
      " 3   lunch                        1000 non-null   object  \n",
      " 4   test preparation course      1000 non-null   object  \n",
      " 5   math score                   1000 non-null   object  \n",
      " 6   reading score                1000 non-null   object  \n",
      " 7   writing score                1000 non-null   object  \n",
      "dtypes: category(1), object(7)\n",
      "memory usage: 56.0+ KB\n"
     ]
    }
   ],
   "source": [
    "students.info()"
   ]
  },
  {
   "cell_type": "code",
   "execution_count": 39,
   "id": "4fec35fc",
   "metadata": {},
   "outputs": [],
   "source": [
    "students['race/ethnicity'] = students['race/ethnicity'].astype('category')"
   ]
  },
  {
   "cell_type": "code",
   "execution_count": 40,
   "id": "52a4f69c",
   "metadata": {},
   "outputs": [
    {
     "name": "stdout",
     "output_type": "stream",
     "text": [
      "<class 'pandas.core.frame.DataFrame'>\n",
      "RangeIndex: 1000 entries, 0 to 999\n",
      "Data columns (total 8 columns):\n",
      " #   Column                       Non-Null Count  Dtype   \n",
      "---  ------                       --------------  -----   \n",
      " 0   gender                       1000 non-null   object  \n",
      " 1   race/ethnicity               1000 non-null   category\n",
      " 2   parental level of education  1000 non-null   category\n",
      " 3   lunch                        1000 non-null   object  \n",
      " 4   test preparation course      1000 non-null   object  \n",
      " 5   math score                   1000 non-null   object  \n",
      " 6   reading score                1000 non-null   object  \n",
      " 7   writing score                1000 non-null   object  \n",
      "dtypes: category(2), object(6)\n",
      "memory usage: 49.4+ KB\n"
     ]
    }
   ],
   "source": [
    "students.info()"
   ]
  },
  {
   "cell_type": "code",
   "execution_count": 41,
   "id": "84720688",
   "metadata": {},
   "outputs": [
    {
     "name": "stdout",
     "output_type": "stream",
     "text": [
      "<class 'pandas.core.frame.DataFrame'>\n",
      "RangeIndex: 1000 entries, 0 to 999\n",
      "Data columns (total 8 columns):\n",
      " #   Column                       Non-Null Count  Dtype   \n",
      "---  ------                       --------------  -----   \n",
      " 0   gender                       1000 non-null   category\n",
      " 1   race/ethnicity               1000 non-null   category\n",
      " 2   parental level of education  1000 non-null   category\n",
      " 3   lunch                        1000 non-null   object  \n",
      " 4   test preparation course      1000 non-null   object  \n",
      " 5   math score                   1000 non-null   object  \n",
      " 6   reading score                1000 non-null   object  \n",
      " 7   writing score                1000 non-null   object  \n",
      "dtypes: category(3), object(5)\n",
      "memory usage: 42.7+ KB\n"
     ]
    }
   ],
   "source": [
    "students['gender'] = students['gender'].astype('category')\n",
    "students.info()"
   ]
  },
  {
   "cell_type": "code",
   "execution_count": 42,
   "id": "b3dbe209",
   "metadata": {},
   "outputs": [
    {
     "data": {
      "text/plain": [
       "gender                          2\n",
       "race/ethnicity                  5\n",
       "parental level of education     6\n",
       "lunch                           2\n",
       "test preparation course         2\n",
       "math score                     81\n",
       "reading score                  72\n",
       "writing score                  77\n",
       "dtype: int64"
      ]
     },
     "execution_count": 42,
     "metadata": {},
     "output_type": "execute_result"
    }
   ],
   "source": [
    "students.nunique()"
   ]
  },
  {
   "cell_type": "code",
   "execution_count": 43,
   "id": "8d3bd836",
   "metadata": {},
   "outputs": [],
   "source": [
    "students['lunch'] = students['lunch'].astype('category')"
   ]
  },
  {
   "cell_type": "code",
   "execution_count": 44,
   "id": "60197e30",
   "metadata": {},
   "outputs": [
    {
     "name": "stdout",
     "output_type": "stream",
     "text": [
      "<class 'pandas.core.frame.DataFrame'>\n",
      "RangeIndex: 1000 entries, 0 to 999\n",
      "Data columns (total 8 columns):\n",
      " #   Column                       Non-Null Count  Dtype   \n",
      "---  ------                       --------------  -----   \n",
      " 0   gender                       1000 non-null   category\n",
      " 1   race/ethnicity               1000 non-null   category\n",
      " 2   parental level of education  1000 non-null   category\n",
      " 3   lunch                        1000 non-null   category\n",
      " 4   test preparation course      1000 non-null   object  \n",
      " 5   math score                   1000 non-null   object  \n",
      " 6   reading score                1000 non-null   object  \n",
      " 7   writing score                1000 non-null   object  \n",
      "dtypes: category(4), object(4)\n",
      "memory usage: 35.9+ KB\n"
     ]
    }
   ],
   "source": [
    "students.info()"
   ]
  },
  {
   "cell_type": "code",
   "execution_count": 45,
   "id": "8340e3c7",
   "metadata": {},
   "outputs": [],
   "source": [
    "students['test preparation course'] = students['test preparation course'].astype('category')"
   ]
  },
  {
   "cell_type": "code",
   "execution_count": 47,
   "id": "b93545eb",
   "metadata": {},
   "outputs": [
    {
     "name": "stdout",
     "output_type": "stream",
     "text": [
      "<class 'pandas.core.frame.DataFrame'>\n",
      "RangeIndex: 1000 entries, 0 to 999\n",
      "Data columns (total 8 columns):\n",
      " #   Column                       Non-Null Count  Dtype   \n",
      "---  ------                       --------------  -----   \n",
      " 0   gender                       1000 non-null   category\n",
      " 1   race/ethnicity               1000 non-null   category\n",
      " 2   parental level of education  1000 non-null   category\n",
      " 3   lunch                        1000 non-null   category\n",
      " 4   test preparation course      1000 non-null   category\n",
      " 5   math score                   1000 non-null   object  \n",
      " 6   reading score                1000 non-null   object  \n",
      " 7   writing score                1000 non-null   object  \n",
      "dtypes: category(5), object(3)\n",
      "memory usage: 29.2+ KB\n"
     ]
    }
   ],
   "source": [
    "students.info()"
   ]
  },
  {
   "cell_type": "code",
   "execution_count": 48,
   "id": "e8b37705",
   "metadata": {},
   "outputs": [
    {
     "data": {
      "text/html": [
       "<div>\n",
       "<style scoped>\n",
       "    .dataframe tbody tr th:only-of-type {\n",
       "        vertical-align: middle;\n",
       "    }\n",
       "\n",
       "    .dataframe tbody tr th {\n",
       "        vertical-align: top;\n",
       "    }\n",
       "\n",
       "    .dataframe thead th {\n",
       "        text-align: right;\n",
       "    }\n",
       "</style>\n",
       "<table border=\"1\" class=\"dataframe\">\n",
       "  <thead>\n",
       "    <tr style=\"text-align: right;\">\n",
       "      <th></th>\n",
       "      <th>gender</th>\n",
       "      <th>race/ethnicity</th>\n",
       "      <th>parental level of education</th>\n",
       "      <th>lunch</th>\n",
       "      <th>test preparation course</th>\n",
       "      <th>math score</th>\n",
       "      <th>reading score</th>\n",
       "      <th>writing score</th>\n",
       "    </tr>\n",
       "  </thead>\n",
       "  <tbody>\n",
       "    <tr>\n",
       "      <th>0</th>\n",
       "      <td>FEMALE</td>\n",
       "      <td>group B</td>\n",
       "      <td>bachelor's degree</td>\n",
       "      <td>standard</td>\n",
       "      <td>NONE</td>\n",
       "      <td>72%</td>\n",
       "      <td>72%</td>\n",
       "      <td>74%</td>\n",
       "    </tr>\n",
       "    <tr>\n",
       "      <th>1</th>\n",
       "      <td>FEMALE</td>\n",
       "      <td>group C</td>\n",
       "      <td>some college</td>\n",
       "      <td>standard</td>\n",
       "      <td>COMPLETED</td>\n",
       "      <td>69%</td>\n",
       "      <td>90%</td>\n",
       "      <td>88%</td>\n",
       "    </tr>\n",
       "    <tr>\n",
       "      <th>2</th>\n",
       "      <td>FEMALE</td>\n",
       "      <td>group B</td>\n",
       "      <td>master's degree</td>\n",
       "      <td>standard</td>\n",
       "      <td>NONE</td>\n",
       "      <td>90%</td>\n",
       "      <td>95%</td>\n",
       "      <td>93%</td>\n",
       "    </tr>\n",
       "    <tr>\n",
       "      <th>3</th>\n",
       "      <td>MALE</td>\n",
       "      <td>group A</td>\n",
       "      <td>associate's degree</td>\n",
       "      <td>free/reduced</td>\n",
       "      <td>NONE</td>\n",
       "      <td>47%</td>\n",
       "      <td>57%</td>\n",
       "      <td>44%</td>\n",
       "    </tr>\n",
       "    <tr>\n",
       "      <th>4</th>\n",
       "      <td>MALE</td>\n",
       "      <td>group C</td>\n",
       "      <td>some college</td>\n",
       "      <td>standard</td>\n",
       "      <td>NONE</td>\n",
       "      <td>76%</td>\n",
       "      <td>78%</td>\n",
       "      <td>75%</td>\n",
       "    </tr>\n",
       "  </tbody>\n",
       "</table>\n",
       "</div>"
      ],
      "text/plain": [
       "   gender race/ethnicity parental level of education          lunch  \\\n",
       "0  FEMALE        group B           bachelor's degree       standard   \n",
       "1  FEMALE        group C                some college       standard   \n",
       "2  FEMALE        group B             master's degree       standard   \n",
       "3    MALE        group A          associate's degree   free/reduced   \n",
       "4    MALE        group C                some college       standard   \n",
       "\n",
       "  test preparation course math score reading score writing score  \n",
       "0                    NONE        72%           72%           74%  \n",
       "1               COMPLETED        69%           90%           88%  \n",
       "2                    NONE        90%           95%           93%  \n",
       "3                    NONE        47%           57%           44%  \n",
       "4                    NONE        76%           78%           75%  "
      ]
     },
     "execution_count": 48,
     "metadata": {},
     "output_type": "execute_result"
    }
   ],
   "source": [
    "students.head()"
   ]
  }
 ],
 "metadata": {
  "kernelspec": {
   "display_name": "Python 3 (ipykernel)",
   "language": "python",
   "name": "python3"
  },
  "language_info": {
   "codemirror_mode": {
    "name": "ipython",
    "version": 3
   },
   "file_extension": ".py",
   "mimetype": "text/x-python",
   "name": "python",
   "nbconvert_exporter": "python",
   "pygments_lexer": "ipython3",
   "version": "3.9.7"
  }
 },
 "nbformat": 4,
 "nbformat_minor": 5
}
