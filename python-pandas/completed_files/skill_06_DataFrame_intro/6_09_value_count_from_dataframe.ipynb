{
 "cells": [
  {
   "cell_type": "markdown",
   "metadata": {},
   "source": [
    "# Get  `value_counts()` from DataFrames"
   ]
  },
  {
   "cell_type": "markdown",
   "metadata": {},
   "source": [
    "### Import Pandas"
   ]
  },
  {
   "cell_type": "code",
   "execution_count": 1,
   "metadata": {},
   "outputs": [],
   "source": [
    "import pandas as pd"
   ]
  },
  {
   "cell_type": "markdown",
   "metadata": {},
   "source": [
    "### U.S. Major League Soccer Salaries"
   ]
  },
  {
   "cell_type": "code",
   "execution_count": 2,
   "metadata": {},
   "outputs": [],
   "source": [
    "salaries = pd.read_csv(\"mls_salaries.csv\")"
   ]
  },
  {
   "cell_type": "markdown",
   "metadata": {},
   "source": [
    "### Head"
   ]
  },
  {
   "cell_type": "code",
   "execution_count": 3,
   "metadata": {
    "scrolled": false
   },
   "outputs": [
    {
     "data": {
      "text/html": [
       "<div>\n",
       "<style scoped>\n",
       "    .dataframe tbody tr th:only-of-type {\n",
       "        vertical-align: middle;\n",
       "    }\n",
       "\n",
       "    .dataframe tbody tr th {\n",
       "        vertical-align: top;\n",
       "    }\n",
       "\n",
       "    .dataframe thead th {\n",
       "        text-align: right;\n",
       "    }\n",
       "</style>\n",
       "<table border=\"1\" class=\"dataframe\">\n",
       "  <thead>\n",
       "    <tr style=\"text-align: right;\">\n",
       "      <th></th>\n",
       "      <th>club</th>\n",
       "      <th>last_name</th>\n",
       "      <th>first_name</th>\n",
       "      <th>position</th>\n",
       "      <th>base_salary</th>\n",
       "      <th>guaranteed_compensation</th>\n",
       "    </tr>\n",
       "  </thead>\n",
       "  <tbody>\n",
       "    <tr>\n",
       "      <th>0</th>\n",
       "      <td>ATL</td>\n",
       "      <td>Almiron</td>\n",
       "      <td>Miguel</td>\n",
       "      <td>M</td>\n",
       "      <td>1912500.0</td>\n",
       "      <td>2297000.00</td>\n",
       "    </tr>\n",
       "    <tr>\n",
       "      <th>1</th>\n",
       "      <td>ATL</td>\n",
       "      <td>Ambrose</td>\n",
       "      <td>Mikey</td>\n",
       "      <td>D</td>\n",
       "      <td>65625.0</td>\n",
       "      <td>65625.00</td>\n",
       "    </tr>\n",
       "    <tr>\n",
       "      <th>2</th>\n",
       "      <td>ATL</td>\n",
       "      <td>Asad</td>\n",
       "      <td>Yamil</td>\n",
       "      <td>M</td>\n",
       "      <td>150000.0</td>\n",
       "      <td>150000.00</td>\n",
       "    </tr>\n",
       "    <tr>\n",
       "      <th>3</th>\n",
       "      <td>ATL</td>\n",
       "      <td>Bloom</td>\n",
       "      <td>Mark</td>\n",
       "      <td>D</td>\n",
       "      <td>99225.0</td>\n",
       "      <td>106573.89</td>\n",
       "    </tr>\n",
       "    <tr>\n",
       "      <th>4</th>\n",
       "      <td>ATL</td>\n",
       "      <td>Carleton</td>\n",
       "      <td>Andrew</td>\n",
       "      <td>F</td>\n",
       "      <td>65000.0</td>\n",
       "      <td>77400.00</td>\n",
       "    </tr>\n",
       "  </tbody>\n",
       "</table>\n",
       "</div>"
      ],
      "text/plain": [
       "  club last_name first_name position  base_salary  guaranteed_compensation\n",
       "0  ATL   Almiron     Miguel        M    1912500.0               2297000.00\n",
       "1  ATL   Ambrose      Mikey        D      65625.0                 65625.00\n",
       "2  ATL      Asad      Yamil        M     150000.0                150000.00\n",
       "3  ATL     Bloom       Mark        D      99225.0                106573.89\n",
       "4  ATL  Carleton     Andrew        F      65000.0                 77400.00"
      ]
     },
     "execution_count": 3,
     "metadata": {},
     "output_type": "execute_result"
    }
   ],
   "source": [
    "# called the head method to see what were working with\n",
    "salaries.head()"
   ]
  },
  {
   "cell_type": "markdown",
   "metadata": {},
   "source": [
    "### Return a Series column and count frequency"
   ]
  },
  {
   "cell_type": "code",
   "execution_count": 4,
   "metadata": {},
   "outputs": [
    {
     "data": {
      "text/plain": [
       "0      ATL\n",
       "1      ATL\n",
       "2      ATL\n",
       "3      ATL\n",
       "4      ATL\n",
       "      ... \n",
       "610    VAN\n",
       "611    VAN\n",
       "612    VAN\n",
       "613    NaN\n",
       "614    VAN\n",
       "Name: club, Length: 615, dtype: object"
      ]
     },
     "execution_count": 4,
     "metadata": {},
     "output_type": "execute_result"
    }
   ],
   "source": [
    "# fisrt, return a column as a Series from the DataFrame\n",
    "salaries[\"club\"]"
   ]
  },
  {
   "cell_type": "code",
   "execution_count": 5,
   "metadata": {},
   "outputs": [
    {
     "data": {
      "text/plain": [
       "VAN      32\n",
       "PHI      31\n",
       "ATL      31\n",
       "CLB      30\n",
       "ORL      30\n",
       "DAL      29\n",
       "SJ       29\n",
       "NYCFC    28\n",
       "HOU      28\n",
       "NYRB     28\n",
       "TOR      27\n",
       "RSL      27\n",
       "POR      27\n",
       "MTL      27\n",
       "CHI      27\n",
       "MNUFC    27\n",
       "LA       27\n",
       "DC       27\n",
       "KC       26\n",
       "COL      26\n",
       "SEA      25\n",
       "NE       23\n",
       "LAFC      2\n",
       "Name: club, dtype: int64"
      ]
     },
     "execution_count": 5,
     "metadata": {},
     "output_type": "execute_result"
    }
   ],
   "source": [
    "# next, return the value frequency for each value in 'club'\n",
    "salaries[\"club\"].value_counts()"
   ]
  },
  {
   "cell_type": "markdown",
   "metadata": {},
   "source": [
    "### Original DataFrame"
   ]
  },
  {
   "cell_type": "code",
   "execution_count": 6,
   "metadata": {},
   "outputs": [
    {
     "data": {
      "text/plain": [
       "0      ATL\n",
       "1      ATL\n",
       "2      ATL\n",
       "3      ATL\n",
       "4      ATL\n",
       "      ... \n",
       "610    VAN\n",
       "611    VAN\n",
       "612    VAN\n",
       "613    NaN\n",
       "614    VAN\n",
       "Name: club, Length: 615, dtype: object"
      ]
     },
     "execution_count": 6,
     "metadata": {},
     "output_type": "execute_result"
    }
   ],
   "source": [
    "# as you can see, it does not mutate the original DataFrame\n",
    "salaries[\"club\"]"
   ]
  },
  {
   "cell_type": "code",
   "execution_count": 7,
   "metadata": {},
   "outputs": [
    {
     "data": {
      "text/plain": [
       "53004.0     44\n",
       "65004.0     33\n",
       "65625.0     19\n",
       "65000.0     19\n",
       "150000.0    15\n",
       "            ..\n",
       "106312.5     1\n",
       "96800.0      1\n",
       "850000.0     1\n",
       "202000.0     1\n",
       "126500.0     1\n",
       "Name: base_salary, Length: 248, dtype: int64"
      ]
     },
     "execution_count": 7,
     "metadata": {},
     "output_type": "execute_result"
    }
   ],
   "source": [
    "# let's try one more, so hwo about salary? Surely they all make over 100k?\n",
    "salaries[\"base_salary\"].value_counts()"
   ]
  }
 ],
 "metadata": {
  "kernelspec": {
   "display_name": "Python 3 (ipykernel)",
   "language": "python",
   "name": "python3"
  },
  "language_info": {
   "codemirror_mode": {
    "name": "ipython",
    "version": 3
   },
   "file_extension": ".py",
   "mimetype": "text/x-python",
   "name": "python",
   "nbconvert_exporter": "python",
   "pygments_lexer": "ipython3",
   "version": "3.9.7"
  }
 },
 "nbformat": 4,
 "nbformat_minor": 4
}
