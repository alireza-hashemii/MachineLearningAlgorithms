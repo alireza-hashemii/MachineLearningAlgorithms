{
 "cells": [
  {
   "cell_type": "markdown",
   "metadata": {
    "id": "TXFTRE5uC0DP"
   },
   "source": [
    "# Broadcasting Methods\n"
   ]
  },
  {
   "cell_type": "markdown",
   "metadata": {
    "id": "mOVx5G-kC0DT"
   },
   "source": [
    "### Import Pandas"
   ]
  },
  {
   "cell_type": "code",
   "execution_count": 1,
   "metadata": {
    "id": "SIg8lYuAC0DT"
   },
   "outputs": [],
   "source": [
    "import pandas as pd"
   ]
  },
  {
   "cell_type": "markdown",
   "metadata": {
    "id": "gt_l5gWjC0DU"
   },
   "source": [
    "### Read CSV"
   ]
  },
  {
   "cell_type": "code",
   "execution_count": 2,
   "metadata": {
    "id": "tH3PuOsYC0DV"
   },
   "outputs": [],
   "source": [
    "salaries = pd.read_csv(\"mls_salaries.csv\")"
   ]
  },
  {
   "cell_type": "code",
   "execution_count": 3,
   "metadata": {
    "id": "0VLdvUpHC0DV",
    "outputId": "2aa76d17-e3d1-4b75-89ce-16f7931b1913",
    "scrolled": true
   },
   "outputs": [
    {
     "data": {
      "text/html": [
       "<div>\n",
       "<style scoped>\n",
       "    .dataframe tbody tr th:only-of-type {\n",
       "        vertical-align: middle;\n",
       "    }\n",
       "\n",
       "    .dataframe tbody tr th {\n",
       "        vertical-align: top;\n",
       "    }\n",
       "\n",
       "    .dataframe thead th {\n",
       "        text-align: right;\n",
       "    }\n",
       "</style>\n",
       "<table border=\"1\" class=\"dataframe\">\n",
       "  <thead>\n",
       "    <tr style=\"text-align: right;\">\n",
       "      <th></th>\n",
       "      <th>club</th>\n",
       "      <th>last_name</th>\n",
       "      <th>first_name</th>\n",
       "      <th>position</th>\n",
       "      <th>base_salary</th>\n",
       "      <th>guaranteed_compensation</th>\n",
       "    </tr>\n",
       "  </thead>\n",
       "  <tbody>\n",
       "    <tr>\n",
       "      <th>0</th>\n",
       "      <td>ATL</td>\n",
       "      <td>Almiron</td>\n",
       "      <td>Miguel</td>\n",
       "      <td>M</td>\n",
       "      <td>1912500.0</td>\n",
       "      <td>2297000.00</td>\n",
       "    </tr>\n",
       "    <tr>\n",
       "      <th>1</th>\n",
       "      <td>ATL</td>\n",
       "      <td>Ambrose</td>\n",
       "      <td>Mikey</td>\n",
       "      <td>D</td>\n",
       "      <td>65625.0</td>\n",
       "      <td>65625.00</td>\n",
       "    </tr>\n",
       "    <tr>\n",
       "      <th>2</th>\n",
       "      <td>ATL</td>\n",
       "      <td>Asad</td>\n",
       "      <td>Yamil</td>\n",
       "      <td>M</td>\n",
       "      <td>150000.0</td>\n",
       "      <td>150000.00</td>\n",
       "    </tr>\n",
       "    <tr>\n",
       "      <th>3</th>\n",
       "      <td>ATL</td>\n",
       "      <td>Bloom</td>\n",
       "      <td>Mark</td>\n",
       "      <td>D</td>\n",
       "      <td>99225.0</td>\n",
       "      <td>106573.89</td>\n",
       "    </tr>\n",
       "    <tr>\n",
       "      <th>4</th>\n",
       "      <td>ATL</td>\n",
       "      <td>Carleton</td>\n",
       "      <td>Andrew</td>\n",
       "      <td>F</td>\n",
       "      <td>65000.0</td>\n",
       "      <td>77400.00</td>\n",
       "    </tr>\n",
       "  </tbody>\n",
       "</table>\n",
       "</div>"
      ],
      "text/plain": [
       "  club last_name first_name position  base_salary  guaranteed_compensation\n",
       "0  ATL   Almiron     Miguel        M    1912500.0               2297000.00\n",
       "1  ATL   Ambrose      Mikey        D      65625.0                 65625.00\n",
       "2  ATL      Asad      Yamil        M     150000.0                150000.00\n",
       "3  ATL     Bloom       Mark        D      99225.0                106573.89\n",
       "4  ATL  Carleton     Andrew        F      65000.0                 77400.00"
      ]
     },
     "execution_count": 3,
     "metadata": {},
     "output_type": "execute_result"
    }
   ],
   "source": [
    "# called the head method to see what were working with\n",
    "salaries.head()"
   ]
  },
  {
   "cell_type": "markdown",
   "metadata": {
    "id": "x5NxaOmjC0DW"
   },
   "source": [
    "### Broadcasting with the .add() method"
   ]
  },
  {
   "cell_type": "code",
   "execution_count": 4,
   "metadata": {
    "id": "yl5AptX1C0DW",
    "outputId": "93742b1f-473c-49df-eaf3-236c8fd30180"
   },
   "outputs": [
    {
     "data": {
      "text/plain": [
       "0      1912505.0\n",
       "1        65630.0\n",
       "2       150005.0\n",
       "3        99230.0\n",
       "4        65005.0\n",
       "         ...    \n",
       "610     126505.0\n",
       "611      80005.0\n",
       "612     350005.0\n",
       "613          NaN\n",
       "614     175005.0\n",
       "Name: base_salary, Length: 615, dtype: float64"
      ]
     },
     "execution_count": 4,
     "metadata": {},
     "output_type": "execute_result"
    }
   ],
   "source": [
    "# broadcast 5 to all values using the add() math broadcasting method\n",
    "salaries[\"base_salary\"].add(5) # they don't chage the original"
   ]
  },
  {
   "cell_type": "markdown",
   "metadata": {
    "id": "SFx8lEmcC0DW"
   },
   "source": [
    "### Original DataFrame"
   ]
  },
  {
   "cell_type": "code",
   "execution_count": 5,
   "metadata": {
    "id": "-ACYu-GAC0DX",
    "outputId": "afb05275-d1a3-41f4-c0cd-37ae303b9667"
   },
   "outputs": [
    {
     "data": {
      "text/plain": [
       "0      1912500.0\n",
       "1        65625.0\n",
       "2       150000.0\n",
       "3        99225.0\n",
       "4        65000.0\n",
       "         ...    \n",
       "610     126500.0\n",
       "611      80000.0\n",
       "612     350000.0\n",
       "613          NaN\n",
       "614     175000.0\n",
       "Name: base_salary, Length: 615, dtype: float64"
      ]
     },
     "execution_count": 5,
     "metadata": {},
     "output_type": "execute_result"
    }
   ],
   "source": [
    "salaries[\"base_salary\"]"
   ]
  },
  {
   "cell_type": "markdown",
   "metadata": {
    "id": "UxRcyFanC0DX"
   },
   "source": [
    "### Broadcasting with the .sub() method"
   ]
  },
  {
   "cell_type": "code",
   "execution_count": 6,
   "metadata": {
    "id": "rWh0e2AVC0DX"
   },
   "outputs": [
    {
     "data": {
      "text/plain": [
       "0      1912495.0\n",
       "1        65620.0\n",
       "2       149995.0\n",
       "3        99220.0\n",
       "4        64995.0\n",
       "         ...    \n",
       "610     126495.0\n",
       "611      79995.0\n",
       "612     349995.0\n",
       "613          NaN\n",
       "614     174995.0\n",
       "Name: base_salary, Length: 615, dtype: float64"
      ]
     },
     "execution_count": 6,
     "metadata": {},
     "output_type": "execute_result"
    }
   ],
   "source": [
    "# broadcast -5 to all values using the sub() math broadcasting method\n",
    "salaries[\"base_salary\"].sub(5)# doesn't chage the original dataset"
   ]
  },
  {
   "cell_type": "markdown",
   "metadata": {
    "id": "aYwoqQ5BC0DX"
   },
   "source": [
    "### Original DataFrame"
   ]
  },
  {
   "cell_type": "code",
   "execution_count": 7,
   "metadata": {
    "id": "RVduTSiLC0DY",
    "outputId": "a15550bf-849a-4875-bc67-7b189d8b0e46"
   },
   "outputs": [
    {
     "data": {
      "text/plain": [
       "0      1912500.0\n",
       "1        65625.0\n",
       "2       150000.0\n",
       "3        99225.0\n",
       "4        65000.0\n",
       "         ...    \n",
       "610     126500.0\n",
       "611      80000.0\n",
       "612     350000.0\n",
       "613          NaN\n",
       "614     175000.0\n",
       "Name: base_salary, Length: 615, dtype: float64"
      ]
     },
     "execution_count": 7,
     "metadata": {},
     "output_type": "execute_result"
    }
   ],
   "source": [
    "salaries[\"base_salary\"]"
   ]
  },
  {
   "cell_type": "markdown",
   "metadata": {
    "id": "epP-zx8rC0DY"
   },
   "source": [
    "### Broadcasting with the .sub() method"
   ]
  },
  {
   "cell_type": "code",
   "execution_count": 8,
   "metadata": {
    "id": "6U1KInrWC0DY",
    "outputId": "cb26afd9-82c8-4dee-8887-71c6e6bd1262"
   },
   "outputs": [
    {
     "data": {
      "text/plain": [
       "0      1.912500\n",
       "1      0.065625\n",
       "2      0.150000\n",
       "3      0.099225\n",
       "4      0.065000\n",
       "         ...   \n",
       "610    0.126500\n",
       "611    0.080000\n",
       "612    0.350000\n",
       "613         NaN\n",
       "614    0.175000\n",
       "Name: base_salary, Length: 615, dtype: float64"
      ]
     },
     "execution_count": 8,
     "metadata": {},
     "output_type": "execute_result"
    }
   ],
   "source": [
    "# broadcast Salary in millions (/ 1000000) to all values using the div() math broadcasting method\n",
    "salaries[\"base_salary\"].div(1000000)# doesn't chage the original dataset"
   ]
  },
  {
   "cell_type": "code",
   "execution_count": 9,
   "metadata": {
    "id": "bTe8eHhVC0DY",
    "outputId": "327e1b7a-3d5f-4189-e1ec-6a745efbb14a"
   },
   "outputs": [
    {
     "data": {
      "text/plain": [
       "0      1912500.0\n",
       "1        65625.0\n",
       "2       150000.0\n",
       "3        99225.0\n",
       "4        65000.0\n",
       "         ...    \n",
       "610     126500.0\n",
       "611      80000.0\n",
       "612     350000.0\n",
       "613          NaN\n",
       "614     175000.0\n",
       "Name: base_salary, Length: 615, dtype: float64"
      ]
     },
     "execution_count": 9,
     "metadata": {},
     "output_type": "execute_result"
    }
   ],
   "source": [
    "# again, the original is in tact\n",
    "salaries[\"base_salary\"]"
   ]
  },
  {
   "cell_type": "markdown",
   "metadata": {
    "id": "69TW62ikC0DY"
   },
   "source": [
    "### Convert `base_salary` to Euros"
   ]
  },
  {
   "cell_type": "code",
   "execution_count": 10,
   "metadata": {
    "id": "zDQduolwC0DY",
    "outputId": "35a0b6db-ef6c-450a-ba14-e1b8be9b580a"
   },
   "outputs": [
    {
     "data": {
      "text/plain": [
       "0      1568250.0\n",
       "1        53812.5\n",
       "2       123000.0\n",
       "3        81364.5\n",
       "4        53300.0\n",
       "         ...    \n",
       "610     103730.0\n",
       "611      65600.0\n",
       "612     287000.0\n",
       "613          NaN\n",
       "614     143500.0\n",
       "Name: base_salary, Length: 615, dtype: float64"
      ]
     },
     "execution_count": 10,
     "metadata": {},
     "output_type": "execute_result"
    }
   ],
   "source": [
    "# broadcast salary in EUR to all values using the mul() math broadcasting method\n",
    "salaries[\"base_salary\"].mul(0.82) # 1/31/21"
   ]
  },
  {
   "cell_type": "markdown",
   "metadata": {
    "id": "Rzy64vmOC0DZ"
   },
   "source": [
    "### Adding a new column to a DataFrame"
   ]
  },
  {
   "cell_type": "code",
   "execution_count": 11,
   "metadata": {
    "id": "SlKKb6ykC0DZ",
    "outputId": "1a31c9c9-75ec-43a4-aec8-0048233eea5b"
   },
   "outputs": [
    {
     "data": {
      "text/html": [
       "<div>\n",
       "<style scoped>\n",
       "    .dataframe tbody tr th:only-of-type {\n",
       "        vertical-align: middle;\n",
       "    }\n",
       "\n",
       "    .dataframe tbody tr th {\n",
       "        vertical-align: top;\n",
       "    }\n",
       "\n",
       "    .dataframe thead th {\n",
       "        text-align: right;\n",
       "    }\n",
       "</style>\n",
       "<table border=\"1\" class=\"dataframe\">\n",
       "  <thead>\n",
       "    <tr style=\"text-align: right;\">\n",
       "      <th></th>\n",
       "      <th>club</th>\n",
       "      <th>last_name</th>\n",
       "      <th>first_name</th>\n",
       "      <th>position</th>\n",
       "      <th>base_salary</th>\n",
       "      <th>guaranteed_compensation</th>\n",
       "      <th>base_salary_eur</th>\n",
       "    </tr>\n",
       "  </thead>\n",
       "  <tbody>\n",
       "    <tr>\n",
       "      <th>0</th>\n",
       "      <td>ATL</td>\n",
       "      <td>Almiron</td>\n",
       "      <td>Miguel</td>\n",
       "      <td>M</td>\n",
       "      <td>1912500.0</td>\n",
       "      <td>2297000.0</td>\n",
       "      <td>1568250.0</td>\n",
       "    </tr>\n",
       "    <tr>\n",
       "      <th>1</th>\n",
       "      <td>ATL</td>\n",
       "      <td>Ambrose</td>\n",
       "      <td>Mikey</td>\n",
       "      <td>D</td>\n",
       "      <td>65625.0</td>\n",
       "      <td>65625.0</td>\n",
       "      <td>53812.5</td>\n",
       "    </tr>\n",
       "    <tr>\n",
       "      <th>2</th>\n",
       "      <td>ATL</td>\n",
       "      <td>Asad</td>\n",
       "      <td>Yamil</td>\n",
       "      <td>M</td>\n",
       "      <td>150000.0</td>\n",
       "      <td>150000.0</td>\n",
       "      <td>123000.0</td>\n",
       "    </tr>\n",
       "  </tbody>\n",
       "</table>\n",
       "</div>"
      ],
      "text/plain": [
       "  club last_name first_name position  base_salary  guaranteed_compensation  \\\n",
       "0  ATL   Almiron     Miguel        M    1912500.0                2297000.0   \n",
       "1  ATL   Ambrose      Mikey        D      65625.0                  65625.0   \n",
       "2  ATL      Asad      Yamil        M     150000.0                 150000.0   \n",
       "\n",
       "   base_salary_eur  \n",
       "0        1568250.0  \n",
       "1          53812.5  \n",
       "2         123000.0  "
      ]
     },
     "execution_count": 11,
     "metadata": {},
     "output_type": "execute_result"
    }
   ],
   "source": [
    "# create a new column name and assign it to = the operation \n",
    "salaries[\"base_salary_eur\"] = salaries[\"base_salary\"].mul(0.82)\n",
    "salaries.head(3) # returns the eruos column concatenated to our original DataFrame (no inplace= needed)"
   ]
  }
 ],
 "metadata": {
  "colab": {
   "collapsed_sections": [],
   "name": "5_07_broadcasting_dataframe_operations.ipynb",
   "provenance": []
  },
  "kernelspec": {
   "display_name": "Python 3 (ipykernel)",
   "language": "python",
   "name": "python3"
  },
  "language_info": {
   "codemirror_mode": {
    "name": "ipython",
    "version": 3
   },
   "file_extension": ".py",
   "mimetype": "text/x-python",
   "name": "python",
   "nbconvert_exporter": "python",
   "pygments_lexer": "ipython3",
   "version": "3.9.7"
  }
 },
 "nbformat": 4,
 "nbformat_minor": 1
}
