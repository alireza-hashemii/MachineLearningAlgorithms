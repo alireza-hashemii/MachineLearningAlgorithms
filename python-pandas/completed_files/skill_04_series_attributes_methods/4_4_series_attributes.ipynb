{
 "cells": [
  {
   "cell_type": "markdown",
   "metadata": {},
   "source": [
    "# Series Attributes"
   ]
  },
  {
   "cell_type": "markdown",
   "metadata": {},
   "source": [
    "### Import Pandas"
   ]
  },
  {
   "cell_type": "code",
   "execution_count": 4,
   "metadata": {},
   "outputs": [],
   "source": [
    "import pandas as pd"
   ]
  },
  {
   "cell_type": "markdown",
   "metadata": {},
   "source": [
    "### Import CSV as Series"
   ]
  },
  {
   "cell_type": "code",
   "execution_count": 26,
   "metadata": {},
   "outputs": [],
   "source": [
    "a_names = pd.read_csv('animal_names.csv', usecols=['scientific_name']).squeeze(\"columns\")"
   ]
  },
  {
   "cell_type": "markdown",
   "metadata": {},
   "source": [
    "### `values` attribute"
   ]
  },
  {
   "cell_type": "code",
   "execution_count": 6,
   "metadata": {},
   "outputs": [
    {
     "data": {
      "text/plain": [
       "array(['Cercatetus concinnus', 'Lutra canadensis', 'Alopex lagopus',\n",
       "       'Macropus eugenii', 'Calyptorhynchus magnificus',\n",
       "       'Castor canadensis', 'Raphicerus campestris',\n",
       "       'Spermophilus parryii', 'Cordylus giganteus', 'Naja haje',\n",
       "       'Dicrostonyx groenlandicus', 'Spheniscus magellanicus',\n",
       "       'Pseudoleistes virescens', 'Lama glama', 'Scolopax minor',\n",
       "       'Pteropus rufus', 'Ursus americanus', 'Helogale undulata',\n",
       "       'Caiman crocodilus', 'Cercopithecus aethiops',\n",
       "       'Uraeginthus angolensis', 'Corvus albicollis', 'Acinynox jubatus',\n",
       "       'Uraeginthus angolensis', 'Pteronura brasiliensis',\n",
       "       'Cervus elaphus', 'Gazella thompsonii',\n",
       "       'Morelia spilotes variegata', 'Globicephala melas',\n",
       "       'Dendrocitta vagabunda', 'Kobus defassa', 'Anhinga rufa',\n",
       "       'Francolinus coqui', 'Phalaropus fulicarius', 'unavailable',\n",
       "       'Eolophus roseicapillus', 'Psittacula krameri',\n",
       "       'Pteronura brasiliensis', 'Morelia spilotes variegata',\n",
       "       'Anthropoides paradisea', 'Antilocapra americana',\n",
       "       'Colobus guerza', 'Tragelaphus strepsiceros', 'Carphophis sp.',\n",
       "       'Cygnus atratus', 'Phoenicopterus chilensis',\n",
       "       'Ammospermophilus nelsoni', 'Macropus robustus', 'Ateles paniscus',\n",
       "       'Fratercula corniculata', 'Sciurus vulgaris', 'Parus atricapillus',\n",
       "       'Castor fiber', 'Lepus townsendii', 'Vicugna vicugna',\n",
       "       'Semnopithecus entellus', 'Dasyurus viverrinus',\n",
       "       'Vombatus ursinus', 'Passer domesticus', 'Tadorna tadorna',\n",
       "       'Hippotragus niger', 'Macropus fuliginosus',\n",
       "       'Felis silvestris lybica', 'Sciurus vulgaris', 'Hystrix indica',\n",
       "       'Ara chloroptera', 'Gorilla gorilla', 'Castor canadensis',\n",
       "       'Aonyx capensis', 'Alcelaphus buselaphus caama',\n",
       "       'Physignathus cocincinus', 'Macropus eugenii', 'Pteropus rufus',\n",
       "       'Kobus defassa', 'Pitangus sulphuratus', 'Tetracerus quadricornis',\n",
       "       'Tachyglossus aculeatus', 'Junonia genoveua',\n",
       "       'Herpestes javanicus', 'Heloderma horridum', 'Sula dactylatra',\n",
       "       'Litrocranius walleri', 'Mazama americana', 'Castor fiber',\n",
       "       'Larus sp.', 'Caiman crocodilus', 'Cordylus giganteus',\n",
       "       'Hippotragus niger', 'Felis caracal',\n",
       "       'Thamnolaea cinnmomeiventris', 'Fulica cristata', 'unavailable',\n",
       "       'Tockus erythrorhyncus', 'unavailable', 'Recurvirostra avosetta',\n",
       "       'Eutamias minimus', 'Ardea cinerea', 'Phoenicopterus chilensis',\n",
       "       'Bassariscus astutus', 'Chelodina longicollis', 'Kobus defassa',\n",
       "       'Redunca redunca', 'Carduelis uropygialis', 'Sciurus vulgaris',\n",
       "       'Coluber constrictor foxii', 'Felis wiedi or Leopardus weidi',\n",
       "       'Spilogale gracilis', 'Potorous tridactylus',\n",
       "       'Nyctanassa violacea', 'Myrmecophaga tridactyla',\n",
       "       'Castor canadensis', 'Acridotheres tristis',\n",
       "       'Cacatua tenuirostris', 'Acridotheres tristis',\n",
       "       'Leprocaulinus vipera', 'Tenrec ecaudatus', 'Paroaria gularis',\n",
       "       'Buteo jamaicensis', 'Felis pardalis', 'Anas punctata',\n",
       "       'Theropithecus gelada', 'Tadorna tadorna', 'Diomedea irrorata',\n",
       "       'Pelecans onocratalus', 'Corvus brachyrhynchos',\n",
       "       'Otocyon megalotis', 'Felis libyca', 'Bos taurus',\n",
       "       'Dolichitus patagonum', 'Lophoaetus occipitalis',\n",
       "       'Redunca redunca', 'Gorilla gorilla', 'Chionis alba',\n",
       "       'Bison bison', 'Turtur chalcospilos', 'Cereopsis novaehollandiae',\n",
       "       'Aonyx capensis', 'Phalacrocorax niger', 'unavailable',\n",
       "       'Phalacrocorax niger', 'Melophus lathami', 'Anser caerulescens',\n",
       "       'Egretta thula', 'Bucorvus leadbeateri',\n",
       "       'Tragelaphus strepsiceros', 'Propithecus verreauxi',\n",
       "       'Ephippiorhynchus mycteria', 'Eudyptula minor',\n",
       "       'Thalasseus maximus', 'Sula nebouxii', 'Platalea leucordia',\n",
       "       'Upupa epops', 'Anas platyrhynchos', 'Suricata suricatta',\n",
       "       'Gymnorhina tibicen', 'Nannopterum harrisi', 'Nasua nasua',\n",
       "       'Ammospermophilus nelsoni', 'Ara macao', 'Cracticus nigroagularis',\n",
       "       'Cacatua tenuirostris', 'Macaca radiata', 'Sciurus niger',\n",
       "       'Limnocorax flavirostra', 'Ploceus intermedius', 'Hyaena brunnea',\n",
       "       'Iguana iguana', 'Speothos vanaticus', 'Snycerus caffer',\n",
       "       'Equus burchelli', 'Gazella granti', 'Varanus sp.', 'Larus sp.',\n",
       "       'Psittacula krameri', 'Macaca mulatta', 'Papio ursinus',\n",
       "       'Columba palumbus', 'Canis lupus baileyi', 'unavailable',\n",
       "       'Numida meleagris', 'Damaliscus lunatus', 'Cebus nigrivittatus',\n",
       "       'unavailable', 'Francolinus swainsonii', 'Macropus robustus',\n",
       "       'Gabianus pacificus', 'Macaca radiata', 'Felis caracal',\n",
       "       'Kobus defassa', 'Echimys chrysurus', 'Eudromia elegans',\n",
       "       'Cordylus giganteus', 'Redunca redunca', 'Aonyx cinerea',\n",
       "       'Papilio canadensis', 'Climacteris melanura', 'Ratufa indica',\n",
       "       'Platalea leucordia', 'Equus hemionus', 'Isoodon obesulus',\n",
       "       'Ceratotherium simum', 'Castor fiber', 'Geochelone elegans',\n",
       "       'Nasua nasua', 'Conolophus subcristatus', 'Dasypus novemcinctus',\n",
       "       'Felis caracal', 'Seiurus aurocapillus', 'Chelodina longicollis',\n",
       "       'Ara ararauna', 'Ateles paniscus', 'Diomedea irrorata',\n",
       "       'Marmota monax', 'Centrocercus urophasianus', 'Canis aureus',\n",
       "       'Panthera leo persica', 'Ceryle rudis', 'Spermophilus armatus',\n",
       "       'Grus antigone', 'Leptoptilus dubius', 'Felis libyca',\n",
       "       'Ephipplorhynchus senegalensis', 'Crotaphytus collaris',\n",
       "       'Terathopius ecaudatus', 'Libellula quadrimaculata',\n",
       "       'Amphibolurus barbatus', 'Anas platyrhynchos',\n",
       "       'Aegypius tracheliotus', 'Geochelone elegans',\n",
       "       'Arctogalidia trivirgata', 'Felis pardalis',\n",
       "       'Nucifraga columbiana', 'Pteronura brasiliensis',\n",
       "       'Cebus nigrivittatus', 'Thalasseus maximus',\n",
       "       'Crotaphytus collaris', 'Alces alces', 'Vulpes vulpes',\n",
       "       'Sula dactylatra', 'Zalophus californicus',\n",
       "       'Aegypius tracheliotus', 'Kobus leche robertsi', 'Columba livia',\n",
       "       'Ourebia ourebi', 'Felis concolor', 'Cervus duvauceli',\n",
       "       'Tamiasciurus hudsonicus', 'Spheniscus mendiculus',\n",
       "       'Tachyglossus aculeatus', 'Lorythaixoides concolor',\n",
       "       'Kobus leche robertsi', 'Alopochen aegyptiacus', 'Ovis canadensis',\n",
       "       'Ara chloroptera', 'Colobus guerza', 'Parus atricapillus',\n",
       "       'Zalophus californicus', 'Anas platyrhynchos',\n",
       "       'Dasyurus maculatus', 'Anas bahamensis', 'Uraeginthus granatina',\n",
       "       'Pelecans onocratalus', 'Bucorvus leadbeateri',\n",
       "       'Geococcyx californianus', 'Graspus graspus', 'Acanthaster planci',\n",
       "       'Sylvicapra grimma', 'Ovis canadensis', 'Macaca mulatta',\n",
       "       'Bubo virginianus', 'Uraeginthus bengalus', 'Rhea americana',\n",
       "       'Gyps bengalensis', 'Terathopius ecaudatus', 'Macropus parryi',\n",
       "       'Agkistrodon piscivorus', 'Paraxerus cepapi',\n",
       "       'Seiurus aurocapillus', 'Vulpes vulpes', 'Gazella granti',\n",
       "       'Varanus sp.', 'Larus dominicanus', 'Gabianus pacificus',\n",
       "       'unavailable', 'Gazella granti', 'Drymarchon corias couperi',\n",
       "       'Varanus salvator', 'Bubalus arnee', 'Nyctea scandiaca',\n",
       "       'Damaliscus dorcas', 'Uraeginthus angolensis',\n",
       "       'Uraeginthus angolensis', 'Mabuya spilogaster', 'Prionace glauca',\n",
       "       'Genetta genetta', 'Eolophus roseicapillus',\n",
       "       'Agkistrodon piscivorus', 'Alligator mississippiensis',\n",
       "       'Leptoptilus dubius', 'Haliaetus vocifer', 'Ictalurus furcatus',\n",
       "       'Cervus elaphus', 'Semnopithecus entellus', 'Bradypus tridactylus',\n",
       "       'Gymnorhina tibicen', 'Erethizon dorsatum', 'Larus dominicanus',\n",
       "       'Cacatua tenuirostris', 'Iguana iguana', 'Phasianus colchicus',\n",
       "       'Mirounga leonina', 'Bucephala clangula',\n",
       "       'Drymarchon corias couperi', 'Hystrix indica',\n",
       "       'Bassariscus astutus', 'Laniaurius atrococcineus', 'Cebus apella',\n",
       "       'Felis silvestris lybica', 'Aonyx capensis', 'Gazella thompsonii',\n",
       "       'Spermophilus richardsonii', 'Francolinus coqui', 'Tayassu pecari',\n",
       "       'Paraxerus cepapi', 'Cynictis penicillata', 'Crotalus adamanteus',\n",
       "       'Macropus parryi', 'Centrocercus urophasianus',\n",
       "       'Macropus fuliginosus', 'Prionace glauca',\n",
       "       'Cyrtodactylus louisiadensis', 'Sarcorhamphus papa',\n",
       "       'Chauna torquata', 'Varanus sp.', 'Gazella thompsonii',\n",
       "       'Paradoxurus hermaphroditus', 'Colaptes campestroides',\n",
       "       'Sarcorhamphus papa', 'Trichoglossus haematodus moluccanus',\n",
       "       'Macaca fuscata', 'Acrobates pygmaeus', 'Bassariscus astutus',\n",
       "       'Felis serval', 'Anthropoides paradisea', 'Zonotrichia capensis',\n",
       "       'Bison bison', 'Phylurus milli', 'Tachyglossus aculeatus',\n",
       "       'Canis latrans', 'Kobus defassa', 'Stenella coeruleoalba',\n",
       "       'Phalacrocorax carbo', 'Cordylus giganteus',\n",
       "       'Morelia spilotes variegata', 'Lycaon pictus',\n",
       "       'Zalophus californicus', 'Phoenicopterus ruber',\n",
       "       'Melanerpes erythrocephalus', 'Oxybelis fulgidus',\n",
       "       'Equus burchelli', 'Ara ararauna', 'Canis lupus',\n",
       "       'Dicrostonyx groenlandicus', 'Cacatua tenuirostris',\n",
       "       'Cereopsis novaehollandiae', 'Diomedea irrorata',\n",
       "       'Delphinus delphis', 'Varanus salvator', 'Hystrix cristata',\n",
       "       'Casmerodius albus', 'Bucorvus leadbeateri', 'Corvus albus',\n",
       "       'Acrantophis madagascariensis', 'Varanus sp.',\n",
       "       'Deroptyus accipitrinus', 'Phalaropus lobatus', 'Macropus agilis',\n",
       "       'Ciconia ciconia', 'Toxostoma curvirostre', 'Mazama gouazoubira',\n",
       "       'Corvus albus', 'Phalacrocorax niger', 'Gymnorhina tibicen',\n",
       "       'Laniaurius atrococcineus', 'Castor canadensis',\n",
       "       'Agkistrodon piscivorus', 'Felis chaus', 'Tachybaptus ruficollis',\n",
       "       'unavailable', 'Isoodon obesulus', 'Canis lupus', 'Ursus arctos',\n",
       "       'Francolinus leucoscepus', 'Marmota flaviventris',\n",
       "       'Recurvirostra avosetta', 'Panthera pardus', 'Castor canadensis',\n",
       "       'Gopherus agassizii', 'Actophilornis africanus',\n",
       "       'Spermophilus richardsonii', 'Dasypus novemcinctus',\n",
       "       'Mazama gouazoubira', 'Eudromia elegans', 'Columba palumbus',\n",
       "       'Coluber constrictor', 'Bubo sp.', 'Aegypius occipitalis',\n",
       "       'Heloderma horridum', 'Falco peregrinus', 'Psophia viridis',\n",
       "       'Gabianus pacificus', 'Taurotagus oryx', 'Ovis dalli stonei',\n",
       "       'Lamprotornis sp.', 'Nasua narica', 'Ardea cinerea',\n",
       "       'Francolinus swainsonii', 'Phoca vitulina', 'Ctenophorus ornatus',\n",
       "       'unavailable', 'Bassariscus astutus', 'Felis libyca',\n",
       "       'unavailable', 'Pseudoleistes virescens', 'Eumetopias jubatus',\n",
       "       'Nycticorax nycticorax', 'Rana sp.', 'Odocoileus hemionus',\n",
       "       'Libellula quadrimaculata', 'Paraxerus cepapi',\n",
       "       'Dasypus novemcinctus', 'Dusicyon thous', 'Coluber constrictor',\n",
       "       'Cebus albifrons', 'Corvus brachyrhynchos', 'Macropus rufus',\n",
       "       'Hyaena hyaena', 'Ceryle rudis', 'Hippotragus niger',\n",
       "       'Tyto novaehollandiae', 'Buteo galapagoensis', 'Grus rubicundus',\n",
       "       'Macropus rufus', 'Phalacrocorax niger', 'Bubo virginianus',\n",
       "       'Colobus guerza', 'Pseudocheirus peregrinus',\n",
       "       'Tragelaphus strepsiceros', 'Iguana iguana',\n",
       "       'Bettongia penicillata', 'Canis lupus', 'Camelus dromedarius',\n",
       "       'Phascolarctos cinereus', 'Sarkidornis melanotos',\n",
       "       'Pitangus sulphuratus', 'Colobus guerza', 'Leptoptilus dubius',\n",
       "       'Dacelo novaeguineae', 'Casmerodius albus', 'Bison bison',\n",
       "       'Manouria emys', 'Speotyte cuniculata',\n",
       "       'Coluber constrictor foxii', 'Bison bison', 'Spizaetus coronatus',\n",
       "       'Charadrius tricollaris', 'Castor fiber',\n",
       "       'Cracticus nigroagularis', 'Centrocercus urophasianus',\n",
       "       'Suricata suricatta', 'Cervus duvauceli',\n",
       "       'Coluber constrictor foxii', 'Eubalaena australis',\n",
       "       'Chlidonias leucopterus', 'Ratufa indica', 'unavailable',\n",
       "       'Manouria emys', 'Smithopsis crassicaudata',\n",
       "       'Theropithecus gelada', 'Myrmecobius fasciatus',\n",
       "       'Macropus eugenii', 'Lycaon pictus', 'Zenaida asiatica',\n",
       "       'Uraeginthus angolensis', 'Catharacta skua',\n",
       "       'Raphicerus campestris', 'Streptopelia decipiens',\n",
       "       'Echimys chrysurus', 'Ara chloroptera', 'Galictis vittata',\n",
       "       'Dicrurus adsimilis', 'Procyon cancrivorus',\n",
       "       'Tragelaphus strepsiceros', 'Sarcorhamphus papa',\n",
       "       'Deroptyus accipitrinus', 'Hystrix cristata', 'Leptoptilus dubius',\n",
       "       'Herpestes javanicus', 'Corvus albicollis',\n",
       "       'Melanerpes erythrocephalus', 'Dasyurus maculatus',\n",
       "       'Mycteria ibis', 'Varanus sp.', 'Tyto novaehollandiae',\n",
       "       'Macropus agilis', 'Oreotragus oreotragus', 'Hystrix cristata',\n",
       "       'Hymenolaimus malacorhynchus', 'Choloepus hoffmani',\n",
       "       'Sula nebouxii', 'Eurocephalus anguitimens', 'Varanus sp.',\n",
       "       'Bubalornis niger', 'Galago crassicaudataus', 'Passer domesticus',\n",
       "       'Buteo jamaicensis', 'Macaca radiata', 'Damaliscus lunatus',\n",
       "       'Anas platyrhynchos', 'Ardea cinerea', 'Dasyprocta leporina',\n",
       "       'Hystrix cristata', 'Gorilla gorilla', 'Tiliqua scincoides',\n",
       "       'Butorides striatus', 'Francolinus leucoscepus', 'Oxybelis sp.',\n",
       "       'Chordeiles minor', 'Mazama gouazoubira', 'Francolinus coqui',\n",
       "       'Tragelaphus strepsiceros', 'Choloepus hoffmani',\n",
       "       'Anastomus oscitans', 'Ramphastos tucanus', 'Grus rubicundus',\n",
       "       'Canis aureus', 'Gyps bengalensis', 'Tauraco porphyrelophus',\n",
       "       'Thylogale stigmatica', 'Colobus guerza', 'Equus burchelli',\n",
       "       'Pavo cristatus', 'Laniarius ferrugineus', 'Spheniscus mendiculus',\n",
       "       'Mephitis mephitis', 'Phascogale tapoatafa', 'Lamprotornis nitens',\n",
       "       'Psittacula krameri', 'Colobus guerza', 'Choriotis kori',\n",
       "       'Tadorna tadorna', 'Crotalus triseriatus', 'Buteo galapagoensis',\n",
       "       'Cacatua galerita', 'Eumetopias jubatus', 'Gymnorhina tibicen',\n",
       "       'Ovibos moschatus', 'Ictonyx striatus', 'Vulpes cinereoargenteus',\n",
       "       'Creagrus furcatus', 'Porphyrio porphyrio', 'Aonyx cinerea',\n",
       "       'Zosterops pallidus', 'Cercatetus concinnus',\n",
       "       'Macropus rufogriseus', 'Bison bison', 'Tadorna tadorna',\n",
       "       'Nyctea scandiaca', 'Buteo galapagoensis',\n",
       "       'Leptoptilos crumeniferus', 'Dasypus novemcinctus',\n",
       "       'Tetracerus quadricornis', 'Castor canadensis',\n",
       "       'Lasiodora parahybana', 'Varanus salvator', 'Ciconia ciconia',\n",
       "       'Lamprotornis superbus', 'Uraeginthus angolensis',\n",
       "       'Trichoglossus chlorolepidotus', 'Bassariscus astutus',\n",
       "       'Vanellus armatus', 'Junonia genoveua', 'Francolinus swainsonii',\n",
       "       'Macropus fuliginosus', 'Graspus graspus', 'Larus dominicanus',\n",
       "       'unavailable', 'Ninox superciliaris', 'Myotis lucifugus',\n",
       "       'Pavo cristatus', 'Erethizon dorsatum', 'Libellula quadrimaculata',\n",
       "       'Papio cynocephalus', 'Macropus agilis', 'Aquila chrysaetos',\n",
       "       'Crotalus cerastes', 'Columba palumbus', 'Caiman crocodilus',\n",
       "       'Estrilda erythronotos', 'Ornithorhynchus anatinus',\n",
       "       'Genetta genetta', 'Lamprotornis nitens', 'Crocuta crocuta',\n",
       "       'Bos taurus', 'Uraeginthus angolensis', 'Acrobates pygmaeus',\n",
       "       'Oryx gazella callotis', 'Phalacrocorax niger',\n",
       "       'Tragelaphus strepsiceros', 'Myotis lucifugus',\n",
       "       'Tamiasciurus hudsonicus', 'Ara macao', 'Conolophus subcristatus',\n",
       "       'Trachyphonus vaillantii', 'Acridotheres tristis',\n",
       "       'Spermophilus lateralis', 'Priodontes maximus',\n",
       "       'Geochelone radiata', 'Damaliscus dorcas', 'Manouria emys',\n",
       "       'Bucephala clangula', 'Nyctereutes procyonoides',\n",
       "       'Martes americana', 'Felis caracal', 'Pycnonotus nigricans',\n",
       "       'Genetta genetta', 'Upupa epops', 'unavailable',\n",
       "       'Phalacrocorax varius', 'Macaca radiata', 'Papio cynocephalus',\n",
       "       'Suricata suricatta', 'Creagrus furcatus', 'Carphophis sp.',\n",
       "       'Cygnus buccinator', 'Priodontes maximus',\n",
       "       'Centrocercus urophasianus', 'Haliaeetus leucoryphus',\n",
       "       'Oreamnos americanus', 'Phascogale tapoatafa',\n",
       "       'Procyon cancrivorus', 'Macropus agilis', 'Gymnorhina tibicen',\n",
       "       'Mycteria ibis', 'Creagrus furcatus', 'Boselaphus tragocamelus',\n",
       "       'Thamnolaea cinnmomeiventris', 'Aonyx cinerea',\n",
       "       'Lorythaixoides concolor', 'Tetracerus quadricornis',\n",
       "       'Myrmecobius fasciatus', 'Dasypus septemcincus',\n",
       "       'Bassariscus astutus', 'Macaca mulatta', 'Alopex lagopus',\n",
       "       'Lemur catta', 'Ctenophorus ornatus', 'Ammospermophilus nelsoni',\n",
       "       'unavailable', 'Creagrus furcatus', 'Conolophus subcristatus',\n",
       "       'Phoenicopterus chilensis', 'Spheniscus mendiculus',\n",
       "       'Phalaropus fulicarius', 'Corythornis cristata', 'Chauna torquata',\n",
       "       'Cacatua tenuirostris', 'Trichechus inunguis',\n",
       "       'Cacatua tenuirostris', 'Cygnus buccinator',\n",
       "       'Ammospermophilus nelsoni', 'Anastomus oscitans', 'Oryx gazella',\n",
       "       'Actophilornis africanus', 'Thamnolaea cinnmomeiventris',\n",
       "       'Ninox superciliaris', 'Phoenicopterus ruber',\n",
       "       'Pseudoleistes virescens', 'Gazella thompsonii',\n",
       "       'Macropus giganteus', 'Acrantophis madagascariensis',\n",
       "       'Mirounga angustirostris', 'Chelodina longicollis',\n",
       "       'Macropus giganteus', 'Ara ararauna', 'Certotrichas paena',\n",
       "       'Zenaida asiatica', 'Varanus sp.', 'Varanus komodensis',\n",
       "       'Pteropus rufus', 'Papio cynocephalus', 'Aquila chrysaetos',\n",
       "       'Vanessa indica', 'Bassariscus astutus', 'unavailable',\n",
       "       'Corallus hortulanus cooki', 'Lasiodora parahybana',\n",
       "       'Manouria emys', 'Eudromia elegans', 'Sula dactylatra',\n",
       "       'Felis concolor', 'Libellula quadrimaculata',\n",
       "       'Camelus dromedarius', 'Phalaropus fulicarius',\n",
       "       'Alouatta seniculus', 'Cacatua tenuirostris', 'Canis lupus lycaon',\n",
       "       'Buteo regalis', 'Mirounga leonina', 'Dendrocygna viduata',\n",
       "       'Morelia spilotes variegata', 'Oxybelis fulgidus',\n",
       "       'Vombatus ursinus', 'Ovis dalli stonei', 'Bassariscus astutus',\n",
       "       'Myrmecophaga tridactyla', 'Macaca fuscata', 'Ciconia ciconia',\n",
       "       'Sula dactylatra', 'Corythornis cristata', 'Dasyurus maculatus',\n",
       "       'Balearica pavonina', 'unavailable', 'Bradypus tridactylus',\n",
       "       'Larus dominicanus', 'Alectura lathami', 'Threskionis aethiopicus',\n",
       "       'Cebus nigrivittatus', 'Cebus albifrons', 'Columba palumbus',\n",
       "       'Streptopelia decipiens', 'Nycticorax nycticorax', 'Vulpes chama',\n",
       "       'Psophia viridis', 'Felis concolor', 'Semnopithecus entellus',\n",
       "       'Phoenicopterus chilensis', 'Antilocapra americana',\n",
       "       'Sarcophilus harrisii', 'Ateles paniscus', 'Pycnonotus barbatus',\n",
       "       'Papio cynocephalus', 'Rangifer tarandus', 'Agama sp.',\n",
       "       'Taxidea taxus', 'Laniaurius atrococcineus',\n",
       "       'Fratercula corniculata', 'Chauna torquata', 'Marmota caligata',\n",
       "       'Carduelis pinus', 'Nasua narica', 'Oryx gazella',\n",
       "       'Merops bullockoides', 'Phalaropus fulicarius',\n",
       "       'Lamprotornis nitens', 'Zenaida asiatica', 'Branta canadensis',\n",
       "       'Propithecus verreauxi', 'Pycnonotus nigricans', 'Oryx gazella',\n",
       "       'Cervus elaphus', 'Odocoilenaus virginianus',\n",
       "       'Panthera leo persica', 'Lepilemur rufescens',\n",
       "       'Chlidonias leucopterus', 'Chlidonias leucopterus',\n",
       "       'Pycnonotus nigricans', 'Turtur chalcospilos',\n",
       "       'Haliaeetus leucocephalus', 'Lamprotornis chalybaeus',\n",
       "       'Macropus fuliginosus', 'Chauna torquata', 'Chauna torquata',\n",
       "       'Marmota flaviventris', 'Ephipplorhynchus senegalensis',\n",
       "       'Galictis vittata', 'Gyps bengalensis', 'Panthera tigris',\n",
       "       'Falco peregrinus', 'Zalophus californicus', 'Psophia viridis',\n",
       "       'Oryx gazella callotis', 'Sarkidornis melanotos',\n",
       "       'Pseudoleistes virescens', 'Mazama gouazoubira', 'Canis aureus',\n",
       "       'Eremophila alpestris', 'Gazella thompsonii', 'Gazella granti',\n",
       "       'Tamiasciurus hudsonicus', 'Bubalornis niger', 'unavailable',\n",
       "       'Sarcophilus harrisii', 'Amblyrhynchus cristatus',\n",
       "       'Lamprotornis nitens', 'Cabassous sp.', 'Ramphastos tucanus',\n",
       "       'Mirounga angustirostris', 'Laniarius ferrugineus',\n",
       "       'Butorides striatus', 'Dromaeus novaehollandiae',\n",
       "       'Eumetopias jubatus', 'Vulpes vulpes', 'Bettongia penicillata',\n",
       "       'Ardea golieth', 'Snycerus caffer', 'Cacatua tenuirostris',\n",
       "       'Dicrurus adsimilis', 'Canis mesomelas', 'Sula dactylatra',\n",
       "       'Alopochen aegyptiacus', 'Toxostoma curvirostre',\n",
       "       'Cordylus giganteus', 'Myiarchus tuberculifer',\n",
       "       'Francolinus leucoscepus', 'Terathopius ecaudatus',\n",
       "       'Papio ursinus', 'Echimys chrysurus', 'Macropus agilis',\n",
       "       'Cereopsis novaehollandiae', 'Meles meles', 'Dasyprocta leporina',\n",
       "       'Centrocercus urophasianus', 'Axis axis', 'Pytilia melba',\n",
       "       'Terrapene carolina', 'Phasianus colchicus', 'Coendou prehensilis',\n",
       "       'Ctenophorus ornatus', 'Mazama gouazoubira', 'unavailable',\n",
       "       'Cebus apella', 'Mellivora capensis', 'Galictis vittata',\n",
       "       'Pelecans onocratalus', 'Equus hemionus', 'Diomedea irrorata',\n",
       "       'Anas punctata', 'Alectura lathami', 'Plegadis ridgwayi',\n",
       "       'Gerbillus sp.', 'Plectopterus gambensis',\n",
       "       'Phalacrocorax albiventer', 'Colobus guerza',\n",
       "       'Acrantophis madagascariensis', 'Uraeginthus granatina',\n",
       "       'Leprocaulinus vipera', 'Falco mexicanus', 'Cynictis penicillata',\n",
       "       'Tamandua tetradactyla', 'Eumetopias jubatus',\n",
       "       'Pelecans onocratalus', 'Anser caerulescens', 'Ratufa indica',\n",
       "       'Macropus eugenii', 'Prionace glauca', 'Graspus graspus',\n",
       "       'Propithecus verreauxi', 'Boselaphus tragocamelus',\n",
       "       'Stenella coeruleoalba', 'Pterocles gutturalis',\n",
       "       'Phalaropus lobatus', 'Cordylus giganteus', 'Lemur fulvus',\n",
       "       'Antidorcas marsupialis', 'Morelia spilotes variegata',\n",
       "       'Grus antigone', 'Phoenicopterus ruber', 'Sus scrofa',\n",
       "       'Cacatua tenuirostris', 'Boa caninus', 'Naja nivea',\n",
       "       'Kobus defassa', 'Toxostoma curvirostre', 'Diomedea irrorata',\n",
       "       'Iguana iguana', 'Ovis ammon', 'Myiarchus tuberculifer',\n",
       "       'Choriotis kori', 'Chelodina longicollis', 'Falco mexicanus',\n",
       "       'Ara ararauna', 'Coluber constrictor', 'Sarkidornis melanotos',\n",
       "       'Neophron percnopterus', 'Larus fuliginosus', 'Cygnus atratus',\n",
       "       'Microcebus murinus', 'Morelia spilotes variegata',\n",
       "       'Cygnus buccinator', 'Mungos mungo', 'Egretta thula',\n",
       "       'Cynictis penicillata', 'Choloepus hoffmani', 'Scolopax minor',\n",
       "       'Galictis vittata', 'Phoca vitulina', 'Eira barbata',\n",
       "       'Ornithorhynchus anatinus', 'Larus sp.', 'Amphibolurus barbatus',\n",
       "       'Trachyphonus vaillantii', 'Dolichitus patagonum',\n",
       "       'Ateles paniscus', 'Bos frontalis', 'Panthera leo',\n",
       "       'Anas platyrhynchos', 'Macaca mulatta', 'unavailable',\n",
       "       'Platalea leucordia', 'Spizaetus coronatus', 'Echimys chrysurus',\n",
       "       'Gorilla gorilla', 'Vanellus armatus', 'Tetracerus quadricornis',\n",
       "       'Ninox superciliaris', 'Leipoa ocellata', 'Pteronura brasiliensis',\n",
       "       'Paraxerus cepapi', 'Phoca vitulina', 'Raphicerus campestris',\n",
       "       'Chlamydosaurus kingii', 'Phasianus colchicus',\n",
       "       'Phoenicopterus ruber', 'Corvus brachyrhynchos',\n",
       "       'Gymnorhina tibicen', 'Spheniscus mendiculus',\n",
       "       'Phalaropus fulicarius', 'Stercorarius longicausus',\n",
       "       'Canis mesomelas', 'Anser caerulescens', 'Ovis dalli stonei',\n",
       "       'Tamiasciurus hudsonicus', 'Gopherus agassizii', 'Hyaena brunnea',\n",
       "       'Snycerus caffer', 'Larus novaehollandiae', 'Heloderma horridum',\n",
       "       'Microcavia australis', 'Pseudalopex gymnocercus',\n",
       "       'Felis wiedi or Leopardus weidi', 'Ciconia ciconia',\n",
       "       'Ovis canadensis', 'Irania gutteralis', 'Tiliqua scincoides',\n",
       "       'Arctogalidia trivirgata', 'Turtur chalcospilos',\n",
       "       'Falco peregrinus', 'Paradoxurus hermaphroditus',\n",
       "       'Ovis canadensis', 'Lasiorhinus latifrons', 'Mungos mungo',\n",
       "       'Colobus guerza', 'Corvus brachyrhynchos',\n",
       "       'Dicrostonyx groenlandicus', 'Columba livia', 'Canis lupus lycaon',\n",
       "       'Otaria flavescens', 'Pelecans onocratalus', 'Odocoileus hemionus',\n",
       "       'Alopex lagopus', 'Ovis orientalis', 'Recurvirostra avosetta',\n",
       "       'Damaliscus dorcas', 'Nucifraga columbiana', 'Butorides striatus',\n",
       "       'Sula dactylatra', 'Haliaeetus leucocephalus', 'Helogale undulata',\n",
       "       'Crocodylus niloticus', 'Anser caerulescens',\n",
       "       'Francolinus swainsonii', 'Sus scrofa', 'Damaliscus lunatus',\n",
       "       'Felis silvestris lybica', 'Psophia viridis',\n",
       "       'Pitangus sulphuratus', 'Theropithecus gelada',\n",
       "       'Speothos vanaticus', 'Corvus brachyrhynchos', 'Cervus duvauceli',\n",
       "       'Alligator mississippiensis', 'Leprocaulinus vipera',\n",
       "       'Phylurus milli', 'Egretta thula', 'Colobus guerza',\n",
       "       'Macaca mulatta', 'Laniarius ferrugineus', 'Acridotheres tristis',\n",
       "       'Macropus eugenii', 'Neotis denhami', 'Paroaria gularis',\n",
       "       'Cochlearius cochlearius', 'Snycerus caffer',\n",
       "       'Aegypius occipitalis', 'Anas platyrhynchos', 'Isoodon obesulus',\n",
       "       'Upupa epops', 'Ratufa indica', 'Columba palumbus'], dtype=object)"
      ]
     },
     "execution_count": 6,
     "metadata": {},
     "output_type": "execute_result"
    }
   ],
   "source": [
    "# return values attribute\n",
    "a_names.values"
   ]
  },
  {
   "cell_type": "markdown",
   "metadata": {},
   "source": [
    "### `index` attribute"
   ]
  },
  {
   "cell_type": "code",
   "execution_count": 7,
   "metadata": {},
   "outputs": [
    {
     "data": {
      "text/plain": [
       "RangeIndex(start=0, stop=1000, step=1)"
      ]
     },
     "execution_count": 7,
     "metadata": {},
     "output_type": "execute_result"
    }
   ],
   "source": [
    "# return index attribute\n",
    "a_names.index"
   ]
  },
  {
   "cell_type": "markdown",
   "metadata": {},
   "source": [
    "### `dtype` attribute"
   ]
  },
  {
   "cell_type": "code",
   "execution_count": 8,
   "metadata": {},
   "outputs": [
    {
     "data": {
      "text/plain": [
       "dtype('O')"
      ]
     },
     "execution_count": 8,
     "metadata": {},
     "output_type": "execute_result"
    }
   ],
   "source": [
    "# return data type attribute (o = object (what pandas calls stings))\n",
    "a_names.dtype"
   ]
  },
  {
   "cell_type": "markdown",
   "metadata": {},
   "source": [
    "### `is_unique` attribute"
   ]
  },
  {
   "cell_type": "code",
   "execution_count": 12,
   "metadata": {},
   "outputs": [
    {
     "data": {
      "text/plain": [
       "False"
      ]
     },
     "execution_count": 12,
     "metadata": {},
     "output_type": "execute_result"
    }
   ],
   "source": [
    "# return True if no duplicates found\n",
    "a_names.is_unique"
   ]
  },
  {
   "cell_type": "code",
   "execution_count": 14,
   "metadata": {},
   "outputs": [
    {
     "data": {
      "text/plain": [
       "True"
      ]
     },
     "execution_count": 14,
     "metadata": {},
     "output_type": "execute_result"
    }
   ],
   "source": [
    "nums = pd.Series([1,2,3,4,5])\n",
    "# return True if no duplicates found\n",
    "nums.is_unique"
   ]
  },
  {
   "cell_type": "markdown",
   "metadata": {},
   "source": [
    "### `ndim` attribute"
   ]
  },
  {
   "cell_type": "code",
   "execution_count": 21,
   "metadata": {},
   "outputs": [
    {
     "data": {
      "text/plain": [
       "1"
      ]
     },
     "execution_count": 21,
     "metadata": {},
     "output_type": "execute_result"
    }
   ],
   "source": [
    "# return number of dimensions\n",
    "a_names.ndim"
   ]
  },
  {
   "cell_type": "markdown",
   "metadata": {},
   "source": [
    "### `shape` attribute"
   ]
  },
  {
   "cell_type": "code",
   "execution_count": 28,
   "metadata": {},
   "outputs": [
    {
     "data": {
      "text/plain": [
       "(1000,)"
      ]
     },
     "execution_count": 28,
     "metadata": {},
     "output_type": "execute_result"
    }
   ],
   "source": [
    "# return rows by number of columns\n",
    "a_names.shape\n",
    "\n",
    "#retrun 1000 rows by one column"
   ]
  },
  {
   "cell_type": "markdown",
   "metadata": {},
   "source": [
    "### `size` attribute"
   ]
  },
  {
   "cell_type": "code",
   "execution_count": 27,
   "metadata": {},
   "outputs": [
    {
     "data": {
      "text/plain": [
       "1000"
      ]
     },
     "execution_count": 27,
     "metadata": {},
     "output_type": "execute_result"
    }
   ],
   "source": [
    "# return total elements\n",
    "a_names.size # counts null values"
   ]
  },
  {
   "cell_type": "markdown",
   "metadata": {},
   "source": [
    "### `name` attribute"
   ]
  },
  {
   "cell_type": "code",
   "execution_count": 31,
   "metadata": {
    "scrolled": true
   },
   "outputs": [
    {
     "data": {
      "text/plain": [
       "0          Cercatetus concinnus\n",
       "1              Lutra canadensis\n",
       "2                Alopex lagopus\n",
       "3              Macropus eugenii\n",
       "4    Calyptorhynchus magnificus\n",
       "Name: Scientific animal names, dtype: object"
      ]
     },
     "execution_count": 31,
     "metadata": {},
     "output_type": "execute_result"
    }
   ],
   "source": [
    "# return name or change name\n",
    "a_names.name = \"Scientific animal names\"\n",
    "a_names.head()"
   ]
  },
  {
   "cell_type": "code",
   "execution_count": 32,
   "metadata": {},
   "outputs": [
    {
     "data": {
      "text/html": [
       "<div>\n",
       "<style scoped>\n",
       "    .dataframe tbody tr th:only-of-type {\n",
       "        vertical-align: middle;\n",
       "    }\n",
       "\n",
       "    .dataframe tbody tr th {\n",
       "        vertical-align: top;\n",
       "    }\n",
       "\n",
       "    .dataframe thead th {\n",
       "        text-align: right;\n",
       "    }\n",
       "</style>\n",
       "<table border=\"1\" class=\"dataframe\">\n",
       "  <thead>\n",
       "    <tr style=\"text-align: right;\">\n",
       "      <th></th>\n",
       "      <th>Scientific animal names</th>\n",
       "    </tr>\n",
       "  </thead>\n",
       "  <tbody>\n",
       "    <tr>\n",
       "      <th>0</th>\n",
       "      <td>Cercatetus concinnus</td>\n",
       "    </tr>\n",
       "    <tr>\n",
       "      <th>1</th>\n",
       "      <td>Lutra canadensis</td>\n",
       "    </tr>\n",
       "    <tr>\n",
       "      <th>2</th>\n",
       "      <td>Alopex lagopus</td>\n",
       "    </tr>\n",
       "    <tr>\n",
       "      <th>3</th>\n",
       "      <td>Macropus eugenii</td>\n",
       "    </tr>\n",
       "    <tr>\n",
       "      <th>4</th>\n",
       "      <td>Calyptorhynchus magnificus</td>\n",
       "    </tr>\n",
       "    <tr>\n",
       "      <th>...</th>\n",
       "      <td>...</td>\n",
       "    </tr>\n",
       "    <tr>\n",
       "      <th>995</th>\n",
       "      <td>Anas platyrhynchos</td>\n",
       "    </tr>\n",
       "    <tr>\n",
       "      <th>996</th>\n",
       "      <td>Isoodon obesulus</td>\n",
       "    </tr>\n",
       "    <tr>\n",
       "      <th>997</th>\n",
       "      <td>Upupa epops</td>\n",
       "    </tr>\n",
       "    <tr>\n",
       "      <th>998</th>\n",
       "      <td>Ratufa indica</td>\n",
       "    </tr>\n",
       "    <tr>\n",
       "      <th>999</th>\n",
       "      <td>Columba palumbus</td>\n",
       "    </tr>\n",
       "  </tbody>\n",
       "</table>\n",
       "<p>1000 rows × 1 columns</p>\n",
       "</div>"
      ],
      "text/plain": [
       "        Scientific animal names\n",
       "0          Cercatetus concinnus\n",
       "1              Lutra canadensis\n",
       "2                Alopex lagopus\n",
       "3              Macropus eugenii\n",
       "4    Calyptorhynchus magnificus\n",
       "..                          ...\n",
       "995          Anas platyrhynchos\n",
       "996            Isoodon obesulus\n",
       "997                 Upupa epops\n",
       "998               Ratufa indica\n",
       "999            Columba palumbus\n",
       "\n",
       "[1000 rows x 1 columns]"
      ]
     },
     "execution_count": 32,
     "metadata": {},
     "output_type": "execute_result"
    }
   ],
   "source": [
    "# show DataFrame with new col name\n",
    "pd.DataFrame(a_names)"
   ]
  }
 ],
 "metadata": {
  "kernelspec": {
   "display_name": "Python 3 (ipykernel)",
   "language": "python",
   "name": "python3"
  },
  "language_info": {
   "codemirror_mode": {
    "name": "ipython",
    "version": 3
   },
   "file_extension": ".py",
   "mimetype": "text/x-python",
   "name": "python",
   "nbconvert_exporter": "python",
   "pygments_lexer": "ipython3",
   "version": "3.9.7"
  }
 },
 "nbformat": 4,
 "nbformat_minor": 4
}
