{
 "cells": [
  {
   "cell_type": "markdown",
   "metadata": {},
   "source": [
    "# Sort by values `sort_values()`"
   ]
  },
  {
   "cell_type": "markdown",
   "metadata": {},
   "source": [
    "### Import Pandas"
   ]
  },
  {
   "cell_type": "code",
   "execution_count": 1,
   "metadata": {},
   "outputs": [],
   "source": [
    "import pandas as pd"
   ]
  },
  {
   "cell_type": "markdown",
   "metadata": {},
   "source": [
    "### Read CSV as Series"
   ]
  },
  {
   "cell_type": "code",
   "execution_count": 2,
   "metadata": {},
   "outputs": [],
   "source": [
    "a_names = pd.read_csv('animal_names.csv', usecols=['scientific_name']).squeeze(\"columns\")"
   ]
  },
  {
   "cell_type": "markdown",
   "metadata": {},
   "source": [
    "### Sort by Values `sort_values()`"
   ]
  },
  {
   "cell_type": "code",
   "execution_count": 4,
   "metadata": {},
   "outputs": [
    {
     "data": {
      "text/plain": [
       "265              Acanthaster planci\n",
       "22                 Acinynox jubatus\n",
       "844    Acrantophis madagascariensis\n",
       "680    Acrantophis madagascariensis\n",
       "372    Acrantophis madagascariensis\n",
       "                   ...             \n",
       "388                     unavailable\n",
       "91                      unavailable\n",
       "283                     unavailable\n",
       "475                     unavailable\n",
       "908                     unavailable\n",
       "Name: scientific_name, Length: 1000, dtype: object"
      ]
     },
     "execution_count": 4,
     "metadata": {},
     "output_type": "execute_result"
    }
   ],
   "source": [
    "# sorting a Series alphabetically\n",
    "a_names.sort_values()"
   ]
  },
  {
   "cell_type": "markdown",
   "metadata": {},
   "source": [
    "### Method Chain"
   ]
  },
  {
   "cell_type": "code",
   "execution_count": 5,
   "metadata": {},
   "outputs": [
    {
     "data": {
      "text/plain": [
       "265              Acanthaster planci\n",
       "22                 Acinynox jubatus\n",
       "844    Acrantophis madagascariensis\n",
       "680    Acrantophis madagascariensis\n",
       "372    Acrantophis madagascariensis\n",
       "Name: scientific_name, dtype: object"
      ]
     },
     "execution_count": 5,
     "metadata": {},
     "output_type": "execute_result"
    }
   ],
   "source": [
    "# a useful method chain\n",
    "a_names.sort_values().head()"
   ]
  },
  {
   "cell_type": "markdown",
   "metadata": {},
   "source": [
    "### `sort_values()` parameters"
   ]
  },
  {
   "cell_type": "code",
   "execution_count": 6,
   "metadata": {},
   "outputs": [
    {
     "data": {
      "text/plain": [
       "844    Acrantophis madagascariensis\n",
       "680    Acrantophis madagascariensis\n",
       "372    Acrantophis madagascariensis\n",
       "22                 Acinynox jubatus\n",
       "265              Acanthaster planci\n",
       "Name: scientific_name, dtype: object"
      ]
     },
     "execution_count": 6,
     "metadata": {},
     "output_type": "execute_result"
    }
   ],
   "source": [
    "# hold shift + tab inside of method\n",
    "a_names.sort_values(ascending=False).tail()"
   ]
  }
 ],
 "metadata": {
  "kernelspec": {
   "display_name": "Python 3 (ipykernel)",
   "language": "python",
   "name": "python3"
  },
  "language_info": {
   "codemirror_mode": {
    "name": "ipython",
    "version": 3
   },
   "file_extension": ".py",
   "mimetype": "text/x-python",
   "name": "python",
   "nbconvert_exporter": "python",
   "pygments_lexer": "ipython3",
   "version": "3.9.7"
  }
 },
 "nbformat": 4,
 "nbformat_minor": 4
}
