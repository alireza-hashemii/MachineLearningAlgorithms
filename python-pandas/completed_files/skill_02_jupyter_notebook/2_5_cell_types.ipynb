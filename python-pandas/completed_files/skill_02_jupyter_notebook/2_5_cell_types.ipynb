{
 "cells": [
  {
   "cell_type": "code",
   "execution_count": null,
   "id": "244a2e5e",
   "metadata": {},
   "outputs": [],
   "source": [
    " # code cell"
   ]
  },
  {
   "cell_type": "markdown",
   "id": "a674bf48",
   "metadata": {},
   "source": [
    "Sample standard deviation of a sample:\n",
    "\n",
    "$s = \\sqrt{\\Sigma (x_i - \\overline{x})^2} / (n-1)$\n",
    "\n",
    "$s$\t=\tsample standard deviation\n",
    "\n",
    "$x_i$\t=\tthe observed values of a sample item\n",
    "\n",
    "$\\overline {x}$\t=\tthe mean value of the observations\n",
    "\n",
    "$n$\t=\tthe number of observations\n",
    "\n",
    "\n",
    "The sample standard deviation measures the typical distance between each data point and the mean. The sample standard deviation is the square root of every sample minus the sample mean, squared, then divided by the number of samples, minus 1."
   ]
  }
 ],
 "metadata": {
  "kernelspec": {
   "display_name": "Python 3 (ipykernel)",
   "language": "python",
   "name": "python3"
  },
  "language_info": {
   "codemirror_mode": {
    "name": "ipython",
    "version": 3
   },
   "file_extension": ".py",
   "mimetype": "text/x-python",
   "name": "python",
   "nbconvert_exporter": "python",
   "pygments_lexer": "ipython3",
   "version": "3.9.7"
  }
 },
 "nbformat": 4,
 "nbformat_minor": 5
}
