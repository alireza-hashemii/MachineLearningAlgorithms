{
 "cells": [
  {
   "cell_type": "code",
   "execution_count": 2,
   "id": "18ba05d9",
   "metadata": {},
   "outputs": [],
   "source": [
    "import matplotlib.pyplot as plt\n",
    "import numpy as np\n",
    "import pandas as pd"
   ]
  },
  {
   "cell_type": "code",
   "execution_count": null,
   "id": "db063f01",
   "metadata": {},
   "outputs": [],
   "source": [
    "df = pd.read_csv('titanic.csv', usecols=['PassengerId','Survived','Pclass','Name','Sex','Age','SibSp'])\n",
    "\n",
    "# not a recommended approach\n",
    "df['Age'] = df['Age'].astype(np.float32)\n",
    "df['Pclass'] = df['Pclass'].astype(np.int16)\n",
    "df['PassengerId'] = df['PassengerId'].astype(np.int32)\n",
    "df['Survived'] = df['Survived'].astype(np.int16)\n",
    "df['SibSp'] = df['SibSp'].astype(np.int16)\n",
    "\n",
    "\n",
    "# a better approach \n",
    "change_types = {\n",
    "    'Age': np.float32,\n",
    "    'Pclass':np.int16,\n",
    "    'PassengerId': np.int32,\n",
    "    'Survived': np.int16,\n",
    "    'SibSp': np.int16\n",
    "}\n",
    "df =df .astype(change_types)"
   ]
  },
  {
   "cell_type": "code",
   "execution_count": null,
   "id": "1ac5dec1",
   "metadata": {},
   "outputs": [],
   "source": [
    "# handling null values for column named : Age\n",
    "df.fillna({'Age': df['Age'].median()}, inplace=True)"
   ]
  }
 ],
 "metadata": {
  "kernelspec": {
   "display_name": "Python 3",
   "language": "python",
   "name": "python3"
  },
  "language_info": {
   "codemirror_mode": {
    "name": "ipython",
    "version": 3
   },
   "file_extension": ".py",
   "mimetype": "text/x-python",
   "name": "python",
   "nbconvert_exporter": "python",
   "pygments_lexer": "ipython3",
   "version": "3.12.7"
  }
 },
 "nbformat": 4,
 "nbformat_minor": 5
}
