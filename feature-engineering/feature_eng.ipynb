{
 "cells": [
  {
   "cell_type": "markdown",
   "id": "342651ab",
   "metadata": {},
   "source": [
    "Task1 "
   ]
  },
  {
   "cell_type": "code",
   "execution_count": null,
   "id": "921ceac0",
   "metadata": {},
   "outputs": [],
   "source": [
    "import pandas as pd\n",
    "import numpy as np\n",
    "from sklearn.metrics import mean_squared_error\n",
    "from sklearn.preprocessing import StandardScaler"
   ]
  },
  {
   "cell_type": "code",
   "execution_count": null,
   "id": "97c3f370",
   "metadata": {},
   "outputs": [],
   "source": [
    "df = pd.read_csv('titanic.csv')\n",
    "\n",
    "df.head()"
   ]
  },
  {
   "cell_type": "markdown",
   "id": "f62c995e",
   "metadata": {},
   "source": [
    "Task2"
   ]
  },
  {
   "cell_type": "code",
   "execution_count": null,
   "id": "639bdd1d",
   "metadata": {},
   "outputs": [],
   "source": [
    "df.info()"
   ]
  },
  {
   "cell_type": "code",
   "execution_count": null,
   "id": "159fa0f9",
   "metadata": {},
   "outputs": [],
   "source": [
    "df['Age'].fillna(df['Age'].median(), inplace=True)\n",
    "df.dropna(subset=['Embarked'],inplace=True)"
   ]
  },
  {
   "cell_type": "code",
   "execution_count": 13,
   "id": "effafaee",
   "metadata": {},
   "outputs": [],
   "source": [
    "# handling outliers - treat or remove \n",
    "mean , std = df['Fare'].mean(), df['Fare'].std()\n",
    "outliers = (df['Fare'] - mean).abs() > std * 3\n",
    "df.loc[outliers, 'Fare'] = mean"
   ]
  },
  {
   "cell_type": "code",
   "execution_count": null,
   "id": "24e0be0f",
   "metadata": {},
   "outputs": [],
   "source": [
    "# one-hot Encoding\n",
    "df = pd.get_dummies(df, columns=['Sex', 'Embarked'])\n",
    "# df.head()"
   ]
  }
 ],
 "metadata": {
  "kernelspec": {
   "display_name": "base",
   "language": "python",
   "name": "python3"
  },
  "language_info": {
   "codemirror_mode": {
    "name": "ipython",
    "version": 3
   },
   "file_extension": ".py",
   "mimetype": "text/x-python",
   "name": "python",
   "nbconvert_exporter": "python",
   "pygments_lexer": "ipython3",
   "version": "3.12.7"
  }
 },
 "nbformat": 4,
 "nbformat_minor": 5
}
