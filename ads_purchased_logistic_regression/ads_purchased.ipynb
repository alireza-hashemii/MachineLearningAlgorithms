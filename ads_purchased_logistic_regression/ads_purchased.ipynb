{
 "cells": [
  {
   "cell_type": "code",
   "execution_count": 53,
   "id": "c2ecff73",
   "metadata": {},
   "outputs": [],
   "source": [
    "import numpy as np\n",
    "import pandas as pd\n",
    "from sklearn.model_selection import train_test_split\n",
    "from sklearn.linear_model import  LogisticRegression\n",
    "from sklearn.preprocessing import StandardScaler\n",
    "from logistic_model import predict, train_logistic_model\n",
    "from sklearn.metrics import accuracy_score , classification_report"
   ]
  },
  {
   "cell_type": "code",
   "execution_count": 27,
   "id": "1376fb28",
   "metadata": {},
   "outputs": [],
   "source": [
    "df = pd.read_csv('social-network-ads.csv')"
   ]
  },
  {
   "cell_type": "code",
   "execution_count": 28,
   "id": "4b4f7096",
   "metadata": {},
   "outputs": [],
   "source": [
    "# drop\n",
    "df = df.drop(labels=['User ID', 'Age'], axis=1)\n",
    "\n",
    "# one-hot encoding on gender \n",
    "df['Gender'] = df['Gender'].astype(\"O\").str.lower()\n",
    "df['Gender'] = df['Gender'].map({'male':1, 'female':0})"
   ]
  },
  {
   "cell_type": "code",
   "execution_count": 30,
   "id": "a90ac1bb",
   "metadata": {},
   "outputs": [],
   "source": [
    "dtype_alteration = {\n",
    "    'Gender': np.int16,\n",
    "    'Purchased': np.int32,\n",
    "    'EstimatedSalary': np.int32\n",
    "}\n",
    "df = df.astype(dtype_alteration)"
   ]
  },
  {
   "cell_type": "code",
   "execution_count": 36,
   "id": "d38f9710",
   "metadata": {},
   "outputs": [],
   "source": [
    "# train and test data considerations\n",
    "X = df.drop(labels=['Purchased'], axis=1)\n",
    "y = df['Purchased']\n",
    "\n",
    "scaler = StandardScaler()\n",
    "X = scaler.fit_transform(X)\n",
    "\n",
    "X_train , X_test , y_train , y_test = train_test_split(X, y, test_size=.2, random_state=42)"
   ]
  },
  {
   "cell_type": "code",
   "execution_count": null,
   "id": "8e84e9e7",
   "metadata": {},
   "outputs": [],
   "source": [
    "# using LR which is made from scratch\n",
    "weights = train_logistic_model(X_train, y_train, max_iter=1000, learning_rate=0.1, fit_intercept=True)\n",
    "my_y_pred = predict(X_test, weights)"
   ]
  },
  {
   "cell_type": "code",
   "execution_count": 50,
   "id": "d9126c41",
   "metadata": {},
   "outputs": [],
   "source": [
    "# using scikit-learn logistic model\n",
    "model = LogisticRegression()\n",
    "model.fit(X_train, y_train)\n",
    "\n",
    "y_pred = model.predict(X_test)"
   ]
  },
  {
   "cell_type": "code",
   "execution_count": null,
   "id": "f9020aa1",
   "metadata": {},
   "outputs": [
    {
     "name": "stdout",
     "output_type": "stream",
     "text": [
      "The accuracy score is scikit model 75.0%\n",
      "The accuracy score is scikit model 75.0%\n"
     ]
    }
   ],
   "source": [
    "# model evaluation\n",
    "# not efficient way to handle this but our focus is on model performance comparison. \n",
    "lm = []\n",
    "for n in my_y_pred:\n",
    "        if n >= 0.5:\n",
    "            lm.append(1)\n",
    "        else:\n",
    "            lm.append(0)\n",
    "\n",
    "custom_model_y_pred = np.array(lm)\n",
    "\n",
    "print(f'The accuracy score of scikit model {accuracy_score(y_test, y_pred) * 100}%')\n",
    "print(f'The accuracy score of my model {accuracy_score(y_test, custom_model_y_pred) * 100}%')"
   ]
  }
 ],
 "metadata": {
  "kernelspec": {
   "display_name": "pyml",
   "language": "python",
   "name": "python3"
  },
  "language_info": {
   "codemirror_mode": {
    "name": "ipython",
    "version": 3
   },
   "file_extension": ".py",
   "mimetype": "text/x-python",
   "name": "python",
   "nbconvert_exporter": "python",
   "pygments_lexer": "ipython3",
   "version": "3.10.16"
  }
 },
 "nbformat": 4,
 "nbformat_minor": 5
}
