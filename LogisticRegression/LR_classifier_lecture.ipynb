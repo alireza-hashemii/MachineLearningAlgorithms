{
 "cells": [
  {
   "cell_type": "code",
   "execution_count": 1,
   "id": "59349d7c",
   "metadata": {},
   "outputs": [],
   "source": [
    "import numpy as np\n",
    "import matplotlib.pyplot as plt"
   ]
  },
  {
   "cell_type": "markdown",
   "id": "449edd2e",
   "metadata": {},
   "source": [
    "![title](img\\sig.png)"
   ]
  },
  {
   "cell_type": "code",
   "execution_count": 2,
   "id": "0a0e95c1",
   "metadata": {},
   "outputs": [],
   "source": [
    "def sigmoid(input):\n",
    "    return 1.0 / (1 + np.exp(-input))"
   ]
  },
  {
   "cell_type": "code",
   "execution_count": 3,
   "id": "89c7aabf",
   "metadata": {},
   "outputs": [],
   "source": [
    "def compute_prediction(X , weights):\n",
    "    \"\"\"\n",
    "    Compute the prediction y_hat based on current weights\n",
    "    \"\"\"\n",
    "    z = np.dot(X, weights)\n",
    "    return sigmoid(z)"
   ]
  },
  {
   "cell_type": "markdown",
   "id": "56eec1d4",
   "metadata": {},
   "source": [
    "![title](img\\gd.png)"
   ]
  },
  {
   "cell_type": "code",
   "execution_count": 4,
   "id": "52507a71",
   "metadata": {},
   "outputs": [],
   "source": [
    "def update_weights_gd(X_train, y_train, weights, learning_rate): \n",
    "\n",
    "    predictions = compute_prediction(X_train, weights)\n",
    "    weights_delta = np.dot(X_train.T, (y_train - predictions))\n",
    "    m = y_train.shape[0]\n",
    "    weights += learning_rate / float(m) * weights_delta\n",
    "    return weights"
   ]
  },
  {
   "cell_type": "markdown",
   "id": "88363a84",
   "metadata": {},
   "source": [
    "![title](img\\cost_function.png)"
   ]
  },
  {
   "cell_type": "code",
   "execution_count": 5,
   "id": "da412978",
   "metadata": {},
   "outputs": [],
   "source": [
    "def compute_cost(X, y, weights):\n",
    "    \"\"\"\n",
    "     Compute the cost J(w)\n",
    "    \"\"\"\n",
    "    predictions = compute_prediction(X, weights)\n",
    "    cost = np.mean(-y * np.log(predictions) - (1 - y) * np.log(1 - predictions)) \n",
    "    return cost"
   ]
  },
  {
   "cell_type": "code",
   "execution_count": 6,
   "id": "a1bec955",
   "metadata": {},
   "outputs": [],
   "source": [
    "def predict(X, weights):\n",
    "    if X.shape[1] == weights.shape[0] - 1:\n",
    "        intercept = np.ones((X.shape[0], 1))\n",
    "        X = np.hstack((intercept, X))\n",
    "        \n",
    "    return compute_prediction(X, weights)"
   ]
  },
  {
   "cell_type": "code",
   "execution_count": null,
   "id": "9abd9ece",
   "metadata": {},
   "outputs": [],
   "source": [
    "def train_logistic_regression(X_train, y_train, max_iter, \n",
    "                                  learning_rate, fit_intercept=False):\n",
    "\n",
    "    if fit_intercept:\n",
    "        intercept = np.ones((X_train.shape[0], 1))\n",
    "        X_train = np.hstack((intercept, X_train))\n",
    "        weights = np.zeros(X_train.shape[1])\n",
    "    for iteration in range(max_iter):\n",
    "        weights = update_weights_gd(X_train, y_train,  weights, learning_rate)   # Check the cost for every 100 (for example)       \n",
    "        if iteration % 100 == 0:\n",
    "            print(compute_cost(X_train, y_train, weights))\n",
    "    return weights"
   ]
  },
  {
   "cell_type": "code",
   "execution_count": null,
   "id": "f349537d",
   "metadata": {},
   "outputs": [],
   "source": [
    "X_train = np.array([[6, 7],\n",
    "                     [2, 4],\n",
    "                     [3, 6],\n",
    "                     [4, 7],\n",
    "                     [1, 6],\n",
    "                     [5, 2],\n",
    "                     [2, 0],\n",
    "                     [6, 3],\n",
    "                     [4, 1],\n",
    "                     [7, 2]])\n",
    "y_train = np.array([0,\n",
    "  0,\n",
    "  0,\n",
    "  0,\n",
    "  0,\n",
    "  1,\n",
    "  1,\n",
    "  1,\n",
    "  1,\n",
    "  1])\n",
    "\n",
    "weights = train_logistic_regression(X_train, y_train,  max_iter=1000, learning_rate=0.1, fit_intercept=True) "
   ]
  },
  {
   "cell_type": "code",
   "execution_count": null,
   "id": "7e8cc0d8",
   "metadata": {},
   "outputs": [],
   "source": []
  },
  {
   "cell_type": "code",
   "execution_count": 9,
   "id": "e58e1205",
   "metadata": {},
   "outputs": [
    {
     "name": "stdout",
     "output_type": "stream",
     "text": [
      "[0.9999478  0.00743991 0.9808652  0.02080847]\n"
     ]
    }
   ],
   "source": [
    "X_test = np.array([[6, 1],\n",
    "    [1, 3],\n",
    "    [3, 1],\n",
    "    [4, 5]])\n",
    "predictions = predict(X_test, weights)\n",
    "print(predictions) "
   ]
  },
  {
   "cell_type": "code",
   "execution_count": 10,
   "id": "34e1ad07",
   "metadata": {},
   "outputs": [
    {
     "data": {
      "image/png": "[encoded data removed]",
      "text/plain": [
       "<Figure size 640x480 with 1 Axes>"
      ]
     },
     "metadata": {},
     "output_type": "display_data"
    }
   ],
   "source": [
    "plt.scatter(X_train[:5,0], X_train[:5,1], c='b', marker='x')\n",
    "plt.scatter(X_train[5:,0], X_train[5:,1], c='k', marker='.')\n",
    "for i, prediction in enumerate(predictions): \n",
    "        marker = 'X' if prediction < 0.5 else 'o' \n",
    "        c = 'b' if prediction < 0.5 else 'k' \n",
    "        plt.scatter(X_test[i,0], X_test[i,1], c=c, marker=marker)"
   ]
  }
 ],
 "metadata": {
  "kernelspec": {
   "display_name": "base",
   "language": "python",
   "name": "python3"
  },
  "language_info": {
   "codemirror_mode": {
    "name": "ipython",
    "version": 3
   },
   "file_extension": ".py",
   "mimetype": "text/x-python",
   "name": "python",
   "nbconvert_exporter": "python",
   "pygments_lexer": "ipython3",
   "version": "3.12.7"
  }
 },
 "nbformat": 4,
 "nbformat_minor": 5
}
