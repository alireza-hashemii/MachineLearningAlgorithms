{
 "cells": [
  {
   "cell_type": "code",
   "execution_count": 2,
   "id": "44bf8c58",
   "metadata": {},
   "outputs": [],
   "source": [
    "import pandas as pd\n",
    "import numpy as np"
   ]
  },
  {
   "cell_type": "code",
   "execution_count": null,
   "id": "16ea6839",
   "metadata": {},
   "outputs": [],
   "source": [
    "# load dataset\n",
    "df = pd.read_csv('StudentsPerformance.csv')\n",
    "df.head()"
   ]
  },
  {
   "cell_type": "code",
   "execution_count": null,
   "id": "0e52efcb",
   "metadata": {},
   "outputs": [],
   "source": [
    "# retrive number of unique values for each column\n",
    "df.nunique(axis=0)"
   ]
  },
  {
   "cell_type": "code",
   "execution_count": null,
   "id": "1b7840b3",
   "metadata": {},
   "outputs": [],
   "source": [
    "# convert some fields to category for optimizaion purposes.\n",
    "cols = pd.Series(df.columns[0:5])\n",
    "for col in cols:\n",
    "    df[col] = df[col].astype('category', copy=False)\n",
    "\n",
    "df.info()"
   ]
  },
  {
   "cell_type": "code",
   "execution_count": null,
   "id": "94cdb408",
   "metadata": {},
   "outputs": [],
   "source": [
    "# make columns 'gender' & 'test preparation course' lowercased.\n",
    "df['gender'] = df['gender'].str.lower()\n",
    "df['test preparation course'] = df['test preparation course'].str.lower()"
   ]
  },
  {
   "cell_type": "code",
   "execution_count": null,
   "id": "30c62f75",
   "metadata": {},
   "outputs": [],
   "source": [
    "# count the number of characters in column gender\n",
    "females = 0\n",
    "for i in df['gender'].str.len():\n",
    "    if i == 6:\n",
    "        females += 1 \n",
    "print(females)"
   ]
  },
  {
   "cell_type": "code",
   "execution_count": null,
   "id": "02dd5255",
   "metadata": {},
   "outputs": [],
   "source": [
    "# export csv file\n",
    "df.to_csv('StudentPerformance_lowercased.csv')\n",
    "\n",
    "# df_lowercased = pd.read_csv('StudentPerformance_lowercased.csv')"
   ]
  },
  {
   "cell_type": "code",
   "execution_count": null,
   "id": "beaa59b4",
   "metadata": {},
   "outputs": [],
   "source": [
    "# using replace method to improve appreance. ''group A -> group_A''\n",
    "df['race/ethnicity'] = df['race/ethnicity'].str.replace(' ', '_')"
   ]
  },
  {
   "cell_type": "code",
   "execution_count": null,
   "id": "a83f1cc5",
   "metadata": {},
   "outputs": [],
   "source": [
    "# delete space in column lunch \n",
    "print(len('standard'))\n",
    "df['lunch'].str.len() # returns 9!\n",
    "\n",
    "df['lunch'] = df['lunch'].str.replace(' ', '')"
   ]
  },
  {
   "cell_type": "code",
   "execution_count": null,
   "id": "72585faf",
   "metadata": {},
   "outputs": [],
   "source": [
    "# remove the % sign from all scores\n",
    "scoresign_included_cols = pd.Series([col for col in df.columns if 'score' in col])\n",
    "\n",
    "# for col in scoresign_included_cols:\n",
    "#     df[col] = df[col].str.replace('%', '').astype(np.int32)\n",
    "\n",
    "df"
   ]
  },
  {
   "cell_type": "code",
   "execution_count": null,
   "id": "48e0bdf6",
   "metadata": {},
   "outputs": [],
   "source": [
    "# filtering str methods applied on columns 'lunch' and 'gender' \n",
    "df['gender'].str.contains('female') # return boolean\n",
    "df['lunch'].str.startswith('free') # also returns boolean\n",
    "df['gender'].str.endswith(\"A\")"
   ]
  },
  {
   "cell_type": "code",
   "execution_count": null,
   "id": "c04ad1f3",
   "metadata": {},
   "outputs": [],
   "source": [
    "# removing whitespaces in column 'parental level of education' using 'strip' method\n",
    "df['parental level of education'].str.len()\n",
    "df['parental level of education'] = df['parental level of education'].str.strip()\n",
    "df['parental level of education'].str.len()"
   ]
  },
  {
   "cell_type": "code",
   "execution_count": 60,
   "id": "b2e11e88",
   "metadata": {},
   "outputs": [],
   "source": [
    "# export final normalized dataframe.\n",
    "df.to_csv('StrudentPerformance_normalized_v1.csv')"
   ]
  }
 ],
 "metadata": {
  "kernelspec": {
   "display_name": "base",
   "language": "python",
   "name": "python3"
  },
  "language_info": {
   "codemirror_mode": {
    "name": "ipython",
    "version": 3
   },
   "file_extension": ".py",
   "mimetype": "text/x-python",
   "name": "python",
   "nbconvert_exporter": "python",
   "pygments_lexer": "ipython3",
   "version": "3.12.7"
  }
 },
 "nbformat": 4,
 "nbformat_minor": 5
}
