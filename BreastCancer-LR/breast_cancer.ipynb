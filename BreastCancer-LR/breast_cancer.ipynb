{
 "cells": [
  {
   "cell_type": "code",
   "execution_count": 28,
   "id": "8093361c",
   "metadata": {},
   "outputs": [],
   "source": [
    "import numpy as np \n",
    "import matplotlib.pyplot as plt\n",
    "import pandas as pd\n",
    "from sklearn.preprocessing import StandardScaler\n",
    "import seaborn as sns\n",
    "from sklearn.linear_model import LogisticRegression\n",
    "from sklearn.model_selection import train_test_split\n",
    "from sklearn.metrics import accuracy_score"
   ]
  },
  {
   "cell_type": "markdown",
   "id": "097dd13d",
   "metadata": {},
   "source": [
    "Loading dataset and do some optimizations."
   ]
  },
  {
   "cell_type": "code",
   "execution_count": null,
   "id": "1963991c",
   "metadata": {},
   "outputs": [],
   "source": [
    "df = pd.read_csv('data.csv')\n",
    "cols = df.columns[2:32]\n",
    "\n",
    "target_mapping = {column:np.float32 for column in cols}\n",
    "df = df.astype(target_mapping)\n",
    "df.info()"
   ]
  },
  {
   "cell_type": "markdown",
   "id": "b6ec3ae4",
   "metadata": {},
   "source": [
    "Remove 2 unnecessary columns from dataframe"
   ]
  },
  {
   "cell_type": "code",
   "execution_count": 4,
   "id": "1e11e9de",
   "metadata": {},
   "outputs": [],
   "source": [
    "df.drop(['Unnamed: 32', 'id'], axis=1, inplace=True)"
   ]
  },
  {
   "cell_type": "markdown",
   "id": "24e4dd87",
   "metadata": {},
   "source": [
    "Change the value of 'diagnosis' from M and B to 0 and 1s"
   ]
  },
  {
   "cell_type": "code",
   "execution_count": null,
   "id": "301bfd47",
   "metadata": {},
   "outputs": [],
   "source": [
    "df['diagnosis'] = df['diagnosis'].replace({'M': 1, 'B': 0})\n",
    "df['diagnosis'].value_counts()\n",
    "df['diagnosis'] =  df['diagnosis'].astype('category')"
   ]
  },
  {
   "cell_type": "code",
   "execution_count": 16,
   "id": "7089df8a",
   "metadata": {},
   "outputs": [],
   "source": [
    "y = df['diagnosis']\n",
    "X = df.drop(['diagnosis'], axis=1)"
   ]
  },
  {
   "cell_type": "code",
   "execution_count": 19,
   "id": "888545d5",
   "metadata": {},
   "outputs": [],
   "source": [
    "scaler = StandardScaler()\n",
    "X_scaled = scaler.fit_transform(X)"
   ]
  },
  {
   "cell_type": "code",
   "execution_count": 20,
   "id": "3220ef73",
   "metadata": {},
   "outputs": [],
   "source": [
    "X_train , X_test, y_train , y_test = train_test_split(X_scaled, y, test_size=.3, random_state=42)"
   ]
  },
  {
   "cell_type": "code",
   "execution_count": null,
   "id": "cb6290b6",
   "metadata": {},
   "outputs": [],
   "source": [
    "LR = LogisticRegression()\n",
    "LR.fit(X_train , y_train)\n"
   ]
  },
  {
   "cell_type": "code",
   "execution_count": 26,
   "id": "95fb7cc3",
   "metadata": {},
   "outputs": [],
   "source": [
    "y_pred = LR.predict(X_test)"
   ]
  },
  {
   "cell_type": "code",
   "execution_count": 30,
   "id": "e5b2ee6c",
   "metadata": {},
   "outputs": [
    {
     "name": "stdout",
     "output_type": "stream",
     "text": [
      "Score is 0.982\n"
     ]
    }
   ],
   "source": [
    "score = accuracy_score(y_test , y_pred)\n",
    "print(f\"Score is {score:.3f}\")"
   ]
  }
 ],
 "metadata": {
  "kernelspec": {
   "display_name": "base",
   "language": "python",
   "name": "python3"
  },
  "language_info": {
   "codemirror_mode": {
    "name": "ipython",
    "version": 3
   },
   "file_extension": ".py",
   "mimetype": "text/x-python",
   "name": "python",
   "nbconvert_exporter": "python",
   "pygments_lexer": "ipython3",
   "version": "3.12.7"
  }
 },
 "nbformat": 4,
 "nbformat_minor": 5
}
